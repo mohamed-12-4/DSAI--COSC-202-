{
 "cells": [
  {
   "cell_type": "markdown",
   "id": "806b78ab",
   "metadata": {
    "deletable": false,
    "editable": false,
    "scrolled": true
   },
   "source": [
    "# Lab1|Task 3\n",
    "\n",
    "This is an introductory lab for Python. You are tasked with managing the grades of a class. Each student has a list of grades for different subjects (‘Arabic’, 'Math', 'Science', 'English'). Follow the instructions written at each cell. Make sure you run the cells in order."
   ]
  },
  {
   "cell_type": "markdown",
   "id": "75478537",
   "metadata": {
    "deletable": false,
    "editable": false,
    "scrolled": true
   },
   "source": [
    "**Step 1**: Create a list named subjects that includes the names of the subjects. (**Arabic, Math, Science, English**)"
   ]
  },
  {
   "cell_type": "markdown",
   "id": "bab5c35b",
   "metadata": {
    "deletable": false,
    "editable": false,
    "scrolled": true
   },
   "source": [
    "**Step 2**: Create a dictionary named students_grades where keys are the names of the students, and values are lists of their corresponding grades for each subject. Use the table below as a reference.\n",
    "\n",
    "|Name|Arabic|Math|Science|English|\n",
    "|----|------|----|-------|-------|\n",
    "|Anas|66|85|90|78|\n",
    "|Bob|44|55|40|60|\n",
    "|Samar|99|90|92|87|\n"
   ]
  },
  {
   "cell_type": "markdown",
   "id": "b2570a4a",
   "metadata": {
    "deletable": false,
    "editable": false,
    "scrolled": true
   },
   "source": [
    "**Step 3**: Use a loop to iterate over the students and calculate the average grade for each student. Append the average grade to a new list named `average_grades`. Print students average grade alongside their names. i.e: `Alice: 84.33`."
   ]
  },
  {
   "cell_type": "code",
   "execution_count": 9,
   "id": "3c8b2ea2-0740-4cf1-998c-c1033f887502",
   "metadata": {},
   "outputs": [],
   "source": [
    "x = {\"A\": 5, \"B\": 6}"
   ]
  },
  {
   "cell_type": "code",
   "execution_count": null,
   "id": "60f639a3-6d2f-4fcc-a6f5-ecefce62684f",
   "metadata": {},
   "outputs": [],
   "source": [
    "print(f\"{key}: {x}\")"
   ]
  },
  {
   "cell_type": "code",
   "execution_count": 8,
   "id": "a0cdda08",
   "metadata": {},
   "outputs": [
    {
     "name": "stdout",
     "output_type": "stream",
     "text": [
      "5\n",
      "6\n"
     ]
    }
   ],
   "source": [
    "averages = []\n",
    "for key in x.keys():\n",
    "    student_grade = x[key]\n",
    "    avg = average(x)\n",
    "    averages.append(avg)\n",
    "    \n",
    "# Iterate over the students & grades\n",
    "    \n",
    "    # Calculate the student average\n",
    "\n",
    "    # Append the result to the `average_grades` list\n",
    "    \n",
    "    # print the student's name alongside his average grade\n",
    "    "
   ]
  },
  {
   "cell_type": "code",
   "execution_count": null,
   "id": "2a24a221-365d-4564-ab17-57aada558c83",
   "metadata": {},
   "outputs": [],
   "source": [
    "def average(l):\n",
    "    sum = 0\n",
    "    for i in l:\n",
    "        sum += i\n",
    "    return sum / len(l)"
   ]
  },
  {
   "cell_type": "markdown",
   "id": "b3b5490d",
   "metadata": {
    "deletable": false,
    "editable": false,
    "scrolled": true
   },
   "source": [
    "**Step 4**: Create a new dictionary called `students_classification`. Iterate over the average grades alongside the students. Classify the students based on their average grade. If the average grade exceeds or equal 70, classify the student as `Satisfactory`. Otherwise, `Needs Improvement`. Store the classifications inside `students_classification` dictionary where the key is the student name and the value is the classification **Satisfactory/Needs Improvement**.\n",
    "\n",
    "***Hint: Use `zip` in the loop to iterate over students name and their average grades at the same time***"
   ]
  },
  {
   "cell_type": "code",
   "execution_count": 32,
   "id": "4774023d",
   "metadata": {},
   "outputs": [],
   "source": [
    "students_classification = dict()\n",
    "# Iterate over the students & their average grades.\n",
    "for name, avg in zip(student_grade.keys(), avgerages_grades):\n",
    "    # Classify the student based on his/her grade.\n",
    "    # Store the student's name along with the classification in `students_classification` dictionary.\n",
    "    students_classification[name] = 'Satisfactory' if avg >= 70 else 'Needs Improvement'\n"
   ]
  },
  {
   "cell_type": "markdown",
   "id": "5d59c663",
   "metadata": {
    "deletable": false,
    "editable": false,
    "scrolled": true
   },
   "source": [
    "**Step 5**: Print the classification for each student along with their names. i.e **Alice: Passed** "
   ]
  },
  {
   "cell_type": "code",
   "execution_count": 11,
   "id": "7510537b",
   "metadata": {},
   "outputs": [
    {
     "data": {
      "text/plain": [
       "dict"
      ]
     },
     "execution_count": 11,
     "metadata": {},
     "output_type": "execute_result"
    }
   ],
   "source": []
  },
  {
   "cell_type": "markdown",
   "id": "60ac5813",
   "metadata": {
    "deletable": false,
    "editable": false,
    "scrolled": true
   },
   "source": [
    "**Step 6**: Update **step 4** to use a function called `classification(grade:float)` that takes a grade and returns whether `passed` or `failed` based on the same condition mentioned at step 4. Then, update the loop to use the function instead of the if-condition you have written before. The results should not change when you re-run **step 5**.\n",
    "\n",
    "Once you complete this step, put your reflection about this change on the next cell in a markdown format."
   ]
  },
  {
   "cell_type": "code",
   "execution_count": null,
   "id": "f96bce21",
   "metadata": {},
   "outputs": [],
   "source": [
    "def classification(grade: float):\n",
    "    return \"passed\" if grade >= 70 else \"failed\"\n",
    "\n",
    "students_classification = dict()\n",
    "\n",
    "for name, avg in zip(student_grade.keys(), avgerages_grades):\n",
    "    # Classify the student based on his/her grade.\n",
    "    # Store the student's name along with the classification in `students_classification` dictionary.\n",
    "    students_classification[name] = classification(avg)\n",
    "\n",
    "\n"
   ]
  },
  {
   "cell_type": "markdown",
   "id": "522ec693-ee5c-457a-8365-4ed325d6f1e8",
   "metadata": {},
   "source": [
    "*Step 6* code is cleaner to read compared to *Step 4*. "
   ]
  }
 ],
 "metadata": {
  "celltoolbar": "Edit Metadata",
  "kernelspec": {
   "display_name": "Python 3 (ipykernel)",
   "language": "python",
   "name": "python3"
  },
  "language_info": {
   "codemirror_mode": {
    "name": "ipython",
    "version": 3
   },
   "file_extension": ".py",
   "mimetype": "text/x-python",
   "name": "python",
   "nbconvert_exporter": "python",
   "pygments_lexer": "ipython3",
   "version": "3.12.2"
  }
 },
 "nbformat": 4,
 "nbformat_minor": 5
}
