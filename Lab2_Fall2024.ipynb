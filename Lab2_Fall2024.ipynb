{
 "cells": [
  {
   "cell_type": "markdown",
   "id": "8f3c94fa",
   "metadata": {},
   "source": [
    "\n",
    " ## <center>Khalifa University</center>\n",
    " ## <center>Computer Science Department\n",
    "### <center>ENGR 202: Data Science and Artificial Intelligence- Fall 2024\n",
    "# <center>Lab2: Data Structure and Visualization \n",
    "#### Aim: To practice  Data Types & Visualization.\n",
    "##### Objectives: The objectives of this lab are to:\n",
    "* Practice important data structures in Python.\n",
    "* Practice various data visualization types and understand the purpose of each type.\n",
    "* Data Analysis using 2D plots.\n",
    "* Data Analysis using bar chart and histogram\n",
    "* Handle datasets from CSV files.\n",
    "#### Risk Assessment: Low\n",
    "\n"
   ]
  },
  {
   "cell_type": "markdown",
   "id": "8d568b70-e457-423e-b3d2-4546df7ffd86",
   "metadata": {},
   "source": [
    "## 1. Data Structure [ 20%]\n",
    "In this section, you will work on a variety of data structures in Python, lists, sets, Numpy arrays/matrices, and Pandas dataframes. These are well-known data types used in machine learning and data analysis that facilities data manipulation.\n",
    "\n"
   ]
  },
  {
   "cell_type": "markdown",
   "id": "cb9448a9",
   "metadata": {},
   "source": [
    "**Set**: Set in Python can be created using ```x = Set()``` or ```x= {}```. The elements of the set are always unique, with no preparation in its values. Run the code below and notice how the set removes the repeated value $2$ from the set."
   ]
  },
  {
   "cell_type": "code",
   "execution_count": 63,
   "id": "7671c416-a320-480c-98c4-bb57ce12298b",
   "metadata": {},
   "outputs": [
    {
     "name": "stdout",
     "output_type": "stream",
     "text": [
      "{1, 2, 3, 4, 5}\n"
     ]
    }
   ],
   "source": [
    "# Unique Values only\n",
    "x = {1,2,2,3,4,5}  # this line equals to x = Set([1,2,2,3,4,5])\n",
    "print(x)"
   ]
  },
  {
   "cell_type": "markdown",
   "id": "2996d82e-679e-414c-9ebf-516b24218ac0",
   "metadata": {},
   "source": [
    "**List**: lists in Python are the same as sets but it accepts repeatation. It can be defined as ```x = list()``` or ```x = []```. Run the example below, and notice how we can obtain unique values from a list by converting it to a set."
   ]
  },
  {
   "cell_type": "code",
   "execution_count": 64,
   "id": "53693f4c-714e-430e-afa3-121a2725033f",
   "metadata": {},
   "outputs": [
    {
     "name": "stdout",
     "output_type": "stream",
     "text": [
      "this is a list:  [1, 2, 2, 3, 4, 5]\n",
      "this is a set:  {1, 2, 3, 4, 5}\n"
     ]
    }
   ],
   "source": [
    "# Defined list\n",
    "x = [1, 2, 2, 3, 4, 5]\n",
    "print('this is a list: ', x)\n",
    "# Convert to set\n",
    "y = set(x)\n",
    "print('this is a set: ', y)"
   ]
  },
  {
   "cell_type": "markdown",
   "id": "067d7949-3e87-4a53-9325-5a3862661eb8",
   "metadata": {},
   "source": [
    "One of the limitations of lists is that it is not possible to do mathematical operations directly on the list. Run the follow code and describe what happens."
   ]
  },
  {
   "cell_type": "code",
   "execution_count": 65,
   "id": "e088ea0d-e4b3-4953-99a7-2dfec4859f24",
   "metadata": {},
   "outputs": [
    {
     "name": "stdout",
     "output_type": "stream",
     "text": [
      "[1, 2, 3, 4, 2, 2, 2, 2]\n"
     ]
    }
   ],
   "source": [
    "x = [1, 2, 3, 4]\n",
    "y = [2, 2, 2, 2]\n",
    "\n",
    "z = x + y\n",
    "print(z)"
   ]
  },
  {
   "cell_type": "markdown",
   "id": "94623257-30ef-4a24-bcbb-756b303803f4",
   "metadata": {},
   "source": [
    "**Q1.1** Describe the outcome after running the code above:"
   ]
  },
  {
   "cell_type": "markdown",
   "id": "00ac072e-3761-4455-ad33-e098a16b72ad",
   "metadata": {},
   "source": [
    "Python performed a concatenation between the two lists as performing mathematical operations directly is not supported by python"
   ]
  },
  {
   "cell_type": "markdown",
   "id": "b1691bc1-d1dd-4d4a-add1-0aa505989481",
   "metadata": {},
   "source": [
    "**Numpy**: It is a python library the facilitates mathematical operations on data structures. First you need to import the library using ```import```, as shown at the first line below. `np` is an alias to be used later to call the library instead of calling the full name `numpy`. Let's do the same summation code we did ealier but after converting python lists into numpy arrays. "
   ]
  },
  {
   "cell_type": "code",
   "execution_count": 66,
   "id": "12475151-4eb5-49fe-b33d-effdc5b977ea",
   "metadata": {},
   "outputs": [
    {
     "name": "stdout",
     "output_type": "stream",
     "text": [
      "[3 4 5 6]\n"
     ]
    }
   ],
   "source": [
    "# Import numpy library, and use `np` as an alias\n",
    "import numpy as np\n",
    "# Convert lists to numpy arrays.\n",
    "x_arr = np.array(x) # Notice x and y are used from the earlier definition.\n",
    "y_arr = np.array(y)\n",
    "\n",
    "# Sum\n",
    "z_arr = x_arr + y_arr\n",
    "print(z_arr)"
   ]
  },
  {
   "cell_type": "markdown",
   "id": "d4fd780c-bf4e-4dd5-be5c-53ca6574fa8b",
   "metadata": {},
   "source": [
    "The following code will give you a quick intro of some basics operations by numpy arrays. Run the code and manipulate the values to understand how it works."
   ]
  },
  {
   "cell_type": "code",
   "execution_count": 67,
   "id": "b4ac8f00-00cb-4877-b21e-e98c5678f3ca",
   "metadata": {},
   "outputs": [
    {
     "name": "stdout",
     "output_type": "stream",
     "text": [
      "array:\n",
      " [1 2 3 4] \n",
      "\n",
      "matrix:\n",
      " [[5 6]\n",
      " [7 8]] \n",
      "\n"
     ]
    }
   ],
   "source": [
    "# Define array\n",
    "arr1 = np.array([1,2,3,4])\n",
    "\n",
    "# Define 2D matrix 2x2\n",
    "mat1 = np.array([[5,6],[7,8]])\n",
    "\n",
    "print('array:\\n', arr1, '\\n')\n",
    "print('matrix:\\n', mat1, '\\n')\n",
    "\n"
   ]
  },
  {
   "cell_type": "code",
   "execution_count": 68,
   "id": "767aaca8",
   "metadata": {},
   "outputs": [
    {
     "name": "stdout",
     "output_type": "stream",
     "text": [
      "The shape of the array is:  (4,)\n",
      "The shape of the matrix is:  (2, 2)\n",
      "\n"
     ]
    }
   ],
   "source": [
    "# Shape\n",
    "print('The shape of the array is: ', arr1.shape)\n",
    "print('The shape of the matrix is: ', mat1.shape)\n",
    "print()\n",
    "\n"
   ]
  },
  {
   "cell_type": "code",
   "execution_count": 69,
   "id": "a58811c0",
   "metadata": {},
   "outputs": [
    {
     "name": "stdout",
     "output_type": "stream",
     "text": [
      "First three values in the array:  [1 2 3]\n"
     ]
    }
   ],
   "source": [
    "# Slicing \n",
    "print('First three values in the array: ', arr1[:3])\n",
    "\n"
   ]
  },
  {
   "cell_type": "code",
   "execution_count": 70,
   "id": "03f82ac6",
   "metadata": {},
   "outputs": [
    {
     "name": "stdout",
     "output_type": "stream",
     "text": [
      "Last three values in the array:  [2 3 4]\n"
     ]
    }
   ],
   "source": [
    "#code to print the last three values in the array\n",
    "print('Last three values in the array: ', arr1[-3:])\n"
   ]
  },
  {
   "cell_type": "code",
   "execution_count": 71,
   "id": "0287ce8f",
   "metadata": {},
   "outputs": [
    {
     "name": "stdout",
     "output_type": "stream",
     "text": [
      "Second row in the matrix:  [7 8]\n",
      "First value of the second row in the matrix 7\n",
      "Second value of the first row in the matrix 6\n",
      "\n"
     ]
    }
   ],
   "source": [
    "print('Second row in the matrix: ', mat1[1])\n",
    "print('First value of the second row in the matrix', mat1[1,0])\n",
    "print('Second value of the first row in the matrix', mat1[0,1])\n",
    "print()\n"
   ]
  },
  {
   "cell_type": "code",
   "execution_count": 72,
   "id": "22cfd3ce",
   "metadata": {},
   "outputs": [
    {
     "name": "stdout",
     "output_type": "stream",
     "text": [
      "What is the location of value '3' in the array?  [2]\n",
      "What is the location of value '3' in the array?  (array([], dtype=int64), array([], dtype=int64))\n",
      "\n"
     ]
    }
   ],
   "source": [
    "# Search\n",
    "print('What is the location of value \\'3\\' in the array? ', np.where(arr1 == 3)[0])\n",
    "print('What is the location of value \\'3\\' in the array? ', np.where(mat1 == 3))\n",
    "print()"
   ]
  },
  {
   "cell_type": "code",
   "execution_count": 73,
   "id": "b37f6a76",
   "metadata": {},
   "outputs": [
    {
     "name": "stdout",
     "output_type": "stream",
     "text": [
      "The shape of the array after reshaping is:  (2, 2)\n",
      "The reshaped array is:\n",
      " [[1 2]\n",
      " [3 4]]\n",
      "\n",
      "The reshaped matrix is:\n",
      " [[5]\n",
      " [6]\n",
      " [7]\n",
      " [8]]\n",
      "\n"
     ]
    }
   ],
   "source": [
    "# Reshaping\n",
    "# convert array to matrix 2x2\n",
    "mat2 = arr1.reshape(2,2)\n",
    "\n",
    "print('The shape of the array after reshaping is: ', mat2.shape)\n",
    "print('The reshaped array is:\\n', mat2)\n",
    "print()\n",
    "# convert matrix `mat1` to a vector.\n",
    "vect = mat1.reshape(-1, 1) # -1 refers to a non-chosen dimension while maintaining the number of columns = 1.\n",
    "print('The reshaped matrix is:\\n', vect)\n",
    "print()\n",
    "\n"
   ]
  },
  {
   "cell_type": "markdown",
   "id": "b7fbc316-1a07-46b6-9897-711f37f348d0",
   "metadata": {},
   "source": [
    "**Dataframes (Pandas)**: Although Numpy library facilitates mathematical operations, it is not easy to handle data in a form of tables. Pandas provide data structure called `dataframe` that handles such data. Assume you want to represent the following table in python.\n",
    "\n",
    "| Month    | Savings |\n",
    "| -------- | ------- |\n",
    "| January  | 250    |\n",
    "| February | 80     |\n",
    "| March    | 420    |\n",
    "\n",
    "Initially, you create a dictionary that holds the table data. Next, convert it into a dataframe. Notice how the data becomes more organized after the data frame conversion."
   ]
  },
  {
   "cell_type": "code",
   "execution_count": 74,
   "id": "85d59a80-3638-45a9-8659-64174a534d31",
   "metadata": {},
   "outputs": [
    {
     "data": {
      "text/html": [
       "<div>\n",
       "<style scoped>\n",
       "    .dataframe tbody tr th:only-of-type {\n",
       "        vertical-align: middle;\n",
       "    }\n",
       "\n",
       "    .dataframe tbody tr th {\n",
       "        vertical-align: top;\n",
       "    }\n",
       "\n",
       "    .dataframe thead th {\n",
       "        text-align: right;\n",
       "    }\n",
       "</style>\n",
       "<table border=\"1\" class=\"dataframe\">\n",
       "  <thead>\n",
       "    <tr style=\"text-align: right;\">\n",
       "      <th></th>\n",
       "      <th>Month</th>\n",
       "      <th>Savings</th>\n",
       "    </tr>\n",
       "  </thead>\n",
       "  <tbody>\n",
       "    <tr>\n",
       "      <th>0</th>\n",
       "      <td>January</td>\n",
       "      <td>250</td>\n",
       "    </tr>\n",
       "    <tr>\n",
       "      <th>1</th>\n",
       "      <td>February</td>\n",
       "      <td>80</td>\n",
       "    </tr>\n",
       "    <tr>\n",
       "      <th>2</th>\n",
       "      <td>March</td>\n",
       "      <td>420</td>\n",
       "    </tr>\n",
       "  </tbody>\n",
       "</table>\n",
       "</div>"
      ],
      "text/plain": [
       "      Month  Savings\n",
       "0   January      250\n",
       "1  February       80\n",
       "2     March      420"
      ]
     },
     "execution_count": 74,
     "metadata": {},
     "output_type": "execute_result"
    }
   ],
   "source": [
    "import pandas as pd\n",
    "\n",
    "data = {'Month': ['January', 'February', 'March'], 'Savings': [250, 80, 420]}\n",
    "\n",
    "mydataframe = pd.DataFrame(data)\n",
    "\n",
    "mydataframe"
   ]
  },
  {
   "cell_type": "markdown",
   "id": "a0f40334-4e33-41ce-b9f7-641529e1bdfc",
   "metadata": {},
   "source": [
    "Pandas facilitate operations that you can use to do some operation on the data. Run the code below."
   ]
  },
  {
   "cell_type": "code",
   "execution_count": 75,
   "id": "5adb0efc-a445-437e-9c8f-3b16c8f0d02f",
   "metadata": {},
   "outputs": [
    {
     "name": "stdout",
     "output_type": "stream",
     "text": [
      "Index(['Month', 'Savings'], dtype='object')\n",
      "\n"
     ]
    }
   ],
   "source": [
    "#Display columns name\n",
    "print(mydataframe.columns)\n",
    "print()\n",
    "\n"
   ]
  },
  {
   "cell_type": "code",
   "execution_count": 76,
   "id": "3ebf246f",
   "metadata": {},
   "outputs": [
    {
     "name": "stdout",
     "output_type": "stream",
     "text": [
      "Number of records:  3\n",
      "\n"
     ]
    }
   ],
   "source": [
    "# Number of records/rows\n",
    "print('Number of records: ', mydataframe.shape[0])\n",
    "print()\n"
   ]
  },
  {
   "cell_type": "code",
   "execution_count": 77,
   "id": "10137869",
   "metadata": {},
   "outputs": [
    {
     "name": "stdout",
     "output_type": "stream",
     "text": [
      "0     January\n",
      "1    February\n",
      "2       March\n",
      "Name: Month, dtype: object\n",
      "\n"
     ]
    }
   ],
   "source": [
    "# Call specific column\n",
    "print(mydataframe['Month'])\n",
    "print()\n",
    "\n"
   ]
  },
  {
   "cell_type": "code",
   "execution_count": 78,
   "id": "79b21ce3",
   "metadata": {},
   "outputs": [
    {
     "name": "stdout",
     "output_type": "stream",
     "text": [
      "January\n",
      "\n"
     ]
    }
   ],
   "source": [
    "# Call certain value in a column\n",
    "print(mydataframe['Month'][0])\n",
    "print()\n",
    "\n"
   ]
  },
  {
   "cell_type": "code",
   "execution_count": 79,
   "id": "60a504e8",
   "metadata": {},
   "outputs": [
    {
     "name": "stdout",
     "output_type": "stream",
     "text": [
      "The second row is :\n",
      " Month      February\n",
      "Savings          80\n",
      "Name: 1, dtype: object\n",
      "\n",
      "The First and third rows:\n",
      "      Month  Savings\n",
      "0  January      250\n",
      "2    March      420\n"
     ]
    }
   ],
   "source": [
    "# Select certain row\n",
    "print('The second row is :\\n', mydataframe.iloc[1])\n",
    "print()\n",
    "print('The First and third rows:\\n', mydataframe.iloc[[0,2]])\n",
    "\n"
   ]
  },
  {
   "cell_type": "code",
   "execution_count": 80,
   "id": "04f367b7",
   "metadata": {},
   "outputs": [
    {
     "name": "stdout",
     "output_type": "stream",
     "text": [
      "Sum the saving of first and third rows:\n",
      "\n",
      "result:  670\n",
      "In one line 670\n",
      "Get minimum saving 80\n",
      "\n",
      "Months with savings more than 100:\n",
      " 0    January\n",
      "2      March\n",
      "Name: Month, dtype: object\n"
     ]
    }
   ],
   "source": [
    "# Operation\n",
    "print('Sum the saving of first and third rows:\\n')\n",
    "first_third_row = mydataframe.iloc[[0,2]]\n",
    "saving_column   = first_third_row['Savings']\n",
    "compute_sum     = saving_column.sum()\n",
    "\n",
    "print('result: ',compute_sum)\n",
    "\n",
    "print('In one line', mydataframe.iloc[[0,2]]['Savings'].sum())\n",
    "\n",
    "print('Get minimum saving', mydataframe['Savings'].min())\n",
    "print()\n",
    "\n",
    "# Search\n",
    "print('Months with savings more than 100:\\n', mydataframe.loc[mydataframe['Savings'] > 100, 'Month']) "
   ]
  },
  {
   "cell_type": "code",
   "execution_count": 81,
   "id": "7a48fb18",
   "metadata": {},
   "outputs": [
    {
     "name": "stdout",
     "output_type": "stream",
     "text": [
      "Months with savings more than 100:\n",
      " 0    January\n",
      "2      March\n",
      "Name: Month, dtype: object\n"
     ]
    }
   ],
   "source": [
    "# Search\n",
    "print('Months with savings more than 100:\\n', mydataframe.loc[mydataframe['Savings'] > 100, 'Month']) "
   ]
  },
  {
   "cell_type": "markdown",
   "id": "44c2595e",
   "metadata": {},
   "source": [
    "## 2. Visualization:\n",
    "In this section, we will use the matplotlib.pyplot library. In its simplest use, pyplot maintains an internal state in which you build up a visualization step by step. Once you’re done, you can save it with savefig or display it with show.\n",
    "In this lab, the **matplotlib** library will be used for data visualization, such as line plots, bar Charts, and histograms. Matplotlib is a low-level graph plotting library in Python that serves as a visualization utility.\n"
   ]
  },
  {
   "cell_type": "markdown",
   "id": "2760ab67",
   "metadata": {},
   "source": [
    "## Task1: Data Visualization with sample dataset  [Grade: 30%]\n",
    "We will show three examples for Data visualization each with different sample dataset. \n",
    "**import matplotlib.pyplot as plt**"
   ]
  },
  {
   "cell_type": "code",
   "execution_count": 82,
   "id": "fb00c4f9",
   "metadata": {},
   "outputs": [],
   "source": [
    "import matplotlib.pyplot as plt"
   ]
  },
  {
   "cell_type": "markdown",
   "id": "9cb0547f",
   "metadata": {},
   "source": [
    "\n",
    "### a) Line Plot\n",
    "Given the data below, plot a simple line plot to show how gdp changes over years.\n",
    "```python\n",
    "years = [1950, 1960, 1970, 1980, 1990, 2000, 2010]\n",
    "\n",
    "gdp = [300.2, 543.3, 1075.9, 2862.5, 5979.6, 10289.7, 14958.3]\n",
    "```\n",
    "Hints: Use `plt.plot()` for line plot..example: \n",
    "```python\n",
    "\n",
    "    plt.plot(x, y, color='green', marker='o', linestyle='solid')\n",
    "```\n",
    "and customize with `plt.title()`, `plt.xlabel()`,`plt.ylabel()`.\n"
   ]
  },
  {
   "cell_type": "code",
   "execution_count": 83,
   "id": "ba3e51ad",
   "metadata": {},
   "outputs": [
    {
     "data": {
      "image/png": "[encoded data removed]",
      "text/plain": [
       "<Figure size 640x480 with 1 Axes>"
      ]
     },
     "metadata": {},
     "output_type": "display_data"
    }
   ],
   "source": [
    "\n",
    "# TODO: Fill the two variables with the data provided above.\n",
    "years = [1950, 1960, 1970, 1980, 1990, 2000, 2010]\n",
    "gdp   = [300.2, 543.3, 1075.9, 2862.5, 5979.6, 10289.7, 14958.3]\n",
    "\n",
    "# TODO: Add title \"This is line plot\" to the figure.\n",
    "plt.title('This is line plot') \n",
    "\n",
    "# A label to graph x-axis.\n",
    "plt.xlabel('years')\n",
    " \n",
    "# TODO: Add a label to y-axis\n",
    "plt.ylabel('GDP')\n",
    "\n",
    "plt.plot(years, gdp, color='green', marker='o', linestyle='solid')\n",
    "\n",
    "plt.show() # This line to show the plot. (You don't need it if you are using jupyter)"
   ]
  },
  {
   "cell_type": "markdown",
   "id": "935dd81a",
   "metadata": {},
   "source": [
    "### b)\tBar Chart:\n",
    "A bar chart is a good choice when you want to show how some quantity varies among some discrete set of items. For instance, use a bar chart to show many Academy Awards were won by each of a variety of movies in below dataset. \n",
    "```python\n",
    "movies = [\"Annie Hall\", \"Ben-Hur\", \"Casablanca\", \"Gandhi\", \"West Side Story\"]\n",
    "\n",
    "num_oscars = [5, 11, 3, 8, 10]\n",
    "```\n",
    "Hints: Use `plt.bar(x, y)` bar chart and customize with `plt.title()`, `plt.ylabel()`"
   ]
  },
  {
   "cell_type": "code",
   "execution_count": 84,
   "id": "20a2502a",
   "metadata": {},
   "outputs": [
    {
     "data": {
      "image/png": "[encoded data removed]",
      "text/plain": [
       "<Figure size 640x480 with 1 Axes>"
      ]
     },
     "metadata": {},
     "output_type": "display_data"
    }
   ],
   "source": [
    "# TODO: Define two variables and fill them with the above data.\n",
    "movies = [\"Annie Hall\", \"Ben-Hur\", \"Casablanca\", \"Gandhi\", \"West Side Story\"]\n",
    "num_oscars = [5, 11, 3, 8, 10]\n",
    "\n",
    "# TODO: Add title \"Academy Awords\" to the graph.\n",
    "plt.title('Academy Awords')\n",
    "\n",
    "# TODO: Add appropriate labels for both x-axis and y-axis.\n",
    "plt.xlabel('Movies')\n",
    "plt.ylabel('Number of Oscars')\n",
    "\n",
    "# TODO: Use plt.bar(??,??) to draw the figure, replace (??) with suitable variables you have defined.\n",
    "plt.bar(movies, num_oscars)\n",
    "\n",
    "#TODO: Show the bar graph\n",
    "plt.show()"
   ]
  },
  {
   "cell_type": "markdown",
   "id": "7484b436",
   "metadata": {},
   "source": [
    "### c)\tHistogram\n",
    "A bar chart can also be a good choice for plotting histograms of grouped students' grade values in order to visually explore how the grades are distributed. Grades will be grouped by decile; all grades from 0-9 in one group, from 10 to 19 in another group from 91 to 100\n",
    "Data:\n",
    "```python\n",
    "grades = [10,83, 95, 91, 87, 70, 0, 85, 82, 100, 67, 73, 77, 0,22,90,80,6,3,7,55,66,25,80,100]\n",
    "bins=[0,10,20,30,40,50,60,70,80,90,100,110]\n",
    "```\n",
    "hint: use `plt.hist(x, y, histtype='bar', rwidth=0.7)`"
   ]
  },
  {
   "cell_type": "code",
   "execution_count": 85,
   "id": "8edaff8a",
   "metadata": {},
   "outputs": [
    {
     "data": {
      "image/png": "[encoded data removed]",
      "text/plain": [
       "<Figure size 640x480 with 1 Axes>"
      ]
     },
     "metadata": {},
     "output_type": "display_data"
    }
   ],
   "source": [
    "\n",
    "# TODO: Define two variables and fill them with the above data.\n",
    "grades = [10, 83, 95, 91, 87, 70, 0, 85, 82, 100, 67, 73, 77, 0, 22, 90, 80, 6, 3, 7, 55, 66, 25, 80, 100]\n",
    "bins = [0, 10, 20, 30, 40, 50, 60, 70, 80, 90, 100, 110]\n",
    "# TODO: Add title \"Students Grades\" to the graph.\n",
    "plt.title('Students Grades')\n",
    "# TODO: Add appropriate labels for both x-axis and y-axis.\n",
    "plt.xlabel('Grades')\n",
    "plt.ylabel('Number of Students')\n",
    "\n",
    "# TODO: Use plt.hist(??, ??, histtype=??, rwidth=??) to draw the figure, replace (??) with suitable variables/settings.\n",
    "plt.hist(grades, bins, histtype='bar', rwidth=0.8)\n",
    "\n",
    "#TODO: Show the histogram\n",
    "plt.show()\n"
   ]
  },
  {
   "cell_type": "markdown",
   "id": "7f8368d8",
   "metadata": {},
   "source": [
    "***You may refer to the official documentation of  Matplotlib for additional details and customization options.***\n",
    "\n",
    "\n",
    "\n"
   ]
  },
  {
   "cell_type": "markdown",
   "id": "c42ca5e5",
   "metadata": {},
   "source": [
    "## Task 3: Reading dataset from CSV file:    [Grade: 50%]\n",
    "Traffic.CSV file contains dataset for this task which provides a comprehensive view of traffic patterns over the course of one week.The dataset is useful in transportation planning, congestion management, and traffic flow analysis.\n",
    "\n",
    "it is a valuable resource for studying traffic conditions as it contains information collected by a computer vision model. The model detects four classes of vehicles: cars, bikes, buses, and trucks. The dataset is stored in a CSV file and includes additional columns such as time in hours, date, days of the week, and counts for each vehicle type (CarCount, BikeCount, BusCount, TruckCount). The \"Total\" column represents the total count of all vehicle types detected within a 15-minute duration.\n",
    "\n",
    "Additionally, the dataset includes a column indicating the traffic situation categorized into four classes: 1-Heavy, 2-High, 3-Normal, and 4-Low. This information can help assess the severity of congestion and monitor traffic conditions at different times and days of the week.\n",
    "\n",
    "In this Task you are going to visualize part of the dateset in different ways and analyse it to come up with useful conclusions.\n",
    "\n",
    "Hint:\n",
    "\n",
    "* use pandas to read csv files  example:\n",
    "```python\n",
    "df = pd.read_csv('data.csv') # To read data from an excel sheet called `data.csv`.           \n",
    "```"
   ]
  },
  {
   "cell_type": "markdown",
   "id": "36f396e6",
   "metadata": {},
   "source": [
    "**Import pandas library**\n"
   ]
  },
  {
   "cell_type": "code",
   "execution_count": 86,
   "id": "4b60bdad",
   "metadata": {},
   "outputs": [],
   "source": [
    "import pandas as pd"
   ]
  },
  {
   "cell_type": "markdown",
   "id": "c59ded9c",
   "metadata": {},
   "source": [
    "**Download  Traffic.csv file from the BB. To load a CSV file into Pandas, you can use the read_csv() function. This function takes the path to the CSV file as a parameter and returns a DataFrame object**"
   ]
  },
  {
   "cell_type": "code",
   "execution_count": 87,
   "id": "4c2abc84",
   "metadata": {},
   "outputs": [],
   "source": [
    "traffic_data = pd.read_csv('./Traffic.csv')\n"
   ]
  },
  {
   "cell_type": "markdown",
   "id": "321dd04b",
   "metadata": {},
   "source": [
    "**Explore the data**\n",
    "\n",
    "Use the `head()` function to display the first five rows of the DataFrame.\n"
   ]
  },
  {
   "cell_type": "code",
   "execution_count": 88,
   "id": "8bab8e8c",
   "metadata": {},
   "outputs": [
    {
     "data": {
      "text/html": [
       "<div>\n",
       "<style scoped>\n",
       "    .dataframe tbody tr th:only-of-type {\n",
       "        vertical-align: middle;\n",
       "    }\n",
       "\n",
       "    .dataframe tbody tr th {\n",
       "        vertical-align: top;\n",
       "    }\n",
       "\n",
       "    .dataframe thead th {\n",
       "        text-align: right;\n",
       "    }\n",
       "</style>\n",
       "<table border=\"1\" class=\"dataframe\">\n",
       "  <thead>\n",
       "    <tr style=\"text-align: right;\">\n",
       "      <th></th>\n",
       "      <th>Time</th>\n",
       "      <th>Date</th>\n",
       "      <th>Day of the week</th>\n",
       "      <th>CarCount</th>\n",
       "      <th>BikeCount</th>\n",
       "      <th>BusCount</th>\n",
       "      <th>TruckCount</th>\n",
       "      <th>Total</th>\n",
       "      <th>Traffic Situation</th>\n",
       "    </tr>\n",
       "  </thead>\n",
       "  <tbody>\n",
       "    <tr>\n",
       "      <th>0</th>\n",
       "      <td>12:00:00 AM</td>\n",
       "      <td>10</td>\n",
       "      <td>Tuesday</td>\n",
       "      <td>31</td>\n",
       "      <td>0</td>\n",
       "      <td>4</td>\n",
       "      <td>4</td>\n",
       "      <td>39</td>\n",
       "      <td>low</td>\n",
       "    </tr>\n",
       "    <tr>\n",
       "      <th>1</th>\n",
       "      <td>12:15:00 AM</td>\n",
       "      <td>10</td>\n",
       "      <td>Tuesday</td>\n",
       "      <td>49</td>\n",
       "      <td>0</td>\n",
       "      <td>3</td>\n",
       "      <td>3</td>\n",
       "      <td>55</td>\n",
       "      <td>low</td>\n",
       "    </tr>\n",
       "    <tr>\n",
       "      <th>2</th>\n",
       "      <td>12:30:00 AM</td>\n",
       "      <td>10</td>\n",
       "      <td>Tuesday</td>\n",
       "      <td>46</td>\n",
       "      <td>0</td>\n",
       "      <td>3</td>\n",
       "      <td>6</td>\n",
       "      <td>55</td>\n",
       "      <td>low</td>\n",
       "    </tr>\n",
       "    <tr>\n",
       "      <th>3</th>\n",
       "      <td>12:45:00 AM</td>\n",
       "      <td>10</td>\n",
       "      <td>Tuesday</td>\n",
       "      <td>51</td>\n",
       "      <td>0</td>\n",
       "      <td>2</td>\n",
       "      <td>5</td>\n",
       "      <td>58</td>\n",
       "      <td>low</td>\n",
       "    </tr>\n",
       "    <tr>\n",
       "      <th>4</th>\n",
       "      <td>1:00:00 AM</td>\n",
       "      <td>10</td>\n",
       "      <td>Tuesday</td>\n",
       "      <td>57</td>\n",
       "      <td>6</td>\n",
       "      <td>15</td>\n",
       "      <td>16</td>\n",
       "      <td>94</td>\n",
       "      <td>normal</td>\n",
       "    </tr>\n",
       "  </tbody>\n",
       "</table>\n",
       "</div>"
      ],
      "text/plain": [
       "          Time  Date Day of the week  CarCount  BikeCount  BusCount  \\\n",
       "0  12:00:00 AM    10         Tuesday        31          0         4   \n",
       "1  12:15:00 AM    10         Tuesday        49          0         3   \n",
       "2  12:30:00 AM    10         Tuesday        46          0         3   \n",
       "3  12:45:00 AM    10         Tuesday        51          0         2   \n",
       "4   1:00:00 AM    10         Tuesday        57          6        15   \n",
       "\n",
       "   TruckCount  Total Traffic Situation  \n",
       "0           4     39               low  \n",
       "1           3     55               low  \n",
       "2           6     55               low  \n",
       "3           5     58               low  \n",
       "4          16     94            normal  "
      ]
     },
     "execution_count": 88,
     "metadata": {},
     "output_type": "execute_result"
    }
   ],
   "source": [
    "traffic_data.head()"
   ]
  },
  {
   "cell_type": "markdown",
   "id": "85bf3369",
   "metadata": {},
   "source": [
    "Answer the following questions by running proper python command. The answer should by finally displayed from `print()` command line.\n",
    "\n",
    "**Q1**: What are the columns included in the dataset?"
   ]
  },
  {
   "cell_type": "code",
   "execution_count": 89,
   "id": "43cf4580",
   "metadata": {},
   "outputs": [
    {
     "name": "stdout",
     "output_type": "stream",
     "text": [
      "Columns:  Index(['Time', 'Date', 'Day of the week', 'CarCount', 'BikeCount', 'BusCount',\n",
      "       'TruckCount', 'Total', 'Traffic Situation'],\n",
      "      dtype='object')\n"
     ]
    }
   ],
   "source": [
    "print('Columns: ', traffic_data.columns)"
   ]
  },
  {
   "cell_type": "markdown",
   "id": "96f88edf",
   "metadata": {},
   "source": [
    "**Q2**:Print the 'Time' column in the dataset?"
   ]
  },
  {
   "cell_type": "code",
   "execution_count": 90,
   "id": "89cbed4b",
   "metadata": {},
   "outputs": [
    {
     "name": "stdout",
     "output_type": "stream",
     "text": [
      "0      12:00:00 AM\n",
      "1      12:15:00 AM\n",
      "2      12:30:00 AM\n",
      "3      12:45:00 AM\n",
      "4       1:00:00 AM\n",
      "          ...     \n",
      "667    10:45:00 PM\n",
      "668    11:00:00 PM\n",
      "669    11:15:00 PM\n",
      "670    11:30:00 PM\n",
      "671    11:45:00 PM\n",
      "Name: Time, Length: 672, dtype: object\n"
     ]
    }
   ],
   "source": [
    "print(traffic_data['Time'])"
   ]
  },
  {
   "cell_type": "markdown",
   "id": "8f023318",
   "metadata": {},
   "source": [
    "**Q3**: What is the total records that the data contains?"
   ]
  },
  {
   "cell_type": "markdown",
   "id": "342ec378",
   "metadata": {},
   "source": [
    "672 Record"
   ]
  },
  {
   "cell_type": "markdown",
   "id": "52e88560",
   "metadata": {},
   "source": [
    "**Q4**: What are the traffic situtations included in the dataset? \n",
    "**Hint: Use `set()` to eliminate repetitions.** "
   ]
  },
  {
   "cell_type": "code",
   "execution_count": 91,
   "id": "4d205e62",
   "metadata": {},
   "outputs": [
    {
     "name": "stdout",
     "output_type": "stream",
     "text": [
      "['low' 'normal' 'heavy' 'high']\n"
     ]
    }
   ],
   "source": [
    "print(traffic_data['Traffic Situation'].unique())"
   ]
  },
  {
   "cell_type": "markdown",
   "id": "d2a4d804",
   "metadata": {},
   "source": [
    "**Q5**: What is the sum of `CarCount` (Totaly number of cars) in the dataset?"
   ]
  },
  {
   "cell_type": "code",
   "execution_count": 92,
   "id": "7e836354",
   "metadata": {},
   "outputs": [
    {
     "name": "stdout",
     "output_type": "stream",
     "text": [
      "46293\n"
     ]
    }
   ],
   "source": [
    "print(traffic_data['CarCount'].sum())"
   ]
  },
  {
   "cell_type": "markdown",
   "id": "90a86084-e3d9-45da-ba9e-291ea0177d7a",
   "metadata": {},
   "source": [
    "**Q6**: How many times (records) the bus count was above 10 on **Tuesday**?"
   ]
  },
  {
   "cell_type": "code",
   "execution_count": 93,
   "id": "a82345a7-b789-45ad-a71f-871f62f1b809",
   "metadata": {},
   "outputs": [
    {
     "name": "stdout",
     "output_type": "stream",
     "text": [
      "59\n"
     ]
    }
   ],
   "source": [
    "print(traffic_data[(traffic_data['BusCount'] > 10) & (traffic_data['Day of the week'] == 'Tuesday')].shape[0])"
   ]
  },
  {
   "cell_type": "markdown",
   "id": "474f92bf-3643-4706-8a68-a70c2c5dd555",
   "metadata": {},
   "source": [
    "**Q7**: Use a graph from any of the three graph types introduced in section 2 to have a better visualization of the data. You are free to choice any column/s and/or row/s to visualize. The graph should have a proper title and labels for the axes. "
   ]
  },
  {
   "cell_type": "code",
   "execution_count": 94,
   "id": "0e74b27e-8d81-41ed-8ef7-64e5f654a100",
   "metadata": {},
   "outputs": [
    {
     "data": {
      "image/png": "[encoded data removed]",
      "text/plain": [
       "<Figure size 640x480 with 1 Axes>"
      ]
     },
     "metadata": {},
     "output_type": "display_data"
    }
   ],
   "source": [
    "plt.title('Total number of vehicles per day')\n",
    "plt.xlabel('Day of the week')\n",
    "plt.ylabel('Total number of vehicles')\n",
    "\n",
    "plt.bar(traffic_data['Day of the week'], traffic_data['Total'])\n",
    "plt.show()"
   ]
  },
  {
   "cell_type": "markdown",
   "id": "3b30fab3-8bdc-438e-b485-dcd4f42d3beb",
   "metadata": {},
   "source": [
    "**Q8**: Draw a conclusion from the graph you did."
   ]
  },
  {
   "cell_type": "markdown",
   "id": "8c61bf58",
   "metadata": {},
   "source": [
    "we can see that friday has the maximum number of vehicles using the road comparing to other days of  the week"
   ]
  },
  {
   "cell_type": "markdown",
   "id": "88d93f9f",
   "metadata": {},
   "source": [
    "#### a) Visualize and analyse the use of bike and bus on the different days of the week?\n",
    "\n",
    "The given dataset records number of buses, `BusCount`, and number of cyclist, `BikeCount`, appeared in the road over a week. Use data visualization you have learned to study the behavior of these two parameters over the week days (7 days).\n"
   ]
  },
  {
   "cell_type": "markdown",
   "id": "9640a5f5",
   "metadata": {},
   "source": [
    "First, you will create two lists `bus_count_in_days` and `bike_count_in_days` to hold the total number of buses and bikes for each day of the week, the length of the lists should be 7 in this case to match the number of days in the week."
   ]
  },
  {
   "cell_type": "code",
   "execution_count": 95,
   "id": "e5d79069",
   "metadata": {},
   "outputs": [],
   "source": [
    "bus_count_in_days = []\n",
    "bike_count_in_days = []"
   ]
  },
  {
   "cell_type": "markdown",
   "id": "32a21350",
   "metadata": {},
   "source": [
    "From the dataset, extract all unique days in Day of the week column. Save the output in a variable called days, which should be a list."
   ]
  },
  {
   "cell_type": "code",
   "execution_count": 96,
   "id": "011dcbec",
   "metadata": {},
   "outputs": [
    {
     "name": "stdout",
     "output_type": "stream",
     "text": [
      "['Tuesday' 'Wednesday' 'Thursday' 'Friday' 'Saturday' 'Sunday' 'Monday']\n"
     ]
    }
   ],
   "source": [
    "days = traffic_data['Day of the week'].unique()\n",
    "print(days)"
   ]
  },
  {
   "cell_type": "markdown",
   "id": "c2986612",
   "metadata": {},
   "source": [
    "Iterate over the days. For each day, sum the total number of `BusCount` and append the result to `bus_count_in_days` list. Do the same for `BikeCount`.\n",
    "\n",
    "**Note: By the end of the loop, each list should be length of 7, since the week has 7 days.**"
   ]
  },
  {
   "cell_type": "code",
   "execution_count": 97,
   "id": "c553e707",
   "metadata": {},
   "outputs": [],
   "source": [
    "for day in days:\n",
    "    bus_count_in_days.append(traffic_data[traffic_data['Day of the week'] == day]['BusCount'].sum())\n",
    "    bike_count_in_days.append(traffic_data[traffic_data['Day of the week'] == day]['BikeCount'].sum())"
   ]
  },
  {
   "cell_type": "markdown",
   "id": "fbe6446c",
   "metadata": {},
   "source": [
    "Use a proper graph visualization to visualize the distribution distribution of `BikeCount` and `BusCount` through the week days. The visualization of each one should be separately, each distribution in a graph, but the graphs should be aligned by `plt.subplot()` function.\n",
    "\n",
    "**Make sure you assign a proper title, labels to the graphs**"
   ]
  },
  {
   "cell_type": "code",
   "execution_count": 98,
   "id": "14ba51f3",
   "metadata": {},
   "outputs": [
    {
     "data": {
      "text/plain": [
       "<BarContainer object of 7 artists>"
      ]
     },
     "execution_count": 98,
     "metadata": {},
     "output_type": "execute_result"
    },
    {
     "data": {
      "image/png": "[encoded data removed]",
      "text/plain": [
       "<Figure size 1500x500 with 2 Axes>"
      ]
     },
     "metadata": {},
     "output_type": "display_data"
    }
   ],
   "source": [
    "plt.figure(figsize=(15, 5))\n",
    "plt.subplot(1, 2, 1)\n",
    "plt.suptitle('Bus Count and Bike Count per day')\n",
    "\n",
    "plt.title('Bus Count per day')\n",
    "plt.xlabel('Day of the week')\n",
    "plt.ylabel('Count')\n",
    "plt.bar(days, bus_count_in_days[:7], color='blue', label='Bus Count')\n",
    "\n",
    "\n",
    "\n",
    "\n",
    "\n",
    "plt.subplot(1, 2, 2)\n",
    "plt.title('Bike Count per day')\n",
    "plt.xlabel('Day of the week')\n",
    "plt.ylabel('Count')\n",
    "\n",
    "plt.bar(days, bike_count_in_days[:7], color='red', label='Bike Count')\n"
   ]
  },
  {
   "cell_type": "markdown",
   "id": "f8fa4955",
   "metadata": {},
   "source": [
    "**Q1.Can you guess which days is/are Weekend day(s) in this city?**"
   ]
  },
  {
   "cell_type": "markdown",
   "id": "705ff477-093a-4237-bd62-b897ba87af35",
   "metadata": {},
   "source": [
    "Friday."
   ]
  },
  {
   "cell_type": "markdown",
   "id": "141cc067",
   "metadata": {},
   "source": [
    "##### Write you observations/analysis about the graphs in the next cell in markdown format (at least two conclusions).  \n"
   ]
  },
  {
   "cell_type": "markdown",
   "id": "80896a39-68ec-4b07-a4bc-e61e36b3f4d9",
   "metadata": {},
   "source": [
    "1. The number of buses decreases significantly on Friday, which indicates that day could be a day-off.\n",
    "2. The number of bikes remains constant throughout the week while inceases on Friday. We can conclude that many employees/students use bike to drive to the work while it inceases on friday as a day-off when others could go for biking as an entertainment activity."
   ]
  }
 ],
 "metadata": {
  "kernelspec": {
   "display_name": "base",
   "language": "python",
   "name": "python3"
  },
  "language_info": {
   "codemirror_mode": {
    "name": "ipython",
    "version": 3
   },
   "file_extension": ".py",
   "mimetype": "text/x-python",
   "name": "python",
   "nbconvert_exporter": "python",
   "pygments_lexer": "ipython3",
   "version": "3.12.2"
  }
 },
 "nbformat": 4,
 "nbformat_minor": 5
}
