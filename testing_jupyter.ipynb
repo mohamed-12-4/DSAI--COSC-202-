{
 "cells": [
  {
   "cell_type": "markdown",
   "id": "a41bdf03-6b94-41cb-801b-c2d178437049",
   "metadata": {},
   "source": [
    "**Q1**: Load the test data from `test_data.csv` file using Pandas."
   ]
  },
  {
   "cell_type": "code",
   "execution_count": 1,
   "id": "334155a1-7b60-4a72-9368-8282ec91614b",
   "metadata": {},
   "outputs": [],
   "source": [
    "import pandas as pd\n",
    "\n",
    "test = pd.read_csv('test_data.csv')"
   ]
  },
  {
   "cell_type": "markdown",
   "id": "719892d3-bdac-4d99-8ed7-d1e1d8f1127c",
   "metadata": {},
   "source": [
    "**Q2:** Split the features and the target in variables `X_test` and `y_test`."
   ]
  },
  {
   "cell_type": "code",
   "execution_count": 2,
   "id": "a0e6d55a-04a7-40d8-ab5d-6283d15c47e2",
   "metadata": {},
   "outputs": [
    {
     "data": {
      "text/plain": [
       "0    1540.953657\n",
       "1    2017.477446\n",
       "2    2679.882123\n",
       "3     988.113759\n",
       "4    1925.675704\n",
       "5    2612.943752\n",
       "6    2985.726303\n",
       "7    1792.738299\n",
       "8    3619.554016\n",
       "Name: Final_Grade, dtype: float64"
      ]
     },
     "execution_count": 2,
     "metadata": {},
     "output_type": "execute_result"
    }
   ],
   "source": [
    "X_test = test.drop('Final_Grade', axis=1)\n",
    "y_test = test['Final_Grade']\n",
    "y_test"
   ]
  },
  {
   "cell_type": "markdown",
   "id": "11297a1c-543d-4193-970c-0c360396a7a7",
   "metadata": {},
   "source": [
    "**Q3**: Load the scaler you used to scale the training and validation data, and use it to scale the test data."
   ]
  },
  {
   "cell_type": "code",
   "execution_count": 3,
   "id": "6314bf14-bc65-48a5-8492-299908dd271f",
   "metadata": {},
   "outputs": [
    {
     "data": {
      "text/plain": [
       "array([[0.74026683, 0.31409459, 0.71428571],\n",
       "       [0.60439946, 0.51253645, 0.34693878],\n",
       "       [0.30439254, 0.81406081, 0.79591837],\n",
       "       [0.52909408, 0.18352737, 0.60204082],\n",
       "       [0.79445873, 0.42930048, 0.46938776],\n",
       "       [0.19783842, 0.82871567, 0.18367347],\n",
       "       [0.51837228, 0.87236121, 0.06122449],\n",
       "       [0.96127699, 0.33786003, 0.75510204],\n",
       "       [0.97834149, 0.95632898, 0.58163265]])"
      ]
     },
     "execution_count": 3,
     "metadata": {},
     "output_type": "execute_result"
    }
   ],
   "source": [
    "# Library needed to load this type of file\n",
    "import pickle\n",
    "\n",
    "with open('scaler.pkl', 'rb') as file:\n",
    "    loaded_imputer = pickle.load(file) # To load the variable into the `scaler.pkl` file.\n",
    "X_test =  loaded_imputer.transform(X_test)\n",
    "X_test"
   ]
  },
  {
   "cell_type": "markdown",
   "id": "dddb6985-c264-4d82-9f82-d8b6e2675635",
   "metadata": {},
   "source": [
    "**Q4** Load the trained model, and use summary to print its details. Notice the value of `Optimizer params`."
   ]
  },
  {
   "cell_type": "code",
   "execution_count": 4,
   "id": "bf6b3e59-cd1e-4101-b6a5-2be32284d27d",
   "metadata": {},
   "outputs": [
    {
     "name": "stderr",
     "output_type": "stream",
     "text": [
      "2024-11-04 11:31:20.597051: I external/local_xla/xla/tsl/cuda/cudart_stub.cc:32] Could not find cuda drivers on your machine, GPU will not be used.\n",
      "2024-11-04 11:31:20.759892: I external/local_xla/xla/tsl/cuda/cudart_stub.cc:32] Could not find cuda drivers on your machine, GPU will not be used.\n",
      "2024-11-04 11:31:20.916858: E external/local_xla/xla/stream_executor/cuda/cuda_fft.cc:477] Unable to register cuFFT factory: Attempting to register factory for plugin cuFFT when one has already been registered\n",
      "WARNING: All log messages before absl::InitializeLog() is called are written to STDERR\n",
      "E0000 00:00:1730705481.041069    1735 cuda_dnn.cc:8310] Unable to register cuDNN factory: Attempting to register factory for plugin cuDNN when one has already been registered\n",
      "E0000 00:00:1730705481.072585    1735 cuda_blas.cc:1418] Unable to register cuBLAS factory: Attempting to register factory for plugin cuBLAS when one has already been registered\n",
      "2024-11-04 11:31:21.391987: I tensorflow/core/platform/cpu_feature_guard.cc:210] This TensorFlow binary is optimized to use available CPU instructions in performance-critical operations.\n",
      "To enable the following instructions: AVX2 FMA, in other operations, rebuild TensorFlow with the appropriate compiler flags.\n",
      "W0000 00:00:1730705487.205941    1735 gpu_device.cc:2344] Cannot dlopen some GPU libraries. Please make sure the missing libraries mentioned above are installed properly if you would like to use GPU. Follow the guide at https://www.tensorflow.org/install/gpu for how to download and setup the required libraries for your platform.\n",
      "Skipping registering GPU devices...\n"
     ]
    },
    {
     "data": {
      "text/html": [
       "<pre style=\"white-space:pre;overflow-x:auto;line-height:normal;font-family:Menlo,'DejaVu Sans Mono',consolas,'Courier New',monospace\"><span style=\"font-weight: bold\">Model: \"sequential_5\"</span>\n",
       "</pre>\n"
      ],
      "text/plain": [
       "\u001b[1mModel: \"sequential_5\"\u001b[0m\n"
      ]
     },
     "metadata": {},
     "output_type": "display_data"
    },
    {
     "data": {
      "text/html": [
       "<pre style=\"white-space:pre;overflow-x:auto;line-height:normal;font-family:Menlo,'DejaVu Sans Mono',consolas,'Courier New',monospace\">┏━━━━━━━━━━━━━━━━━━━━━━━━━━━━━━━━━┳━━━━━━━━━━━━━━━━━━━━━━━━┳━━━━━━━━━━━━━━━┓\n",
       "┃<span style=\"font-weight: bold\"> Layer (type)                    </span>┃<span style=\"font-weight: bold\"> Output Shape           </span>┃<span style=\"font-weight: bold\">       Param # </span>┃\n",
       "┡━━━━━━━━━━━━━━━━━━━━━━━━━━━━━━━━━╇━━━━━━━━━━━━━━━━━━━━━━━━╇━━━━━━━━━━━━━━━┩\n",
       "│ dense_15 (<span style=\"color: #0087ff; text-decoration-color: #0087ff\">Dense</span>)                │ (<span style=\"color: #00d7ff; text-decoration-color: #00d7ff\">None</span>, <span style=\"color: #00af00; text-decoration-color: #00af00\">128</span>)            │           <span style=\"color: #00af00; text-decoration-color: #00af00\">512</span> │\n",
       "├─────────────────────────────────┼────────────────────────┼───────────────┤\n",
       "│ dropout_10 (<span style=\"color: #0087ff; text-decoration-color: #0087ff\">Dropout</span>)            │ (<span style=\"color: #00d7ff; text-decoration-color: #00d7ff\">None</span>, <span style=\"color: #00af00; text-decoration-color: #00af00\">128</span>)            │             <span style=\"color: #00af00; text-decoration-color: #00af00\">0</span> │\n",
       "├─────────────────────────────────┼────────────────────────┼───────────────┤\n",
       "│ dense_16 (<span style=\"color: #0087ff; text-decoration-color: #0087ff\">Dense</span>)                │ (<span style=\"color: #00d7ff; text-decoration-color: #00d7ff\">None</span>, <span style=\"color: #00af00; text-decoration-color: #00af00\">128</span>)            │        <span style=\"color: #00af00; text-decoration-color: #00af00\">16,512</span> │\n",
       "├─────────────────────────────────┼────────────────────────┼───────────────┤\n",
       "│ dropout_11 (<span style=\"color: #0087ff; text-decoration-color: #0087ff\">Dropout</span>)            │ (<span style=\"color: #00d7ff; text-decoration-color: #00d7ff\">None</span>, <span style=\"color: #00af00; text-decoration-color: #00af00\">128</span>)            │             <span style=\"color: #00af00; text-decoration-color: #00af00\">0</span> │\n",
       "├─────────────────────────────────┼────────────────────────┼───────────────┤\n",
       "│ dense_17 (<span style=\"color: #0087ff; text-decoration-color: #0087ff\">Dense</span>)                │ (<span style=\"color: #00d7ff; text-decoration-color: #00d7ff\">None</span>, <span style=\"color: #00af00; text-decoration-color: #00af00\">1</span>)              │           <span style=\"color: #00af00; text-decoration-color: #00af00\">129</span> │\n",
       "└─────────────────────────────────┴────────────────────────┴───────────────┘\n",
       "</pre>\n"
      ],
      "text/plain": [
       "┏━━━━━━━━━━━━━━━━━━━━━━━━━━━━━━━━━┳━━━━━━━━━━━━━━━━━━━━━━━━┳━━━━━━━━━━━━━━━┓\n",
       "┃\u001b[1m \u001b[0m\u001b[1mLayer (type)                   \u001b[0m\u001b[1m \u001b[0m┃\u001b[1m \u001b[0m\u001b[1mOutput Shape          \u001b[0m\u001b[1m \u001b[0m┃\u001b[1m \u001b[0m\u001b[1m      Param #\u001b[0m\u001b[1m \u001b[0m┃\n",
       "┡━━━━━━━━━━━━━━━━━━━━━━━━━━━━━━━━━╇━━━━━━━━━━━━━━━━━━━━━━━━╇━━━━━━━━━━━━━━━┩\n",
       "│ dense_15 (\u001b[38;5;33mDense\u001b[0m)                │ (\u001b[38;5;45mNone\u001b[0m, \u001b[38;5;34m128\u001b[0m)            │           \u001b[38;5;34m512\u001b[0m │\n",
       "├─────────────────────────────────┼────────────────────────┼───────────────┤\n",
       "│ dropout_10 (\u001b[38;5;33mDropout\u001b[0m)            │ (\u001b[38;5;45mNone\u001b[0m, \u001b[38;5;34m128\u001b[0m)            │             \u001b[38;5;34m0\u001b[0m │\n",
       "├─────────────────────────────────┼────────────────────────┼───────────────┤\n",
       "│ dense_16 (\u001b[38;5;33mDense\u001b[0m)                │ (\u001b[38;5;45mNone\u001b[0m, \u001b[38;5;34m128\u001b[0m)            │        \u001b[38;5;34m16,512\u001b[0m │\n",
       "├─────────────────────────────────┼────────────────────────┼───────────────┤\n",
       "│ dropout_11 (\u001b[38;5;33mDropout\u001b[0m)            │ (\u001b[38;5;45mNone\u001b[0m, \u001b[38;5;34m128\u001b[0m)            │             \u001b[38;5;34m0\u001b[0m │\n",
       "├─────────────────────────────────┼────────────────────────┼───────────────┤\n",
       "│ dense_17 (\u001b[38;5;33mDense\u001b[0m)                │ (\u001b[38;5;45mNone\u001b[0m, \u001b[38;5;34m1\u001b[0m)              │           \u001b[38;5;34m129\u001b[0m │\n",
       "└─────────────────────────────────┴────────────────────────┴───────────────┘\n"
      ]
     },
     "metadata": {},
     "output_type": "display_data"
    },
    {
     "data": {
      "text/html": [
       "<pre style=\"white-space:pre;overflow-x:auto;line-height:normal;font-family:Menlo,'DejaVu Sans Mono',consolas,'Courier New',monospace\"><span style=\"font-weight: bold\"> Total params: </span><span style=\"color: #00af00; text-decoration-color: #00af00\">34,308</span> (134.02 KB)\n",
       "</pre>\n"
      ],
      "text/plain": [
       "\u001b[1m Total params: \u001b[0m\u001b[38;5;34m34,308\u001b[0m (134.02 KB)\n"
      ]
     },
     "metadata": {},
     "output_type": "display_data"
    },
    {
     "data": {
      "text/html": [
       "<pre style=\"white-space:pre;overflow-x:auto;line-height:normal;font-family:Menlo,'DejaVu Sans Mono',consolas,'Courier New',monospace\"><span style=\"font-weight: bold\"> Trainable params: </span><span style=\"color: #00af00; text-decoration-color: #00af00\">17,153</span> (67.00 KB)\n",
       "</pre>\n"
      ],
      "text/plain": [
       "\u001b[1m Trainable params: \u001b[0m\u001b[38;5;34m17,153\u001b[0m (67.00 KB)\n"
      ]
     },
     "metadata": {},
     "output_type": "display_data"
    },
    {
     "data": {
      "text/html": [
       "<pre style=\"white-space:pre;overflow-x:auto;line-height:normal;font-family:Menlo,'DejaVu Sans Mono',consolas,'Courier New',monospace\"><span style=\"font-weight: bold\"> Non-trainable params: </span><span style=\"color: #00af00; text-decoration-color: #00af00\">0</span> (0.00 B)\n",
       "</pre>\n"
      ],
      "text/plain": [
       "\u001b[1m Non-trainable params: \u001b[0m\u001b[38;5;34m0\u001b[0m (0.00 B)\n"
      ]
     },
     "metadata": {},
     "output_type": "display_data"
    },
    {
     "data": {
      "text/html": [
       "<pre style=\"white-space:pre;overflow-x:auto;line-height:normal;font-family:Menlo,'DejaVu Sans Mono',consolas,'Courier New',monospace\"><span style=\"font-weight: bold\"> Optimizer params: </span><span style=\"color: #00af00; text-decoration-color: #00af00\">17,155</span> (67.02 KB)\n",
       "</pre>\n"
      ],
      "text/plain": [
       "\u001b[1m Optimizer params: \u001b[0m\u001b[38;5;34m17,155\u001b[0m (67.02 KB)\n"
      ]
     },
     "metadata": {},
     "output_type": "display_data"
    }
   ],
   "source": [
    "from tensorflow import keras\n",
    "loaded_model = keras.models.load_model('trained_model.keras')\n",
    "# Display a summary of the model\n",
    "loaded_model.summary()"
   ]
  },
  {
   "cell_type": "markdown",
   "id": "89e64287-5e44-493b-ad9b-3b1b62a99d1e",
   "metadata": {},
   "source": [
    "**Q5** Use the trained model to predict students grade in the test data."
   ]
  },
  {
   "cell_type": "code",
   "execution_count": 5,
   "id": "2accf516-eca2-43d5-ae2e-3098395cb19c",
   "metadata": {},
   "outputs": [
    {
     "name": "stdout",
     "output_type": "stream",
     "text": [
      "\u001b[1m1/1\u001b[0m \u001b[32m━━━━━━━━━━━━━━━━━━━━\u001b[0m\u001b[37m\u001b[0m \u001b[1m0s\u001b[0m 108ms/step\n"
     ]
    }
   ],
   "source": [
    "predictions = loaded_model.predict(X_test)"
   ]
  },
  {
   "cell_type": "code",
   "execution_count": 6,
   "id": "9fbd4e72",
   "metadata": {},
   "outputs": [
    {
     "data": {
      "text/plain": [
       "array([[0.74026683, 0.31409459, 0.71428571],\n",
       "       [0.60439946, 0.51253645, 0.34693878],\n",
       "       [0.30439254, 0.81406081, 0.79591837],\n",
       "       [0.52909408, 0.18352737, 0.60204082],\n",
       "       [0.79445873, 0.42930048, 0.46938776],\n",
       "       [0.19783842, 0.82871567, 0.18367347],\n",
       "       [0.51837228, 0.87236121, 0.06122449],\n",
       "       [0.96127699, 0.33786003, 0.75510204],\n",
       "       [0.97834149, 0.95632898, 0.58163265]])"
      ]
     },
     "execution_count": 6,
     "metadata": {},
     "output_type": "execute_result"
    }
   ],
   "source": [
    "X_test"
   ]
  },
  {
   "cell_type": "markdown",
   "id": "55457cbe-c281-41c9-a040-51d7452d3fb7",
   "metadata": {},
   "source": [
    "**Q6** Evaluate and print the mean absolute error."
   ]
  },
  {
   "cell_type": "code",
   "execution_count": null,
   "id": "5bdc1ad7-e1b0-482e-87b6-b233323afa2a",
   "metadata": {},
   "outputs": [
    {
     "name": "stdout",
     "output_type": "stream",
     "text": [
      "\u001b[1m1/1\u001b[0m \u001b[32m━━━━━━━━━━━━━━━━━━━━\u001b[0m\u001b[37m\u001b[0m \u001b[1m0s\u001b[0m 213ms/step - loss: 278922.7500 - mean_absolute_error: 467.1602\n",
      "Mean Absolute Error (MAE) on the test set: 467.1602\n"
     ]
    }
   ],
   "source": [
    "test_loss, test_mae = loaded_model.evaluate(X_test, y_test)\n",
    "\n",
    "print(f'Mean Absolute Error (MAE) on the test set: {test_mae:.4f}')"
   ]
  },
  {
   "cell_type": "markdown",
   "id": "9c7f508f-711e-47dc-9458-513ed23485f2",
   "metadata": {},
   "source": [
    "**Q5** Print the first five students grade from the ground truth and the prediction."
   ]
  },
  {
   "cell_type": "code",
   "execution_count": 8,
   "id": "30a4ec62-303c-4172-a41a-01571ccef3e9",
   "metadata": {},
   "outputs": [
    {
     "name": "stdout",
     "output_type": "stream",
     "text": [
      "Actual: 1540.953657, pred: [2076.0613]\n",
      "Actual: 2017.477446, pred: [2009.4158]\n",
      "Actual: 2679.882123, pred: [2432.5674]\n",
      "Actual: 988.113759, pred: [1701.6282]\n",
      "Actual: 1925.675704, pred: [2112.2136]\n",
      "Actual: 2612.943752, pred: [2017.1064]\n",
      "Actual: 2985.726303, pred: [2223.936]\n",
      "Actual: 1792.738299, pred: [2284.2725]\n",
      "Actual: 3619.554016, pred: [2954.811]\n"
     ]
    }
   ],
   "source": [
    "for actual, pred in zip(y_test, predictions):\n",
    "    print(f'Actual: {actual}, pred: {pred}') "
   ]
  },
  {
   "cell_type": "markdown",
   "id": "5ac82bb7-28de-472d-99ee-c57120840d53",
   "metadata": {},
   "source": [
    "**Q6**: Do you think the model performance is good? and why?"
   ]
  },
  {
   "cell_type": "markdown",
   "id": "f3eab821-4ff9-4dee-a82c-bc9963f26773",
   "metadata": {},
   "source": [
    "We can say that the models performance is good as it's in the range of about 500 from the actual value"
   ]
  }
 ],
 "metadata": {
  "kernelspec": {
   "display_name": "base",
   "language": "python",
   "name": "python3"
  },
  "language_info": {
   "codemirror_mode": {
    "name": "ipython",
    "version": 3
   },
   "file_extension": ".py",
   "mimetype": "text/x-python",
   "name": "python",
   "nbconvert_exporter": "python",
   "pygments_lexer": "ipython3",
   "version": "3.12.2"
  }
 },
 "nbformat": 4,
 "nbformat_minor": 5
}
