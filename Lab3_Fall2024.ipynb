{
 "cells": [
  {
   "cell_type": "markdown",
   "id": "7c36c310",
   "metadata": {},
   "source": [
    "## <center>Khalifa University</center>\n",
    "## <center>Computer Science Department\n",
    "### <center>ENGR 202: Data Science and Artificial Intelligence- Fall 2024\n",
    "# <center>Lab3: Data Collection and Data Analysis \n",
    "### Aim: Retrieve Data from different resources and  to analayse data using statistical tools.\n",
    "### Objectives:\t\t\n",
    "\n",
    "* Read data from CSV and Json through an API\n",
    "    \n",
    "* Analyze data using statistical tools.    \n",
    "    \n",
    "* Analyze correlations between variables.\n",
    "    \n",
    "\n",
    "#### Risk Assessment: Low"
   ]
  },
  {
   "cell_type": "markdown",
   "id": "4cee2343",
   "metadata": {},
   "source": [
    "The first step of Data analysis cycle is Data Collection. In this Lab we will retrieve data from different resources and apply some statistical tools to explore and understand the features. First is API and the second is CSV files."
   ]
  },
  {
   "cell_type": "markdown",
   "id": "451e3e90-0085-49c1-b909-b4e1d73fa547",
   "metadata": {},
   "source": [
    "### Task 1: Data from API: Introduction\n",
    "\n",
    "In this task, you will read cars data from an API, extract certain data, and make some interpretations of the data using visualization tools you have learned in the previous lab. You will learn how to send a request access data through API and handle failure cases when an access request fails. The API data is in JSON format, one of the most common formats for API data. \n",
    "\n",
    "![img](https://wikis.ec.europa.eu/download/attachments/44165598/image_10.png?version=1&modificationDate=1651036868305&api=v2)\n"
   ]
  },
  {
   "cell_type": "markdown",
   "id": "7497cfe3-48b2-4686-be73-fe8eba9c0e7d",
   "metadata": {},
   "source": [
    "**API Request**: To access data through an API, you need to send a request to the API's server with specific parameters to obtain the intended data. The picture above shows that the API's URL consists of fixed and dynamic parts. The fixed part contains information about the API's server that is required to access it. All requests should involve that fixed part to successfully access the server. On the other hand, the dynamic part is the parameters you add to access a particular portion of the data on the API's server. \n",
    "\n",
    "To illustrate this idea, let's explore the URL structure of the car's API. The fixed part of the URL is:\n",
    "```\n",
    "https://freetestapi.com/api/v1/\n",
    "```\n",
    "One of the parameters of this API is called `cars`, which retrieves all cars  on the server. Hence, the URL to retrieve all cars  from that server will be:\n",
    "```\n",
    "https://freetestapi.com/api/v1/cars \n",
    "```\n",
    "In order to send a request using Python, you need to install a library called `requests`. Run the following cell to install it on your device."
   ]
  },
  {
   "cell_type": "code",
   "execution_count": 40,
   "id": "32cd1f74-eddc-4531-8c61-4339ae3ef2cb",
   "metadata": {},
   "outputs": [
    {
     "name": "stdout",
     "output_type": "stream",
     "text": [
      "Requirement already satisfied: requests in /home/mohamed/miniconda3/lib/python3.12/site-packages (2.31.0)\n",
      "Requirement already satisfied: charset-normalizer<4,>=2 in /home/mohamed/miniconda3/lib/python3.12/site-packages (from requests) (2.0.4)\n",
      "Requirement already satisfied: idna<4,>=2.5 in /home/mohamed/miniconda3/lib/python3.12/site-packages (from requests) (3.4)\n",
      "Requirement already satisfied: urllib3<3,>=1.21.1 in /home/mohamed/miniconda3/lib/python3.12/site-packages (from requests) (2.1.0)\n",
      "Requirement already satisfied: certifi>=2017.4.17 in /home/mohamed/miniconda3/lib/python3.12/site-packages (from requests) (2024.2.2)\n"
     ]
    }
   ],
   "source": [
    "!pip install requests"
   ]
  },
  {
   "cell_type": "markdown",
   "id": "a731909d-0a49-4138-85fc-cda3d5a82e84",
   "metadata": {},
   "source": [
    "Now, you can use the library to send a request to the server. Replace the string inside `get()` function with the correct URL to the server that retrieves all cars from the API."
   ]
  },
  {
   "cell_type": "code",
   "execution_count": 41,
   "id": "74139e3e-e9b3-422c-94de-4141519bf78d",
   "metadata": {},
   "outputs": [],
   "source": [
    "import requests\n",
    "\n",
    "response = requests.get('https://freetestapi.com/api/v1/cars')"
   ]
  },
  {
   "cell_type": "markdown",
   "id": "5c3659f6-4b49-4367-b7c6-9429a075fd5f",
   "metadata": {},
   "source": [
    "Now, the response variable holds the request status, as does the data from the API. If you encounter a failure while accessing the API's server, you should not try to access the data from the response, as it will crash the software. Thus, you have to check the request status first and read the data only if the access status is successful. Run the following code to follow these procedures."
   ]
  },
  {
   "cell_type": "code",
   "execution_count": 42,
   "id": "072e802f-6e9b-40cd-ab07-0c8bb5a0f616",
   "metadata": {},
   "outputs": [
    {
     "name": "stdout",
     "output_type": "stream",
     "text": [
      "Total number of cars : 30\n",
      "\n",
      "[{'id': 1, 'make': 'Toyota', 'model': 'Corolla', 'year': 2022, 'color': 'Silver', 'mileage': 20000, 'price': 25000, 'fuelType': 'Gasoline', 'transmission': 'Automatic', 'engine': '2.0L 4-cylinder', 'horsepower': 169, 'features': ['Bluetooth', 'Backup Camera', 'Keyless Entry'], 'owners': 1, 'image': 'https://fakeimg.pl/500x500/cccccc'}, {'id': 2, 'make': 'Honda', 'model': 'Civic', 'year': 2021, 'color': 'White', 'mileage': 18000, 'price': 22000, 'fuelType': 'Gasoline', 'transmission': 'CVT', 'engine': '1.5L 4-cylinder', 'horsepower': 158, 'features': ['Apple CarPlay', 'Android Auto', 'Lane Departure Warning'], 'owners': 2, 'image': 'https://fakeimg.pl/500x500/ffffff'}, {'id': 3, 'make': 'Ford', 'model': 'Mustang', 'year': 2020, 'color': 'Red', 'mileage': 15000, 'price': 35000, 'fuelType': 'Gasoline', 'transmission': 'Manual', 'engine': '5.0L V8', 'horsepower': 450, 'features': ['Leather Seats', 'Navigation System', 'Heated Seats'], 'owners': 1, 'image': 'https://fakeimg.pl/500x500/ff0000'}, {'id': 4, 'make': 'Chevrolet', 'model': 'Equinox', 'year': 2019, 'color': 'Blue', 'mileage': 30000, 'price': 20000, 'fuelType': 'Gasoline', 'transmission': 'Automatic', 'engine': '1.5L 4-cylinder', 'horsepower': 170, 'features': ['Rearview Camera', 'Blind-Spot Monitoring', 'Wi-Fi Hotspot'], 'owners': 2, 'image': 'https://fakeimg.pl/500x500/0000ff'}, {'id': 5, 'make': 'Nissan', 'model': 'Altima', 'year': 2020, 'color': 'Black', 'mileage': 22000, 'price': 21000, 'fuelType': 'Gasoline', 'transmission': 'CVT', 'engine': '2.5L 4-cylinder', 'horsepower': 188, 'features': ['Remote Start', 'Automatic Emergency Braking', 'Lane Keeping Assist'], 'owners': 1, 'image': 'https://fakeimg.pl/500x500/000000'}, {'id': 6, 'make': 'BMW', 'model': '3 Series', 'year': 2021, 'color': 'White', 'mileage': 12000, 'price': 40000, 'fuelType': 'Diesel', 'transmission': 'Automatic', 'engine': '2.0L 4-cylinder', 'horsepower': 255, 'features': ['Sunroof', 'Adaptive Cruise Control', 'Parking Assistance'], 'owners': 1, 'image': 'https://fakeimg.pl/500x500/ffffff'}, {'id': 7, 'make': 'Tesla', 'model': 'Model 3', 'year': 2022, 'color': 'Red', 'mileage': 8000, 'price': 45000, 'fuelType': 'Electric', 'transmission': 'Automatic', 'engine': 'Electric Motor', 'horsepower': 322, 'features': ['Autopilot', 'Full Self-Driving Capability', 'Premium Audio System'], 'owners': 1, 'image': 'https://fakeimg.pl/500x500/ff0000'}, {'id': 8, 'make': 'Audi', 'model': 'Q5', 'year': 2021, 'color': 'Gray', 'mileage': 15000, 'price': 38000, 'fuelType': 'Gasoline', 'transmission': 'Automatic', 'engine': '2.0L 4-cylinder', 'horsepower': 248, 'features': ['Virtual Cockpit', 'Panoramic Sunroof', 'Apple CarPlay'], 'owners': 1, 'image': 'https://fakeimg.pl/500x500/808080'}, {'id': 9, 'make': 'Mercedes-Benz', 'model': 'E-Class', 'year': 2020, 'color': 'Silver', 'mileage': 18000, 'price': 42000, 'fuelType': 'Gasoline', 'transmission': 'Automatic', 'engine': '2.0L 4-cylinder', 'horsepower': 255, 'features': ['MBUX Infotainment', 'Heated Steering Wheel', 'Air Suspension'], 'owners': 2, 'image': 'https://fakeimg.pl/500x500/cccccc'}, {'id': 10, 'make': 'Chevrolet', 'model': 'Tahoe', 'year': 2020, 'color': 'Black', 'mileage': 25000, 'price': 45000, 'fuelType': 'Gasoline', 'transmission': 'Automatic', 'engine': '5.3L V8', 'horsepower': 355, 'features': ['Leather Seats', 'Third-Row Seating', 'Power Liftgate'], 'owners': 2, 'image': 'https://fakeimg.pl/500x500/000000'}, {'id': 11, 'make': 'Subaru', 'model': 'Outback', 'year': 2021, 'color': 'Green', 'mileage': 12000, 'price': 32000, 'fuelType': 'Gasoline', 'transmission': 'CVT', 'engine': '2.5L 4-cylinder', 'horsepower': 182, 'features': ['All-Wheel Drive', 'Roof Rails', 'Adaptive Cruise Control'], 'owners': 1, 'image': 'https://fakeimg.pl/500x500/008000'}, {'id': 12, 'make': 'Lexus', 'model': 'RX 350', 'year': 2022, 'color': 'White', 'mileage': 8000, 'price': 48000, 'fuelType': 'Gasoline', 'transmission': 'Automatic', 'engine': '3.5L V6', 'horsepower': 295, 'features': ['Premium Leather Seats', 'Panoramic Sunroof', 'Mark Levinson Audio'], 'owners': 1, 'image': 'https://fakeimg.pl/500x500/ffffff'}, {'id': 13, 'make': 'Ford', 'model': 'F-150', 'year': 2020, 'color': 'Blue', 'mileage': 18000, 'price': 38000, 'fuelType': 'Gasoline', 'transmission': 'Automatic', 'engine': '3.5L V6', 'horsepower': 375, 'features': ['Towing Package', 'Off-Road Package', 'Sync 3 Infotainment'], 'owners': 1, 'image': 'https://fakeimg.pl/500x500/0000ff'}, {'id': 14, 'make': 'BMW', 'model': 'X5', 'year': 2021, 'color': 'Black', 'mileage': 14000, 'price': 55000, 'fuelType': 'Diesel', 'transmission': 'Automatic', 'engine': '3.0L 6-cylinder', 'horsepower': 335, 'features': ['Heated Seats', 'Wireless Charging', 'Gesture Control'], 'owners': 1, 'image': 'https://fakeimg.pl/500x500/000000'}, {'id': 15, 'make': 'Honda', 'model': 'CR-V', 'year': 2019, 'color': 'Silver', 'mileage': 25000, 'price': 26000, 'fuelType': 'Gasoline', 'transmission': 'CVT', 'engine': '1.5L 4-cylinder', 'horsepower': 190, 'features': ['Adaptive Cruise Control', 'Lane Keeping Assist', 'Apple CarPlay'], 'owners': 2, 'image': 'https://fakeimg.pl/500x500/cccccc'}, {'id': 16, 'make': 'Toyota', 'model': 'RAV4', 'year': 2020, 'color': 'White', 'mileage': 18000, 'price': 29000, 'fuelType': 'Gasoline', 'transmission': 'Automatic', 'engine': '2.5L 4-cylinder', 'horsepower': 203, 'features': ['Blind-Spot Monitoring', 'Rear Cross-Traffic Alert', 'Apple CarPlay'], 'owners': 1, 'image': 'https://fakeimg.pl/500x500/ffffff'}, {'id': 17, 'make': 'Tesla', 'model': 'Model Y', 'year': 2022, 'color': 'Red', 'mileage': 8000, 'price': 52000, 'fuelType': 'Electric', 'transmission': 'Automatic', 'engine': 'Dual Electric Motors', 'horsepower': 384, 'features': ['Autopilot', 'Premium Interior', 'Panoramic Roof'], 'owners': 1, 'image': 'https://fakeimg.pl/500x500/ff0000'}, {'id': 18, 'make': 'Chevrolet', 'model': 'Silverado', 'year': 2019, 'color': 'Black', 'mileage': 25000, 'price': 35000, 'fuelType': 'Gasoline', 'transmission': 'Automatic', 'engine': '5.3L V8', 'horsepower': 355, 'features': ['Towing Package', 'Trailer Brake Controller', 'Apple CarPlay'], 'owners': 2, 'image': 'https://fakeimg.pl/500x500/000000'}, {'id': 19, 'make': 'Ford', 'model': 'Escape', 'year': 2021, 'color': 'Gray', 'mileage': 12000, 'price': 28000, 'fuelType': 'Gasoline', 'transmission': 'Automatic', 'engine': '1.5L 4-cylinder', 'horsepower': 181, 'features': ['Apple CarPlay', 'Android Auto', 'Blind-Spot Monitoring'], 'owners': 1, 'image': 'https://fakeimg.pl/500x500/808080'}, {'id': 20, 'make': 'Mercedes-Benz', 'model': 'GLE 350', 'year': 2020, 'color': 'Silver', 'mileage': 18000, 'price': 46000, 'fuelType': 'Gasoline', 'transmission': 'Automatic', 'engine': '2.0L 4-cylinder', 'horsepower': 255, 'features': ['MBUX Infotainment', 'Panoramic Sunroof', 'Adaptive Cruise Control'], 'owners': 2, 'image': 'https://fakeimg.pl/500x500/cccccc'}, {'id': 21, 'make': 'BMW', 'model': '4 Series', 'year': 2021, 'color': 'Blue', 'mileage': 10000, 'price': 48000, 'fuelType': 'Gasoline', 'transmission': 'Automatic', 'engine': '2.0L 4-cylinder', 'horsepower': 255, 'features': ['Head-Up Display', 'Wireless Charging', 'Parking Assistance'], 'owners': 1, 'image': 'https://fakeimg.pl/500x500/0000ff'}, {'id': 22, 'make': 'Honda', 'model': 'Accord', 'year': 2022, 'color': 'Black', 'mileage': 8000, 'price': 31000, 'fuelType': 'Gasoline', 'transmission': 'CVT', 'engine': '1.5L 4-cylinder', 'horsepower': 192, 'features': ['Honda Sensing Suite', 'Remote Engine Start', 'Wireless Phone Charger'], 'owners': 1, 'image': 'https://fakeimg.pl/500x500/000000'}, {'id': 23, 'make': 'Jeep', 'model': 'Grand Cherokee', 'year': 2021, 'color': 'White', 'mileage': 10000, 'price': 38000, 'fuelType': 'Gasoline', 'transmission': 'Automatic', 'engine': '3.6L V6', 'horsepower': 295, 'features': ['4WD', 'Uconnect Infotainment', 'Heated Seats'], 'owners': 1, 'image': 'https://fakeimg.pl/500x500/ffffff'}, {'id': 24, 'make': 'Toyota', 'model': 'Highlander', 'year': 2020, 'color': 'Silver', 'mileage': 20000, 'price': 36000, 'fuelType': 'Gasoline', 'transmission': 'Automatic', 'engine': '3.5L V6', 'horsepower': 295, 'features': ['Lane Departure Alert', 'Third-Row Seating', 'Smart Key System'], 'owners': 2, 'image': 'https://fakeimg.pl/500x500/cccccc'}, {'id': 25, 'make': 'Ford', 'model': 'Explorer', 'year': 2022, 'color': 'Blue', 'mileage': 6000, 'price': 42000, 'fuelType': 'Gasoline', 'transmission': 'Automatic', 'engine': '2.3L 4-cylinder', 'horsepower': 300, 'features': ['SYNC 4 Infotainment', 'Tri-Zone Climate Control', 'Power Liftgate'], 'owners': 1, 'image': 'https://fakeimg.pl/500x500/0000ff'}, {'id': 26, 'make': 'Chevrolet', 'model': 'Camaro', 'year': 2021, 'color': 'Red', 'mileage': 8000, 'price': 40000, 'fuelType': 'Gasoline', 'transmission': 'Automatic', 'engine': '6.2L V8', 'horsepower': 455, 'features': ['RS Package', 'Wireless Apple CarPlay', 'Bose Premium Audio'], 'owners': 1, 'image': 'https://fakeimg.pl/500x500/ff0000'}, {'id': 27, 'make': 'Audi', 'model': 'A4', 'year': 2020, 'color': 'White', 'mileage': 15000, 'price': 36000, 'fuelType': 'Gasoline', 'transmission': 'Automatic', 'engine': '2.0L 4-cylinder', 'horsepower': 201, 'features': ['Virtual Cockpit', 'Panoramic Sunroof', 'Audi Pre Sense City'], 'owners': 2, 'image': 'https://fakeimg.pl/500x500/ffffff'}, {'id': 28, 'make': 'Subaru', 'model': 'Forester', 'year': 2022, 'color': 'Green', 'mileage': 5000, 'price': 32000, 'fuelType': 'Gasoline', 'transmission': 'CVT', 'engine': '2.5L 4-cylinder', 'horsepower': 182, 'features': ['Subaru EyeSight', 'X-Mode Terrain Selection', 'Starlink Infotainment'], 'owners': 1, 'image': 'https://fakeimg.pl/500x500/008000'}, {'id': 29, 'make': 'Ford', 'model': 'Fusion', 'year': 2022, 'color': 'Silver', 'mileage': 8000, 'price': 30000, 'fuelType': 'Gasoline', 'transmission': 'Automatic', 'engine': '2.0L 4-cylinder', 'horsepower': 245, 'features': ['Ford Co-Pilot360', 'Adaptive Cruise Control', 'Wireless Charging'], 'owners': 1, 'image': 'https://fakeimg.pl/500x500/cccccc'}, {'id': 30, 'make': 'Kia', 'model': 'Telluride', 'year': 2021, 'color': 'White', 'mileage': 10000, 'price': 38000, 'fuelType': 'Gasoline', 'transmission': 'Automatic', 'engine': '3.8L V6', 'horsepower': 291, 'features': ['Kia Drive Wise', 'UVO Link Infotainment', 'Apple CarPlay'], 'owners': 1, 'image': 'https://fakeimg.pl/500x500/ffffff'}]\n"
     ]
    }
   ],
   "source": [
    "if response.status_code == 200: # Status 200 means successful accessing to the API's server\n",
    "    cars_data =response.json() # This line to read the data. We use it as the data is in JSON format.\n",
    "    \n",
    "    print('Total number of cars :', len(cars_data))\n",
    "    print()\n",
    "    print(cars_data)\n",
    "\n",
    "else:\n",
    "    print(f\"Failed to retrieve data: {response.status_code}\") # In case of failure, display the request status error code. "
   ]
  },
  {
   "cell_type": "markdown",
   "id": "0cf772e6-b1d1-4cda-b541-9590d2ff9600",
   "metadata": {},
   "source": [
    "Assume you only want to retrieve five cars. In this case, you can use an additional parameter called 'limit' with the intended value. In this case, the URL structure should be:\n",
    "```\n",
    "https://freetestapi.com/api/v1/cars?limit=5\n",
    "```\n",
    "**Q:** In the next cell, write a code that requests ten cars from the server and print the data as you did earlier, and print the total number of retrieved cars. "
   ]
  },
  {
   "cell_type": "code",
   "execution_count": 43,
   "id": "02fca22b-5190-4033-a9b3-d875e4e7810a",
   "metadata": {},
   "outputs": [
    {
     "name": "stdout",
     "output_type": "stream",
     "text": [
      "Total number of cars : 5\n",
      "\n",
      "[{'id': 1, 'make': 'Toyota', 'model': 'Corolla', 'year': 2022, 'color': 'Silver', 'mileage': 20000, 'price': 25000, 'fuelType': 'Gasoline', 'transmission': 'Automatic', 'engine': '2.0L 4-cylinder', 'horsepower': 169, 'features': ['Bluetooth', 'Backup Camera', 'Keyless Entry'], 'owners': 1, 'image': 'https://fakeimg.pl/500x500/cccccc'}, {'id': 2, 'make': 'Honda', 'model': 'Civic', 'year': 2021, 'color': 'White', 'mileage': 18000, 'price': 22000, 'fuelType': 'Gasoline', 'transmission': 'CVT', 'engine': '1.5L 4-cylinder', 'horsepower': 158, 'features': ['Apple CarPlay', 'Android Auto', 'Lane Departure Warning'], 'owners': 2, 'image': 'https://fakeimg.pl/500x500/ffffff'}, {'id': 3, 'make': 'Ford', 'model': 'Mustang', 'year': 2020, 'color': 'Red', 'mileage': 15000, 'price': 35000, 'fuelType': 'Gasoline', 'transmission': 'Manual', 'engine': '5.0L V8', 'horsepower': 450, 'features': ['Leather Seats', 'Navigation System', 'Heated Seats'], 'owners': 1, 'image': 'https://fakeimg.pl/500x500/ff0000'}, {'id': 4, 'make': 'Chevrolet', 'model': 'Equinox', 'year': 2019, 'color': 'Blue', 'mileage': 30000, 'price': 20000, 'fuelType': 'Gasoline', 'transmission': 'Automatic', 'engine': '1.5L 4-cylinder', 'horsepower': 170, 'features': ['Rearview Camera', 'Blind-Spot Monitoring', 'Wi-Fi Hotspot'], 'owners': 2, 'image': 'https://fakeimg.pl/500x500/0000ff'}, {'id': 5, 'make': 'Nissan', 'model': 'Altima', 'year': 2020, 'color': 'Black', 'mileage': 22000, 'price': 21000, 'fuelType': 'Gasoline', 'transmission': 'CVT', 'engine': '2.5L 4-cylinder', 'horsepower': 188, 'features': ['Remote Start', 'Automatic Emergency Braking', 'Lane Keeping Assist'], 'owners': 1, 'image': 'https://fakeimg.pl/500x500/000000'}]\n"
     ]
    }
   ],
   "source": [
    "# TODO: Write python code to send a request to the API's server with a proper URL format\n",
    "res = requests.get('https://freetestapi.com/api/v1/cars?limit=5')\n",
    "# TODO: Write an if-statement to check the request status\n",
    "if res.status_code == 200:\n",
    "    #TODO: In case of success, read the retrieved data.\n",
    "    cars_data = res.json()\n",
    "    #TODO: Print the total number of the retrieved cars.\n",
    "    print('Total number of cars :', len(cars_data))\n",
    "    print()\n",
    "    print(cars_data)\n",
    "#TODO: In case of failure, print the status code.\n",
    "else:\n",
    "    print(f'API request failed with status code: {res.status_code}')\n",
    "\n",
    "    \n",
    "    \n"
   ]
  },
  {
   "cell_type": "markdown",
   "id": "746861b2-9f49-4693-a6f3-c351f6904c02",
   "metadata": {},
   "source": [
    "#### Handle JSON Data\n",
    "To get familiar with JSON data, let's do some processes on the car's data. JSON format is close to the dictionary format that you are familiar with. As you saw earlier, we can retrieve all cars at once. Hence, the data will come as a list of cars. To select a certain car, you can simply use the index to pick the corresponding car."
   ]
  },
  {
   "cell_type": "code",
   "execution_count": 44,
   "id": "7f8990de-6420-4427-b1de-7b902623a853",
   "metadata": {},
   "outputs": [
    {
     "name": "stdout",
     "output_type": "stream",
     "text": [
      "{'id': 4, 'make': 'Chevrolet', 'model': 'Equinox', 'year': 2019, 'color': 'Blue', 'mileage': 30000, 'price': 20000, 'fuelType': 'Gasoline', 'transmission': 'Automatic', 'engine': '1.5L 4-cylinder', 'horsepower': 170, 'features': ['Rearview Camera', 'Blind-Spot Monitoring', 'Wi-Fi Hotspot'], 'owners': 2, 'image': 'https://fakeimg.pl/500x500/0000ff'}\n"
     ]
    }
   ],
   "source": [
    "request_url='https://freetestapi.com/api/v1/cars'\n",
    "response = requests.get(request_url)\n",
    "\n",
    "if response.status_code == 200:\n",
    "    cars_data =response.json() \n",
    "else:\n",
    "    print(f\"Failed to retrieve data: {response.status_code}\") # In case of failure, display the request status error code. \n",
    "\n",
    "# Select the car at index 3.\n",
    "\n",
    "print(cars_data[3])"
   ]
  },
  {
   "cell_type": "markdown",
   "id": "fda5c7ea-1998-41bd-a40e-aedf1e3b2d1a",
   "metadata": {},
   "source": [
    "As you can see in the output, the car has various parameters. Check the below tables to know all available parameters:\n",
    "\n",
    "| id      | make   | model  | year   | color  | mileage |\n",
    "|---------|--------|--------|--------|--------|---------|\n",
    "| number  | string | string | number | string | number  |\n",
    "\n",
    "| price   | fuelType | transmission | engine | horsepower | features |\n",
    "|---------|----------|--------------|--------|------------|----------|\n",
    "| number  | string   | string       | string | number     | array    |\n",
    "\n",
    "| owners  | image   |\n",
    "|---------|---------|\n",
    "| number  | string  |\n",
    "\n"
   ]
  },
  {
   "cell_type": "code",
   "execution_count": 45,
   "id": "190bba05-1d01-45e9-ad00-5a01887f9d25",
   "metadata": {},
   "outputs": [
    {
     "name": "stdout",
     "output_type": "stream",
     "text": [
      "The car manufacturer is:  Chevrolet\n",
      "\n",
      "The car model is:  Equinox\n",
      "\n",
      "The car owners are:  2\n"
     ]
    }
   ],
   "source": [
    "print('The car manufacturer is: ', cars_data[3]['make'])\n",
    "\n",
    "print()\n",
    "\n",
    "print('The car model is: ', cars_data[3]['model'])\n",
    "\n",
    "print()\n",
    "\n",
    "print('The car owners are: ', cars_data[3]['owners'])"
   ]
  },
  {
   "cell_type": "markdown",
   "id": "0c3592a9-d8b5-4c26-bb67-6e79559c08ad",
   "metadata": {},
   "source": [
    "#### Practice Exercise\n",
    "\n",
    "As you are familiar with the API and JSON format, let's test what you learned in this exercise.  You will use a different API to extract data for movies. Each movie has a rating out of 10 and its genre (There can be more than one). As a data scientist, you want to know what type of movies your users give a high rating so that you can increase the number of these movies on your website. To do this analysis,  Complete the code in the next steps to achieve this goal.\n",
    "This exercise will test your capability to understand an existing code and appropriately modify it.  you should follow the following plan:\n",
    "\n",
    "**Q1**: Read all movies from the API and print successfuly tretrieved or failure message.\n",
    "The API link to extract all movies is `https://freetestapi.com/api/v1/movies`.\n",
    "\n",
    "**If your code is correct, the cell should print --> ***Retrieved successfuly***.**"
   ]
  },
  {
   "cell_type": "code",
   "execution_count": 46,
   "id": "ea1ac412",
   "metadata": {},
   "outputs": [
    {
     "name": "stdout",
     "output_type": "stream",
     "text": [
      "Retrieved successfuly\n"
     ]
    }
   ],
   "source": [
    "#Ans 1\n",
    "import requests\n",
    "\n",
    "# Add the API's link to access all movies.\n",
    "request_url = 'https://freetestapi.com/api/v1/movies'\n",
    "\n",
    "# Step 1: Send a request to retrieve all movies\n",
    "request_response = requests.get(request_url)\n",
    "\n",
    "# TODO: Check the request status\n",
    "if request_response.status_code == 200:\n",
    "    movies_data = request_response.json()\n",
    "    print(\"Retrieved successfuly\")\n",
    "else:\n",
    "    print(f\"Failed to retrieve data: {request_response.status_code}\")\n"
   ]
  },
  {
   "cell_type": "code",
   "execution_count": 47,
   "id": "5239a6a7",
   "metadata": {},
   "outputs": [
    {
     "data": {
      "text/plain": [
       "[{'id': 1,\n",
       "  'title': 'The Shawshank Redemption',\n",
       "  'year': 1994,\n",
       "  'genre': ['Drama'],\n",
       "  'rating': 9.3,\n",
       "  'director': 'Frank Darabont',\n",
       "  'actors': ['Tim Robbins', 'Morgan Freeman'],\n",
       "  'plot': 'Two imprisoned men bond over several years, finding solace and eventual redemption through acts of common decency.',\n",
       "  'poster': 'https://fakeimg.pl/220x310/ff0000',\n",
       "  'trailer': 'https://example.com/shawshank_redemption_trailer.mp4',\n",
       "  'runtime': 142,\n",
       "  'awards': 'Nominated for 7 Oscars',\n",
       "  'country': 'USA',\n",
       "  'language': 'English',\n",
       "  'boxOffice': '$28.3 million',\n",
       "  'production': 'Columbia Pictures',\n",
       "  'website': 'http://www.warnerbros.com/movies/shawshank-redemption'},\n",
       " {'id': 2,\n",
       "  'title': 'The Godfather',\n",
       "  'year': 1972,\n",
       "  'genre': ['Crime', 'Drama'],\n",
       "  'rating': 9.2,\n",
       "  'director': 'Francis Ford Coppola',\n",
       "  'actors': ['Marlon Brando', 'Al Pacino', 'James Caan'],\n",
       "  'plot': 'The aging patriarch of an organized crime dynasty transfers control of his clandestine empire to his reluctant son.',\n",
       "  'poster': 'https://fakeimg.pl/220x310/ffff00',\n",
       "  'trailer': 'https://example.com/the_godfather_trailer.mp4',\n",
       "  'runtime': 175,\n",
       "  'awards': 'Won 3 Oscars',\n",
       "  'country': 'USA',\n",
       "  'language': 'English',\n",
       "  'boxOffice': '$245.1 million',\n",
       "  'production': 'Paramount Pictures',\n",
       "  'website': 'https://www.paramountmovies.com/movies/the-godfather'},\n",
       " {'id': 3,\n",
       "  'title': 'The Dark Knight',\n",
       "  'year': 2008,\n",
       "  'genre': ['Action', 'Crime', 'Drama'],\n",
       "  'rating': 9,\n",
       "  'director': 'Christopher Nolan',\n",
       "  'actors': ['Christian Bale', 'Heath Ledger', 'Gary Oldman'],\n",
       "  'plot': 'When the menace known as the Joker wreaks havoc and chaos on the people of Gotham, Batman must accept one of the greatest psychological and physical tests of his ability to fight injustice.',\n",
       "  'poster': 'https://fakeimg.pl/220x310/ff00ff',\n",
       "  'trailer': 'https://example.com/the_dark_knight_trailer.mp4',\n",
       "  'runtime': 152,\n",
       "  'awards': 'Won 2 Oscars',\n",
       "  'country': 'USA',\n",
       "  'language': 'English',\n",
       "  'boxOffice': '$1.005 billion',\n",
       "  'production': 'Warner Bros. Pictures',\n",
       "  'website': 'https://www.warnerbros.com/movies/dark-knight'},\n",
       " {'id': 4,\n",
       "  'title': 'Pulp Fiction',\n",
       "  'year': 1994,\n",
       "  'genre': ['Crime', 'Drama'],\n",
       "  'rating': 8.9,\n",
       "  'director': 'Quentin Tarantino',\n",
       "  'actors': ['John Travolta', 'Uma Thurman', 'Samuel L. Jackson'],\n",
       "  'plot': \"The lives of two mob hitmen, a boxer, a gangster's wife, and a pair of diner bandits intertwine in four tales of violence and redemption.\",\n",
       "  'poster': 'https://fakeimg.pl/220x310/0000ff',\n",
       "  'trailer': 'https://example.com/pulp_fiction_trailer.mp4',\n",
       "  'runtime': 154,\n",
       "  'awards': 'Won 1 Oscar',\n",
       "  'country': 'USA',\n",
       "  'language': 'English',\n",
       "  'boxOffice': '$213.9 million',\n",
       "  'production': 'Miramax Films',\n",
       "  'website': 'https://www.miramax.com/movie/pulp-fiction'},\n",
       " {'id': 5,\n",
       "  'title': 'Forrest Gump',\n",
       "  'year': 1994,\n",
       "  'genre': ['Drama', 'Romance'],\n",
       "  'rating': 8.8,\n",
       "  'director': 'Robert Zemeckis',\n",
       "  'actors': ['Tom Hanks', 'Robin Wright', 'Gary Sinise'],\n",
       "  'plot': 'The presidencies of Kennedy and Johnson, the events of Vietnam, Watergate, and other historical events unfold through the perspective of an Alabama man with an IQ of 75.',\n",
       "  'poster': 'https://fakeimg.pl/220x310/ff00ff',\n",
       "  'trailer': 'https://example.com/forrest_gump_trailer.mp4',\n",
       "  'runtime': 142,\n",
       "  'awards': 'Won 6 Oscars',\n",
       "  'country': 'USA',\n",
       "  'language': 'English',\n",
       "  'boxOffice': '$677.9 million',\n",
       "  'production': 'Paramount Pictures',\n",
       "  'website': 'https://www.paramountmovies.com/movies/forrest-gump'},\n",
       " {'id': 6,\n",
       "  'title': 'Inception',\n",
       "  'year': 2010,\n",
       "  'genre': ['Action', 'Adventure', 'Sci-Fi'],\n",
       "  'rating': 8.8,\n",
       "  'director': 'Christopher Nolan',\n",
       "  'actors': ['Leonardo DiCaprio', 'Joseph Gordon-Levitt', 'Ellen Page'],\n",
       "  'plot': 'A thief who steals corporate secrets through the use of dream-sharing technology is given the inverse task of planting an idea into the mind of a C.E.O.',\n",
       "  'poster': 'https://fakeimg.pl/220x310/f8f8f8',\n",
       "  'trailer': 'https://example.com/inception_trailer.mp4',\n",
       "  'runtime': 148,\n",
       "  'awards': 'Won 4 Oscars',\n",
       "  'country': 'USA',\n",
       "  'language': 'English',\n",
       "  'boxOffice': '$829.9 million',\n",
       "  'production': 'Warner Bros. Pictures',\n",
       "  'website': 'https://www.warnerbros.com/movies/inception'},\n",
       " {'id': 7,\n",
       "  'title': 'The Matrix',\n",
       "  'year': 1999,\n",
       "  'genre': ['Action', 'Sci-Fi'],\n",
       "  'rating': 8.7,\n",
       "  'director': 'Lana Wachowski, Lilly Wachowski',\n",
       "  'actors': ['Keanu Reeves', 'Laurence Fishburne', 'Carrie-Anne Moss'],\n",
       "  'plot': 'A computer hacker learns from mysterious rebels about the true nature of his reality and his role in the war against its controllers.',\n",
       "  'poster': 'https://fakeimg.pl/220x310/f6f6f6',\n",
       "  'trailer': 'https://example.com/the_matrix_trailer.mp4',\n",
       "  'runtime': 136,\n",
       "  'awards': 'Won 4 Oscars',\n",
       "  'country': 'USA',\n",
       "  'language': 'English',\n",
       "  'boxOffice': '$463.5 million',\n",
       "  'production': 'Warner Bros. Pictures',\n",
       "  'website': 'https://www.warnerbros.com/movies/matrix'},\n",
       " {'id': 8,\n",
       "  'title': 'The Lord of the Rings: The Return of the King',\n",
       "  'year': 2003,\n",
       "  'genre': ['Adventure', 'Drama', 'Fantasy'],\n",
       "  'rating': 8.9,\n",
       "  'director': 'Peter Jackson',\n",
       "  'actors': ['Elijah Wood', 'Viggo Mortensen', 'Ian McKellen'],\n",
       "  'plot': \"Gandalf and Aragorn lead the World of Men against Sauron's army to draw his gaze from Frodo and Sam as they approach Mount Doom with the One Ring.\",\n",
       "  'poster': 'https://fakeimg.pl/220x310/ff00ff',\n",
       "  'trailer': 'https://example.com/lotr_return_of_the_king_trailer.mp4',\n",
       "  'runtime': 201,\n",
       "  'awards': 'Won 11 Oscars',\n",
       "  'country': 'USA',\n",
       "  'language': 'English',\n",
       "  'boxOffice': '$1.142 billion',\n",
       "  'production': 'New Line Cinema',\n",
       "  'website': 'https://www.lordoftherings.net/film/the-return-of-the-king'},\n",
       " {'id': 9,\n",
       "  'title': 'The Dark Knight Rises',\n",
       "  'year': 2012,\n",
       "  'genre': ['Action', 'Thriller'],\n",
       "  'rating': 8.4,\n",
       "  'director': 'Christopher Nolan',\n",
       "  'actors': ['Christian Bale', 'Tom Hardy'],\n",
       "  'plot': \"Eight years after the Joker's reign of anarchy, Batman is forced out of retirement to save Gotham City from the brutal guerrilla terrorist Bane.\",\n",
       "  'poster': 'https://fakeimg.pl/220x310/f6f6f6',\n",
       "  'trailer': 'https://example.com/the_dark_knight_rises_trailer.mp4',\n",
       "  'runtime': 165,\n",
       "  'awards': 'Nominated for 2 Oscars',\n",
       "  'country': 'USA',\n",
       "  'language': 'English',\n",
       "  'boxOffice': '$1.081 billion',\n",
       "  'production': 'Warner Bros. Pictures',\n",
       "  'website': 'http://www.warnerbros.com/movies/the-dark-knight-rises'},\n",
       " {'id': 10,\n",
       "  'title': 'Interstellar',\n",
       "  'year': 2014,\n",
       "  'genre': ['Adventure', 'Drama', 'Sci-Fi'],\n",
       "  'rating': 8.6,\n",
       "  'director': 'Christopher Nolan',\n",
       "  'actors': ['Matthew McConaughey', 'Anne Hathaway'],\n",
       "  'plot': \"A team of explorers travel through a wormhole in space in an attempt to ensure humanity's survival.\",\n",
       "  'poster': 'https://fakeimg.pl/220x310/0000ff',\n",
       "  'trailer': 'https://example.com/interstellar_trailer.mp4',\n",
       "  'runtime': 169,\n",
       "  'awards': 'Won 1 Oscar',\n",
       "  'country': 'USA',\n",
       "  'language': 'English',\n",
       "  'boxOffice': '$677.5 million',\n",
       "  'production': 'Paramount Pictures',\n",
       "  'website': 'http://www.paramount.com/movies/interstellar'},\n",
       " {'id': 11,\n",
       "  'title': 'Fight Club',\n",
       "  'year': 1999,\n",
       "  'genre': ['Drama'],\n",
       "  'rating': 8.8,\n",
       "  'director': 'David Fincher',\n",
       "  'actors': ['Brad Pitt', 'Edward Norton', 'Helena Bonham Carter'],\n",
       "  'plot': 'An insomniac office worker and a devil-may-care soapmaker form an underground fight club that evolves into something much, much more.',\n",
       "  'poster': 'https://fakeimg.pl/220x310/ff00ff',\n",
       "  'trailer': 'https://example.com/fight_club_trailer.mp4',\n",
       "  'runtime': 139,\n",
       "  'awards': 'Nominated for 1 Oscar',\n",
       "  'country': 'USA',\n",
       "  'language': 'English',\n",
       "  'boxOffice': '$100.9 million',\n",
       "  'production': '20th Century Fox',\n",
       "  'website': 'https://www.foxmovies.com/movies/fight-club'},\n",
       " {'id': 12,\n",
       "  'title': 'Gladiator',\n",
       "  'year': 2000,\n",
       "  'genre': ['Action', 'Adventure', 'Drama'],\n",
       "  'rating': 8.5,\n",
       "  'director': 'Ridley Scott',\n",
       "  'actors': ['Russell Crowe', 'Joaquin Phoenix', 'Connie Nielsen'],\n",
       "  'plot': 'A former Roman General sets out to exact vengeance against the corrupt emperor who murdered his family and sent him into slavery.',\n",
       "  'poster': 'https://fakeimg.pl/220x310/f8f8f8',\n",
       "  'trailer': 'https://example.com/gladiator_trailer.mp4',\n",
       "  'runtime': 155,\n",
       "  'awards': 'Won 5 Oscars',\n",
       "  'country': 'USA',\n",
       "  'language': 'English',\n",
       "  'boxOffice': '$460.5 million',\n",
       "  'production': 'DreamWorks Pictures',\n",
       "  'website': 'https://www.dreamworks.com/movies/gladiator'},\n",
       " {'id': 13,\n",
       "  'title': 'The Lord of the Rings: The Two Towers',\n",
       "  'year': 2002,\n",
       "  'genre': ['Adventure', 'Drama', 'Fantasy'],\n",
       "  'rating': 8.7,\n",
       "  'director': 'Peter Jackson',\n",
       "  'actors': ['Elijah Wood', 'Ian McKellen', 'Viggo Mortensen'],\n",
       "  'plot': \"While Frodo and Sam edge closer to Mordor with the help of the shifty Gollum, the divided fellowship makes a stand against Sauron's new ally, Saruman, and his hordes of Isengard.\",\n",
       "  'poster': 'https://fakeimg.pl/220x310/f6f6f6',\n",
       "  'trailer': 'https://example.com/lotr_two_towers_trailer.mp4',\n",
       "  'runtime': 179,\n",
       "  'awards': 'Won 2 Oscars',\n",
       "  'country': 'USA',\n",
       "  'language': 'English',\n",
       "  'boxOffice': '$951.2 million',\n",
       "  'production': 'New Line Cinema',\n",
       "  'website': 'https://www.lordoftherings.net/film/the-two-towers'},\n",
       " {'id': 14,\n",
       "  'title': 'The Silence of the Lambs',\n",
       "  'year': 1991,\n",
       "  'genre': ['Crime', 'Drama', 'Thriller'],\n",
       "  'rating': 8.6,\n",
       "  'director': 'Jonathan Demme',\n",
       "  'actors': ['Jodie Foster', 'Anthony Hopkins', 'Lawrence A. Bonney'],\n",
       "  'plot': 'A young F.B.I. cadet must receive the help of an incarcerated and manipulative cannibal killer to help catch another serial killer, a madman who skins his victims.',\n",
       "  'poster': 'https://fakeimg.pl/220x310/0000ff',\n",
       "  'trailer': 'https://example.com/silence_of_the_lambs_trailer.mp4',\n",
       "  'runtime': 118,\n",
       "  'awards': 'Won 5 Oscars',\n",
       "  'country': 'USA',\n",
       "  'language': 'English',\n",
       "  'boxOffice': '$272.7 million',\n",
       "  'production': 'Orion Pictures',\n",
       "  'website': 'https://www.mgm.com/movies/the-silence-of-the-lambs'},\n",
       " {'id': 15,\n",
       "  'title': 'The Departed',\n",
       "  'year': 2006,\n",
       "  'genre': ['Crime', 'Drama', 'Thriller'],\n",
       "  'rating': 8.5,\n",
       "  'director': 'Martin Scorsese',\n",
       "  'actors': ['Leonardo DiCaprio', 'Matt Damon', 'Jack Nicholson'],\n",
       "  'plot': 'An undercover cop and a mole in the police attempt to identify each other while infiltrating an Irish gang in South Boston.',\n",
       "  'poster': 'https://fakeimg.pl/220x310/00ff00',\n",
       "  'trailer': 'https://example.com/the_departed_trailer.mp4',\n",
       "  'runtime': 151,\n",
       "  'awards': 'Won 4 Oscars',\n",
       "  'country': 'USA',\n",
       "  'language': 'English',\n",
       "  'boxOffice': '$289.8 million',\n",
       "  'production': 'Warner Bros. Pictures',\n",
       "  'website': 'https://www.warnerbros.com/movies/departed'},\n",
       " {'id': 16,\n",
       "  'title': 'Saving Private Ryan',\n",
       "  'year': 1998,\n",
       "  'genre': ['Drama', 'War'],\n",
       "  'rating': 8.6,\n",
       "  'director': 'Steven Spielberg',\n",
       "  'actors': ['Tom Hanks', 'Matt Damon', 'Tom Sizemore'],\n",
       "  'plot': 'Following the Normandy Landings, a group of U.S. soldiers go behind enemy lines to retrieve a paratrooper whose brothers have been killed in action.',\n",
       "  'poster': 'https://fakeimg.pl/220x310/ff0000',\n",
       "  'trailer': 'https://example.com/saving_private_ryan_trailer.mp4',\n",
       "  'runtime': 169,\n",
       "  'awards': 'Won 5 Oscars',\n",
       "  'country': 'USA',\n",
       "  'language': 'English',\n",
       "  'boxOffice': '$482.3 million',\n",
       "  'production': 'DreamWorks Pictures',\n",
       "  'website': 'https://www.dreamworks.com/movies/saving-private-ryan'},\n",
       " {'id': 17,\n",
       "  'title': 'The Prestige',\n",
       "  'year': 2006,\n",
       "  'genre': ['Drama', 'Mystery', 'Sci-Fi'],\n",
       "  'rating': 8.5,\n",
       "  'director': 'Christopher Nolan',\n",
       "  'actors': ['Christian Bale', 'Hugh Jackman', 'Scarlett Johansson'],\n",
       "  'plot': 'After a tragic accident, two stage magicians engage in a battle to create the ultimate illusion while sacrificing everything they have to outwit each other.',\n",
       "  'poster': 'https://fakeimg.pl/220x310/0000ff',\n",
       "  'trailer': 'https://example.com/the_prestige_trailer.mp4',\n",
       "  'runtime': 130,\n",
       "  'awards': 'Nominated for 2 Oscars',\n",
       "  'country': 'USA',\n",
       "  'language': 'English',\n",
       "  'boxOffice': '$109.7 million',\n",
       "  'production': 'Warner Bros. Pictures',\n",
       "  'website': 'https://www.warnerbros.com/movies/prestige'},\n",
       " {'id': 18,\n",
       "  'title': 'Glory',\n",
       "  'year': 1989,\n",
       "  'genre': ['Drama', 'History', 'War'],\n",
       "  'rating': 7.8,\n",
       "  'director': 'Edward Zwick',\n",
       "  'actors': ['Matthew Broderick', 'Denzel Washington', 'Cary Elwes'],\n",
       "  'plot': \"Robert Gould Shaw leads the U.S. Civil War's first all-black volunteer company, fighting prejudices from both his own Union Army and the Confederates.\",\n",
       "  'poster': 'https://fakeimg.pl/220x310/00ff00',\n",
       "  'trailer': 'https://example.com/glory_trailer.mp4',\n",
       "  'runtime': 122,\n",
       "  'awards': 'Won 3 Oscars',\n",
       "  'country': 'USA',\n",
       "  'language': 'English',\n",
       "  'boxOffice': '$26.8 million',\n",
       "  'production': 'TriStar Pictures',\n",
       "  'website': 'https://www.sonypictures.com/movies/glory'},\n",
       " {'id': 19,\n",
       "  'title': 'The Avengers',\n",
       "  'year': 2012,\n",
       "  'genre': ['Action', 'Adventure', 'Sci-Fi'],\n",
       "  'rating': 8,\n",
       "  'director': 'Joss Whedon',\n",
       "  'actors': ['Robert Downey Jr.', 'Chris Evans', 'Mark Ruffalo'],\n",
       "  'plot': \"Earth's mightiest heroes must come together and learn to fight as a team if they are going to stop the mischievous Loki and his alien army from enslaving humanity.\",\n",
       "  'poster': 'https://fakeimg.pl/220x310/ff0000',\n",
       "  'trailer': 'https://example.com/the_avengers_trailer.mp4',\n",
       "  'runtime': 143,\n",
       "  'awards': 'Nominated for 1 Oscar',\n",
       "  'country': 'USA',\n",
       "  'language': 'English',\n",
       "  'boxOffice': '$1.518 billion',\n",
       "  'production': 'Marvel Studios',\n",
       "  'website': 'https://www.marvel.com/movies/the-avengers'},\n",
       " {'id': 20,\n",
       "  'title': 'The Lion King',\n",
       "  'year': 1994,\n",
       "  'genre': ['Animation', 'Adventure', 'Drama'],\n",
       "  'rating': 8.5,\n",
       "  'director': 'Roger Allers, Rob Minkoff',\n",
       "  'actors': ['Matthew Broderick', 'Jeremy Irons', 'James Earl Jones'],\n",
       "  'plot': 'Lion prince Simba and his father are targeted by his bitter uncle, who wants to ascend the throne himself.',\n",
       "  'poster': 'https://fakeimg.pl/220x310/0000ff',\n",
       "  'trailer': 'https://example.com/the_lion_king_trailer.mp4',\n",
       "  'runtime': 88,\n",
       "  'awards': 'Won 2 Oscars',\n",
       "  'country': 'USA',\n",
       "  'language': 'English',\n",
       "  'boxOffice': '$968.5 million',\n",
       "  'production': 'Walt Disney Pictures',\n",
       "  'website': 'https://movies.disney.com/the-lion-king'}]"
      ]
     },
     "execution_count": 47,
     "metadata": {},
     "output_type": "execute_result"
    }
   ],
   "source": [
    "movies_data"
   ]
  },
  {
   "cell_type": "markdown",
   "id": "60c5cab5",
   "metadata": {},
   "source": [
    "**Q2**: Iterate over the movies and use a proper data structure that helps in the analysis process. In this case, a dictionary is the most suitable data structure to hold each genre with its assigned ratings.\n",
    "\n",
    "**Expected output should be:** Modify the code accordingly.\n",
    "```\n",
    "{'Drama': [9.3, 9.2, 9, 8.9, 8.8, 8.9, 8.6, 8.8, 8.5, 8.7, 8.6, 8.5, 8.6, 8.5, 7.8, 8.5], 'Crime': [9.2, 9, 8.9, 8.6, 8.5], 'Action': [9, 8.8, 8.7, 8.4, 8.5, 8], 'Romance': [8.8], 'Adventure': [8.8, 8.9, 8.6, 8.5, 8.7, 8, 8.5], 'Sci-Fi': [8.8, 8.7, 8.6, 8.5, 8], 'Fantasy': [8.9, 8.7], 'Thriller': [8.4, 8.6, 8.5], 'War': [8.6, 7.8], 'Mystery': [8.5], 'History': [7.8], 'Animation': [8.5]}\n",
    "```"
   ]
  },
  {
   "cell_type": "code",
   "execution_count": 48,
   "id": "540a0e52-b02e-4844-89f0-899b64f6da56",
   "metadata": {},
   "outputs": [
    {
     "name": "stdout",
     "output_type": "stream",
     "text": [
      "All genres and their ratings:\n",
      "\n",
      " {'Drama': [9.3, 9.2, 9, 8.9, 8.8, 8.9, 8.6, 8.8, 8.5, 8.7, 8.6, 8.5, 8.6, 8.5, 7.8, 8.5], 'Crime': [9.2, 9, 8.9, 8.6, 8.5], 'Action': [9, 8.8, 8.7, 8.4, 8.5, 8], 'Romance': [8.8], 'Adventure': [8.8, 8.9, 8.6, 8.5, 8.7, 8, 8.5], 'Sci-Fi': [8.8, 8.7, 8.6, 8.5, 8], 'Fantasy': [8.9, 8.7], 'Thriller': [8.4, 8.6, 8.5], 'War': [8.6, 7.8], 'Mystery': [8.5], 'History': [7.8], 'Animation': [8.5]}\n"
     ]
    }
   ],
   "source": [
    "\n",
    "# Ans 2: Iterate over all movies\n",
    "# The dictionary keys should be all possible genres, and the values should be a list of all ratings given to each genre.\n",
    "\n",
    "movies_genres_dict = dict()\n",
    "\n",
    "for movie_data in movies_data:\n",
    "    # Read the movie rating\n",
    "    movie_rating = movie_data['rating']\n",
    "    # Read the movie genres. Note that it could be more than one, you have to iterate over them\n",
    "    movie_genres = movie_data['genre']\n",
    "    for genre in movie_genres:\n",
    "        if genre in movies_genres_dict: # If the genre is found before, just add the movie rating to its list\n",
    "            movies_genres_dict[genre].append(movie_rating)\n",
    "        else: # Otherwise, create a list with the current movie rating\n",
    "            movies_genres_dict[genre]= [movie_rating]\n",
    "\n",
    "print('All genres and their ratings:\\n\\n', movies_genres_dict)"
   ]
  },
  {
   "cell_type": "markdown",
   "id": "a90011c6",
   "metadata": {},
   "source": [
    "\n",
    "Use a histogram to plot each genre with its ratings.\n"
   ]
  },
  {
   "cell_type": "markdown",
   "id": "012cf1d5-387f-4457-904d-284951ae6d07",
   "metadata": {},
   "source": [
    "Run below code to display histogram for each genre."
   ]
  },
  {
   "cell_type": "code",
   "execution_count": 49,
   "id": "609c6d5f-a028-4673-8396-8e3ff6810437",
   "metadata": {},
   "outputs": [
    {
     "data": {
      "image/png": "[encoded data removed]",
      "text/plain": [
       "<Figure size 1500x1000 with 12 Axes>"
      ]
     },
     "metadata": {},
     "output_type": "display_data"
    }
   ],
   "source": [
    "import matplotlib.pyplot as plt\n",
    "\n",
    "total_figurs = len(movies_genres_dict) # Total number of genres\n",
    "plt.figure(figsize=(15, 10))\n",
    "\n",
    "for idx, genre in enumerate(movies_genres_dict.keys()):\n",
    "    plt.subplot(int(total_figurs/3),3 ,idx+1)\n",
    "    plt.title(genre)\n",
    "    plt.xlabel('Rating')\n",
    "    plt.ylabel('Number of users')\n",
    "    plt.hist(movies_genres_dict[genre], color='blue', edgecolor='black')\n",
    "    plt.xticks(range(8, 11))\n",
    "    plt.yticks(range(0, 5))\n",
    "plt.tight_layout()"
   ]
  },
  {
   "cell_type": "markdown",
   "id": "cb352c47-553c-4678-96b6-cc0a9a5fa99f",
   "metadata": {},
   "source": [
    "**Q3** From the histograms, which movie type do your users like the most?"
   ]
  },
  {
   "cell_type": "markdown",
   "id": "fe13822b",
   "metadata": {},
   "source": [
    "Drama"
   ]
  },
  {
   "cell_type": "markdown",
   "id": "2c2a6aeb",
   "metadata": {},
   "source": [
    "### Task 2: Data from CSV file: Introduction\n",
    "As a **biomedical Engieer researcher**, you have been given a dataset \"diabetes.csv. The objective of the dataset is to diagnostically predict whether or not a patient has diabetes, based on certain diagnostic measurements included in the dataset.  In particular, all patients here are females at least 21 years old. The datasets consists of several medical predictor variables and one target variable, Outcome which is whether the patient is diagnosed with diabetes (1) or not (0). Predictor variables includes:\n",
    "\n",
    "* **Pregnancies**: Number of pregnancies the patient has had\n",
    "* **Glucose**: Plasma glucose concentration a 2 hours in an oral glucose tolerance test\n",
    "* **BloodPressure**: Diastolic blood pressure (mm Hg)\n",
    "* **SkinThickness**: Triceps skin fold thickness (mm)\n",
    "* **Insulin**: 2-Hour serum insulin (mu U/ml)\n",
    "* **BMI**: Body mass index (weight in kg/(height in m)^2)\n",
    "* **DiabetesPedigreeFunction**: Diabetes pedigree function\n",
    "* **Age**: Age (years)\n",
    "* **Outcome**: Class variable (0 or 1)\n",
    "\n",
    "Your work will invlove the follwoing reading data, conduct exploratory data analysis, use statistical analysis and data visualization. In addition to investigating the correlation between data in the dataset. \n",
    "\n",
    "The main purpose of studying the correlation is to determine robust metrics in the dataset that could potentially help to identify whether or not the patients have diabetes. Column `Outcome` contains either `1`, as an indication of having diabetes, or `0`, as an indication of healthy patient. Given details of the metrics/features (columns) included in the dataset, you will measure the correlation between the features, visualize the correlation, and perform some analysis about the outcome. \n",
    "\n",
    "You may need to use libraries and packages such as pandas for reading data and statistics functions, matplotlib for data visualization and seaborn for visulizing the correlation among features.\n"
   ]
  },
  {
   "cell_type": "markdown",
   "id": "c884ce5f",
   "metadata": {},
   "source": [
    "### Lab Task:\n",
    "Follow the steps below and answer all questions."
   ]
  },
  {
   "cell_type": "markdown",
   "id": "12c880b8",
   "metadata": {},
   "source": [
    "**Q1. Import libraries**"
   ]
  },
  {
   "cell_type": "code",
   "execution_count": 50,
   "id": "488d1c9b",
   "metadata": {},
   "outputs": [],
   "source": [
    "import pandas as pd\n",
    "import matplotlib.pyplot as plt"
   ]
  },
  {
   "cell_type": "markdown",
   "id": "2089b63c",
   "metadata": {},
   "source": [
    "**Q2. Read dataset  diabetes.csv**"
   ]
  },
  {
   "cell_type": "code",
   "execution_count": 51,
   "id": "243c9687",
   "metadata": {},
   "outputs": [],
   "source": [
    "diabetes=pd.read_csv('diabetes.csv')"
   ]
  },
  {
   "cell_type": "markdown",
   "id": "b163735a",
   "metadata": {},
   "source": [
    "**Q3. Show head and tail of your data set**"
   ]
  },
  {
   "cell_type": "code",
   "execution_count": 52,
   "id": "aaf08a40",
   "metadata": {},
   "outputs": [
    {
     "name": "stdout",
     "output_type": "stream",
     "text": [
      "   Pregnancies  Glucose  BloodPressure  SkinThickness  Insulin   BMI  \\\n",
      "0            6      148             72             35        0  33.6   \n",
      "1            1       85             66             29        0  26.6   \n",
      "2            8      183             64              0        0  23.3   \n",
      "3            1       89             66             23       94  28.1   \n",
      "4            0      137             40             35      168  43.1   \n",
      "\n",
      "   DiabetesPedigreeFunction  Age  Outcome  \n",
      "0                     0.627   50        1  \n",
      "1                     0.351   31        0  \n",
      "2                     0.672   32        1  \n",
      "3                     0.167   21        0  \n",
      "4                     2.288   33        1  \n",
      "     Pregnancies  Glucose  BloodPressure  SkinThickness  Insulin   BMI  \\\n",
      "763           10      101             76             48      180  32.9   \n",
      "764            2      122             70             27        0  36.8   \n",
      "765            5      121             72             23      112  26.2   \n",
      "766            1      126             60              0        0  30.1   \n",
      "767            1       93             70             31        0  30.4   \n",
      "\n",
      "     DiabetesPedigreeFunction  Age  Outcome  \n",
      "763                     0.171   63        0  \n",
      "764                     0.340   27        0  \n",
      "765                     0.245   30        0  \n",
      "766                     0.349   47        1  \n",
      "767                     0.315   23        0  \n"
     ]
    }
   ],
   "source": [
    "print(diabetes.head())\n",
    "print(diabetes.tail())"
   ]
  },
  {
   "cell_type": "markdown",
   "id": "4ad3d8ab",
   "metadata": {},
   "source": [
    "**Q4. Show all coloums' names**"
   ]
  },
  {
   "cell_type": "code",
   "execution_count": 53,
   "id": "3fabd89d",
   "metadata": {},
   "outputs": [
    {
     "data": {
      "text/plain": [
       "Index(['Pregnancies', 'Glucose', 'BloodPressure', 'SkinThickness', 'Insulin',\n",
       "       'BMI', 'DiabetesPedigreeFunction', 'Age', 'Outcome'],\n",
       "      dtype='object')"
      ]
     },
     "execution_count": 53,
     "metadata": {},
     "output_type": "execute_result"
    }
   ],
   "source": [
    "diabetes.columns"
   ]
  },
  {
   "cell_type": "markdown",
   "id": "5d611880",
   "metadata": {},
   "source": [
    "**Q5. How many rows do we have in our data set**"
   ]
  },
  {
   "cell_type": "code",
   "execution_count": 54,
   "id": "c5c2253b",
   "metadata": {},
   "outputs": [
    {
     "data": {
      "text/plain": [
       "768"
      ]
     },
     "execution_count": 54,
     "metadata": {},
     "output_type": "execute_result"
    }
   ],
   "source": [
    "diabetes.shape[0]"
   ]
  },
  {
   "cell_type": "markdown",
   "id": "9d173e69",
   "metadata": {},
   "source": [
    " **Q6. Find the Maxium Glucose Level**"
   ]
  },
  {
   "cell_type": "code",
   "execution_count": 55,
   "id": "76ffc60c",
   "metadata": {},
   "outputs": [
    {
     "data": {
      "text/plain": [
       "199"
      ]
     },
     "execution_count": 55,
     "metadata": {},
     "output_type": "execute_result"
    }
   ],
   "source": [
    "diabetes['Glucose'].max()"
   ]
  },
  {
   "cell_type": "markdown",
   "id": "9b0e1dfc",
   "metadata": {},
   "source": [
    "**Q7. Find the Minimum Glucose Level**"
   ]
  },
  {
   "cell_type": "code",
   "execution_count": 56,
   "id": "beb79806",
   "metadata": {},
   "outputs": [
    {
     "data": {
      "text/plain": [
       "0"
      ]
     },
     "execution_count": 56,
     "metadata": {},
     "output_type": "execute_result"
    }
   ],
   "source": [
    "diabetes['Glucose'].min()"
   ]
  },
  {
   "cell_type": "markdown",
   "id": "89e642cb",
   "metadata": {},
   "source": [
    "  **8. Find the mean of Glucose.** \n",
    "\n",
    "  Hint: Call `mean()` to compute the mean of a column."
   ]
  },
  {
   "cell_type": "code",
   "execution_count": 57,
   "id": "b39206e0",
   "metadata": {},
   "outputs": [
    {
     "data": {
      "text/plain": [
       "120.89453125"
      ]
     },
     "execution_count": 57,
     "metadata": {},
     "output_type": "execute_result"
    }
   ],
   "source": [
    "diabetes['Glucose'].mean()"
   ]
  },
  {
   "cell_type": "markdown",
   "id": "bae9f7bd",
   "metadata": {},
   "source": [
    "**9. Find the median of Glucose.**\n",
    "\n",
    "Hint: Call `median()` to compute the median of a column."
   ]
  },
  {
   "cell_type": "code",
   "execution_count": 58,
   "id": "d56bba7e",
   "metadata": {},
   "outputs": [
    {
     "data": {
      "text/plain": [
       "117.0"
      ]
     },
     "execution_count": 58,
     "metadata": {},
     "output_type": "execute_result"
    }
   ],
   "source": [
    "diabetes['Glucose'].median()"
   ]
  },
  {
   "cell_type": "markdown",
   "id": "5cb236b3",
   "metadata": {},
   "source": [
    "**Q10. Find the variance of Glucose.**  \n",
    "\n",
    "Hint: Call `var()` to compute the variance of a column."
   ]
  },
  {
   "cell_type": "code",
   "execution_count": 59,
   "id": "3dc21e34",
   "metadata": {},
   "outputs": [
    {
     "data": {
      "text/plain": [
       "1022.2483142519557"
      ]
     },
     "execution_count": 59,
     "metadata": {},
     "output_type": "execute_result"
    }
   ],
   "source": [
    "diabetes['Glucose'].var()"
   ]
  },
  {
   "cell_type": "markdown",
   "id": "f0db6261",
   "metadata": {},
   "source": [
    "**Q11.Find the age and BMI of maximum Glucose patient.** "
   ]
  },
  {
   "cell_type": "code",
   "execution_count": 60,
   "id": "b5f89f60",
   "metadata": {},
   "outputs": [
    {
     "name": "stdout",
     "output_type": "stream",
     "text": [
      "The age of the person with the highest glucose level is: 22\n",
      "The BMI of the person with the highest glucose level is: 42.9\n"
     ]
    }
   ],
   "source": [
    "age = diabetes[diabetes['Glucose'].max() == diabetes['Glucose']]['Age']\n",
    "bmi = diabetes[diabetes['Glucose'].max() == diabetes['Glucose']]['BMI']\n",
    "print('The age of the person with the highest glucose level is:', age.values[0])\n",
    "print('The BMI of the person with the highest glucose level is:', bmi.values[0])"
   ]
  },
  {
   "cell_type": "markdown",
   "id": "b079ba2a",
   "metadata": {},
   "source": [
    "**Q12. Generating summery of diabetes statistics for all using the method `describe()`**"
   ]
  },
  {
   "cell_type": "code",
   "execution_count": 61,
   "id": "de278896",
   "metadata": {},
   "outputs": [
    {
     "data": {
      "text/html": [
       "<div>\n",
       "<style scoped>\n",
       "    .dataframe tbody tr th:only-of-type {\n",
       "        vertical-align: middle;\n",
       "    }\n",
       "\n",
       "    .dataframe tbody tr th {\n",
       "        vertical-align: top;\n",
       "    }\n",
       "\n",
       "    .dataframe thead th {\n",
       "        text-align: right;\n",
       "    }\n",
       "</style>\n",
       "<table border=\"1\" class=\"dataframe\">\n",
       "  <thead>\n",
       "    <tr style=\"text-align: right;\">\n",
       "      <th></th>\n",
       "      <th>Pregnancies</th>\n",
       "      <th>Glucose</th>\n",
       "      <th>BloodPressure</th>\n",
       "      <th>SkinThickness</th>\n",
       "      <th>Insulin</th>\n",
       "      <th>BMI</th>\n",
       "      <th>DiabetesPedigreeFunction</th>\n",
       "      <th>Age</th>\n",
       "      <th>Outcome</th>\n",
       "    </tr>\n",
       "  </thead>\n",
       "  <tbody>\n",
       "    <tr>\n",
       "      <th>count</th>\n",
       "      <td>768.000000</td>\n",
       "      <td>768.000000</td>\n",
       "      <td>768.000000</td>\n",
       "      <td>768.000000</td>\n",
       "      <td>768.000000</td>\n",
       "      <td>768.000000</td>\n",
       "      <td>768.000000</td>\n",
       "      <td>768.000000</td>\n",
       "      <td>768.000000</td>\n",
       "    </tr>\n",
       "    <tr>\n",
       "      <th>mean</th>\n",
       "      <td>3.845052</td>\n",
       "      <td>120.894531</td>\n",
       "      <td>69.105469</td>\n",
       "      <td>20.536458</td>\n",
       "      <td>79.799479</td>\n",
       "      <td>31.992578</td>\n",
       "      <td>0.471876</td>\n",
       "      <td>33.240885</td>\n",
       "      <td>0.348958</td>\n",
       "    </tr>\n",
       "    <tr>\n",
       "      <th>std</th>\n",
       "      <td>3.369578</td>\n",
       "      <td>31.972618</td>\n",
       "      <td>19.355807</td>\n",
       "      <td>15.952218</td>\n",
       "      <td>115.244002</td>\n",
       "      <td>7.884160</td>\n",
       "      <td>0.331329</td>\n",
       "      <td>11.760232</td>\n",
       "      <td>0.476951</td>\n",
       "    </tr>\n",
       "    <tr>\n",
       "      <th>min</th>\n",
       "      <td>0.000000</td>\n",
       "      <td>0.000000</td>\n",
       "      <td>0.000000</td>\n",
       "      <td>0.000000</td>\n",
       "      <td>0.000000</td>\n",
       "      <td>0.000000</td>\n",
       "      <td>0.078000</td>\n",
       "      <td>21.000000</td>\n",
       "      <td>0.000000</td>\n",
       "    </tr>\n",
       "    <tr>\n",
       "      <th>25%</th>\n",
       "      <td>1.000000</td>\n",
       "      <td>99.000000</td>\n",
       "      <td>62.000000</td>\n",
       "      <td>0.000000</td>\n",
       "      <td>0.000000</td>\n",
       "      <td>27.300000</td>\n",
       "      <td>0.243750</td>\n",
       "      <td>24.000000</td>\n",
       "      <td>0.000000</td>\n",
       "    </tr>\n",
       "    <tr>\n",
       "      <th>50%</th>\n",
       "      <td>3.000000</td>\n",
       "      <td>117.000000</td>\n",
       "      <td>72.000000</td>\n",
       "      <td>23.000000</td>\n",
       "      <td>30.500000</td>\n",
       "      <td>32.000000</td>\n",
       "      <td>0.372500</td>\n",
       "      <td>29.000000</td>\n",
       "      <td>0.000000</td>\n",
       "    </tr>\n",
       "    <tr>\n",
       "      <th>75%</th>\n",
       "      <td>6.000000</td>\n",
       "      <td>140.250000</td>\n",
       "      <td>80.000000</td>\n",
       "      <td>32.000000</td>\n",
       "      <td>127.250000</td>\n",
       "      <td>36.600000</td>\n",
       "      <td>0.626250</td>\n",
       "      <td>41.000000</td>\n",
       "      <td>1.000000</td>\n",
       "    </tr>\n",
       "    <tr>\n",
       "      <th>max</th>\n",
       "      <td>17.000000</td>\n",
       "      <td>199.000000</td>\n",
       "      <td>122.000000</td>\n",
       "      <td>99.000000</td>\n",
       "      <td>846.000000</td>\n",
       "      <td>67.100000</td>\n",
       "      <td>2.420000</td>\n",
       "      <td>81.000000</td>\n",
       "      <td>1.000000</td>\n",
       "    </tr>\n",
       "  </tbody>\n",
       "</table>\n",
       "</div>"
      ],
      "text/plain": [
       "       Pregnancies     Glucose  BloodPressure  SkinThickness     Insulin  \\\n",
       "count   768.000000  768.000000     768.000000     768.000000  768.000000   \n",
       "mean      3.845052  120.894531      69.105469      20.536458   79.799479   \n",
       "std       3.369578   31.972618      19.355807      15.952218  115.244002   \n",
       "min       0.000000    0.000000       0.000000       0.000000    0.000000   \n",
       "25%       1.000000   99.000000      62.000000       0.000000    0.000000   \n",
       "50%       3.000000  117.000000      72.000000      23.000000   30.500000   \n",
       "75%       6.000000  140.250000      80.000000      32.000000  127.250000   \n",
       "max      17.000000  199.000000     122.000000      99.000000  846.000000   \n",
       "\n",
       "              BMI  DiabetesPedigreeFunction         Age     Outcome  \n",
       "count  768.000000                768.000000  768.000000  768.000000  \n",
       "mean    31.992578                  0.471876   33.240885    0.348958  \n",
       "std      7.884160                  0.331329   11.760232    0.476951  \n",
       "min      0.000000                  0.078000   21.000000    0.000000  \n",
       "25%     27.300000                  0.243750   24.000000    0.000000  \n",
       "50%     32.000000                  0.372500   29.000000    0.000000  \n",
       "75%     36.600000                  0.626250   41.000000    1.000000  \n",
       "max     67.100000                  2.420000   81.000000    1.000000  "
      ]
     },
     "execution_count": 61,
     "metadata": {},
     "output_type": "execute_result"
    }
   ],
   "source": [
    "diabetes.describe()"
   ]
  },
  {
   "cell_type": "markdown",
   "id": "25f3d4ab",
   "metadata": {},
   "source": [
    "**Q13. Plot a histogram to show the frequency of people at each of 20 ranges (bins) of glucose level.**\n",
    "\n",
    "Hint:\n",
    "```python\n",
    "plt.hist(column_data, bins=20, color='blue', edgecolor='black')\n",
    "\n",
    "```"
   ]
  },
  {
   "cell_type": "code",
   "execution_count": 62,
   "id": "89043ace",
   "metadata": {},
   "outputs": [
    {
     "data": {
      "image/png": "[encoded data removed]",
      "text/plain": [
       "<Figure size 640x480 with 1 Axes>"
      ]
     },
     "metadata": {},
     "output_type": "display_data"
    }
   ],
   "source": [
    "\n",
    "# TODO: Use hist() function to draw a histogram of the glucose column\n",
    "plt.hist(diabetes['Glucose'], bins=20, color='blue', edgecolor='black')\n",
    "\n",
    "# TODO: Write a proper title.\n",
    "plt.title('Glucose levels distribution')\n",
    "\n",
    "# TODO: Write a proper label for x-axis\n",
    "plt.xlabel('Glucose levels')\n",
    "\n",
    "# TODO: Write a proper label for y-axis\n",
    "plt.ylabel('Count')\n",
    "\n",
    "# Display the output\n",
    "plt.show()"
   ]
  },
  {
   "cell_type": "markdown",
   "id": "cb203f44",
   "metadata": {},
   "source": [
    "**Q14. Answer the follwoing questions in the same cell**\n",
    "\n",
    "* In which range of glucose readings do you find the highest frequency? Why do yo think it is so?\n",
    "from 100-125\n",
    "\n",
    "* What do you think about the minimum Glucose values?\n",
    "0\n",
    "\n",
    "* Do you think these are realistic values?\n",
    "yes as the normal glucose level is between 70-100\n",
    "\n",
    "* What do we need to do to make the statistics better?\n",
    "we can can gather more data to limit some of the bias presented"
   ]
  },
  {
   "cell_type": "markdown",
   "id": "4f8b87d9",
   "metadata": {},
   "source": [
    "**Q15.  Covariance: One metric to get inituition about the relation between the features in the dataset is covariance matrix. Use `.cov()` function to compute the covariance matrix.**"
   ]
  },
  {
   "cell_type": "code",
   "execution_count": 63,
   "id": "0ca83107",
   "metadata": {},
   "outputs": [
    {
     "data": {
      "text/html": [
       "<div>\n",
       "<style scoped>\n",
       "    .dataframe tbody tr th:only-of-type {\n",
       "        vertical-align: middle;\n",
       "    }\n",
       "\n",
       "    .dataframe tbody tr th {\n",
       "        vertical-align: top;\n",
       "    }\n",
       "\n",
       "    .dataframe thead th {\n",
       "        text-align: right;\n",
       "    }\n",
       "</style>\n",
       "<table border=\"1\" class=\"dataframe\">\n",
       "  <thead>\n",
       "    <tr style=\"text-align: right;\">\n",
       "      <th></th>\n",
       "      <th>Pregnancies</th>\n",
       "      <th>Glucose</th>\n",
       "      <th>BloodPressure</th>\n",
       "      <th>SkinThickness</th>\n",
       "      <th>Insulin</th>\n",
       "      <th>BMI</th>\n",
       "      <th>DiabetesPedigreeFunction</th>\n",
       "      <th>Age</th>\n",
       "      <th>Outcome</th>\n",
       "    </tr>\n",
       "  </thead>\n",
       "  <tbody>\n",
       "    <tr>\n",
       "      <th>Pregnancies</th>\n",
       "      <td>11.354056</td>\n",
       "      <td>13.947131</td>\n",
       "      <td>9.214538</td>\n",
       "      <td>-4.390041</td>\n",
       "      <td>-28.555231</td>\n",
       "      <td>0.469774</td>\n",
       "      <td>-0.037426</td>\n",
       "      <td>21.570620</td>\n",
       "      <td>0.356618</td>\n",
       "    </tr>\n",
       "    <tr>\n",
       "      <th>Glucose</th>\n",
       "      <td>13.947131</td>\n",
       "      <td>1022.248314</td>\n",
       "      <td>94.430956</td>\n",
       "      <td>29.239183</td>\n",
       "      <td>1220.935799</td>\n",
       "      <td>55.726987</td>\n",
       "      <td>1.454875</td>\n",
       "      <td>99.082805</td>\n",
       "      <td>7.115079</td>\n",
       "    </tr>\n",
       "    <tr>\n",
       "      <th>BloodPressure</th>\n",
       "      <td>9.214538</td>\n",
       "      <td>94.430956</td>\n",
       "      <td>374.647271</td>\n",
       "      <td>64.029396</td>\n",
       "      <td>198.378412</td>\n",
       "      <td>43.004695</td>\n",
       "      <td>0.264638</td>\n",
       "      <td>54.523453</td>\n",
       "      <td>0.600697</td>\n",
       "    </tr>\n",
       "    <tr>\n",
       "      <th>SkinThickness</th>\n",
       "      <td>-4.390041</td>\n",
       "      <td>29.239183</td>\n",
       "      <td>64.029396</td>\n",
       "      <td>254.473245</td>\n",
       "      <td>802.979941</td>\n",
       "      <td>49.373869</td>\n",
       "      <td>0.972136</td>\n",
       "      <td>-21.381023</td>\n",
       "      <td>0.568747</td>\n",
       "    </tr>\n",
       "    <tr>\n",
       "      <th>Insulin</th>\n",
       "      <td>-28.555231</td>\n",
       "      <td>1220.935799</td>\n",
       "      <td>198.378412</td>\n",
       "      <td>802.979941</td>\n",
       "      <td>13281.180078</td>\n",
       "      <td>179.775172</td>\n",
       "      <td>7.066681</td>\n",
       "      <td>-57.143290</td>\n",
       "      <td>7.175671</td>\n",
       "    </tr>\n",
       "    <tr>\n",
       "      <th>BMI</th>\n",
       "      <td>0.469774</td>\n",
       "      <td>55.726987</td>\n",
       "      <td>43.004695</td>\n",
       "      <td>49.373869</td>\n",
       "      <td>179.775172</td>\n",
       "      <td>62.159984</td>\n",
       "      <td>0.367405</td>\n",
       "      <td>3.360330</td>\n",
       "      <td>1.100638</td>\n",
       "    </tr>\n",
       "    <tr>\n",
       "      <th>DiabetesPedigreeFunction</th>\n",
       "      <td>-0.037426</td>\n",
       "      <td>1.454875</td>\n",
       "      <td>0.264638</td>\n",
       "      <td>0.972136</td>\n",
       "      <td>7.066681</td>\n",
       "      <td>0.367405</td>\n",
       "      <td>0.109779</td>\n",
       "      <td>0.130772</td>\n",
       "      <td>0.027472</td>\n",
       "    </tr>\n",
       "    <tr>\n",
       "      <th>Age</th>\n",
       "      <td>21.570620</td>\n",
       "      <td>99.082805</td>\n",
       "      <td>54.523453</td>\n",
       "      <td>-21.381023</td>\n",
       "      <td>-57.143290</td>\n",
       "      <td>3.360330</td>\n",
       "      <td>0.130772</td>\n",
       "      <td>138.303046</td>\n",
       "      <td>1.336953</td>\n",
       "    </tr>\n",
       "    <tr>\n",
       "      <th>Outcome</th>\n",
       "      <td>0.356618</td>\n",
       "      <td>7.115079</td>\n",
       "      <td>0.600697</td>\n",
       "      <td>0.568747</td>\n",
       "      <td>7.175671</td>\n",
       "      <td>1.100638</td>\n",
       "      <td>0.027472</td>\n",
       "      <td>1.336953</td>\n",
       "      <td>0.227483</td>\n",
       "    </tr>\n",
       "  </tbody>\n",
       "</table>\n",
       "</div>"
      ],
      "text/plain": [
       "                          Pregnancies      Glucose  BloodPressure  \\\n",
       "Pregnancies                 11.354056    13.947131       9.214538   \n",
       "Glucose                     13.947131  1022.248314      94.430956   \n",
       "BloodPressure                9.214538    94.430956     374.647271   \n",
       "SkinThickness               -4.390041    29.239183      64.029396   \n",
       "Insulin                    -28.555231  1220.935799     198.378412   \n",
       "BMI                          0.469774    55.726987      43.004695   \n",
       "DiabetesPedigreeFunction    -0.037426     1.454875       0.264638   \n",
       "Age                         21.570620    99.082805      54.523453   \n",
       "Outcome                      0.356618     7.115079       0.600697   \n",
       "\n",
       "                          SkinThickness       Insulin         BMI  \\\n",
       "Pregnancies                   -4.390041    -28.555231    0.469774   \n",
       "Glucose                       29.239183   1220.935799   55.726987   \n",
       "BloodPressure                 64.029396    198.378412   43.004695   \n",
       "SkinThickness                254.473245    802.979941   49.373869   \n",
       "Insulin                      802.979941  13281.180078  179.775172   \n",
       "BMI                           49.373869    179.775172   62.159984   \n",
       "DiabetesPedigreeFunction       0.972136      7.066681    0.367405   \n",
       "Age                          -21.381023    -57.143290    3.360330   \n",
       "Outcome                        0.568747      7.175671    1.100638   \n",
       "\n",
       "                          DiabetesPedigreeFunction         Age   Outcome  \n",
       "Pregnancies                              -0.037426   21.570620  0.356618  \n",
       "Glucose                                   1.454875   99.082805  7.115079  \n",
       "BloodPressure                             0.264638   54.523453  0.600697  \n",
       "SkinThickness                             0.972136  -21.381023  0.568747  \n",
       "Insulin                                   7.066681  -57.143290  7.175671  \n",
       "BMI                                       0.367405    3.360330  1.100638  \n",
       "DiabetesPedigreeFunction                  0.109779    0.130772  0.027472  \n",
       "Age                                       0.130772  138.303046  1.336953  \n",
       "Outcome                                   0.027472    1.336953  0.227483  "
      ]
     },
     "execution_count": 63,
     "metadata": {},
     "output_type": "execute_result"
    }
   ],
   "source": [
    "diabetes.cov()"
   ]
  },
  {
   "cell_type": "markdown",
   "id": "bc09d117",
   "metadata": {},
   "source": [
    "**Q16. Comment on the covariance of both Blood pressure, glucose**\n",
    "\n",
    "Write your observations about the covariance matrix based on what you have learned in the lecture. \n",
    "\n",
    "1. Which features/columns tend to be large when the patient is diagnosed by the diabetes?\n",
    "   - We can see that the Insulin and Glucose levels affect the outcome the most.\n",
    "\n",
    "2. Discuss the relation between the age and the Insulin values?\n",
    "   - We can see a strong negative relation between them.\n",
    "\n",
    "3. Which features/columns might have no or weak relation with the diabetes?\n",
    "   - DiabetesPedigreeFunction feature contributes the least to the outcome.\n",
    "\n",
    "**Hint:**\n",
    "- A \"large\" positive Cov(x,y) means that x tends to be large when y is large and small when y is small.\n",
    "- A \"large\" negative covariance means the opposite, that x tends to be small when y is large and vice versa.\n",
    "- A value close to zero implies no relationship exists between the variables."
   ]
  },
  {
   "cell_type": "markdown",
   "id": "7abafc51",
   "metadata": {},
   "source": [
    "**Q17. Correlation: Although covariance gives you initial impression of the relation between the features and the diabetes, it is critical to conduct correlation analysis to measure the quantative impact of each features on the target (Diabetes). Use `.corr()` function to compute the correlation matrix.**\n",
    " "
   ]
  },
  {
   "cell_type": "code",
   "execution_count": 64,
   "id": "d54fc046",
   "metadata": {
    "scrolled": true
   },
   "outputs": [
    {
     "data": {
      "text/html": [
       "<div>\n",
       "<style scoped>\n",
       "    .dataframe tbody tr th:only-of-type {\n",
       "        vertical-align: middle;\n",
       "    }\n",
       "\n",
       "    .dataframe tbody tr th {\n",
       "        vertical-align: top;\n",
       "    }\n",
       "\n",
       "    .dataframe thead th {\n",
       "        text-align: right;\n",
       "    }\n",
       "</style>\n",
       "<table border=\"1\" class=\"dataframe\">\n",
       "  <thead>\n",
       "    <tr style=\"text-align: right;\">\n",
       "      <th></th>\n",
       "      <th>Pregnancies</th>\n",
       "      <th>Glucose</th>\n",
       "      <th>BloodPressure</th>\n",
       "      <th>SkinThickness</th>\n",
       "      <th>Insulin</th>\n",
       "      <th>BMI</th>\n",
       "      <th>DiabetesPedigreeFunction</th>\n",
       "      <th>Age</th>\n",
       "      <th>Outcome</th>\n",
       "    </tr>\n",
       "  </thead>\n",
       "  <tbody>\n",
       "    <tr>\n",
       "      <th>Pregnancies</th>\n",
       "      <td>1.000000</td>\n",
       "      <td>0.129459</td>\n",
       "      <td>0.141282</td>\n",
       "      <td>-0.081672</td>\n",
       "      <td>-0.073535</td>\n",
       "      <td>0.017683</td>\n",
       "      <td>-0.033523</td>\n",
       "      <td>0.544341</td>\n",
       "      <td>0.221898</td>\n",
       "    </tr>\n",
       "    <tr>\n",
       "      <th>Glucose</th>\n",
       "      <td>0.129459</td>\n",
       "      <td>1.000000</td>\n",
       "      <td>0.152590</td>\n",
       "      <td>0.057328</td>\n",
       "      <td>0.331357</td>\n",
       "      <td>0.221071</td>\n",
       "      <td>0.137337</td>\n",
       "      <td>0.263514</td>\n",
       "      <td>0.466581</td>\n",
       "    </tr>\n",
       "    <tr>\n",
       "      <th>BloodPressure</th>\n",
       "      <td>0.141282</td>\n",
       "      <td>0.152590</td>\n",
       "      <td>1.000000</td>\n",
       "      <td>0.207371</td>\n",
       "      <td>0.088933</td>\n",
       "      <td>0.281805</td>\n",
       "      <td>0.041265</td>\n",
       "      <td>0.239528</td>\n",
       "      <td>0.065068</td>\n",
       "    </tr>\n",
       "    <tr>\n",
       "      <th>SkinThickness</th>\n",
       "      <td>-0.081672</td>\n",
       "      <td>0.057328</td>\n",
       "      <td>0.207371</td>\n",
       "      <td>1.000000</td>\n",
       "      <td>0.436783</td>\n",
       "      <td>0.392573</td>\n",
       "      <td>0.183928</td>\n",
       "      <td>-0.113970</td>\n",
       "      <td>0.074752</td>\n",
       "    </tr>\n",
       "    <tr>\n",
       "      <th>Insulin</th>\n",
       "      <td>-0.073535</td>\n",
       "      <td>0.331357</td>\n",
       "      <td>0.088933</td>\n",
       "      <td>0.436783</td>\n",
       "      <td>1.000000</td>\n",
       "      <td>0.197859</td>\n",
       "      <td>0.185071</td>\n",
       "      <td>-0.042163</td>\n",
       "      <td>0.130548</td>\n",
       "    </tr>\n",
       "    <tr>\n",
       "      <th>BMI</th>\n",
       "      <td>0.017683</td>\n",
       "      <td>0.221071</td>\n",
       "      <td>0.281805</td>\n",
       "      <td>0.392573</td>\n",
       "      <td>0.197859</td>\n",
       "      <td>1.000000</td>\n",
       "      <td>0.140647</td>\n",
       "      <td>0.036242</td>\n",
       "      <td>0.292695</td>\n",
       "    </tr>\n",
       "    <tr>\n",
       "      <th>DiabetesPedigreeFunction</th>\n",
       "      <td>-0.033523</td>\n",
       "      <td>0.137337</td>\n",
       "      <td>0.041265</td>\n",
       "      <td>0.183928</td>\n",
       "      <td>0.185071</td>\n",
       "      <td>0.140647</td>\n",
       "      <td>1.000000</td>\n",
       "      <td>0.033561</td>\n",
       "      <td>0.173844</td>\n",
       "    </tr>\n",
       "    <tr>\n",
       "      <th>Age</th>\n",
       "      <td>0.544341</td>\n",
       "      <td>0.263514</td>\n",
       "      <td>0.239528</td>\n",
       "      <td>-0.113970</td>\n",
       "      <td>-0.042163</td>\n",
       "      <td>0.036242</td>\n",
       "      <td>0.033561</td>\n",
       "      <td>1.000000</td>\n",
       "      <td>0.238356</td>\n",
       "    </tr>\n",
       "    <tr>\n",
       "      <th>Outcome</th>\n",
       "      <td>0.221898</td>\n",
       "      <td>0.466581</td>\n",
       "      <td>0.065068</td>\n",
       "      <td>0.074752</td>\n",
       "      <td>0.130548</td>\n",
       "      <td>0.292695</td>\n",
       "      <td>0.173844</td>\n",
       "      <td>0.238356</td>\n",
       "      <td>1.000000</td>\n",
       "    </tr>\n",
       "  </tbody>\n",
       "</table>\n",
       "</div>"
      ],
      "text/plain": [
       "                          Pregnancies   Glucose  BloodPressure  SkinThickness  \\\n",
       "Pregnancies                  1.000000  0.129459       0.141282      -0.081672   \n",
       "Glucose                      0.129459  1.000000       0.152590       0.057328   \n",
       "BloodPressure                0.141282  0.152590       1.000000       0.207371   \n",
       "SkinThickness               -0.081672  0.057328       0.207371       1.000000   \n",
       "Insulin                     -0.073535  0.331357       0.088933       0.436783   \n",
       "BMI                          0.017683  0.221071       0.281805       0.392573   \n",
       "DiabetesPedigreeFunction    -0.033523  0.137337       0.041265       0.183928   \n",
       "Age                          0.544341  0.263514       0.239528      -0.113970   \n",
       "Outcome                      0.221898  0.466581       0.065068       0.074752   \n",
       "\n",
       "                           Insulin       BMI  DiabetesPedigreeFunction  \\\n",
       "Pregnancies              -0.073535  0.017683                 -0.033523   \n",
       "Glucose                   0.331357  0.221071                  0.137337   \n",
       "BloodPressure             0.088933  0.281805                  0.041265   \n",
       "SkinThickness             0.436783  0.392573                  0.183928   \n",
       "Insulin                   1.000000  0.197859                  0.185071   \n",
       "BMI                       0.197859  1.000000                  0.140647   \n",
       "DiabetesPedigreeFunction  0.185071  0.140647                  1.000000   \n",
       "Age                      -0.042163  0.036242                  0.033561   \n",
       "Outcome                   0.130548  0.292695                  0.173844   \n",
       "\n",
       "                               Age   Outcome  \n",
       "Pregnancies               0.544341  0.221898  \n",
       "Glucose                   0.263514  0.466581  \n",
       "BloodPressure             0.239528  0.065068  \n",
       "SkinThickness            -0.113970  0.074752  \n",
       "Insulin                  -0.042163  0.130548  \n",
       "BMI                       0.036242  0.292695  \n",
       "DiabetesPedigreeFunction  0.033561  0.173844  \n",
       "Age                       1.000000  0.238356  \n",
       "Outcome                   0.238356  1.000000  "
      ]
     },
     "execution_count": 64,
     "metadata": {},
     "output_type": "execute_result"
    }
   ],
   "source": [
    "diabetes.corr()"
   ]
  },
  {
   "cell_type": "markdown",
   "id": "c87787c9",
   "metadata": {},
   "source": [
    "Since our objective is to select features that we can use to infer the diabetes statuss of a patient, observe the correlation of the features with respect to the `Outcome` column. `1.0` means the feature has high correlation with the `Outcome`, while values close to `0` refers to no correlation. On the other hand, `-1.0` indicates inverse relationship with the `Outcome`. "
   ]
  },
  {
   "cell_type": "markdown",
   "id": "3204cf0b",
   "metadata": {},
   "source": [
    "**Correlation Visualization:** For better visualization of the correlaton matrix, you can use heatmap() function from `seaborn` library to generate a heatmap of the matrix."
   ]
  },
  {
   "cell_type": "code",
   "execution_count": 65,
   "id": "20996df2",
   "metadata": {},
   "outputs": [
    {
     "data": {
      "text/plain": [
       "<Axes: >"
      ]
     },
     "execution_count": 65,
     "metadata": {},
     "output_type": "execute_result"
    },
    {
     "data": {
      "image/png": "[encoded data removed]",
      "text/plain": [
       "<Figure size 640x480 with 2 Axes>"
      ]
     },
     "metadata": {},
     "output_type": "display_data"
    }
   ],
   "source": [
    "# TODO: Uncomment the following lines.\n",
    "\n",
    "import seaborn as sns\n",
    "sns.heatmap(diabetes.corr(), annot=True)"
   ]
  },
  {
   "cell_type": "markdown",
   "id": "dcda0f00",
   "metadata": {},
   "source": [
    "Light color indicates high correlation while dark color indicates no correlation with the outcome."
   ]
  },
  {
   "cell_type": "markdown",
   "id": "1623ec78",
   "metadata": {},
   "source": [
    "**Q20.  Given this heatmap, select features that could be used to infer whether the patient has diabetes or not. Write a proper reasoning explaination for each feature you picked. Next, discuss the reason of excluding the other features.**"
   ]
  },
  {
   "cell_type": "markdown",
   "id": "75255b64",
   "metadata": {},
   "source": [
    "**A)** Write down features that you have selected. "
   ]
  },
  {
   "cell_type": "markdown",
   "id": "5098de26",
   "metadata": {},
   "source": [
    "Feature: \n",
    "- Pregnancies\n",
    "- Glucose \n",
    "- Insulin\n",
    "- Age\n",
    "- DiabetesPedigreeFunction"
   ]
  },
  {
   "cell_type": "markdown",
   "id": "b28ff50c",
   "metadata": {},
   "source": [
    " **B)** Why did you pick them? Write proper explanation."
   ]
  },
  {
   "cell_type": "markdown",
   "id": "d8fb7995",
   "metadata": {},
   "source": [
    "The all have a correlation with the outcome that's greater than 0 with an acceptable margin."
   ]
  }
 ],
 "metadata": {
  "kernelspec": {
   "display_name": "base",
   "language": "python",
   "name": "python3"
  },
  "language_info": {
   "codemirror_mode": {
    "name": "ipython",
    "version": 3
   },
   "file_extension": ".py",
   "mimetype": "text/x-python",
   "name": "python",
   "nbconvert_exporter": "python",
   "pygments_lexer": "ipython3",
   "version": "3.12.2"
  }
 },
 "nbformat": 4,
 "nbformat_minor": 5
}
