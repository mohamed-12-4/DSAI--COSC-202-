{
 "cells": [
  {
   "cell_type": "markdown",
   "id": "806b78ab",
   "metadata": {
    "deletable": false,
    "editable": false,
    "scrolled": true
   },
   "source": [
    "# Lab1|Task 3\n",
    "\n",
    "This is an introductory lab for Python. You are tasked with managing the grades of a class. Each student has a list of grades for different subjects (‘Arabic’, 'Math', 'Science', 'English'). Follow the instructions written at each cell. Make sure you run the cells in order."
   ]
  },
  {
   "cell_type": "markdown",
   "id": "75478537",
   "metadata": {
    "deletable": false,
    "editable": false,
    "scrolled": true
   },
   "source": [
    "**Step 1**: Create a list named subjects that includes the names of the subjects. (**Arabic, Math, Science, English**)"
   ]
  },
  {
   "cell_type": "code",
   "execution_count": 25,
   "id": "a8c661f4",
   "metadata": {},
   "outputs": [],
   "source": []
  },
  {
   "cell_type": "markdown",
   "id": "bab5c35b",
   "metadata": {
    "deletable": false,
    "editable": false,
    "scrolled": true
   },
   "source": [
    "**Step 2**: Create a dictionary named students_grades where keys are the names of the students, and values are lists of their corresponding grades for each subject. Use the table below as a reference.\n",
    "\n",
    "|Name|Arabic|Math|Science|English|\n",
    "|----|------|----|-------|-------|\n",
    "|Anas|66|85|90|78|\n",
    "|Bob|44|55|40|60|\n",
    "|Samar|99|90|92|87|\n"
   ]
  },
  {
   "cell_type": "code",
   "execution_count": 26,
   "id": "2271e4b8",
   "metadata": {},
   "outputs": [],
   "source": []
  },
  {
   "cell_type": "markdown",
   "id": "b2570a4a",
   "metadata": {
    "deletable": false,
    "editable": false,
    "scrolled": true
   },
   "source": [
    "**Step 3**: Use a loop to iterate over the students and calculate the average grade for each student. Append the average grade to a new list named `average_grades`. Print students average grade alongside their names. i.e: `Alice: 84.33`."
   ]
  },
  {
   "cell_type": "code",
   "execution_count": 31,
   "id": "a0cdda08",
   "metadata": {},
   "outputs": [],
   "source": [
    "\n",
    "# Iterate over the students & grades\n",
    "    \n",
    "    # Calculate the student average\n",
    "\n",
    "    # Append the result to the `average_grades` list\n",
    "    \n",
    "    # print the student's name alongside his average grade\n",
    "    "
   ]
  },
  {
   "cell_type": "markdown",
   "id": "b3b5490d",
   "metadata": {
    "deletable": false,
    "editable": false,
    "scrolled": true
   },
   "source": [
    "**Step 4**: Create a new dictionary called `students_classification`. Iterate over the average grades alongside the students. Classify the students based on their average grade. If the average grade exceeds or equal 70, classify the student as `Satisfactory`. Otherwise, `Needs Improvement`. Store the classifications inside `students_classification` dictionary where the key is the student name and the value is the classification **Satisfactory/Needs Improvement**.\n",
    "\n",
    "***Hint: Use `zip` in the loop to iterate over students name and their average grades at the same time***"
   ]
  },
  {
   "cell_type": "code",
   "execution_count": 32,
   "id": "4774023d",
   "metadata": {},
   "outputs": [],
   "source": [
    "\n",
    "# Iterate over the students & their average grades.\n",
    "\n",
    "    # Classify the student based on his/her grade.\n",
    "    \n",
    "    # Store the student's name along with the classification in `students_classification` dictionary.\n"
   ]
  },
  {
   "cell_type": "markdown",
   "id": "5d59c663",
   "metadata": {
    "deletable": false,
    "editable": false,
    "scrolled": true
   },
   "source": [
    "**Step 5**: Print the classification for each student along with their names. i.e **Alice: Passed** "
   ]
  },
  {
   "cell_type": "code",
   "execution_count": null,
   "id": "7510537b",
   "metadata": {},
   "outputs": [],
   "source": []
  },
  {
   "cell_type": "markdown",
   "id": "60ac5813",
   "metadata": {
    "deletable": false,
    "editable": false,
    "scrolled": true
   },
   "source": [
    "**Step 6**: Update **step 4** to use a function called `classification(grade:float)` that takes a grade and returns whether `passed` or `failed` based on the same condition mentioned at step 4. Then, update the loop to use the function instead of the if-condition you have written before. The results should not change when you re-run **step 5**.\n",
    "\n",
    "Once you complete this step, put your reflection about this change on the next cell in a markdown format."
   ]
  },
  {
   "cell_type": "code",
   "execution_count": null,
   "id": "f96bce21",
   "metadata": {},
   "outputs": [],
   "source": []
  }
 ],
 "metadata": {
  "celltoolbar": "Edit Metadata",
  "kernelspec": {
   "display_name": "Python 3 (ipykernel)",
   "language": "python",
   "name": "python3"
  },
  "language_info": {
   "codemirror_mode": {
    "name": "ipython",
    "version": 3
   },
   "file_extension": ".py",
   "mimetype": "text/x-python",
   "name": "python",
   "nbconvert_exporter": "python",
   "pygments_lexer": "ipython3",
   "version": "3.10.9"
  }
 },
 "nbformat": 4,
 "nbformat_minor": 5
}
