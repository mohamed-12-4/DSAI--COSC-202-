{
 "cells": [
  {
   "cell_type": "markdown",
   "metadata": {},
   "source": [
    "## <center>Khalifa University</center>\n",
    "## <center>Computer Science Department\n",
    "### <center>ENGR 202: Data Science and Artificial Intelligence- Spring 2024\n",
    "# <center>Lab6: Supervised Machine Learning - MNIST Classification (Part 2)\n",
    "### Aim: \n",
    "    \n",
    "This lab aims to test your knowledge gained about the MNIST Classification problem, machine learning model training and evaluation, and fine-tuning hyperparameters in a machine learning model. You will practice these concepts in this lab with a Random Forest Classifier (RFC) instead of a Decision Tree Classifier (DTC). \n",
    "\n",
    "### Objectives:\t\t\n",
    "    \n",
    "* Solidate concepts of fine-tuning, training, and evaluation for machine learning models\n",
    "\n",
    "* Understand the concept of Random Forest Classifier (RFC).\n",
    "    \n",
    "* Evaluate and compare the performance of RFC and DTC\n",
    "  \n",
    "    \n",
    "\n",
    "#### Risk Assessment: Low\n"
   ]
  },
  {
   "cell_type": "markdown",
   "metadata": {},
   "source": [
    "# Introduction:\n",
    "\n",
    "You will use the MNIST dataset, similar to the last lab, and replace the decision tree classifier model with a random forest classifier."
   ]
  },
  {
   "cell_type": "markdown",
   "metadata": {},
   "source": [
    "# Part (1): MNIST Data Preparation: Student Excersie\n",
    "\n",
    "In this part, you will complete code below to read MNIST data and split it into training, testing, and validation sets. You may refer to the previous lab to complete this task.\n"
   ]
  },
  {
   "cell_type": "markdown",
   "metadata": {},
   "source": [
    "**Q1.Use `fetch_openml()`  from sklearn dataset to fetch MNIST dataset.**"
   ]
  },
  {
   "cell_type": "code",
   "execution_count": 3,
   "metadata": {
    "scrolled": true
   },
   "outputs": [],
   "source": [
    "# Import fetch_openml to fetch MNIST data\n",
    "from sklearn.datasets import fetch_openml\n",
    "\n",
    "# Fetch the MNIST dataset\n",
    "dataset = fetch_openml('mnist_784', as_frame=False)\n"
   ]
  },
  {
   "cell_type": "markdown",
   "metadata": {},
   "source": [
    "As you learned in the previous lab, MNIST images are stored in the dictionary under key named \"**data**\" while contained numbers in the images are stored as text in a key named \"**target**\". \n",
    "\n",
    "**Q2**: Define a variable called **X** to stored all images and another variable called **y** to store the corresponding contained number"
   ]
  },
  {
   "cell_type": "code",
   "execution_count": 5,
   "metadata": {},
   "outputs": [],
   "source": [
    "X = dataset.data\n",
    "y = dataset.target"
   ]
  },
  {
   "cell_type": "markdown",
   "metadata": {},
   "source": [
    "**Q3**: As you did in the last lab, split both `X` and `y` to 70% for training, 20% for validation, and 10% for testing. "
   ]
  },
  {
   "cell_type": "code",
   "execution_count": 6,
   "metadata": {},
   "outputs": [],
   "source": [
    "# Import train_test_split method\n",
    "from sklearn.model_selection import train_test_split\n",
    "\n",
    "# Split the training and test into 70% training and 30% test\n",
    "X_train, X_test = train_test_split(X, test_size=0.3, random_state=42)\n",
    "y_train, y_test = train_test_split(y, test_size=0.3, random_state=42)\n",
    "\n",
    "# Split the test into 1/3 for test and 2/3 for validation.\n",
    "X_val, X_test   = train_test_split(X_test, test_size=0.33, random_state=42)\n",
    "y_val, y_test   = train_test_split(y_test, test_size=0.33, random_state=42)"
   ]
  },
  {
   "cell_type": "markdown",
   "metadata": {},
   "source": [
    "# Part (2): Random Forest Classifier\n",
    "\n",
    "In this section, you will train and evaluate Random Forest Classifier model on MNIST dataset. Next, you will compare the performance with the performance you obtained last lab, after finetuning the number of leafs in the tree. \n",
    "\n",
    "## Model Initialization\n",
    "**Q4** Define `RandomForestClassifier` classifier from `sklearn.ensemble`. Make sure that the initialized model has the following parameters `random_state=0` and `n_estimators=50`."
   ]
  },
  {
   "cell_type": "code",
   "execution_count": 7,
   "metadata": {},
   "outputs": [],
   "source": [
    "# Import RandomForestClassifier class.\n",
    "from sklearn.ensemble import RandomForestClassifier\n",
    "\n",
    "# Initialize the RandomForestClassifier model with random_state=0 and n_estimators = 50.\n",
    "rfc_model = RandomForestClassifier(random_state=0, n_estimators=50)"
   ]
  },
  {
   "cell_type": "markdown",
   "metadata": {},
   "source": [
    "Random forest classifier is a generalization of the decision tree model that uses multiple decision trees instead of a single tree, as you did in your last lab. The number of decision trees in the random forest classifier is determined by `n_estimators` parameter. The definition you did in Q4 initializes a random forest model with 50 trees. \n",
    "\n",
    "As you may notice, `n_estimators` or the number of decision trees is a hyper-parameter, similar to the number of leaves in the decision tree you did last lab. Thus, you should start by fine-tuning this parameter using a similar approach you used in the last lab.\n",
    "\n",
    "**Q5** Define a list called `n_estimators_values` with the following potential number of trees: `[5, 10, 20, 40, 60, 80, 100]`"
   ]
  },
  {
   "cell_type": "code",
   "execution_count": 8,
   "metadata": {
    "scrolled": true
   },
   "outputs": [],
   "source": [
    "n_estimators_values =[5, 10, 20, 40, 60, 80, 100]"
   ]
  },
  {
   "cell_type": "markdown",
   "metadata": {},
   "source": [
    "You will follow the same steps you did in the last lab to evaluate the random forest model performance with different numbers of decision trees.\n",
    "\n",
    "**Q7**: Complete the finetuning code."
   ]
  },
  {
   "cell_type": "code",
   "execution_count": 9,
   "metadata": {},
   "outputs": [
    {
     "name": "stdout",
     "output_type": "stream",
     "text": [
      "n_estimators: 5  \t Acc for training data:  0.994449  \t\t Acc for validation data:  0.915849\n",
      "n_estimators: 10  \t Acc for training data:  0.999408  \t\t Acc for validation data:  0.942857\n",
      "n_estimators: 20  \t Acc for training data:  0.999918  \t\t Acc for validation data:  0.956219\n",
      "n_estimators: 40  \t Acc for training data:  1.000000  \t\t Acc for validation data:  0.963113\n",
      "n_estimators: 60  \t Acc for training data:  1.000000  \t\t Acc for validation data:  0.963966\n",
      "n_estimators: 80  \t Acc for training data:  1.000000  \t\t Acc for validation data:  0.965387\n",
      "n_estimators: 100  \t Acc for training data:  1.000000  \t\t Acc for validation data:  0.966098\n"
     ]
    }
   ],
   "source": [
    "# Define two empty lists to store the accuracy of the training and validation data\n",
    "from sklearn.metrics import accuracy_score\n",
    "train_acc_list = []\n",
    "val_acc_list   = []\n",
    "\n",
    "# (1) Iterate over all potential n_estimators\n",
    "for n_estimators in n_estimators_values:\n",
    "    # (2) Define a random forest model with the given `n_estimators` and `random_state=0`.\n",
    "    rfc_model = RandomForestClassifier(random_state=0, n_estimators=n_estimators)\n",
    "\n",
    "    #(3) Train the model on the training dataset.\n",
    "    rfc_model.fit(X_train, y_train)\n",
    "\n",
    "    #(4) Use the training model to predict the classification of the training data.\n",
    "    predictions_train = rfc_model.predict(X_train)\n",
    "\n",
    "    #(5) Use the training model to predict the classification of the validation data.\n",
    "    predictions_val = rfc_model.predict(X_val)\n",
    "        \n",
    "    # (6) Use `accuracy_score` to compute the classification accuracy of the training predictions.\n",
    "    acc_train = accuracy_score(y_train, predictions_train)\n",
    "    \n",
    "    # (7) Use `accuracy_score` to compute the classification accuracy of the validation predictions.\n",
    "    acc_val = accuracy_score(y_val, predictions_val)\n",
    "\n",
    "    \n",
    "    # Add the computed train accuracy to the train_acc_list\n",
    "    train_acc_list.append(acc_train)\n",
    "   \n",
    "    # Add the computed validation accuracy to the val_acc_list\n",
    "    val_acc_list.append(acc_val)\n",
    "    \n",
    "    print(\"n_estimators: %d  \\t Acc for training data:  %f  \\t\\t Acc for validation data:  %f\" %(n_estimators, acc_train, acc_val))"
   ]
  },
  {
   "cell_type": "markdown",
   "metadata": {},
   "source": [
    "Although you might have some insightes from the print above, but it still clear which option achieves the best performance. Hence, you will visualize the distribution of the training and valudation accuracy at each option to determine the best value for the leaf nodes.\n",
    "\n",
    "**Q8: Complete the missing parts of the code below to do the visualization successfully.**"
   ]
  },
  {
   "cell_type": "code",
   "execution_count": 10,
   "metadata": {},
   "outputs": [
    {
     "data": {
      "image/png": "[encoded data removed]",
      "text/plain": [
       "<Figure size 1000x600 with 1 Axes>"
      ]
     },
     "metadata": {},
     "output_type": "display_data"
    }
   ],
   "source": [
    "import matplotlib.pyplot as plt\n",
    "# Plotting the results\n",
    "plt.figure(figsize=(10, 6))\n",
    "plt.plot(n_estimators_values, train_acc_list, label='Training Acc', marker='o')\n",
    "plt.plot(n_estimators_values, val_acc_list, label='Validation Acc', marker='o')\n",
    "plt.xlabel('Number of Decision Trees')\n",
    "plt.ylabel('Classification Acc.')\n",
    "plt.title('Classification Acc vs. Number of Decision Trees')\n",
    "plt.legend()\n",
    "plt.grid(True)\n",
    "plt.show()"
   ]
  },
  {
   "cell_type": "markdown",
   "metadata": {},
   "source": [
    "**Q9: What is the best value for the leaf node?**"
   ]
  },
  {
   "cell_type": "markdown",
   "metadata": {},
   "source": [
    "We can say the n_estimators=40 can be the best valur for the leaf node. The differnce between it and the tree with n_estimators=100 is minimal. Yet it has a better training time and prediction time which can be better in a later stages of the model."
   ]
  },
  {
   "cell_type": "markdown",
   "metadata": {},
   "source": [
    "Now, do the following steps to test your selection:\n",
    "1. Create a random forest model with the best number of decision trees.\n",
    "2. Train it on the training dataset.\n",
    "3. Use `predict` function to predict the contained digit in the **testing** dataset images.\n",
    "4. Compute the accuracy between the predicted and the actual digit of the testing dataset.\n",
    "5. print the accuracy"
   ]
  },
  {
   "cell_type": "code",
   "execution_count": 11,
   "metadata": {},
   "outputs": [
    {
     "name": "stdout",
     "output_type": "stream",
     "text": [
      "Accuracy for test data:  0.962049062049062\n"
     ]
    }
   ],
   "source": [
    "# init the random forest classifier with n_estimators=40 and random_state=0\n",
    "rfc = RandomForestClassifier(random_state=0, n_estimators=40)\n",
    "#train the model\n",
    "rfc.fit(X_train, y_train)\n",
    "#predict the test data\n",
    "predictions = rfc.predict(X_test)\n",
    "#compute the accuracy of the test data\n",
    "acc = accuracy_score(y_test, predictions)\n",
    "print(\"Accuracy for test data: \", acc)"
   ]
  },
  {
   "cell_type": "markdown",
   "metadata": {},
   "source": [
    "**Q10: Based on the classification accuracy you obtained from the random forest classifier with the selected number of decision tress and the decision tree (with finetuned max number of leafs), which one has better performance on the test dataset?**"
   ]
  },
  {
   "cell_type": "markdown",
   "metadata": {},
   "source": [
    "We can see that the test accuracy using Random Forest Classifier is much higher compared to Decision Tree Classifier from last lap and this is due to the Decision Trees have more overfitting issue compared to Random Forest Classifier."
   ]
  },
  {
   "cell_type": "markdown",
   "metadata": {},
   "source": [
    "**Q11**: Based on the results obtained from the finetuning, is there a chance for further improvement in the classification accuracy? and why?"
   ]
  },
  {
   "cell_type": "markdown",
   "metadata": {},
   "source": [
    "While the accuracy of the model is high, we can obtain higher accuracy by performing image augmentaion to increase the number of instances or use Neural Netweorks as a more complex model."
   ]
  }
 ],
 "metadata": {
  "kernelspec": {
   "display_name": "base",
   "language": "python",
   "name": "python3"
  },
  "language_info": {
   "codemirror_mode": {
    "name": "ipython",
    "version": 3
   },
   "file_extension": ".py",
   "mimetype": "text/x-python",
   "name": "python",
   "nbconvert_exporter": "python",
   "pygments_lexer": "ipython3",
   "version": "3.12.2"
  },
  "nav_menu": {},
  "toc": {
   "navigate_menu": true,
   "number_sections": true,
   "sideBar": true,
   "threshold": 6,
   "toc_cell": false,
   "toc_section_display": "block",
   "toc_window_display": false
  }
 },
 "nbformat": 4,
 "nbformat_minor": 4
}
