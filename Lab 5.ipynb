{
 "cells": [
  {
   "cell_type": "markdown",
   "metadata": {},
   "source": [
    "## <center>Khalifa University</center>\n",
    "## <center>Computer Science Department\n",
    "### <center>ENGR 202: Data Science and Artificial Intelligence- Spring 2024\n",
    "# <center>Lab5: Supervised Machines Learning\n",
    "### Aim: \n",
    "    \n",
    "This lab aims to prepare the dataset for machine learning algorithms, evaluate the performance of various machine learning models, and explore multiple evaluation techniques.\n",
    "    \n",
    "### Objectives:\t\t\n",
    "\n",
    "* Designing and testing supervised Machine learning models \n",
    "    \n",
    "* Explore the performance of one of the machine learning models: Linear Regression\n",
    "    \n",
    "* Performance evaluation using multiple evaluation techniques: Mean-Square Error and absolute mean error\n",
    "  \n",
    "  \n",
    "#### Risk Assessment: Low"
   ]
  },
  {
   "cell_type": "markdown",
   "metadata": {},
   "source": [
    "# Introducion:\n",
    "\n",
    "This lab will be continuation to the work that have been completed in Lab4. The training data preprocessing steps will be given to you to start with. Your model should learn from this data and be able to predict the median housing price in any district, given all the other metrics. Designing, testing and evaluating the model will be the objective of this lab. "
   ]
  },
  {
   "cell_type": "markdown",
   "metadata": {},
   "source": [
    "Data Transformation (Preprocessing)\n",
    "As you learned in the last lab, the housing dataset involves two data types: Numerical and text. Machine learning models does not handle data in text format. Thus, you need to encode the text data, called categorization, by one of the well known encoding methods: ordinal encoding and one-hot encoding. In the last lab, you encoded the text data using the ordinal encoding method; however, the one-hot encoding method is preferable when you deal with nominal data( where there is no inherent order among categories).\n",
    "\n",
    "In this section, you will learn how to compose all preprocessing you have done so far in the last lab into a well-structured transformation, in which you can apply all preprocessing at once."
   ]
  },
  {
   "cell_type": "markdown",
   "metadata": {},
   "source": [
    "## Step 1 Dataset Preperation"
   ]
  },
  {
   "cell_type": "markdown",
   "metadata": {},
   "source": [
    "**Task 1.1: Read the dataset from the `housing.csv` file. and display its info using .info()**"
   ]
  },
  {
   "cell_type": "code",
   "execution_count": 18,
   "metadata": {},
   "outputs": [],
   "source": [
    "import pandas as pd\n",
    "housing = pd.read_csv('./housing.csv')"
   ]
  },
  {
   "cell_type": "markdown",
   "metadata": {},
   "source": [
    "**Task 1.2: Split the dataset into 80% training and 20% testing data.**"
   ]
  },
  {
   "cell_type": "code",
   "execution_count": 19,
   "metadata": {},
   "outputs": [],
   "source": [
    "#Split the dataset into training and testing sets\n",
    "from sklearn.model_selection import train_test_split\n",
    "\n",
    "train_set, test_set = train_test_split(housing, test_size=0.20, random_state=5,shuffle=True)\n"
   ]
  },
  {
   "cell_type": "markdown",
   "metadata": {},
   "source": [
    "The goal is to predict the `median_house_value` value from the other features provided in the dataset. Hence, this column will be the target/label we need to predict. Therefore, you will separate this column from the rest of the features.\n",
    "\n",
    "Since we have two sets, train and test, we will have four variables `X_train` and `X_test` for the features and `y_train` and `y_test` for the target, which is the price of the house. \n",
    "\n",
    "**Task 1.3: Split the target column from the features on the train and test dataset**"
   ]
  },
  {
   "cell_type": "code",
   "execution_count": 20,
   "metadata": {},
   "outputs": [],
   "source": [
    "#Split train target from features coloumns you did in Lab4\n",
    "X_train=train_set.drop(\"median_house_value\",axis=1)\n",
    "y_train=train_set[\"median_house_value\"]\n",
    "\n",
    "# TODO: Similarly split the target from features in the test data set\n",
    "X_test=test_set.drop(\"median_house_value\",axis=1)\n",
    "y_test=test_set[\"median_house_value\"]"
   ]
  },
  {
   "cell_type": "markdown",
   "metadata": {},
   "source": [
    "## Step 2: Data Preprocessing"
   ]
  },
  {
   "cell_type": "markdown",
   "metadata": {},
   "source": [
    "Generally, any new data should pass through the same preprocessing you have done on the training dataset.So, you will apply all preprocessing steps you have done in the previous lab on the training datga set to testing sets as well.\n",
    "\n",
    "Hence, it is best practice to have a function that takes the data, composes all the preprocessing, and return preprocessed data (Ready for training/prediction)."
   ]
  },
  {
   "cell_type": "code",
   "execution_count": 21,
   "metadata": {},
   "outputs": [],
   "source": [
    "from sklearn.compose import ColumnTransformer\n",
    "from sklearn.impute import SimpleImputer\n",
    "from sklearn.preprocessing import MinMaxScaler\n",
    "from sklearn.preprocessing import OneHotEncoder\n",
    "\n",
    "def one_hot_encoding(data, column, transformer_one_hot_encoder= None):\n",
    "    training = False\n",
    "\n",
    "    if transformer_one_hot_encoder is None:\n",
    "        training = True\n",
    "        # Initialize OneHotEncoder\n",
    "        transformer_one_hot_encoder = OneHotEncoder(sparse_output=False)  \n",
    "        \n",
    "        # Fit and transform the data\n",
    "        transformer_one_hot_encoder.fit(data[[column]])\n",
    "        \n",
    "    one_hot_encoded = transformer_one_hot_encoder.transform(data[[column]])\n",
    "    \n",
    "    # Convert back to a DataFrame \n",
    "    encoded_df = pd.DataFrame(one_hot_encoded, columns=transformer_one_hot_encoder.get_feature_names_out([column]))\n",
    "\n",
    "    # Drop the categorical column\n",
    "    data = data.drop(column,axis=1) \n",
    "    \n",
    "    # Combine with original data\n",
    "    df_encoded = pd.concat([data, encoded_df], axis=1)\n",
    "    if training:\n",
    "        return df_encoded, transformer_one_hot_encoder\n",
    "    else:\n",
    "        return df_encoded\n",
    "\n",
    "def preprocessing_training(training_data):\n",
    "    # Make a copy of the origin data to use.\n",
    "    train_data_cp = training_data.copy()\n",
    "    ############################################### Data cleaning #################################################\n",
    "\n",
    "    # Determine numerical/categorical columns since you should'nt apply normalization on the categorical columns.\n",
    "    numerical_cols = list(train_data_cp.iloc[:, train_data_cp.columns != 'ocean_proximity'])\n",
    "    \n",
    "    imputer = SimpleImputer(strategy=\"median\")    \n",
    "    transformer_clean = ColumnTransformer(\n",
    "        transformers=[('imputer', imputer, numerical_cols)], # Define the transformation & columns to apply to\n",
    "        remainder = 'passthrough' # To do nothing for the remain columns.\n",
    "     )\n",
    "    # Apply data cleaning on the train by learning values in the data.\n",
    "    train_data_cp = transformer_clean.fit_transform(train_data_cp)\n",
    "   \n",
    "    #Bring back the columns' names to the clean datasets\n",
    "    train_data_cp = pd.DataFrame(train_data_cp, columns = numerical_cols + ['ocean_proximity'])\n",
    "    \n",
    "    ############################################## Feature Scaling #############################################\n",
    "    scaler = MinMaxScaler()    \n",
    "    transformer_scale = ColumnTransformer(\n",
    "        transformers=[('scaler', scaler, numerical_cols)], # Define the transformation & columns to apply to\n",
    "        remainder = 'passthrough' # To do nothing for the remain columns.\n",
    "    )\n",
    "    # Apply data cleaning on the train by learning values in the data.\n",
    "    train_data_cp = transformer_scale.fit_transform(train_data_cp)\n",
    "\n",
    "    #Bring back the columns' names to the clean datasets\n",
    "    train_data_cp = pd.DataFrame(train_data_cp, columns = numerical_cols + ['ocean_proximity'])\n",
    "   ################################################ Categorization ###############################################\n",
    "\n",
    "    train_data_cp, transformer_one_hot_encoder = one_hot_encoding(data = train_data_cp, column= \"ocean_proximity\")\n",
    " \n",
    "    \n",
    "    return train_data_cp, transformer_one_hot_encoder, transformer_clean, transformer_scale"
   ]
  },
  {
   "cell_type": "markdown",
   "metadata": {},
   "source": [
    "**Question:** Check the code written inside `preprocessing_training()` function and describe, in your words, all the included data preprocessing ?"
   ]
  },
  {
   "cell_type": "markdown",
   "metadata": {},
   "source": [
    "The function preprocess the data by imputing the numerical featurse using median strategy and one-hot-encode the categorical features. "
   ]
  },
  {
   "cell_type": "markdown",
   "metadata": {},
   "source": [
    "**Question:** What does `preprocessing_training()` function return ?"
   ]
  },
  {
   "cell_type": "markdown",
   "metadata": {},
   "source": [
    "it returns the cleaned training data, one-hot-encoder, cleaning transformer, and scaling transformer  "
   ]
  },
  {
   "cell_type": "markdown",
   "metadata": {},
   "source": [
    "**Question:** Is the order important while applying preprocessing, referring to the `preprocessing_training` function? Could changing the order in any way cause an error (Exception)? If **yes**, give an example of what could happen? "
   ]
  },
  {
   "cell_type": "markdown",
   "metadata": {},
   "source": [
    "the order between the one-hot-encoder and other transformers doesn't make a difference as it targets different columns. However, the order between the scaling transformer and the cleaning transformer is important as having a null values while cleaning might cause errors or result a data different from the intended results."
   ]
  },
  {
   "cell_type": "markdown",
   "metadata": {},
   "source": [
    "The `preprocessing_training()` function takes the training dataset and applys certain preprocessing techniques on the data. Complete below line so that the function applys the preprocessing on the `X_train` data."
   ]
  },
  {
   "cell_type": "code",
   "execution_count": 22,
   "metadata": {},
   "outputs": [],
   "source": [
    "X_train_transformed, transformer_one_hot_encoder, transformer_clean, transformer_scale = preprocessing_training(X_train)"
   ]
  },
  {
   "cell_type": "markdown",
   "metadata": {},
   "source": [
    "### Task 1: Data Preprocessing (Student Exercise)\n",
    "\n",
    "So far, you have done preprocessing on the training dataset. You may notice that the `preprocessing_training()` function returns `transformer_clean` and `transformer_scale` alongside the preprocessed data. The main reason is that the clean and scale transformers hold the computed medium and other values used while scaling the data. These values should be **fixed** for further preprocessing you apply on a test or external dataset. \n",
    "\n",
    "**Question** In this task, you must write the preprocessing function for the test dataset using the scaler and imputer provided from the training dataset. **Remember you shouldn't re-compute the scaling nor the median on the test dataset, use the one you obtained from the training data**"
   ]
  },
  {
   "cell_type": "code",
   "execution_count": 23,
   "metadata": {},
   "outputs": [],
   "source": [
    "from sklearn.compose import ColumnTransformer\n",
    "from sklearn.impute import SimpleImputer\n",
    "from sklearn.preprocessing import MinMaxScaler\n",
    "\n",
    "\n",
    "def preprocessing_testing(testing_data, transformer_one_hot_encoder, transformer_clean, transformer_scale):\n",
    "    # Make a copy of the original data\n",
    "    testing_data_cp = testing_data.copy()\n",
    "\n",
    "    ############################################### Data cleaning #################################################\n",
    "  \n",
    "\n",
    "    # Determine numerical/categorical columns since you should'nt apply normalization on the categorical columns.\n",
    "    numerical_cols = list(testing_data_cp.iloc[:, testing_data_cp.columns != 'ocean_proximity'])\n",
    "    \n",
    "    # Apply data cleaning on the train by learning values in the data.\n",
    "    testing_data_cp = transformer_clean.transform(testing_data_cp)\n",
    "   \n",
    "    #Bring back the columns' names to the clean datasets\n",
    "    testing_data_cp = pd.DataFrame(testing_data_cp, columns = numerical_cols + ['ocean_proximity'])\n",
    "    \n",
    "    ############################################## Feature Scaling #############################################\n",
    "\n",
    "    # Apply data cleaning on the train by learning values in the data.\n",
    "    testing_data_cp =  transformer_scale.transform(testing_data_cp)\n",
    "\n",
    "    #Bring back the columns' names to the clean datasets\n",
    "    testing_data_cp = pd.DataFrame(testing_data_cp, columns = numerical_cols + ['ocean_proximity'])\n",
    "    ################################################ Categorization ###############################################\n",
    "    testing_data_cp = one_hot_encoding(data = testing_data_cp, column= \"ocean_proximity\", transformer_one_hot_encoder=transformer_one_hot_encoder)\n",
    "\n",
    "    return testing_data_cp"
   ]
  },
  {
   "cell_type": "markdown",
   "metadata": {},
   "source": [
    "**Question:** Use the function you have just implemented to preprocess the testing data."
   ]
  },
  {
   "cell_type": "code",
   "execution_count": 24,
   "metadata": {},
   "outputs": [],
   "source": [
    "X_test_transformed = preprocessing_testing(X_test, transformer_one_hot_encoder, transformer_clean, transformer_scale)"
   ]
  },
  {
   "cell_type": "markdown",
   "metadata": {},
   "source": [
    "## Step 3 Machine learning models: Training and Performance Evaluation Comparison"
   ]
  },
  {
   "cell_type": "markdown",
   "metadata": {},
   "source": [
    "### 3.1 Linear Regression Model"
   ]
  },
  {
   "cell_type": "markdown",
   "metadata": {},
   "source": [
    " **Task 3.1.1: Initialize a linear regression model and use `fit()` function to train the model on the training dataset.**"
   ]
  },
  {
   "cell_type": "code",
   "execution_count": 25,
   "metadata": {},
   "outputs": [
    {
     "data": {
      "text/html": [
       "<style>#sk-container-id-2 {\n",
       "  /* Definition of color scheme common for light and dark mode */\n",
       "  --sklearn-color-text: black;\n",
       "  --sklearn-color-line: gray;\n",
       "  /* Definition of color scheme for unfitted estimators */\n",
       "  --sklearn-color-unfitted-level-0: #fff5e6;\n",
       "  --sklearn-color-unfitted-level-1: #f6e4d2;\n",
       "  --sklearn-color-unfitted-level-2: #ffe0b3;\n",
       "  --sklearn-color-unfitted-level-3: chocolate;\n",
       "  /* Definition of color scheme for fitted estimators */\n",
       "  --sklearn-color-fitted-level-0: #f0f8ff;\n",
       "  --sklearn-color-fitted-level-1: #d4ebff;\n",
       "  --sklearn-color-fitted-level-2: #b3dbfd;\n",
       "  --sklearn-color-fitted-level-3: cornflowerblue;\n",
       "\n",
       "  /* Specific color for light theme */\n",
       "  --sklearn-color-text-on-default-background: var(--sg-text-color, var(--theme-code-foreground, var(--jp-content-font-color1, black)));\n",
       "  --sklearn-color-background: var(--sg-background-color, var(--theme-background, var(--jp-layout-color0, white)));\n",
       "  --sklearn-color-border-box: var(--sg-text-color, var(--theme-code-foreground, var(--jp-content-font-color1, black)));\n",
       "  --sklearn-color-icon: #696969;\n",
       "\n",
       "  @media (prefers-color-scheme: dark) {\n",
       "    /* Redefinition of color scheme for dark theme */\n",
       "    --sklearn-color-text-on-default-background: var(--sg-text-color, var(--theme-code-foreground, var(--jp-content-font-color1, white)));\n",
       "    --sklearn-color-background: var(--sg-background-color, var(--theme-background, var(--jp-layout-color0, #111)));\n",
       "    --sklearn-color-border-box: var(--sg-text-color, var(--theme-code-foreground, var(--jp-content-font-color1, white)));\n",
       "    --sklearn-color-icon: #878787;\n",
       "  }\n",
       "}\n",
       "\n",
       "#sk-container-id-2 {\n",
       "  color: var(--sklearn-color-text);\n",
       "}\n",
       "\n",
       "#sk-container-id-2 pre {\n",
       "  padding: 0;\n",
       "}\n",
       "\n",
       "#sk-container-id-2 input.sk-hidden--visually {\n",
       "  border: 0;\n",
       "  clip: rect(1px 1px 1px 1px);\n",
       "  clip: rect(1px, 1px, 1px, 1px);\n",
       "  height: 1px;\n",
       "  margin: -1px;\n",
       "  overflow: hidden;\n",
       "  padding: 0;\n",
       "  position: absolute;\n",
       "  width: 1px;\n",
       "}\n",
       "\n",
       "#sk-container-id-2 div.sk-dashed-wrapped {\n",
       "  border: 1px dashed var(--sklearn-color-line);\n",
       "  margin: 0 0.4em 0.5em 0.4em;\n",
       "  box-sizing: border-box;\n",
       "  padding-bottom: 0.4em;\n",
       "  background-color: var(--sklearn-color-background);\n",
       "}\n",
       "\n",
       "#sk-container-id-2 div.sk-container {\n",
       "  /* jupyter's `normalize.less` sets `[hidden] { display: none; }`\n",
       "     but bootstrap.min.css set `[hidden] { display: none !important; }`\n",
       "     so we also need the `!important` here to be able to override the\n",
       "     default hidden behavior on the sphinx rendered scikit-learn.org.\n",
       "     See: https://github.com/scikit-learn/scikit-learn/issues/21755 */\n",
       "  display: inline-block !important;\n",
       "  position: relative;\n",
       "}\n",
       "\n",
       "#sk-container-id-2 div.sk-text-repr-fallback {\n",
       "  display: none;\n",
       "}\n",
       "\n",
       "div.sk-parallel-item,\n",
       "div.sk-serial,\n",
       "div.sk-item {\n",
       "  /* draw centered vertical line to link estimators */\n",
       "  background-image: linear-gradient(var(--sklearn-color-text-on-default-background), var(--sklearn-color-text-on-default-background));\n",
       "  background-size: 2px 100%;\n",
       "  background-repeat: no-repeat;\n",
       "  background-position: center center;\n",
       "}\n",
       "\n",
       "/* Parallel-specific style estimator block */\n",
       "\n",
       "#sk-container-id-2 div.sk-parallel-item::after {\n",
       "  content: \"\";\n",
       "  width: 100%;\n",
       "  border-bottom: 2px solid var(--sklearn-color-text-on-default-background);\n",
       "  flex-grow: 1;\n",
       "}\n",
       "\n",
       "#sk-container-id-2 div.sk-parallel {\n",
       "  display: flex;\n",
       "  align-items: stretch;\n",
       "  justify-content: center;\n",
       "  background-color: var(--sklearn-color-background);\n",
       "  position: relative;\n",
       "}\n",
       "\n",
       "#sk-container-id-2 div.sk-parallel-item {\n",
       "  display: flex;\n",
       "  flex-direction: column;\n",
       "}\n",
       "\n",
       "#sk-container-id-2 div.sk-parallel-item:first-child::after {\n",
       "  align-self: flex-end;\n",
       "  width: 50%;\n",
       "}\n",
       "\n",
       "#sk-container-id-2 div.sk-parallel-item:last-child::after {\n",
       "  align-self: flex-start;\n",
       "  width: 50%;\n",
       "}\n",
       "\n",
       "#sk-container-id-2 div.sk-parallel-item:only-child::after {\n",
       "  width: 0;\n",
       "}\n",
       "\n",
       "/* Serial-specific style estimator block */\n",
       "\n",
       "#sk-container-id-2 div.sk-serial {\n",
       "  display: flex;\n",
       "  flex-direction: column;\n",
       "  align-items: center;\n",
       "  background-color: var(--sklearn-color-background);\n",
       "  padding-right: 1em;\n",
       "  padding-left: 1em;\n",
       "}\n",
       "\n",
       "\n",
       "/* Toggleable style: style used for estimator/Pipeline/ColumnTransformer box that is\n",
       "clickable and can be expanded/collapsed.\n",
       "- Pipeline and ColumnTransformer use this feature and define the default style\n",
       "- Estimators will overwrite some part of the style using the `sk-estimator` class\n",
       "*/\n",
       "\n",
       "/* Pipeline and ColumnTransformer style (default) */\n",
       "\n",
       "#sk-container-id-2 div.sk-toggleable {\n",
       "  /* Default theme specific background. It is overwritten whether we have a\n",
       "  specific estimator or a Pipeline/ColumnTransformer */\n",
       "  background-color: var(--sklearn-color-background);\n",
       "}\n",
       "\n",
       "/* Toggleable label */\n",
       "#sk-container-id-2 label.sk-toggleable__label {\n",
       "  cursor: pointer;\n",
       "  display: block;\n",
       "  width: 100%;\n",
       "  margin-bottom: 0;\n",
       "  padding: 0.5em;\n",
       "  box-sizing: border-box;\n",
       "  text-align: center;\n",
       "}\n",
       "\n",
       "#sk-container-id-2 label.sk-toggleable__label-arrow:before {\n",
       "  /* Arrow on the left of the label */\n",
       "  content: \"▸\";\n",
       "  float: left;\n",
       "  margin-right: 0.25em;\n",
       "  color: var(--sklearn-color-icon);\n",
       "}\n",
       "\n",
       "#sk-container-id-2 label.sk-toggleable__label-arrow:hover:before {\n",
       "  color: var(--sklearn-color-text);\n",
       "}\n",
       "\n",
       "/* Toggleable content - dropdown */\n",
       "\n",
       "#sk-container-id-2 div.sk-toggleable__content {\n",
       "  max-height: 0;\n",
       "  max-width: 0;\n",
       "  overflow: hidden;\n",
       "  text-align: left;\n",
       "  /* unfitted */\n",
       "  background-color: var(--sklearn-color-unfitted-level-0);\n",
       "}\n",
       "\n",
       "#sk-container-id-2 div.sk-toggleable__content.fitted {\n",
       "  /* fitted */\n",
       "  background-color: var(--sklearn-color-fitted-level-0);\n",
       "}\n",
       "\n",
       "#sk-container-id-2 div.sk-toggleable__content pre {\n",
       "  margin: 0.2em;\n",
       "  border-radius: 0.25em;\n",
       "  color: var(--sklearn-color-text);\n",
       "  /* unfitted */\n",
       "  background-color: var(--sklearn-color-unfitted-level-0);\n",
       "}\n",
       "\n",
       "#sk-container-id-2 div.sk-toggleable__content.fitted pre {\n",
       "  /* unfitted */\n",
       "  background-color: var(--sklearn-color-fitted-level-0);\n",
       "}\n",
       "\n",
       "#sk-container-id-2 input.sk-toggleable__control:checked~div.sk-toggleable__content {\n",
       "  /* Expand drop-down */\n",
       "  max-height: 200px;\n",
       "  max-width: 100%;\n",
       "  overflow: auto;\n",
       "}\n",
       "\n",
       "#sk-container-id-2 input.sk-toggleable__control:checked~label.sk-toggleable__label-arrow:before {\n",
       "  content: \"▾\";\n",
       "}\n",
       "\n",
       "/* Pipeline/ColumnTransformer-specific style */\n",
       "\n",
       "#sk-container-id-2 div.sk-label input.sk-toggleable__control:checked~label.sk-toggleable__label {\n",
       "  color: var(--sklearn-color-text);\n",
       "  background-color: var(--sklearn-color-unfitted-level-2);\n",
       "}\n",
       "\n",
       "#sk-container-id-2 div.sk-label.fitted input.sk-toggleable__control:checked~label.sk-toggleable__label {\n",
       "  background-color: var(--sklearn-color-fitted-level-2);\n",
       "}\n",
       "\n",
       "/* Estimator-specific style */\n",
       "\n",
       "/* Colorize estimator box */\n",
       "#sk-container-id-2 div.sk-estimator input.sk-toggleable__control:checked~label.sk-toggleable__label {\n",
       "  /* unfitted */\n",
       "  background-color: var(--sklearn-color-unfitted-level-2);\n",
       "}\n",
       "\n",
       "#sk-container-id-2 div.sk-estimator.fitted input.sk-toggleable__control:checked~label.sk-toggleable__label {\n",
       "  /* fitted */\n",
       "  background-color: var(--sklearn-color-fitted-level-2);\n",
       "}\n",
       "\n",
       "#sk-container-id-2 div.sk-label label.sk-toggleable__label,\n",
       "#sk-container-id-2 div.sk-label label {\n",
       "  /* The background is the default theme color */\n",
       "  color: var(--sklearn-color-text-on-default-background);\n",
       "}\n",
       "\n",
       "/* On hover, darken the color of the background */\n",
       "#sk-container-id-2 div.sk-label:hover label.sk-toggleable__label {\n",
       "  color: var(--sklearn-color-text);\n",
       "  background-color: var(--sklearn-color-unfitted-level-2);\n",
       "}\n",
       "\n",
       "/* Label box, darken color on hover, fitted */\n",
       "#sk-container-id-2 div.sk-label.fitted:hover label.sk-toggleable__label.fitted {\n",
       "  color: var(--sklearn-color-text);\n",
       "  background-color: var(--sklearn-color-fitted-level-2);\n",
       "}\n",
       "\n",
       "/* Estimator label */\n",
       "\n",
       "#sk-container-id-2 div.sk-label label {\n",
       "  font-family: monospace;\n",
       "  font-weight: bold;\n",
       "  display: inline-block;\n",
       "  line-height: 1.2em;\n",
       "}\n",
       "\n",
       "#sk-container-id-2 div.sk-label-container {\n",
       "  text-align: center;\n",
       "}\n",
       "\n",
       "/* Estimator-specific */\n",
       "#sk-container-id-2 div.sk-estimator {\n",
       "  font-family: monospace;\n",
       "  border: 1px dotted var(--sklearn-color-border-box);\n",
       "  border-radius: 0.25em;\n",
       "  box-sizing: border-box;\n",
       "  margin-bottom: 0.5em;\n",
       "  /* unfitted */\n",
       "  background-color: var(--sklearn-color-unfitted-level-0);\n",
       "}\n",
       "\n",
       "#sk-container-id-2 div.sk-estimator.fitted {\n",
       "  /* fitted */\n",
       "  background-color: var(--sklearn-color-fitted-level-0);\n",
       "}\n",
       "\n",
       "/* on hover */\n",
       "#sk-container-id-2 div.sk-estimator:hover {\n",
       "  /* unfitted */\n",
       "  background-color: var(--sklearn-color-unfitted-level-2);\n",
       "}\n",
       "\n",
       "#sk-container-id-2 div.sk-estimator.fitted:hover {\n",
       "  /* fitted */\n",
       "  background-color: var(--sklearn-color-fitted-level-2);\n",
       "}\n",
       "\n",
       "/* Specification for estimator info (e.g. \"i\" and \"?\") */\n",
       "\n",
       "/* Common style for \"i\" and \"?\" */\n",
       "\n",
       ".sk-estimator-doc-link,\n",
       "a:link.sk-estimator-doc-link,\n",
       "a:visited.sk-estimator-doc-link {\n",
       "  float: right;\n",
       "  font-size: smaller;\n",
       "  line-height: 1em;\n",
       "  font-family: monospace;\n",
       "  background-color: var(--sklearn-color-background);\n",
       "  border-radius: 1em;\n",
       "  height: 1em;\n",
       "  width: 1em;\n",
       "  text-decoration: none !important;\n",
       "  margin-left: 1ex;\n",
       "  /* unfitted */\n",
       "  border: var(--sklearn-color-unfitted-level-1) 1pt solid;\n",
       "  color: var(--sklearn-color-unfitted-level-1);\n",
       "}\n",
       "\n",
       ".sk-estimator-doc-link.fitted,\n",
       "a:link.sk-estimator-doc-link.fitted,\n",
       "a:visited.sk-estimator-doc-link.fitted {\n",
       "  /* fitted */\n",
       "  border: var(--sklearn-color-fitted-level-1) 1pt solid;\n",
       "  color: var(--sklearn-color-fitted-level-1);\n",
       "}\n",
       "\n",
       "/* On hover */\n",
       "div.sk-estimator:hover .sk-estimator-doc-link:hover,\n",
       ".sk-estimator-doc-link:hover,\n",
       "div.sk-label-container:hover .sk-estimator-doc-link:hover,\n",
       ".sk-estimator-doc-link:hover {\n",
       "  /* unfitted */\n",
       "  background-color: var(--sklearn-color-unfitted-level-3);\n",
       "  color: var(--sklearn-color-background);\n",
       "  text-decoration: none;\n",
       "}\n",
       "\n",
       "div.sk-estimator.fitted:hover .sk-estimator-doc-link.fitted:hover,\n",
       ".sk-estimator-doc-link.fitted:hover,\n",
       "div.sk-label-container:hover .sk-estimator-doc-link.fitted:hover,\n",
       ".sk-estimator-doc-link.fitted:hover {\n",
       "  /* fitted */\n",
       "  background-color: var(--sklearn-color-fitted-level-3);\n",
       "  color: var(--sklearn-color-background);\n",
       "  text-decoration: none;\n",
       "}\n",
       "\n",
       "/* Span, style for the box shown on hovering the info icon */\n",
       ".sk-estimator-doc-link span {\n",
       "  display: none;\n",
       "  z-index: 9999;\n",
       "  position: relative;\n",
       "  font-weight: normal;\n",
       "  right: .2ex;\n",
       "  padding: .5ex;\n",
       "  margin: .5ex;\n",
       "  width: min-content;\n",
       "  min-width: 20ex;\n",
       "  max-width: 50ex;\n",
       "  color: var(--sklearn-color-text);\n",
       "  box-shadow: 2pt 2pt 4pt #999;\n",
       "  /* unfitted */\n",
       "  background: var(--sklearn-color-unfitted-level-0);\n",
       "  border: .5pt solid var(--sklearn-color-unfitted-level-3);\n",
       "}\n",
       "\n",
       ".sk-estimator-doc-link.fitted span {\n",
       "  /* fitted */\n",
       "  background: var(--sklearn-color-fitted-level-0);\n",
       "  border: var(--sklearn-color-fitted-level-3);\n",
       "}\n",
       "\n",
       ".sk-estimator-doc-link:hover span {\n",
       "  display: block;\n",
       "}\n",
       "\n",
       "/* \"?\"-specific style due to the `<a>` HTML tag */\n",
       "\n",
       "#sk-container-id-2 a.estimator_doc_link {\n",
       "  float: right;\n",
       "  font-size: 1rem;\n",
       "  line-height: 1em;\n",
       "  font-family: monospace;\n",
       "  background-color: var(--sklearn-color-background);\n",
       "  border-radius: 1rem;\n",
       "  height: 1rem;\n",
       "  width: 1rem;\n",
       "  text-decoration: none;\n",
       "  /* unfitted */\n",
       "  color: var(--sklearn-color-unfitted-level-1);\n",
       "  border: var(--sklearn-color-unfitted-level-1) 1pt solid;\n",
       "}\n",
       "\n",
       "#sk-container-id-2 a.estimator_doc_link.fitted {\n",
       "  /* fitted */\n",
       "  border: var(--sklearn-color-fitted-level-1) 1pt solid;\n",
       "  color: var(--sklearn-color-fitted-level-1);\n",
       "}\n",
       "\n",
       "/* On hover */\n",
       "#sk-container-id-2 a.estimator_doc_link:hover {\n",
       "  /* unfitted */\n",
       "  background-color: var(--sklearn-color-unfitted-level-3);\n",
       "  color: var(--sklearn-color-background);\n",
       "  text-decoration: none;\n",
       "}\n",
       "\n",
       "#sk-container-id-2 a.estimator_doc_link.fitted:hover {\n",
       "  /* fitted */\n",
       "  background-color: var(--sklearn-color-fitted-level-3);\n",
       "}\n",
       "</style><div id=\"sk-container-id-2\" class=\"sk-top-container\"><div class=\"sk-text-repr-fallback\"><pre>LinearRegression()</pre><b>In a Jupyter environment, please rerun this cell to show the HTML representation or trust the notebook. <br />On GitHub, the HTML representation is unable to render, please try loading this page with nbviewer.org.</b></div><div class=\"sk-container\" hidden><div class=\"sk-item\"><div class=\"sk-estimator fitted sk-toggleable\"><input class=\"sk-toggleable__control sk-hidden--visually\" id=\"sk-estimator-id-2\" type=\"checkbox\" checked><label for=\"sk-estimator-id-2\" class=\"sk-toggleable__label fitted sk-toggleable__label-arrow fitted\">&nbsp;&nbsp;LinearRegression<a class=\"sk-estimator-doc-link fitted\" rel=\"noreferrer\" target=\"_blank\" href=\"https://scikit-learn.org/1.5/modules/generated/sklearn.linear_model.LinearRegression.html\">?<span>Documentation for LinearRegression</span></a><span class=\"sk-estimator-doc-link fitted\">i<span>Fitted</span></span></label><div class=\"sk-toggleable__content fitted\"><pre>LinearRegression()</pre></div> </div></div></div></div>"
      ],
      "text/plain": [
       "LinearRegression()"
      ]
     },
     "execution_count": 25,
     "metadata": {},
     "output_type": "execute_result"
    }
   ],
   "source": [
    "from sklearn.linear_model import LinearRegression\n",
    "\n",
    "linear_regression_model = LinearRegression()\n",
    "linear_regression_model.fit(X_train_transformed, y_train)"
   ]
  },
  {
   "cell_type": "markdown",
   "metadata": {},
   "source": [
    " **Task 3.1.2: Assess the overall performance using `mean_square_error()` function with `squared=False` argument to measure the error average of the predicted house's price with respect to the actual price. <span style=\"color:red\">You need to do it on both training and testing.</span>**\n",
    "\n",
    " ![Alt text](https://docs.oracle.com/en/cloud/saas/planning-budgeting-cloud/pfusu/img/insights_rmse_formula.jpg)"
   ]
  },
  {
   "cell_type": "code",
   "execution_count": 26,
   "metadata": {},
   "outputs": [
    {
     "name": "stdout",
     "output_type": "stream",
     "text": [
      "Root Mean Square Error: train: 68542.09756453634 , test:  69400.20403287992\n",
      "Absolute Mean Error: train: 49540.16651057423 , test:  50582.766987339455\n"
     ]
    },
    {
     "name": "stderr",
     "output_type": "stream",
     "text": [
      "/home/mohamed/miniconda3/lib/python3.12/site-packages/sklearn/metrics/_regression.py:492: FutureWarning: 'squared' is deprecated in version 1.4 and will be removed in 1.6. To calculate the root mean squared error, use the function'root_mean_squared_error'.\n",
      "  warnings.warn(\n",
      "/home/mohamed/miniconda3/lib/python3.12/site-packages/sklearn/metrics/_regression.py:492: FutureWarning: 'squared' is deprecated in version 1.4 and will be removed in 1.6. To calculate the root mean squared error, use the function'root_mean_squared_error'.\n",
      "  warnings.warn(\n"
     ]
    }
   ],
   "source": [
    "from sklearn.metrics import mean_squared_error, mean_absolute_error\n",
    "\n",
    "# Use the train model to predict house prices for the training data\n",
    "y_train_prediction = linear_regression_model.predict(X_train_transformed)\n",
    "# Use the train model to predict house prices for the testing data\n",
    "y_test_prediction = linear_regression_model.predict(X_test_transformed)\n",
    "\n",
    "# Compute the RMSE ann the MAS for the predicted price of the training data and the actual price \n",
    "rmse_train = mean_squared_error(y_true=y_train,y_pred=y_train_prediction, squared=False)\n",
    "mas_train  = mean_absolute_error(y_true=y_train,y_pred=y_train_prediction)\n",
    "\n",
    "# Compute the RMSE ann the MAS for the predicted price of the training data and the actual price \n",
    "rmse_test = mean_squared_error(y_true=y_test,y_pred=y_test_prediction, squared=False)\n",
    "mas_test  = mean_absolute_error(y_true=y_test,y_pred=y_test_prediction)\n",
    "\n",
    "print(\"Root Mean Square Error: train:\",rmse_train, \", test: \", rmse_test)\n",
    "print(\"Absolute Mean Error: train:\",mas_train, \", test: \", mas_test)\n",
    "#in the book they are calculating the rmse for all? change it if it matters please"
   ]
  },
  {
   "cell_type": "markdown",
   "metadata": {},
   "source": [
    "**Question:** Based on the error shown in the training and testing dataset, does model suffer from overfitting or underfitting? Justify your answer."
   ]
  },
  {
   "cell_type": "markdown",
   "metadata": {},
   "source": [
    "No it doesn't overfit or underfit as the errors for the training and testing is close to each other."
   ]
  },
  {
   "cell_type": "markdown",
   "metadata": {},
   "source": [
    "**Question:** Given the MSE result above, what is your initial opinion of the prediction performance? Could you put an **error range** that the price prediction could have when it predicts the price for another house?"
   ]
  },
  {
   "cell_type": "markdown",
   "metadata": {},
   "source": [
    "We assume that the price is +/- 69400 from the predicted price"
   ]
  },
  {
   "cell_type": "markdown",
   "metadata": {},
   "source": [
    "**Task3.1.3: Pick random sample from the test dataset, predict the price, and display the actual and the predicted price for each with the absolute difference.**"
   ]
  },
  {
   "cell_type": "code",
   "execution_count": 27,
   "metadata": {},
   "outputs": [
    {
     "name": "stdout",
     "output_type": "stream",
     "text": [
      "Actual house price:  93600.0  Predicted price:  166082.65773116273  abs_error:  72482.65773116273\n",
      "Actual house price:  153600.0  Predicted price:  210820.0587284672  abs_error:  57220.05872846721\n",
      "Actual house price:  132500.0  Predicted price:  104433.22097642202  abs_error:  28066.779023577983\n",
      "Actual house price:  147900.0  Predicted price:  178408.570216519  abs_error:  30508.570216519\n",
      "Actual house price:  120700.0  Predicted price:  184704.89404781692  abs_error:  64004.894047816924\n"
     ]
    }
   ],
   "source": [
    "# Pick 5 samples\n",
    "five_samples = X_test_transformed.head()\n",
    "y_five_samples_actual =y_test.head()\n",
    "\n",
    "y_five_samples_prediction = linear_regression_model.predict(five_samples)\n",
    "\n",
    "for actual, prediction in zip(y_five_samples_actual, y_five_samples_prediction):\n",
    "    #print(f'Expected - Actual = {mas_test - abs(prediction - actual)}')\n",
    "    print('Actual house price: ', actual, ' Predicted price: ', prediction, ' abs_error: ', abs(prediction - actual))"
   ]
  },
  {
   "cell_type": "markdown",
   "metadata": {},
   "source": [
    "**Question:** From the absolute errors of the five samples, what is the difference between your expected error range, from ***last question***, and the highest and lowest absolute error value in the five samples?"
   ]
  },
  {
   "cell_type": "markdown",
   "metadata": {},
   "source": [
    "- Expected - Actual = -21899.890743823278\n",
    "- Expected - Actual = -6637.291741127752\n",
    "- Expected - Actual = 22515.987963761472\n",
    "- Expected - Actual = 20074.196770820454\n",
    "- Expected - Actual = -13422.127060477469\n",
    "- we can see that the lowest error was 28066 while the highest error was 72482"
   ]
  },
  {
   "cell_type": "markdown",
   "metadata": {},
   "source": [
    "**Question**: What is the new error range you expect while housing price prediction based on the absolute errors of the five samples?"
   ]
  },
  {
   "cell_type": "markdown",
   "metadata": {},
   "source": [
    "It would have a range of 50456.59193"
   ]
  },
  {
   "cell_type": "markdown",
   "metadata": {},
   "source": [
    "**Question**: Do you think this range will change if you changed the number of samples, i.e. ten instead of five? If **yes**, what is the best way, in your opinion, to have an estimation of the prediction error range for a new dataset, neither train/test?"
   ]
  },
  {
   "cell_type": "markdown",
   "metadata": {},
   "source": [
    "It will  slightly changes but eventually it will converges to the true error (or be close enough to it), which is around 50500."
   ]
  }
 ],
 "metadata": {
  "kernelspec": {
   "display_name": "base",
   "language": "python",
   "name": "python3"
  },
  "language_info": {
   "codemirror_mode": {
    "name": "ipython",
    "version": 3
   },
   "file_extension": ".py",
   "mimetype": "text/x-python",
   "name": "python",
   "nbconvert_exporter": "python",
   "pygments_lexer": "ipython3",
   "version": "3.12.2"
  },
  "nav_menu": {
   "height": "279px",
   "width": "309px"
  },
  "toc": {
   "nav_menu": {},
   "number_sections": true,
   "sideBar": true,
   "skip_h1_title": false,
   "toc_cell": false,
   "toc_position": {},
   "toc_section_display": "block",
   "toc_window_display": false
  }
 },
 "nbformat": 4,
 "nbformat_minor": 4
}
