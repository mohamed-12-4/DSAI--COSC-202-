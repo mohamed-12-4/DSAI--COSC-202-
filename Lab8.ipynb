{
 "cells": [
  {
   "cell_type": "markdown",
   "metadata": {},
   "source": [
    "## <center>Khalifa University</center>\n",
    "## <center>Computer Science Department\n",
    "### <center>ENGR 202: Data Science and Artificial Intelligence- Fall 2024\n",
    "# <center>Lab8: Supervised Machine Learning - Artificial Neural Network\n",
    "### Aim: \n",
    "\n",
    "This lab aims to introduce you to the artificial neural network model and its architectures used in classification and regression problems. You will use the knowledge you gained from the last labs to fine-tune its parameters. \n",
    "\n",
    "### Objectives:\t\t\n",
    "\n",
    "* Learn how to implement artificial neural networks (ANN) for regression and classification.\n",
    "\n",
    "* Solidate concepts of fine-tuning, training, and evaluation for machine learning models\n",
    "\n",
    "* Learn how to save the trained model weights locally and reuse them.\n",
    "\n",
    "#### Risk Assessment: Low\n"
   ]
  },
  {
   "cell_type": "markdown",
   "metadata": {},
   "source": [
    "# Introduction:\n",
    "\n",
    "The labs consist of two parts: you will practice the ANN model with classification problems, and the next part will familiarize you with ANN architecture with regression problems."
   ]
  },
  {
   "cell_type": "markdown",
   "metadata": {},
   "source": [
    "## Part (1): Artificial Neural Network with Classification Problem\n",
    "\n",
    "In this section, you will use the `MNIST` dataset to train a neural network model. `MNIST` consists of images containing numbers A-Z, and your goal is to train the model to correctly the contained letter for the given image. \n"
   ]
  },
  {
   "cell_type": "markdown",
   "metadata": {},
   "source": [
    "Run below code to load the training, validation, and testing dataset, and modify the missing parts."
   ]
  },
  {
   "cell_type": "code",
   "execution_count": 2,
   "metadata": {
    "scrolled": true
   },
   "outputs": [
    {
     "name": "stdout",
     "output_type": "stream",
     "text": [
      "Requirement already satisfied: tensorflow in /home/mohamed/miniconda3/lib/python3.12/site-packages (2.18.0)\n",
      "Requirement already satisfied: absl-py>=1.0.0 in /home/mohamed/miniconda3/lib/python3.12/site-packages (from tensorflow) (2.1.0)\n",
      "Requirement already satisfied: astunparse>=1.6.0 in /home/mohamed/miniconda3/lib/python3.12/site-packages (from tensorflow) (1.6.3)\n",
      "Requirement already satisfied: flatbuffers>=24.3.25 in /home/mohamed/miniconda3/lib/python3.12/site-packages (from tensorflow) (24.3.25)\n",
      "Requirement already satisfied: gast!=0.5.0,!=0.5.1,!=0.5.2,>=0.2.1 in /home/mohamed/miniconda3/lib/python3.12/site-packages (from tensorflow) (0.6.0)\n",
      "Requirement already satisfied: google-pasta>=0.1.1 in /home/mohamed/miniconda3/lib/python3.12/site-packages (from tensorflow) (0.2.0)\n",
      "Requirement already satisfied: libclang>=13.0.0 in /home/mohamed/miniconda3/lib/python3.12/site-packages (from tensorflow) (18.1.1)\n",
      "Requirement already satisfied: opt-einsum>=2.3.2 in /home/mohamed/miniconda3/lib/python3.12/site-packages (from tensorflow) (3.4.0)\n",
      "Requirement already satisfied: packaging in /home/mohamed/miniconda3/lib/python3.12/site-packages (from tensorflow) (23.2)\n",
      "Requirement already satisfied: protobuf!=4.21.0,!=4.21.1,!=4.21.2,!=4.21.3,!=4.21.4,!=4.21.5,<6.0.0dev,>=3.20.3 in /home/mohamed/miniconda3/lib/python3.12/site-packages (from tensorflow) (5.28.3)\n",
      "Requirement already satisfied: requests<3,>=2.21.0 in /home/mohamed/miniconda3/lib/python3.12/site-packages (from tensorflow) (2.31.0)\n",
      "Requirement already satisfied: setuptools in /home/mohamed/miniconda3/lib/python3.12/site-packages (from tensorflow) (68.2.2)\n",
      "Requirement already satisfied: six>=1.12.0 in /home/mohamed/miniconda3/lib/python3.12/site-packages (from tensorflow) (1.16.0)\n",
      "Requirement already satisfied: termcolor>=1.1.0 in /home/mohamed/miniconda3/lib/python3.12/site-packages (from tensorflow) (2.5.0)\n",
      "Requirement already satisfied: typing-extensions>=3.6.6 in /home/mohamed/miniconda3/lib/python3.12/site-packages (from tensorflow) (4.11.0)\n",
      "Requirement already satisfied: wrapt>=1.11.0 in /home/mohamed/miniconda3/lib/python3.12/site-packages (from tensorflow) (1.16.0)\n",
      "Requirement already satisfied: grpcio<2.0,>=1.24.3 in /home/mohamed/miniconda3/lib/python3.12/site-packages (from tensorflow) (1.67.1)\n",
      "Requirement already satisfied: tensorboard<2.19,>=2.18 in /home/mohamed/miniconda3/lib/python3.12/site-packages (from tensorflow) (2.18.0)\n",
      "Requirement already satisfied: keras>=3.5.0 in /home/mohamed/miniconda3/lib/python3.12/site-packages (from tensorflow) (3.6.0)\n",
      "Requirement already satisfied: numpy<2.1.0,>=1.26.0 in /home/mohamed/miniconda3/lib/python3.12/site-packages (from tensorflow) (1.26.4)\n",
      "Requirement already satisfied: h5py>=3.11.0 in /home/mohamed/miniconda3/lib/python3.12/site-packages (from tensorflow) (3.12.1)\n",
      "Requirement already satisfied: ml-dtypes<0.5.0,>=0.4.0 in /home/mohamed/miniconda3/lib/python3.12/site-packages (from tensorflow) (0.4.1)\n",
      "Requirement already satisfied: wheel<1.0,>=0.23.0 in /home/mohamed/miniconda3/lib/python3.12/site-packages (from astunparse>=1.6.0->tensorflow) (0.41.2)\n",
      "Requirement already satisfied: rich in /home/mohamed/miniconda3/lib/python3.12/site-packages (from keras>=3.5.0->tensorflow) (13.9.4)\n",
      "Requirement already satisfied: namex in /home/mohamed/miniconda3/lib/python3.12/site-packages (from keras>=3.5.0->tensorflow) (0.0.8)\n",
      "Requirement already satisfied: optree in /home/mohamed/miniconda3/lib/python3.12/site-packages (from keras>=3.5.0->tensorflow) (0.13.0)\n",
      "Requirement already satisfied: charset-normalizer<4,>=2 in /home/mohamed/miniconda3/lib/python3.12/site-packages (from requests<3,>=2.21.0->tensorflow) (2.0.4)\n",
      "Requirement already satisfied: idna<4,>=2.5 in /home/mohamed/miniconda3/lib/python3.12/site-packages (from requests<3,>=2.21.0->tensorflow) (3.4)\n",
      "Requirement already satisfied: urllib3<3,>=1.21.1 in /home/mohamed/miniconda3/lib/python3.12/site-packages (from requests<3,>=2.21.0->tensorflow) (2.1.0)\n",
      "Requirement already satisfied: certifi>=2017.4.17 in /home/mohamed/miniconda3/lib/python3.12/site-packages (from requests<3,>=2.21.0->tensorflow) (2024.2.2)\n",
      "Requirement already satisfied: markdown>=2.6.8 in /home/mohamed/miniconda3/lib/python3.12/site-packages (from tensorboard<2.19,>=2.18->tensorflow) (3.7)\n",
      "Requirement already satisfied: tensorboard-data-server<0.8.0,>=0.7.0 in /home/mohamed/miniconda3/lib/python3.12/site-packages (from tensorboard<2.19,>=2.18->tensorflow) (0.7.2)\n",
      "Requirement already satisfied: werkzeug>=1.0.1 in /home/mohamed/miniconda3/lib/python3.12/site-packages (from tensorboard<2.19,>=2.18->tensorflow) (3.1.1)\n",
      "Requirement already satisfied: MarkupSafe>=2.1.1 in /home/mohamed/miniconda3/lib/python3.12/site-packages (from werkzeug>=1.0.1->tensorboard<2.19,>=2.18->tensorflow) (2.1.3)\n",
      "Requirement already satisfied: markdown-it-py>=2.2.0 in /home/mohamed/miniconda3/lib/python3.12/site-packages (from rich->keras>=3.5.0->tensorflow) (3.0.0)\n",
      "Requirement already satisfied: pygments<3.0.0,>=2.13.0 in /home/mohamed/miniconda3/lib/python3.12/site-packages (from rich->keras>=3.5.0->tensorflow) (2.18.0)\n",
      "Requirement already satisfied: mdurl~=0.1 in /home/mohamed/miniconda3/lib/python3.12/site-packages (from markdown-it-py>=2.2.0->rich->keras>=3.5.0->tensorflow) (0.1.2)\n"
     ]
    },
    {
     "name": "stderr",
     "output_type": "stream",
     "text": [
      "2024-11-04 11:33:37.201563: I external/local_xla/xla/tsl/cuda/cudart_stub.cc:32] Could not find cuda drivers on your machine, GPU will not be used.\n",
      "2024-11-04 11:33:37.205487: I external/local_xla/xla/tsl/cuda/cudart_stub.cc:32] Could not find cuda drivers on your machine, GPU will not be used.\n",
      "2024-11-04 11:33:37.214349: E external/local_xla/xla/stream_executor/cuda/cuda_fft.cc:477] Unable to register cuFFT factory: Attempting to register factory for plugin cuFFT when one has already been registered\n",
      "WARNING: All log messages before absl::InitializeLog() is called are written to STDERR\n",
      "E0000 00:00:1730705617.229421    1733 cuda_dnn.cc:8310] Unable to register cuDNN factory: Attempting to register factory for plugin cuDNN when one has already been registered\n",
      "E0000 00:00:1730705617.233739    1733 cuda_blas.cc:1418] Unable to register cuBLAS factory: Attempting to register factory for plugin cuBLAS when one has already been registered\n",
      "2024-11-04 11:33:37.249968: I tensorflow/core/platform/cpu_feature_guard.cc:210] This TensorFlow binary is optimized to use available CPU instructions in performance-critical operations.\n",
      "To enable the following instructions: AVX2 FMA, in other operations, rebuild TensorFlow with the appropriate compiler flags.\n"
     ]
    }
   ],
   "source": [
    "!pip install tensorflow\n",
    "\n",
    "from tensorflow import keras\n",
    "\n",
    "(train_images, train_labels), (test_images, test_labels) = keras.datasets.mnist.load_data()"
   ]
  },
  {
   "cell_type": "markdown",
   "metadata": {},
   "source": [
    "**Q1** Split the training dataset into 80% training and 20% validation"
   ]
  },
  {
   "cell_type": "code",
   "execution_count": 3,
   "metadata": {},
   "outputs": [],
   "source": [
    "from sklearn.model_selection import train_test_split\n",
    "\n",
    "train_images, val_images = train_test_split(train_images, test_size=0.2, random_state=42)\n",
    "train_labels, val_labels = train_test_split(train_labels, test_size=0.2, random_state=42)"
   ]
  },
  {
   "cell_type": "markdown",
   "metadata": {},
   "source": [
    "**Q2**: Print the size of the train, test, and validation datasets. (Labels only) "
   ]
  },
  {
   "cell_type": "code",
   "execution_count": 4,
   "metadata": {},
   "outputs": [
    {
     "name": "stdout",
     "output_type": "stream",
     "text": [
      "(48000,) (10000,) (12000,)\n"
     ]
    }
   ],
   "source": [
    "print(train_labels.shape, test_labels.shape, val_labels.shape)"
   ]
  },
  {
   "cell_type": "markdown",
   "metadata": {},
   "source": [
    "We want to ensure that the pixel value is in type `float32` to prevent exceptions (errors) during the data preprocessing. Moreover, the neural network does not accept images, like 28x28. Instead, the images should be flattened\n",
    "\n",
    "**Q3** Flatten the splits data using `reshape` and convert it into `float32` type using `astype()` method."
   ]
  },
  {
   "cell_type": "code",
   "execution_count": 5,
   "metadata": {},
   "outputs": [],
   "source": [
    "train_images = train_images.reshape(-1, 28 * 28).astype('float32')\n",
    "# Do the same for the testing and validation images.\n",
    "test_images = test_images.reshape(-1, 28 * 28).astype('float32')\n",
    "val_images = val_images.reshape(-1, 28 * 28).astype('float32')"
   ]
  },
  {
   "cell_type": "markdown",
   "metadata": {},
   "source": [
    "**Q4** Why we do not do the same on the labels?"
   ]
  },
  {
   "cell_type": "markdown",
   "metadata": {},
   "source": [
    "Since the labels are already a single value we do not need to flatten it or reshape it into lower dimension"
   ]
  },
  {
   "cell_type": "markdown",
   "metadata": {},
   "source": [
    "Neural network models work well when the input data is in the same range, say 0-1. Hence, normalize the pixels of all splits to be between 0-1 by dividing by 255.\n",
    "\n",
    "**Q3** Print pixels of the first image in the training data, then scale image pixels to be between 0-1 instead of 0-255 for all splits and re-print the pixels of the first image in the training data. "
   ]
  },
  {
   "cell_type": "code",
   "execution_count": 6,
   "metadata": {},
   "outputs": [
    {
     "name": "stdout",
     "output_type": "stream",
     "text": [
      "pixels before normalization \n",
      "[  0.   0.   0.   0.   0.   0.   0.   0.   0.   0.   0.   0.   0.   0.\n",
      "   0.   0.   0.   0.   0.   0.   0.   0.   0.   0.   0.   0.   0.   0.\n",
      "   0.   0.   0.   0.   0.   0.   0.   0.   0.   0.   0.   0.   0.   0.\n",
      "   0.   0.   0.   0.   0.   0.   0.   0.   0.   0.   0.   0.   0.   0.\n",
      "   0.   0.   0.   0.   0.   0.   0.   0.   0.   0.   0.   0.   0.   0.\n",
      "   0.   0.   0.   0.   0.   0.   0.   0.   0.   0.   0.   0.   0.   0.\n",
      "   0.   0.   0.   0.   0.   0.   0.   0.   0.   0.   0.   0.   0.   0.\n",
      "   0.   0.   0.   0.   0.   0.   0.   0.   0.   0.   0.   0.   0.   0.\n",
      "   0.   0.   0.   0.   0.   0.   0.   0.   0.   0.   0.   0.   0.   0.\n",
      "   0.   0.   0.   0.   0.   0.   0.   0.   0.   0.   0.   0.   0.   0.\n",
      "   0.   0.   0.   0.   0.   0.   0.   0.   0.   0.   0.   0.   0.   0.\n",
      "   0.   0.   0.   0.   0.  17.  47.  47.  47.  47.  47.  47.  28.   0.\n",
      "   0.   0.   0.   0.   0.   0.   0.   0.   0.  14.  63.   0.   0.   0.\n",
      "  62. 138. 197. 197. 197. 217. 253. 253. 253. 253. 253. 253. 230.   0.\n",
      "   0.   0.   0.   0.   0.   0.   0.   0.   0. 151. 170.   0.  56. 232.\n",
      " 250. 253. 231. 217. 217. 217. 217. 217. 217. 217. 128. 179. 132.   0.\n",
      "   0.   0.   0.   0.   0.   0.   0.   0. 104. 251. 170.  20. 233. 253.\n",
      " 199.  84.  26.   0.   0.   0.   0.   0.   0.   0.   0.   0.   0.   0.\n",
      "   0.   0.   0.   0.   0.   0.   0.   5. 203. 253. 160.   3.  20.  20.\n",
      "   7.   0.   0.   0.   0.   0.   0.   0.   0.   0.   0.   0.   0.   0.\n",
      "   0.   0.   0.   0.   0.   0.   0.  77. 253. 228.  21.   0.   0.   0.\n",
      "   0.   0.   0.   0.   0.   0.   0.   0.   0.   0.   0.   0.   0.   0.\n",
      "   0.   0.   0.   0.   0.   0.   0. 150. 253. 249. 223. 223. 193.  71.\n",
      "   6.   0.   0.   0.   0.   0.   0.   0.   0.   0.   0.   0.   0.   0.\n",
      "   0.   0.   0.   0.   0.   0.   0. 126. 253. 253. 253. 253. 253. 253.\n",
      " 196. 121.   0.   0.   0.   0.   0.   0.   0.   0.   0.   0.   0.   0.\n",
      "   0.   0.   0.   0.   0.   0.   0.   8. 202. 191. 144. 144. 217. 251.\n",
      " 253. 253. 170.   4.   0.   0.   0.   0.   0.   0.   0.   0.   0.   0.\n",
      "   0.   0.   0.   0.   0.   0.   0.   0.   0.   0.   0.   0.   0.  53.\n",
      " 236. 253. 253. 215.   3.   0.   0.   0.   0.   0.   0.   0.   0.   0.\n",
      "   0.   0.   0.   0.   0.   0.   0.   0.   0.   0.   0.   0.   0.   0.\n",
      "  34. 180. 253. 253. 128.   0.   0.   0.   0.   0.   0.   0.   0.   0.\n",
      "   0.   0.   0.   0.   0.   0.   0.   0.   0.   0.   0.   0.   0.   0.\n",
      "   0.   2. 140. 253. 236.  36.   0.   0.   0.   0.   0.   0.   0.   0.\n",
      "   0.   0.   0.   0.   0.   0.   0.  37.   0.   0.   0.   0.   0.   0.\n",
      "   0.   0.  13. 215. 253.  62.   0.   0.   0.   0.   0.   0.   0.   0.\n",
      "   0.   0.   0.   0.   0.   0.   0. 246.  53.   0.   0.   0.   0.   0.\n",
      "   0.   0.   0. 105. 253.  62.   0.   0.   0.   0.   0.   0.   0.   0.\n",
      "   0.   0.   0.   0.   0.   0.   0. 254.  57.   0.   0.   0.   0.   0.\n",
      "   0.   0.   0.  99. 253.  62.   0.   0.   0.   0.   0.   0.   0.   0.\n",
      "   0.   0.   0.   0.   0.   0.   0. 255.  65.   0.   0.   0.   0.   0.\n",
      "   0.   0.  35. 217. 253.  62.   0.   0.   0.   0.   0.   0.   0.   0.\n",
      "   0.   0.   0.   0.   0.   0.   0. 227. 223. 115.  18.   0.   0.   5.\n",
      "  68. 113. 222. 253. 242.  46.   0.   0.   0.   0.   0.   0.   0.   0.\n",
      "   0.   0.   0.   0.   0.   0.   0.  41. 224. 253. 227. 218. 218. 220.\n",
      " 253. 253. 253. 249.  76.   0.   0.   0.   0.   0.   0.   0.   0.   0.\n",
      "   0.   0.   0.   0.   0.   0.   0.   0.  35. 150. 215. 253. 253. 253.\n",
      " 253. 205. 175.  57.   0.   0.   0.   0.   0.   0.   0.   0.   0.   0.\n",
      "   0.   0.   0.   0.   0.   0.   0.   0.   0.   0.  16.  46.  46.  46.\n",
      "  46.   8.   0.   0.   0.   0.   0.   0.   0.   0.   0.   0.   0.   0.\n",
      "   0.   0.   0.   0.   0.   0.   0.   0.   0.   0.   0.   0.   0.   0.\n",
      "   0.   0.   0.   0.   0.   0.   0.   0.   0.   0.   0.   0.   0.   0.\n",
      "   0.   0.   0.   0.   0.   0.   0.   0.   0.   0.   0.   0.   0.   0.\n",
      "   0.   0.   0.   0.   0.   0.   0.   0.   0.   0.   0.   0.   0.   0.\n",
      "   0.   0.   0.   0.   0.   0.   0.   0.   0.   0.   0.   0.   0.   0.\n",
      "   0.   0.   0.   0.   0.   0.   0.   0.   0.   0.   0.   0.   0.   0.]\n",
      "pixels after normalization \n",
      "[0.         0.         0.         0.         0.         0.\n",
      " 0.         0.         0.         0.         0.         0.\n",
      " 0.         0.         0.         0.         0.         0.\n",
      " 0.         0.         0.         0.         0.         0.\n",
      " 0.         0.         0.         0.         0.         0.\n",
      " 0.         0.         0.         0.         0.         0.\n",
      " 0.         0.         0.         0.         0.         0.\n",
      " 0.         0.         0.         0.         0.         0.\n",
      " 0.         0.         0.         0.         0.         0.\n",
      " 0.         0.         0.         0.         0.         0.\n",
      " 0.         0.         0.         0.         0.         0.\n",
      " 0.         0.         0.         0.         0.         0.\n",
      " 0.         0.         0.         0.         0.         0.\n",
      " 0.         0.         0.         0.         0.         0.\n",
      " 0.         0.         0.         0.         0.         0.\n",
      " 0.         0.         0.         0.         0.         0.\n",
      " 0.         0.         0.         0.         0.         0.\n",
      " 0.         0.         0.         0.         0.         0.\n",
      " 0.         0.         0.         0.         0.         0.\n",
      " 0.         0.         0.         0.         0.         0.\n",
      " 0.         0.         0.         0.         0.         0.\n",
      " 0.         0.         0.         0.         0.         0.\n",
      " 0.         0.         0.         0.         0.         0.\n",
      " 0.         0.         0.         0.         0.         0.\n",
      " 0.         0.         0.         0.         0.         0.\n",
      " 0.         0.         0.         0.         0.         0.\n",
      " 0.         0.         0.         0.06666667 0.18431373 0.18431373\n",
      " 0.18431373 0.18431373 0.18431373 0.18431373 0.10980392 0.\n",
      " 0.         0.         0.         0.         0.         0.\n",
      " 0.         0.         0.         0.05490196 0.24705882 0.\n",
      " 0.         0.         0.24313726 0.5411765  0.77254903 0.77254903\n",
      " 0.77254903 0.8509804  0.99215686 0.99215686 0.99215686 0.99215686\n",
      " 0.99215686 0.99215686 0.9019608  0.         0.         0.\n",
      " 0.         0.         0.         0.         0.         0.\n",
      " 0.         0.5921569  0.6666667  0.         0.21960784 0.9098039\n",
      " 0.98039216 0.99215686 0.90588236 0.8509804  0.8509804  0.8509804\n",
      " 0.8509804  0.8509804  0.8509804  0.8509804  0.5019608  0.7019608\n",
      " 0.5176471  0.         0.         0.         0.         0.\n",
      " 0.         0.         0.         0.         0.40784314 0.9843137\n",
      " 0.6666667  0.07843138 0.9137255  0.99215686 0.78039217 0.32941177\n",
      " 0.10196079 0.         0.         0.         0.         0.\n",
      " 0.         0.         0.         0.         0.         0.\n",
      " 0.         0.         0.         0.         0.         0.\n",
      " 0.         0.01960784 0.79607844 0.99215686 0.627451   0.01176471\n",
      " 0.07843138 0.07843138 0.02745098 0.         0.         0.\n",
      " 0.         0.         0.         0.         0.         0.\n",
      " 0.         0.         0.         0.         0.         0.\n",
      " 0.         0.         0.         0.         0.         0.3019608\n",
      " 0.99215686 0.89411765 0.08235294 0.         0.         0.\n",
      " 0.         0.         0.         0.         0.         0.\n",
      " 0.         0.         0.         0.         0.         0.\n",
      " 0.         0.         0.         0.         0.         0.\n",
      " 0.         0.         0.         0.5882353  0.99215686 0.9764706\n",
      " 0.8745098  0.8745098  0.75686276 0.2784314  0.02352941 0.\n",
      " 0.         0.         0.         0.         0.         0.\n",
      " 0.         0.         0.         0.         0.         0.\n",
      " 0.         0.         0.         0.         0.         0.\n",
      " 0.         0.49411765 0.99215686 0.99215686 0.99215686 0.99215686\n",
      " 0.99215686 0.99215686 0.76862746 0.4745098  0.         0.\n",
      " 0.         0.         0.         0.         0.         0.\n",
      " 0.         0.         0.         0.         0.         0.\n",
      " 0.         0.         0.         0.         0.         0.03137255\n",
      " 0.7921569  0.7490196  0.5647059  0.5647059  0.8509804  0.9843137\n",
      " 0.99215686 0.99215686 0.6666667  0.01568628 0.         0.\n",
      " 0.         0.         0.         0.         0.         0.\n",
      " 0.         0.         0.         0.         0.         0.\n",
      " 0.         0.         0.         0.         0.         0.\n",
      " 0.         0.         0.         0.20784314 0.9254902  0.99215686\n",
      " 0.99215686 0.84313726 0.01176471 0.         0.         0.\n",
      " 0.         0.         0.         0.         0.         0.\n",
      " 0.         0.         0.         0.         0.         0.\n",
      " 0.         0.         0.         0.         0.         0.\n",
      " 0.         0.         0.13333334 0.7058824  0.99215686 0.99215686\n",
      " 0.5019608  0.         0.         0.         0.         0.\n",
      " 0.         0.         0.         0.         0.         0.\n",
      " 0.         0.         0.         0.         0.         0.\n",
      " 0.         0.         0.         0.         0.         0.\n",
      " 0.         0.00784314 0.54901963 0.99215686 0.9254902  0.14117648\n",
      " 0.         0.         0.         0.         0.         0.\n",
      " 0.         0.         0.         0.         0.         0.\n",
      " 0.         0.         0.         0.14509805 0.         0.\n",
      " 0.         0.         0.         0.         0.         0.\n",
      " 0.05098039 0.84313726 0.99215686 0.24313726 0.         0.\n",
      " 0.         0.         0.         0.         0.         0.\n",
      " 0.         0.         0.         0.         0.         0.\n",
      " 0.         0.9647059  0.20784314 0.         0.         0.\n",
      " 0.         0.         0.         0.         0.         0.4117647\n",
      " 0.99215686 0.24313726 0.         0.         0.         0.\n",
      " 0.         0.         0.         0.         0.         0.\n",
      " 0.         0.         0.         0.         0.         0.99607843\n",
      " 0.22352941 0.         0.         0.         0.         0.\n",
      " 0.         0.         0.         0.3882353  0.99215686 0.24313726\n",
      " 0.         0.         0.         0.         0.         0.\n",
      " 0.         0.         0.         0.         0.         0.\n",
      " 0.         0.         0.         1.         0.25490198 0.\n",
      " 0.         0.         0.         0.         0.         0.\n",
      " 0.13725491 0.8509804  0.99215686 0.24313726 0.         0.\n",
      " 0.         0.         0.         0.         0.         0.\n",
      " 0.         0.         0.         0.         0.         0.\n",
      " 0.         0.8901961  0.8745098  0.4509804  0.07058824 0.\n",
      " 0.         0.01960784 0.26666668 0.44313726 0.87058824 0.99215686\n",
      " 0.9490196  0.18039216 0.         0.         0.         0.\n",
      " 0.         0.         0.         0.         0.         0.\n",
      " 0.         0.         0.         0.         0.         0.16078432\n",
      " 0.8784314  0.99215686 0.8901961  0.85490197 0.85490197 0.8627451\n",
      " 0.99215686 0.99215686 0.99215686 0.9764706  0.29803923 0.\n",
      " 0.         0.         0.         0.         0.         0.\n",
      " 0.         0.         0.         0.         0.         0.\n",
      " 0.         0.         0.         0.         0.13725491 0.5882353\n",
      " 0.84313726 0.99215686 0.99215686 0.99215686 0.99215686 0.8039216\n",
      " 0.6862745  0.22352941 0.         0.         0.         0.\n",
      " 0.         0.         0.         0.         0.         0.\n",
      " 0.         0.         0.         0.         0.         0.\n",
      " 0.         0.         0.         0.         0.0627451  0.18039216\n",
      " 0.18039216 0.18039216 0.18039216 0.03137255 0.         0.\n",
      " 0.         0.         0.         0.         0.         0.\n",
      " 0.         0.         0.         0.         0.         0.\n",
      " 0.         0.         0.         0.         0.         0.\n",
      " 0.         0.         0.         0.         0.         0.\n",
      " 0.         0.         0.         0.         0.         0.\n",
      " 0.         0.         0.         0.         0.         0.\n",
      " 0.         0.         0.         0.         0.         0.\n",
      " 0.         0.         0.         0.         0.         0.\n",
      " 0.         0.         0.         0.         0.         0.\n",
      " 0.         0.         0.         0.         0.         0.\n",
      " 0.         0.         0.         0.         0.         0.\n",
      " 0.         0.         0.         0.         0.         0.\n",
      " 0.         0.         0.         0.         0.         0.\n",
      " 0.         0.         0.         0.         0.         0.\n",
      " 0.         0.         0.         0.         0.         0.\n",
      " 0.         0.         0.         0.        ]\n"
     ]
    }
   ],
   "source": [
    "# Print pixels of the first image in the training data\n",
    "print(f'pixels before normalization \\n{train_images[0]}')\n",
    "\n",
    "train_images/=255.0\n",
    "# Do the same for validation and test\n",
    "\n",
    "print(f'pixels after normalization \\n{train_images[0]}')\n"
   ]
  },
  {
   "cell_type": "markdown",
   "metadata": {},
   "source": [
    "In a classification task, the neural network accepts an image that belongs to a specific class and then predicts the probability of each class. This probability value presents how likely/unlikely this image belongs to that class. For instance, the input image contains the number 3; since you have ten classes [0-9], the model will predict a vector of ten probability values. If the model is well-trained, class `3` should have the highest probability. \n",
    "\n",
    "In your labels, each image corresponds to one value only, not a vector, as in the model we described earlier. Hence, you need to apply one-hot encoding to the label so that each label is a vector of size ten. The vector should have values of 0s except for the correct class; it will have a value of 1. You can use `to_categorical(data, number_of_classes)` method to do the categorization for you.\n",
    "\n",
    "\n",
    "**Q4**: Initially, print the label of the first image in the training data. Next, use the `to_categorical()` method to convert all labels to a one-hot encoding format. Lastly, re-print the label of the first image in the training data. "
   ]
  },
  {
   "cell_type": "code",
   "execution_count": 7,
   "metadata": {
    "scrolled": true
   },
   "outputs": [
    {
     "name": "stdout",
     "output_type": "stream",
     "text": [
      "First image label is : 5\n",
      "First image label is : [0. 0. 0. 0. 0. 1. 0. 0. 0. 0.]\n"
     ]
    }
   ],
   "source": [
    "print(f'First image label is : {train_labels[0]}')\n",
    "\n",
    "num_classes = 10\n",
    "\n",
    "train_labels = keras.utils.to_categorical(train_labels, num_classes)\n",
    "# To the same for the validation and test splits\n",
    "val_labels = keras.utils.to_categorical(val_labels, num_classes)\n",
    "test_labels = keras.utils.to_categorical(test_labels, num_classes)\n",
    "\n",
    "print(f'First image label is : {train_labels[0]}')"
   ]
  },
  {
   "cell_type": "markdown",
   "metadata": {},
   "source": [
    "Now, the data is ready to be trained on a neural network model. You need to initialize the model architecture.\n",
    "\n",
    "As you learned in the lecture, a neural network consists of layers (called dense layers), each consisting of a number of neurons followed by an activation layer that provides non-linearity to the learning process. Since neural networks can suffer from overfitting during training, you can overcome it by using a `Dropout()` layer that deactivates some neurons randomly in a layer.  \n",
    "\n",
    "Given the scheme below, define a neural network model as follows:\n",
    "\n",
    "**Scheme**\n",
    "```python\n",
    "model = keras.Sequential([\n",
    "    # Input layer that accepts image of size 5 x 5 with 512 neurons, and activation function called 'relu'.\n",
    "    layers.Dense(512, activation='relu', input_shape=(5 * 5,)), \n",
    "    # a dropout layer that deactivates about 20% of the neurons in the layer randomly. \n",
    "    layers.Dropout(0.2),  # Dropout for regularization\n",
    "    # an output layer of 3 classes normalized by `softmax` (Softmax is used to make the sum of the probabilities equal to 1.)\n",
    "    layers.Dense(3, activation='softmax')  # Output layer\n",
    "]) \n",
    "```\n",
    "\n",
    "**Q5** Define a neural network model as follows:\n",
    "\n",
    "1. An input layer accepts an image of 28x28 with a `real` activation function and 128 neurons.\n",
    "2. A dropout layer that deactivates 10% of the neurons.\n",
    "3. Another layer of 128 neurons with `relu` activation function. (No need to enter the input size)\n",
    "4. A dropout layer that deactivates 10% of the neurons.\n",
    "5. An output layer with neurons equal to the number of classes you have with `softmax` activation function.\n",
    "6. Use `summary()` method to display the model architecture & parameters."
   ]
  },
  {
   "cell_type": "code",
   "execution_count": 8,
   "metadata": {},
   "outputs": [
    {
     "name": "stderr",
     "output_type": "stream",
     "text": [
      "/home/mohamed/miniconda3/lib/python3.12/site-packages/keras/src/layers/core/dense.py:87: UserWarning: Do not pass an `input_shape`/`input_dim` argument to a layer. When using Sequential models, prefer using an `Input(shape)` object as the first layer in the model instead.\n",
      "  super().__init__(activity_regularizer=activity_regularizer, **kwargs)\n",
      "W0000 00:00:1730705621.715998    1733 gpu_device.cc:2344] Cannot dlopen some GPU libraries. Please make sure the missing libraries mentioned above are installed properly if you would like to use GPU. Follow the guide at https://www.tensorflow.org/install/gpu for how to download and setup the required libraries for your platform.\n",
      "Skipping registering GPU devices...\n"
     ]
    },
    {
     "data": {
      "text/html": [
       "<pre style=\"white-space:pre;overflow-x:auto;line-height:normal;font-family:Menlo,'DejaVu Sans Mono',consolas,'Courier New',monospace\"><span style=\"font-weight: bold\">Model: \"sequential\"</span>\n",
       "</pre>\n"
      ],
      "text/plain": [
       "\u001b[1mModel: \"sequential\"\u001b[0m\n"
      ]
     },
     "metadata": {},
     "output_type": "display_data"
    },
    {
     "data": {
      "text/html": [
       "<pre style=\"white-space:pre;overflow-x:auto;line-height:normal;font-family:Menlo,'DejaVu Sans Mono',consolas,'Courier New',monospace\">┏━━━━━━━━━━━━━━━━━━━━━━━━━━━━━━━━━┳━━━━━━━━━━━━━━━━━━━━━━━━┳━━━━━━━━━━━━━━━┓\n",
       "┃<span style=\"font-weight: bold\"> Layer (type)                    </span>┃<span style=\"font-weight: bold\"> Output Shape           </span>┃<span style=\"font-weight: bold\">       Param # </span>┃\n",
       "┡━━━━━━━━━━━━━━━━━━━━━━━━━━━━━━━━━╇━━━━━━━━━━━━━━━━━━━━━━━━╇━━━━━━━━━━━━━━━┩\n",
       "│ dense (<span style=\"color: #0087ff; text-decoration-color: #0087ff\">Dense</span>)                   │ (<span style=\"color: #00d7ff; text-decoration-color: #00d7ff\">None</span>, <span style=\"color: #00af00; text-decoration-color: #00af00\">128</span>)            │       <span style=\"color: #00af00; text-decoration-color: #00af00\">100,480</span> │\n",
       "├─────────────────────────────────┼────────────────────────┼───────────────┤\n",
       "│ dropout (<span style=\"color: #0087ff; text-decoration-color: #0087ff\">Dropout</span>)               │ (<span style=\"color: #00d7ff; text-decoration-color: #00d7ff\">None</span>, <span style=\"color: #00af00; text-decoration-color: #00af00\">128</span>)            │             <span style=\"color: #00af00; text-decoration-color: #00af00\">0</span> │\n",
       "├─────────────────────────────────┼────────────────────────┼───────────────┤\n",
       "│ dense_1 (<span style=\"color: #0087ff; text-decoration-color: #0087ff\">Dense</span>)                 │ (<span style=\"color: #00d7ff; text-decoration-color: #00d7ff\">None</span>, <span style=\"color: #00af00; text-decoration-color: #00af00\">128</span>)            │        <span style=\"color: #00af00; text-decoration-color: #00af00\">16,512</span> │\n",
       "├─────────────────────────────────┼────────────────────────┼───────────────┤\n",
       "│ dropout_1 (<span style=\"color: #0087ff; text-decoration-color: #0087ff\">Dropout</span>)             │ (<span style=\"color: #00d7ff; text-decoration-color: #00d7ff\">None</span>, <span style=\"color: #00af00; text-decoration-color: #00af00\">128</span>)            │             <span style=\"color: #00af00; text-decoration-color: #00af00\">0</span> │\n",
       "├─────────────────────────────────┼────────────────────────┼───────────────┤\n",
       "│ dense_2 (<span style=\"color: #0087ff; text-decoration-color: #0087ff\">Dense</span>)                 │ (<span style=\"color: #00d7ff; text-decoration-color: #00d7ff\">None</span>, <span style=\"color: #00af00; text-decoration-color: #00af00\">10</span>)             │         <span style=\"color: #00af00; text-decoration-color: #00af00\">1,290</span> │\n",
       "└─────────────────────────────────┴────────────────────────┴───────────────┘\n",
       "</pre>\n"
      ],
      "text/plain": [
       "┏━━━━━━━━━━━━━━━━━━━━━━━━━━━━━━━━━┳━━━━━━━━━━━━━━━━━━━━━━━━┳━━━━━━━━━━━━━━━┓\n",
       "┃\u001b[1m \u001b[0m\u001b[1mLayer (type)                   \u001b[0m\u001b[1m \u001b[0m┃\u001b[1m \u001b[0m\u001b[1mOutput Shape          \u001b[0m\u001b[1m \u001b[0m┃\u001b[1m \u001b[0m\u001b[1m      Param #\u001b[0m\u001b[1m \u001b[0m┃\n",
       "┡━━━━━━━━━━━━━━━━━━━━━━━━━━━━━━━━━╇━━━━━━━━━━━━━━━━━━━━━━━━╇━━━━━━━━━━━━━━━┩\n",
       "│ dense (\u001b[38;5;33mDense\u001b[0m)                   │ (\u001b[38;5;45mNone\u001b[0m, \u001b[38;5;34m128\u001b[0m)            │       \u001b[38;5;34m100,480\u001b[0m │\n",
       "├─────────────────────────────────┼────────────────────────┼───────────────┤\n",
       "│ dropout (\u001b[38;5;33mDropout\u001b[0m)               │ (\u001b[38;5;45mNone\u001b[0m, \u001b[38;5;34m128\u001b[0m)            │             \u001b[38;5;34m0\u001b[0m │\n",
       "├─────────────────────────────────┼────────────────────────┼───────────────┤\n",
       "│ dense_1 (\u001b[38;5;33mDense\u001b[0m)                 │ (\u001b[38;5;45mNone\u001b[0m, \u001b[38;5;34m128\u001b[0m)            │        \u001b[38;5;34m16,512\u001b[0m │\n",
       "├─────────────────────────────────┼────────────────────────┼───────────────┤\n",
       "│ dropout_1 (\u001b[38;5;33mDropout\u001b[0m)             │ (\u001b[38;5;45mNone\u001b[0m, \u001b[38;5;34m128\u001b[0m)            │             \u001b[38;5;34m0\u001b[0m │\n",
       "├─────────────────────────────────┼────────────────────────┼───────────────┤\n",
       "│ dense_2 (\u001b[38;5;33mDense\u001b[0m)                 │ (\u001b[38;5;45mNone\u001b[0m, \u001b[38;5;34m10\u001b[0m)             │         \u001b[38;5;34m1,290\u001b[0m │\n",
       "└─────────────────────────────────┴────────────────────────┴───────────────┘\n"
      ]
     },
     "metadata": {},
     "output_type": "display_data"
    },
    {
     "data": {
      "text/html": [
       "<pre style=\"white-space:pre;overflow-x:auto;line-height:normal;font-family:Menlo,'DejaVu Sans Mono',consolas,'Courier New',monospace\"><span style=\"font-weight: bold\"> Total params: </span><span style=\"color: #00af00; text-decoration-color: #00af00\">118,282</span> (462.04 KB)\n",
       "</pre>\n"
      ],
      "text/plain": [
       "\u001b[1m Total params: \u001b[0m\u001b[38;5;34m118,282\u001b[0m (462.04 KB)\n"
      ]
     },
     "metadata": {},
     "output_type": "display_data"
    },
    {
     "data": {
      "text/html": [
       "<pre style=\"white-space:pre;overflow-x:auto;line-height:normal;font-family:Menlo,'DejaVu Sans Mono',consolas,'Courier New',monospace\"><span style=\"font-weight: bold\"> Trainable params: </span><span style=\"color: #00af00; text-decoration-color: #00af00\">118,282</span> (462.04 KB)\n",
       "</pre>\n"
      ],
      "text/plain": [
       "\u001b[1m Trainable params: \u001b[0m\u001b[38;5;34m118,282\u001b[0m (462.04 KB)\n"
      ]
     },
     "metadata": {},
     "output_type": "display_data"
    },
    {
     "data": {
      "text/html": [
       "<pre style=\"white-space:pre;overflow-x:auto;line-height:normal;font-family:Menlo,'DejaVu Sans Mono',consolas,'Courier New',monospace\"><span style=\"font-weight: bold\"> Non-trainable params: </span><span style=\"color: #00af00; text-decoration-color: #00af00\">0</span> (0.00 B)\n",
       "</pre>\n"
      ],
      "text/plain": [
       "\u001b[1m Non-trainable params: \u001b[0m\u001b[38;5;34m0\u001b[0m (0.00 B)\n"
      ]
     },
     "metadata": {},
     "output_type": "display_data"
    }
   ],
   "source": [
    "from tensorflow.keras import layers\n",
    "\n",
    "model = keras.Sequential([\n",
    "    layers.Dense(128, activation='relu', input_shape=(28*28,)),\n",
    "    layers.Dropout(0.10),\n",
    "    layers.Dense(128, activation='relu'),\n",
    "    layers.Dropout(0.10),\n",
    "    layers.Dense(10, activation='softmax')\n",
    "\n",
    "   \n",
    "])\n",
    "\n",
    "model.summary()"
   ]
  },
  {
   "cell_type": "markdown",
   "metadata": {},
   "source": [
    "Before training the model, you need to make a compilation step. In this step, you define the optimizer used in the training. Optimizers are responsible for the model's learning process. Two well-known optimizers are Adam (`adam`) and stochastic gradient descent (`sgd`). The optimizers work to minimize the error that the model makes using a loss function. `categorical_crossentropy` is a loss function for classification problems, and `mean_squared_error` for regression problems. Lastly, you can also define the evaluation metric in the compilation step, such as accuracy. The evaluation metric will give you intuition about how well the training process is going.\n",
    "\n",
    "To summarize, the compilation step defines the `optimizer`, `loss` (loss function), and `metrics` (evaluation metric). \n",
    "\n",
    "**Q6** Compile your model to use `adam` optimizer, `categorical_crossentropy` loss function, and `accuracy` as an evaluation metric."
   ]
  },
  {
   "cell_type": "code",
   "execution_count": 9,
   "metadata": {},
   "outputs": [],
   "source": [
    "model.compile(optimizer='adam',\n",
    "              loss='categorical_crossentropy',\n",
    "              metrics=['accuracy'])"
   ]
  },
  {
   "cell_type": "markdown",
   "metadata": {},
   "source": [
    "Use `fit(A,B,epochs=C,validation_data=(D,K))` method to train the model. The method accepts the following:\n",
    "\n",
    " 1. **A**: The training data; the training images in your case.\n",
    " 2. **B**: The training data labels; the one-hot-encoding labels you generated.\n",
    " 3. **C**: The number of learning iteration the model will do. Too high value can cause overfitting, and too low value make the model underfitting the data.\n",
    " 4. **(D, K)**: (Optional) This argument is to pass the validation data during the training so that the model can use it to observe the generalization. **D** is the validation images while **K** is the validation labels.\n",
    " \n",
    "\n",
    "**Q7**: Given the instructions above, complete the code below to train the model. Train the model for 20 epochs."
   ]
  },
  {
   "cell_type": "code",
   "execution_count": 10,
   "metadata": {},
   "outputs": [
    {
     "name": "stdout",
     "output_type": "stream",
     "text": [
      "Epoch 1/20\n",
      "\u001b[1m1500/1500\u001b[0m \u001b[32m━━━━━━━━━━━━━━━━━━━━\u001b[0m\u001b[37m\u001b[0m \u001b[1m5s\u001b[0m 2ms/step - accuracy: 0.8506 - loss: 0.5022 - val_accuracy: 0.9590 - val_loss: 18.0591\n",
      "Epoch 2/20\n",
      "\u001b[1m1500/1500\u001b[0m \u001b[32m━━━━━━━━━━━━━━━━━━━━\u001b[0m\u001b[37m\u001b[0m \u001b[1m3s\u001b[0m 2ms/step - accuracy: 0.9583 - loss: 0.1363 - val_accuracy: 0.9696 - val_loss: 14.0789\n",
      "Epoch 3/20\n",
      "\u001b[1m1500/1500\u001b[0m \u001b[32m━━━━━━━━━━━━━━━━━━━━\u001b[0m\u001b[37m\u001b[0m \u001b[1m3s\u001b[0m 2ms/step - accuracy: 0.9705 - loss: 0.0965 - val_accuracy: 0.9744 - val_loss: 14.0273\n",
      "Epoch 4/20\n",
      "\u001b[1m1500/1500\u001b[0m \u001b[32m━━━━━━━━━━━━━━━━━━━━\u001b[0m\u001b[37m\u001b[0m \u001b[1m3s\u001b[0m 2ms/step - accuracy: 0.9751 - loss: 0.0759 - val_accuracy: 0.9757 - val_loss: 14.2530\n",
      "Epoch 5/20\n",
      "\u001b[1m1500/1500\u001b[0m \u001b[32m━━━━━━━━━━━━━━━━━━━━\u001b[0m\u001b[37m\u001b[0m \u001b[1m3s\u001b[0m 2ms/step - accuracy: 0.9786 - loss: 0.0681 - val_accuracy: 0.9739 - val_loss: 14.5998\n",
      "Epoch 6/20\n",
      "\u001b[1m1500/1500\u001b[0m \u001b[32m━━━━━━━━━━━━━━━━━━━━\u001b[0m\u001b[37m\u001b[0m \u001b[1m3s\u001b[0m 2ms/step - accuracy: 0.9836 - loss: 0.0503 - val_accuracy: 0.9733 - val_loss: 16.1546\n",
      "Epoch 7/20\n",
      "\u001b[1m1500/1500\u001b[0m \u001b[32m━━━━━━━━━━━━━━━━━━━━\u001b[0m\u001b[37m\u001b[0m \u001b[1m3s\u001b[0m 2ms/step - accuracy: 0.9850 - loss: 0.0488 - val_accuracy: 0.9753 - val_loss: 15.8638\n",
      "Epoch 8/20\n",
      "\u001b[1m1500/1500\u001b[0m \u001b[32m━━━━━━━━━━━━━━━━━━━━\u001b[0m\u001b[37m\u001b[0m \u001b[1m3s\u001b[0m 2ms/step - accuracy: 0.9874 - loss: 0.0379 - val_accuracy: 0.9787 - val_loss: 16.3430\n",
      "Epoch 9/20\n",
      "\u001b[1m1500/1500\u001b[0m \u001b[32m━━━━━━━━━━━━━━━━━━━━\u001b[0m\u001b[37m\u001b[0m \u001b[1m3s\u001b[0m 2ms/step - accuracy: 0.9881 - loss: 0.0373 - val_accuracy: 0.9768 - val_loss: 17.4947\n",
      "Epoch 10/20\n",
      "\u001b[1m1500/1500\u001b[0m \u001b[32m━━━━━━━━━━━━━━━━━━━━\u001b[0m\u001b[37m\u001b[0m \u001b[1m3s\u001b[0m 2ms/step - accuracy: 0.9883 - loss: 0.0353 - val_accuracy: 0.9778 - val_loss: 18.6228\n",
      "Epoch 11/20\n",
      "\u001b[1m1500/1500\u001b[0m \u001b[32m━━━━━━━━━━━━━━━━━━━━\u001b[0m\u001b[37m\u001b[0m \u001b[1m3s\u001b[0m 2ms/step - accuracy: 0.9877 - loss: 0.0339 - val_accuracy: 0.9740 - val_loss: 21.7385\n",
      "Epoch 12/20\n",
      "\u001b[1m1500/1500\u001b[0m \u001b[32m━━━━━━━━━━━━━━━━━━━━\u001b[0m\u001b[37m\u001b[0m \u001b[1m3s\u001b[0m 2ms/step - accuracy: 0.9887 - loss: 0.0324 - val_accuracy: 0.9760 - val_loss: 20.5044\n",
      "Epoch 13/20\n",
      "\u001b[1m1500/1500\u001b[0m \u001b[32m━━━━━━━━━━━━━━━━━━━━\u001b[0m\u001b[37m\u001b[0m \u001b[1m3s\u001b[0m 2ms/step - accuracy: 0.9901 - loss: 0.0285 - val_accuracy: 0.9793 - val_loss: 19.3300\n",
      "Epoch 14/20\n",
      "\u001b[1m1500/1500\u001b[0m \u001b[32m━━━━━━━━━━━━━━━━━━━━\u001b[0m\u001b[37m\u001b[0m \u001b[1m3s\u001b[0m 2ms/step - accuracy: 0.9913 - loss: 0.0255 - val_accuracy: 0.9772 - val_loss: 19.8282\n",
      "Epoch 15/20\n",
      "\u001b[1m1500/1500\u001b[0m \u001b[32m━━━━━━━━━━━━━━━━━━━━\u001b[0m\u001b[37m\u001b[0m \u001b[1m3s\u001b[0m 2ms/step - accuracy: 0.9912 - loss: 0.0247 - val_accuracy: 0.9782 - val_loss: 20.4521\n",
      "Epoch 16/20\n",
      "\u001b[1m1500/1500\u001b[0m \u001b[32m━━━━━━━━━━━━━━━━━━━━\u001b[0m\u001b[37m\u001b[0m \u001b[1m3s\u001b[0m 2ms/step - accuracy: 0.9926 - loss: 0.0233 - val_accuracy: 0.9787 - val_loss: 20.9258\n",
      "Epoch 17/20\n",
      "\u001b[1m1500/1500\u001b[0m \u001b[32m━━━━━━━━━━━━━━━━━━━━\u001b[0m\u001b[37m\u001b[0m \u001b[1m3s\u001b[0m 2ms/step - accuracy: 0.9918 - loss: 0.0253 - val_accuracy: 0.9774 - val_loss: 23.9891\n",
      "Epoch 18/20\n",
      "\u001b[1m1500/1500\u001b[0m \u001b[32m━━━━━━━━━━━━━━━━━━━━\u001b[0m\u001b[37m\u001b[0m \u001b[1m4s\u001b[0m 2ms/step - accuracy: 0.9915 - loss: 0.0246 - val_accuracy: 0.9772 - val_loss: 23.6668\n",
      "Epoch 19/20\n",
      "\u001b[1m1500/1500\u001b[0m \u001b[32m━━━━━━━━━━━━━━━━━━━━\u001b[0m\u001b[37m\u001b[0m \u001b[1m3s\u001b[0m 2ms/step - accuracy: 0.9927 - loss: 0.0231 - val_accuracy: 0.9777 - val_loss: 22.4105\n",
      "Epoch 20/20\n",
      "\u001b[1m1500/1500\u001b[0m \u001b[32m━━━━━━━━━━━━━━━━━━━━\u001b[0m\u001b[37m\u001b[0m \u001b[1m3s\u001b[0m 2ms/step - accuracy: 0.9934 - loss: 0.0204 - val_accuracy: 0.9772 - val_loss: 23.7947\n"
     ]
    }
   ],
   "source": [
    "history = model.fit(train_images, train_labels, epochs=20,validation_data=(val_images, val_labels))"
   ]
  },
  {
   "cell_type": "markdown",
   "metadata": {},
   "source": [
    "Run the code below to observe the performance of the model during the training process."
   ]
  },
  {
   "cell_type": "code",
   "execution_count": 11,
   "metadata": {},
   "outputs": [
    {
     "data": {
      "image/png": "[encoded data removed]",
      "text/plain": [
       "<Figure size 640x480 with 1 Axes>"
      ]
     },
     "metadata": {},
     "output_type": "display_data"
    }
   ],
   "source": [
    "import matplotlib.pyplot as plt\n",
    "# Plot training history\n",
    "plt.plot(history.history['accuracy'], label='accuracy')\n",
    "plt.plot(history.history['val_accuracy'], label='val_accuracy')\n",
    "plt.xlabel('Epochs')\n",
    "plt.ylabel('Accuracy')\n",
    "plt.legend()\n",
    "plt.show()"
   ]
  },
  {
   "cell_type": "markdown",
   "metadata": {},
   "source": [
    "**Q8: Does the model suffer from overfitting/underfitting?**"
   ]
  },
  {
   "cell_type": "markdown",
   "metadata": {},
   "source": [
    "The model neither overfit or underfit since the validation accuracy and the training accuracy are near to each other, However, we might have a slight overfit as the model didn't improve the validation accuracy past epoch 3"
   ]
  },
  {
   "cell_type": "raw",
   "metadata": {},
   "source": []
  },
  {
   "cell_type": "markdown",
   "metadata": {},
   "source": [
    "**Q9: Can we train the model more than 20 epochs?Will that cause overfitting/underfitting?and why?**"
   ]
  },
  {
   "cell_type": "raw",
   "metadata": {
    "vscode": {
     "languageId": "raw"
    }
   },
   "source": [
    "It will overfit mode as the model will start memorizing the training data and will not generalize well on the validation data as seen in the history graph"
   ]
  },
  {
   "cell_type": "markdown",
   "metadata": {},
   "source": [
    "**Q10**: Use `evaluate()` method and pass the test images and labels. Then, print the classification accuracy of the test split. "
   ]
  },
  {
   "cell_type": "code",
   "execution_count": 12,
   "metadata": {},
   "outputs": [
    {
     "name": "stdout",
     "output_type": "stream",
     "text": [
      "\u001b[1m313/313\u001b[0m \u001b[32m━━━━━━━━━━━━━━━━━━━━\u001b[0m\u001b[37m\u001b[0m \u001b[1m0s\u001b[0m 1ms/step - accuracy: 0.9706 - loss: 33.5789\n",
      "Test accuracy: 0.9754\n"
     ]
    }
   ],
   "source": [
    "test_loss, test_acc = model.evaluate(test_images, test_labels)\n",
    "print(f'Test accuracy: {test_acc:.4f}')"
   ]
  },
  {
   "cell_type": "markdown",
   "metadata": {},
   "source": [
    "## Part (2): Artificial Neural Network with Regression Problem\n",
    "\n",
    "In this section, you will learn how to use artificial neural networks with regression data. The data you will work with has the following format: \n",
    "\n",
    "* **Study Hours**: values between 0 and 20.\n",
    "* **Attendance**: percentages between 0 and 100.\n",
    "* **Participation**: scores between 0 and 100.\n",
    "* **Final Grade**: A calculated score based on the other features, with some added noise for realism"
   ]
  },
  {
   "cell_type": "markdown",
   "metadata": {},
   "source": [
    "**Q11**: Load the data from `student_grades.csv` file using pandas, and display the first five rows."
   ]
  },
  {
   "cell_type": "code",
   "execution_count": 13,
   "metadata": {},
   "outputs": [],
   "source": [
    "import pandas as pd\n",
    "df = pd.read_csv('student_grades.csv')"
   ]
  },
  {
   "cell_type": "code",
   "execution_count": 14,
   "metadata": {},
   "outputs": [
    {
     "data": {
      "text/html": [
       "<div>\n",
       "<style scoped>\n",
       "    .dataframe tbody tr th:only-of-type {\n",
       "        vertical-align: middle;\n",
       "    }\n",
       "\n",
       "    .dataframe tbody tr th {\n",
       "        vertical-align: top;\n",
       "    }\n",
       "\n",
       "    .dataframe thead th {\n",
       "        text-align: right;\n",
       "    }\n",
       "</style>\n",
       "<table border=\"1\" class=\"dataframe\">\n",
       "  <thead>\n",
       "    <tr style=\"text-align: right;\">\n",
       "      <th></th>\n",
       "      <th>Study_Hours</th>\n",
       "      <th>Attendance</th>\n",
       "      <th>Participation</th>\n",
       "      <th>Final_Grade</th>\n",
       "    </tr>\n",
       "  </thead>\n",
       "  <tbody>\n",
       "    <tr>\n",
       "      <th>0</th>\n",
       "      <td>7.490802</td>\n",
       "      <td>3.142919</td>\n",
       "      <td>23</td>\n",
       "      <td>402.912849</td>\n",
       "    </tr>\n",
       "    <tr>\n",
       "      <th>1</th>\n",
       "      <td>19.014286</td>\n",
       "      <td>63.641041</td>\n",
       "      <td>74</td>\n",
       "      <td>2688.361783</td>\n",
       "    </tr>\n",
       "    <tr>\n",
       "      <th>2</th>\n",
       "      <td>3.120373</td>\n",
       "      <td>90.756647</td>\n",
       "      <td>37</td>\n",
       "      <td>2850.857164</td>\n",
       "    </tr>\n",
       "    <tr>\n",
       "      <th>3</th>\n",
       "      <td>3.119890</td>\n",
       "      <td>24.929223</td>\n",
       "      <td>83</td>\n",
       "      <td>895.019838</td>\n",
       "    </tr>\n",
       "    <tr>\n",
       "      <th>4</th>\n",
       "      <td>1.161672</td>\n",
       "      <td>41.038292</td>\n",
       "      <td>98</td>\n",
       "      <td>1303.350903</td>\n",
       "    </tr>\n",
       "    <tr>\n",
       "      <th>...</th>\n",
       "      <td>...</td>\n",
       "      <td>...</td>\n",
       "      <td>...</td>\n",
       "      <td>...</td>\n",
       "    </tr>\n",
       "    <tr>\n",
       "      <th>86</th>\n",
       "      <td>9.875912</td>\n",
       "      <td>34.920957</td>\n",
       "      <td>26</td>\n",
       "      <td>1444.909382</td>\n",
       "    </tr>\n",
       "    <tr>\n",
       "      <th>87</th>\n",
       "      <td>10.454657</td>\n",
       "      <td>72.595568</td>\n",
       "      <td>1</td>\n",
       "      <td>2592.040225</td>\n",
       "    </tr>\n",
       "    <tr>\n",
       "      <th>88</th>\n",
       "      <td>8.550820</td>\n",
       "      <td>89.711026</td>\n",
       "      <td>89</td>\n",
       "      <td>3064.016564</td>\n",
       "    </tr>\n",
       "    <tr>\n",
       "      <th>89</th>\n",
       "      <td>0.508383</td>\n",
       "      <td>88.708642</td>\n",
       "      <td>16</td>\n",
       "      <td>2689.558836</td>\n",
       "    </tr>\n",
       "    <tr>\n",
       "      <th>90</th>\n",
       "      <td>2.157829</td>\n",
       "      <td>77.987555</td>\n",
       "      <td>32</td>\n",
       "      <td>2424.268986</td>\n",
       "    </tr>\n",
       "  </tbody>\n",
       "</table>\n",
       "<p>91 rows × 4 columns</p>\n",
       "</div>"
      ],
      "text/plain": [
       "    Study_Hours  Attendance  Participation  Final_Grade\n",
       "0      7.490802    3.142919             23   402.912849\n",
       "1     19.014286   63.641041             74  2688.361783\n",
       "2      3.120373   90.756647             37  2850.857164\n",
       "3      3.119890   24.929223             83   895.019838\n",
       "4      1.161672   41.038292             98  1303.350903\n",
       "..          ...         ...            ...          ...\n",
       "86     9.875912   34.920957             26  1444.909382\n",
       "87    10.454657   72.595568              1  2592.040225\n",
       "88     8.550820   89.711026             89  3064.016564\n",
       "89     0.508383   88.708642             16  2689.558836\n",
       "90     2.157829   77.987555             32  2424.268986\n",
       "\n",
       "[91 rows x 4 columns]"
      ]
     },
     "execution_count": 14,
     "metadata": {},
     "output_type": "execute_result"
    }
   ],
   "source": [
    "df"
   ]
  },
  {
   "cell_type": "markdown",
   "metadata": {},
   "source": [
    "**Q12**: Your goal is to make the model predict the final grade for students given the study hours, attendance, and participation data. Split the target from the features in variable `X_train` and `y_train`."
   ]
  },
  {
   "cell_type": "code",
   "execution_count": 15,
   "metadata": {},
   "outputs": [],
   "source": [
    "X_train = df.drop('Final_Grade', axis=1)\n",
    "y_train = df['Final_Grade']"
   ]
  },
  {
   "cell_type": "markdown",
   "metadata": {},
   "source": [
    "**Q13**: Split the training data into 80% training and 20% validation."
   ]
  },
  {
   "cell_type": "code",
   "execution_count": 16,
   "metadata": {},
   "outputs": [],
   "source": [
    "X_train, X_val = train_test_split(X_train, test_size=0.2, random_state=42)\n",
    "y_train, y_val = train_test_split(y_train, test_size=0.2, random_state=42)"
   ]
  },
  {
   "cell_type": "code",
   "execution_count": 17,
   "metadata": {},
   "outputs": [
    {
     "data": {
      "text/plain": [
       "64    1366.840936\n",
       "15    1878.155316\n",
       "67    2702.804733\n",
       "77    3061.803663\n",
       "30    3280.153616\n",
       "         ...     \n",
       "20    1050.833928\n",
       "60    2586.291489\n",
       "71    1718.066987\n",
       "14    3040.064970\n",
       "51    1422.019218\n",
       "Name: Final_Grade, Length: 72, dtype: float64"
      ]
     },
     "execution_count": 17,
     "metadata": {},
     "output_type": "execute_result"
    }
   ],
   "source": [
    "y_train"
   ]
  },
  {
   "cell_type": "markdown",
   "metadata": {},
   "source": [
    "**Q14**: As you see from the data, the columns have different ranges. Use the `MinMaxScaler` to normalize the values to be in range [0-1] for the training and validation data."
   ]
  },
  {
   "cell_type": "code",
   "execution_count": 18,
   "metadata": {},
   "outputs": [
    {
     "data": {
      "text/plain": [
       "array([[0.82531929, 0.22432208, 0.98979592],\n",
       "       [0.29113233, 0.54397775, 1.        ],\n",
       "       [0.78028906, 0.69887277, 0.62244898],\n",
       "       [0.73783373, 0.82790585, 0.57142857],\n",
       "       [0.44288359, 0.98582978, 0.5       ],\n",
       "       [0.02941455, 0.50096783, 0.25510204],\n",
       "       [0.21074425, 0.81860593, 0.65306122],\n",
       "       [0.71465291, 0.65211173, 0.59183673],\n",
       "       [0.06982371, 0.38804932, 0.84693878],\n",
       "       [0.11872865, 0.97629182, 0.53061224],\n",
       "       [0.32573127, 0.66724536, 0.53061224],\n",
       "       [0.98270054, 0.15762687, 0.16326531],\n",
       "       [0.35964567, 0.95001477, 0.30612245],\n",
       "       [0.87699703, 0.7648925 , 0.8877551 ],\n",
       "       [0.78422488, 0.23767258, 0.68367347],\n",
       "       [0.08454591, 0.67966134, 0.33673469],\n",
       "       [0.61784442, 0.8179109 , 0.31632653],\n",
       "       [0.60362655, 1.        , 0.17346939],\n",
       "       [0.92096055, 0.30032357, 0.25510204],\n",
       "       [0.71589122, 0.07155196, 0.23469388],\n",
       "       [0.89843309, 0.53407514, 0.44897959],\n",
       "       [0.30477112, 0.52297882, 0.20408163],\n",
       "       [0.36769173, 0.10534379, 0.12244898],\n",
       "       [0.3112606 , 0.25645236, 0.94897959],\n",
       "       [0.06065988, 0.11537083, 0.46938776],\n",
       "       [0.83884747, 0.64021524, 0.28571429],\n",
       "       [0.18126021, 0.88332476, 0.33673469],\n",
       "       [0.16813524, 0.21983861, 0.31632653],\n",
       "       [0.15332973, 0.24761471, 0.83673469],\n",
       "       [0.13651574, 0.90849156, 0.67346939],\n",
       "       [0.52431664, 0.50651654, 0.96938776],\n",
       "       [0.0153484 , 0.28895454, 0.92857143],\n",
       "       [0.62950699, 0.10883986, 0.66326531],\n",
       "       [0.60690263, 0.22667458, 0.98979592],\n",
       "       [0.52703205, 0.73465289, 0.        ],\n",
       "       [0.66947597, 0.03058636, 0.19387755],\n",
       "       [0.11623825, 0.08802573, 0.30612245],\n",
       "       [0.54737439, 0.84637967, 0.04081633],\n",
       "       [0.10431321, 0.78974634, 0.31632653],\n",
       "       [0.35790075, 0.54033254, 0.92857143],\n",
       "       [0.95171215, 0.14094511, 0.60204082],\n",
       "       [0.32588107, 0.73696276, 0.15306122],\n",
       "       [0.93375277, 0.24022023, 0.02040816],\n",
       "       [0.76960465, 0.91291249, 0.85714286],\n",
       "       [0.78128198, 0.68520832, 0.44897959],\n",
       "       [0.02027483, 0.89929069, 0.15306122],\n",
       "       [0.33155449, 0.93771642, 0.16326531],\n",
       "       [0.98236914, 0.92093113, 0.96938776],\n",
       "       [0.81180296, 0.1834747 , 0.35714286],\n",
       "       [0.19407741, 0.77109306, 0.63265306],\n",
       "       [0.47555486, 0.24001284, 0.2244898 ],\n",
       "       [0.13797326, 0.3206585 , 0.98979592],\n",
       "       [0.49895287, 0.25015897, 0.06122449],\n",
       "       [0.49754533, 0.34970678, 0.25510204],\n",
       "       [0.07033931, 0.03455918, 0.2244898 ],\n",
       "       [0.        , 0.51613548, 0.94897959],\n",
       "       [0.6440371 , 0.56018149, 0.66326531],\n",
       "       [0.31200319, 0.61572825, 0.28571429],\n",
       "       [0.69159898, 0.36444067, 0.36734694],\n",
       "       [0.96314049, 0.64315864, 0.74489796],\n",
       "       [0.27087471, 0.63896472, 0.91836735],\n",
       "       [0.59803698, 0.        , 0.05102041],\n",
       "       [0.15335431, 0.9202165 , 0.36734694],\n",
       "       [0.61345457, 0.41939264, 0.15306122],\n",
       "       [0.56630834, 0.63977766, 0.21428571],\n",
       "       [0.05913829, 0.88933147, 0.23469388],\n",
       "       [0.72116165, 0.90964049, 0.45918367],\n",
       "       [0.45910334, 0.2257928 , 0.19387755],\n",
       "       [1.        , 0.59665047, 0.92857143],\n",
       "       [0.87386596, 0.34138632, 0.31632653],\n",
       "       [0.43452027, 0.90488238, 0.39795918],\n",
       "       [0.39043092, 0.3686846 , 0.42857143]])"
      ]
     },
     "execution_count": 18,
     "metadata": {},
     "output_type": "execute_result"
    }
   ],
   "source": [
    "from sklearn.preprocessing import MinMaxScaler\n",
    "\n",
    "scaler = MinMaxScaler()\n",
    "X_train = scaler.fit_transform(X_train)\n",
    "X_val = scaler.transform(X_val)\n",
    "X_train"
   ]
  },
  {
   "cell_type": "markdown",
   "metadata": {},
   "source": [
    "In this lab, we want to test the model in a separated jupyter on a test dataset stored separately. To do so, you need to preprocess the test dataset later with the same computed MinMaxScaler parameters used for the training and validation. Hence, you will save these parameters in a file called `scaler.pkl`.\n",
    "\n",
    "Run the code below to do it."
   ]
  },
  {
   "cell_type": "code",
   "execution_count": 19,
   "metadata": {},
   "outputs": [],
   "source": [
    "# Library needed to store this type of file\n",
    "import pickle\n",
    "\n",
    "with open('scaler.pkl', 'wb') as file:\n",
    "    pickle.dump(scaler, file) # To save the variable into the `scaler.pkl` file."
   ]
  },
  {
   "cell_type": "markdown",
   "metadata": {},
   "source": [
    "**Q15**: Use the same architecture you used in Q5 but change the input layer to fit the input shape, and the output layer to be one neuron since you predict a regression value (Without activation function)."
   ]
  },
  {
   "cell_type": "code",
   "execution_count": 20,
   "metadata": {},
   "outputs": [
    {
     "name": "stderr",
     "output_type": "stream",
     "text": [
      "/home/mohamed/miniconda3/lib/python3.12/site-packages/keras/src/layers/core/dense.py:87: UserWarning: Do not pass an `input_shape`/`input_dim` argument to a layer. When using Sequential models, prefer using an `Input(shape)` object as the first layer in the model instead.\n",
      "  super().__init__(activity_regularizer=activity_regularizer, **kwargs)\n"
     ]
    },
    {
     "data": {
      "text/html": [
       "<pre style=\"white-space:pre;overflow-x:auto;line-height:normal;font-family:Menlo,'DejaVu Sans Mono',consolas,'Courier New',monospace\"><span style=\"font-weight: bold\">Model: \"sequential_1\"</span>\n",
       "</pre>\n"
      ],
      "text/plain": [
       "\u001b[1mModel: \"sequential_1\"\u001b[0m\n"
      ]
     },
     "metadata": {},
     "output_type": "display_data"
    },
    {
     "data": {
      "text/html": [
       "<pre style=\"white-space:pre;overflow-x:auto;line-height:normal;font-family:Menlo,'DejaVu Sans Mono',consolas,'Courier New',monospace\">┏━━━━━━━━━━━━━━━━━━━━━━━━━━━━━━━━━┳━━━━━━━━━━━━━━━━━━━━━━━━┳━━━━━━━━━━━━━━━┓\n",
       "┃<span style=\"font-weight: bold\"> Layer (type)                    </span>┃<span style=\"font-weight: bold\"> Output Shape           </span>┃<span style=\"font-weight: bold\">       Param # </span>┃\n",
       "┡━━━━━━━━━━━━━━━━━━━━━━━━━━━━━━━━━╇━━━━━━━━━━━━━━━━━━━━━━━━╇━━━━━━━━━━━━━━━┩\n",
       "│ dense_3 (<span style=\"color: #0087ff; text-decoration-color: #0087ff\">Dense</span>)                 │ (<span style=\"color: #00d7ff; text-decoration-color: #00d7ff\">None</span>, <span style=\"color: #00af00; text-decoration-color: #00af00\">128</span>)            │           <span style=\"color: #00af00; text-decoration-color: #00af00\">512</span> │\n",
       "├─────────────────────────────────┼────────────────────────┼───────────────┤\n",
       "│ dropout_2 (<span style=\"color: #0087ff; text-decoration-color: #0087ff\">Dropout</span>)             │ (<span style=\"color: #00d7ff; text-decoration-color: #00d7ff\">None</span>, <span style=\"color: #00af00; text-decoration-color: #00af00\">128</span>)            │             <span style=\"color: #00af00; text-decoration-color: #00af00\">0</span> │\n",
       "├─────────────────────────────────┼────────────────────────┼───────────────┤\n",
       "│ dense_4 (<span style=\"color: #0087ff; text-decoration-color: #0087ff\">Dense</span>)                 │ (<span style=\"color: #00d7ff; text-decoration-color: #00d7ff\">None</span>, <span style=\"color: #00af00; text-decoration-color: #00af00\">128</span>)            │        <span style=\"color: #00af00; text-decoration-color: #00af00\">16,512</span> │\n",
       "├─────────────────────────────────┼────────────────────────┼───────────────┤\n",
       "│ dropout_3 (<span style=\"color: #0087ff; text-decoration-color: #0087ff\">Dropout</span>)             │ (<span style=\"color: #00d7ff; text-decoration-color: #00d7ff\">None</span>, <span style=\"color: #00af00; text-decoration-color: #00af00\">128</span>)            │             <span style=\"color: #00af00; text-decoration-color: #00af00\">0</span> │\n",
       "├─────────────────────────────────┼────────────────────────┼───────────────┤\n",
       "│ dense_5 (<span style=\"color: #0087ff; text-decoration-color: #0087ff\">Dense</span>)                 │ (<span style=\"color: #00d7ff; text-decoration-color: #00d7ff\">None</span>, <span style=\"color: #00af00; text-decoration-color: #00af00\">1</span>)              │           <span style=\"color: #00af00; text-decoration-color: #00af00\">129</span> │\n",
       "└─────────────────────────────────┴────────────────────────┴───────────────┘\n",
       "</pre>\n"
      ],
      "text/plain": [
       "┏━━━━━━━━━━━━━━━━━━━━━━━━━━━━━━━━━┳━━━━━━━━━━━━━━━━━━━━━━━━┳━━━━━━━━━━━━━━━┓\n",
       "┃\u001b[1m \u001b[0m\u001b[1mLayer (type)                   \u001b[0m\u001b[1m \u001b[0m┃\u001b[1m \u001b[0m\u001b[1mOutput Shape          \u001b[0m\u001b[1m \u001b[0m┃\u001b[1m \u001b[0m\u001b[1m      Param #\u001b[0m\u001b[1m \u001b[0m┃\n",
       "┡━━━━━━━━━━━━━━━━━━━━━━━━━━━━━━━━━╇━━━━━━━━━━━━━━━━━━━━━━━━╇━━━━━━━━━━━━━━━┩\n",
       "│ dense_3 (\u001b[38;5;33mDense\u001b[0m)                 │ (\u001b[38;5;45mNone\u001b[0m, \u001b[38;5;34m128\u001b[0m)            │           \u001b[38;5;34m512\u001b[0m │\n",
       "├─────────────────────────────────┼────────────────────────┼───────────────┤\n",
       "│ dropout_2 (\u001b[38;5;33mDropout\u001b[0m)             │ (\u001b[38;5;45mNone\u001b[0m, \u001b[38;5;34m128\u001b[0m)            │             \u001b[38;5;34m0\u001b[0m │\n",
       "├─────────────────────────────────┼────────────────────────┼───────────────┤\n",
       "│ dense_4 (\u001b[38;5;33mDense\u001b[0m)                 │ (\u001b[38;5;45mNone\u001b[0m, \u001b[38;5;34m128\u001b[0m)            │        \u001b[38;5;34m16,512\u001b[0m │\n",
       "├─────────────────────────────────┼────────────────────────┼───────────────┤\n",
       "│ dropout_3 (\u001b[38;5;33mDropout\u001b[0m)             │ (\u001b[38;5;45mNone\u001b[0m, \u001b[38;5;34m128\u001b[0m)            │             \u001b[38;5;34m0\u001b[0m │\n",
       "├─────────────────────────────────┼────────────────────────┼───────────────┤\n",
       "│ dense_5 (\u001b[38;5;33mDense\u001b[0m)                 │ (\u001b[38;5;45mNone\u001b[0m, \u001b[38;5;34m1\u001b[0m)              │           \u001b[38;5;34m129\u001b[0m │\n",
       "└─────────────────────────────────┴────────────────────────┴───────────────┘\n"
      ]
     },
     "metadata": {},
     "output_type": "display_data"
    },
    {
     "data": {
      "text/html": [
       "<pre style=\"white-space:pre;overflow-x:auto;line-height:normal;font-family:Menlo,'DejaVu Sans Mono',consolas,'Courier New',monospace\"><span style=\"font-weight: bold\"> Total params: </span><span style=\"color: #00af00; text-decoration-color: #00af00\">17,153</span> (67.00 KB)\n",
       "</pre>\n"
      ],
      "text/plain": [
       "\u001b[1m Total params: \u001b[0m\u001b[38;5;34m17,153\u001b[0m (67.00 KB)\n"
      ]
     },
     "metadata": {},
     "output_type": "display_data"
    },
    {
     "data": {
      "text/html": [
       "<pre style=\"white-space:pre;overflow-x:auto;line-height:normal;font-family:Menlo,'DejaVu Sans Mono',consolas,'Courier New',monospace\"><span style=\"font-weight: bold\"> Trainable params: </span><span style=\"color: #00af00; text-decoration-color: #00af00\">17,153</span> (67.00 KB)\n",
       "</pre>\n"
      ],
      "text/plain": [
       "\u001b[1m Trainable params: \u001b[0m\u001b[38;5;34m17,153\u001b[0m (67.00 KB)\n"
      ]
     },
     "metadata": {},
     "output_type": "display_data"
    },
    {
     "data": {
      "text/html": [
       "<pre style=\"white-space:pre;overflow-x:auto;line-height:normal;font-family:Menlo,'DejaVu Sans Mono',consolas,'Courier New',monospace\"><span style=\"font-weight: bold\"> Non-trainable params: </span><span style=\"color: #00af00; text-decoration-color: #00af00\">0</span> (0.00 B)\n",
       "</pre>\n"
      ],
      "text/plain": [
       "\u001b[1m Non-trainable params: \u001b[0m\u001b[38;5;34m0\u001b[0m (0.00 B)\n"
      ]
     },
     "metadata": {},
     "output_type": "display_data"
    }
   ],
   "source": [
    "from tensorflow.keras import layers\n",
    "\n",
    "model = keras.Sequential([\n",
    "    layers.Dense(128, activation='relu', input_shape=(3,)),\n",
    "    layers.Dropout(0.10),\n",
    "    layers.Dense(128, activation='relu'),\n",
    "    layers.Dropout(0.10),\n",
    "    layers.Dense(1)\n",
    "])\n",
    "model.summary()"
   ]
  },
  {
   "cell_type": "markdown",
   "metadata": {},
   "source": [
    "**Q16**: Compile your model with the following settings: \n",
    "```python\n",
    "optimizer='adam'\n",
    "loss='mean_squared_error`\n",
    "metrics=['mean_absolute_error']\n",
    "```"
   ]
  },
  {
   "cell_type": "code",
   "execution_count": 21,
   "metadata": {},
   "outputs": [],
   "source": [
    "model.compile(\n",
    "    optimizer='adam',\n",
    "    loss='mean_squared_error',\n",
    "    metrics=['mean_absolute_error']\n",
    ")"
   ]
  },
  {
   "cell_type": "markdown",
   "metadata": {},
   "source": [
    "**Q17**: Use `fit()` method to train the model as you did previously for 500 epochs."
   ]
  },
  {
   "cell_type": "code",
   "execution_count": 22,
   "metadata": {},
   "outputs": [
    {
     "name": "stdout",
     "output_type": "stream",
     "text": [
      "Epoch 1/20\n"
     ]
    },
    {
     "name": "stdout",
     "output_type": "stream",
     "text": [
      "\u001b[1m3/3\u001b[0m \u001b[32m━━━━━━━━━━━━━━━━━━━━\u001b[0m\u001b[37m\u001b[0m \u001b[1m1s\u001b[0m 64ms/step - loss: 4767552.0000 - mean_absolute_error: 2002.0054 - val_loss: 2719507.5000 - val_mean_absolute_error: 1403.0070\n",
      "Epoch 2/20\n",
      "\u001b[1m3/3\u001b[0m \u001b[32m━━━━━━━━━━━━━━━━━━━━\u001b[0m\u001b[37m\u001b[0m \u001b[1m0s\u001b[0m 14ms/step - loss: 4539493.5000 - mean_absolute_error: 1930.4966 - val_loss: 2718903.2500 - val_mean_absolute_error: 1402.8158\n",
      "Epoch 3/20\n",
      "\u001b[1m3/3\u001b[0m \u001b[32m━━━━━━━━━━━━━━━━━━━━\u001b[0m\u001b[37m\u001b[0m \u001b[1m0s\u001b[0m 14ms/step - loss: 4802387.5000 - mean_absolute_error: 2006.8132 - val_loss: 2718236.5000 - val_mean_absolute_error: 1402.6047\n",
      "Epoch 4/20\n",
      "\u001b[1m3/3\u001b[0m \u001b[32m━━━━━━━━━━━━━━━━━━━━\u001b[0m\u001b[37m\u001b[0m \u001b[1m0s\u001b[0m 13ms/step - loss: 4627825.5000 - mean_absolute_error: 1971.0592 - val_loss: 2717483.5000 - val_mean_absolute_error: 1402.3657\n",
      "Epoch 5/20\n",
      "\u001b[1m3/3\u001b[0m \u001b[32m━━━━━━━━━━━━━━━━━━━━\u001b[0m\u001b[37m\u001b[0m \u001b[1m0s\u001b[0m 13ms/step - loss: 4547505.0000 - mean_absolute_error: 1928.9402 - val_loss: 2716604.7500 - val_mean_absolute_error: 1402.0875\n",
      "Epoch 6/20\n",
      "\u001b[1m3/3\u001b[0m \u001b[32m━━━━━━━━━━━━━━━━━━━━\u001b[0m\u001b[37m\u001b[0m \u001b[1m0s\u001b[0m 15ms/step - loss: 4516641.0000 - mean_absolute_error: 1943.9359 - val_loss: 2715573.2500 - val_mean_absolute_error: 1401.7607\n",
      "Epoch 7/20\n",
      "\u001b[1m3/3\u001b[0m \u001b[32m━━━━━━━━━━━━━━━━━━━━\u001b[0m\u001b[37m\u001b[0m \u001b[1m0s\u001b[0m 14ms/step - loss: 4869651.5000 - mean_absolute_error: 2019.2152 - val_loss: 2714364.2500 - val_mean_absolute_error: 1401.3783\n",
      "Epoch 8/20\n",
      "\u001b[1m3/3\u001b[0m \u001b[32m━━━━━━━━━━━━━━━━━━━━\u001b[0m\u001b[37m\u001b[0m \u001b[1m0s\u001b[0m 14ms/step - loss: 4702074.5000 - mean_absolute_error: 1987.3611 - val_loss: 2712951.2500 - val_mean_absolute_error: 1400.9309\n",
      "Epoch 9/20\n",
      "\u001b[1m3/3\u001b[0m \u001b[32m━━━━━━━━━━━━━━━━━━━━\u001b[0m\u001b[37m\u001b[0m \u001b[1m0s\u001b[0m 14ms/step - loss: 4724654.5000 - mean_absolute_error: 1989.0133 - val_loss: 2711295.0000 - val_mean_absolute_error: 1400.4049\n",
      "Epoch 10/20\n",
      "\u001b[1m3/3\u001b[0m \u001b[32m━━━━━━━━━━━━━━━━━━━━\u001b[0m\u001b[37m\u001b[0m \u001b[1m0s\u001b[0m 13ms/step - loss: 4626159.0000 - mean_absolute_error: 1972.2518 - val_loss: 2709351.2500 - val_mean_absolute_error: 1399.7881\n",
      "Epoch 11/20\n",
      "\u001b[1m3/3\u001b[0m \u001b[32m━━━━━━━━━━━━━━━━━━━━\u001b[0m\u001b[37m\u001b[0m \u001b[1m0s\u001b[0m 12ms/step - loss: 4738337.0000 - mean_absolute_error: 1986.3691 - val_loss: 2707090.5000 - val_mean_absolute_error: 1399.0706\n",
      "Epoch 12/20\n",
      "\u001b[1m3/3\u001b[0m \u001b[32m━━━━━━━━━━━━━━━━━━━━\u001b[0m\u001b[37m\u001b[0m \u001b[1m0s\u001b[0m 13ms/step - loss: 4437657.5000 - mean_absolute_error: 1920.1163 - val_loss: 2704482.0000 - val_mean_absolute_error: 1398.2418\n",
      "Epoch 13/20\n",
      "\u001b[1m3/3\u001b[0m \u001b[32m━━━━━━━━━━━━━━━━━━━━\u001b[0m\u001b[37m\u001b[0m \u001b[1m0s\u001b[0m 13ms/step - loss: 4659265.0000 - mean_absolute_error: 1976.7916 - val_loss: 2701465.2500 - val_mean_absolute_error: 1397.2836\n",
      "Epoch 14/20\n",
      "\u001b[1m3/3\u001b[0m \u001b[32m━━━━━━━━━━━━━━━━━━━━\u001b[0m\u001b[37m\u001b[0m \u001b[1m0s\u001b[0m 13ms/step - loss: 4757609.0000 - mean_absolute_error: 1988.7264 - val_loss: 2697991.5000 - val_mean_absolute_error: 1396.1801\n",
      "Epoch 15/20\n",
      "\u001b[1m3/3\u001b[0m \u001b[32m━━━━━━━━━━━━━━━━━━━━\u001b[0m\u001b[37m\u001b[0m \u001b[1m0s\u001b[0m 12ms/step - loss: 4626271.5000 - mean_absolute_error: 1958.7792 - val_loss: 2694035.0000 - val_mean_absolute_error: 1394.9225\n",
      "Epoch 16/20\n",
      "\u001b[1m3/3\u001b[0m \u001b[32m━━━━━━━━━━━━━━━━━━━━\u001b[0m\u001b[37m\u001b[0m \u001b[1m0s\u001b[0m 13ms/step - loss: 4693617.5000 - mean_absolute_error: 1975.8903 - val_loss: 2689509.5000 - val_mean_absolute_error: 1393.4821\n",
      "Epoch 17/20\n",
      "\u001b[1m3/3\u001b[0m \u001b[32m━━━━━━━━━━━━━━━━━━━━\u001b[0m\u001b[37m\u001b[0m \u001b[1m0s\u001b[0m 13ms/step - loss: 4607825.0000 - mean_absolute_error: 1947.1035 - val_loss: 2684372.2500 - val_mean_absolute_error: 1391.8438\n",
      "Epoch 18/20\n",
      "\u001b[1m3/3\u001b[0m \u001b[32m━━━━━━━━━━━━━━━━━━━━\u001b[0m\u001b[37m\u001b[0m \u001b[1m0s\u001b[0m 14ms/step - loss: 4523247.0000 - mean_absolute_error: 1935.4724 - val_loss: 2678565.0000 - val_mean_absolute_error: 1389.9897\n",
      "Epoch 19/20\n",
      "\u001b[1m3/3\u001b[0m \u001b[32m━━━━━━━━━━━━━━━━━━━━\u001b[0m\u001b[37m\u001b[0m \u001b[1m0s\u001b[0m 13ms/step - loss: 4765124.0000 - mean_absolute_error: 1996.1304 - val_loss: 2672008.2500 - val_mean_absolute_error: 1387.8903\n",
      "Epoch 20/20\n",
      "\u001b[1m3/3\u001b[0m \u001b[32m━━━━━━━━━━━━━━━━━━━━\u001b[0m\u001b[37m\u001b[0m \u001b[1m0s\u001b[0m 14ms/step - loss: 4679903.0000 - mean_absolute_error: 1972.7306 - val_loss: 2664672.7500 - val_mean_absolute_error: 1385.5367\n"
     ]
    }
   ],
   "source": [
    "history = model.fit(X_train, y_train, epochs=20, validation_data=(X_val, y_val))"
   ]
  },
  {
   "cell_type": "markdown",
   "metadata": {},
   "source": [
    "**Q18**: Use below code to plot the training process evalution."
   ]
  },
  {
   "cell_type": "code",
   "execution_count": 23,
   "metadata": {},
   "outputs": [
    {
     "data": {
      "image/png": "[encoded data removed]",
      "text/plain": [
       "<Figure size 640x480 with 1 Axes>"
      ]
     },
     "metadata": {},
     "output_type": "display_data"
    }
   ],
   "source": [
    "import matplotlib.pyplot as plt\n",
    "\n",
    "# Plot training history\n",
    "plt.plot(history.history['mean_absolute_error'], label='Training MAE')\n",
    "plt.plot(history.history['val_mean_absolute_error'], label='Validation MAE')\n",
    "plt.xlabel('Epochs')\n",
    "plt.ylabel('Mean Absolute Error')\n",
    "plt.legend()\n",
    "plt.show()"
   ]
  },
  {
   "cell_type": "markdown",
   "metadata": {},
   "source": [
    "**Q19**: Can you train the model with more epochs? and why?"
   ]
  },
  {
   "cell_type": "markdown",
   "metadata": {},
   "source": [
    "Yes, we can see that the model underfits the data so we can try training it for a longer time (more epochs)"
   ]
  },
  {
   "cell_type": "code",
   "execution_count": null,
   "metadata": {},
   "outputs": [],
   "source": []
  },
  {
   "cell_type": "markdown",
   "metadata": {},
   "source": [
    "**Q20**: If yes. Copy the code of Q17 and Q18 in the following cell and increase the number of epochs till you find the model became to overfit. Note that the model will start from the last epoch. That means, if you put 1000 epochs, then the model will continue from the last epoch (the 500) to train extra 1000 epochs. Hence, the total training epochs will be 1000+500 = 1500 epochs."
   ]
  },
  {
   "cell_type": "code",
   "execution_count": 24,
   "metadata": {},
   "outputs": [
    {
     "name": "stdout",
     "output_type": "stream",
     "text": [
      "Epoch 1/100\n"
     ]
    },
    {
     "name": "stdout",
     "output_type": "stream",
     "text": [
      "\u001b[1m3/3\u001b[0m \u001b[32m━━━━━━━━━━━━━━━━━━━━\u001b[0m\u001b[37m\u001b[0m \u001b[1m0s\u001b[0m 29ms/step - loss: 4679869.5000 - mean_absolute_error: 1979.9551 - val_loss: 2656507.0000 - val_mean_absolute_error: 1382.9105\n",
      "Epoch 2/100\n",
      "\u001b[1m3/3\u001b[0m \u001b[32m━━━━━━━━━━━━━━━━━━━━\u001b[0m\u001b[37m\u001b[0m \u001b[1m0s\u001b[0m 13ms/step - loss: 4657064.0000 - mean_absolute_error: 1972.8588 - val_loss: 2647391.2500 - val_mean_absolute_error: 1379.9730\n",
      "Epoch 3/100\n",
      "\u001b[1m3/3\u001b[0m \u001b[32m━━━━━━━━━━━━━━━━━━━━\u001b[0m\u001b[37m\u001b[0m \u001b[1m0s\u001b[0m 16ms/step - loss: 4310328.0000 - mean_absolute_error: 1890.0272 - val_loss: 2637299.7500 - val_mean_absolute_error: 1376.7134\n",
      "Epoch 4/100\n",
      "\u001b[1m3/3\u001b[0m \u001b[32m━━━━━━━━━━━━━━━━━━━━\u001b[0m\u001b[37m\u001b[0m \u001b[1m0s\u001b[0m 15ms/step - loss: 4701476.0000 - mean_absolute_error: 1994.4879 - val_loss: 2626139.5000 - val_mean_absolute_error: 1373.0992\n",
      "Epoch 5/100\n",
      "\u001b[1m3/3\u001b[0m \u001b[32m━━━━━━━━━━━━━━━━━━━━\u001b[0m\u001b[37m\u001b[0m \u001b[1m0s\u001b[0m 15ms/step - loss: 4591015.5000 - mean_absolute_error: 1951.8356 - val_loss: 2613980.2500 - val_mean_absolute_error: 1369.1492\n",
      "Epoch 6/100\n",
      "\u001b[1m3/3\u001b[0m \u001b[32m━━━━━━━━━━━━━━━━━━━━\u001b[0m\u001b[37m\u001b[0m \u001b[1m0s\u001b[0m 13ms/step - loss: 4519397.0000 - mean_absolute_error: 1930.3228 - val_loss: 2600659.0000 - val_mean_absolute_error: 1364.8066\n",
      "Epoch 7/100\n",
      "\u001b[1m3/3\u001b[0m \u001b[32m━━━━━━━━━━━━━━━━━━━━\u001b[0m\u001b[37m\u001b[0m \u001b[1m0s\u001b[0m 14ms/step - loss: 4283952.0000 - mean_absolute_error: 1880.3654 - val_loss: 2586113.0000 - val_mean_absolute_error: 1360.0475\n",
      "Epoch 8/100\n",
      "\u001b[1m3/3\u001b[0m \u001b[32m━━━━━━━━━━━━━━━━━━━━\u001b[0m\u001b[37m\u001b[0m \u001b[1m0s\u001b[0m 15ms/step - loss: 4548226.0000 - mean_absolute_error: 1943.0051 - val_loss: 2570258.0000 - val_mean_absolute_error: 1354.8422\n",
      "Epoch 9/100\n",
      "\u001b[1m3/3\u001b[0m \u001b[32m━━━━━━━━━━━━━━━━━━━━\u001b[0m\u001b[37m\u001b[0m \u001b[1m0s\u001b[0m 13ms/step - loss: 4346257.0000 - mean_absolute_error: 1904.1345 - val_loss: 2552975.2500 - val_mean_absolute_error: 1349.1475\n",
      "Epoch 10/100\n",
      "\u001b[1m3/3\u001b[0m \u001b[32m━━━━━━━━━━━━━━━━━━━━\u001b[0m\u001b[37m\u001b[0m \u001b[1m0s\u001b[0m 14ms/step - loss: 4271598.5000 - mean_absolute_error: 1868.7234 - val_loss: 2534248.5000 - val_mean_absolute_error: 1342.9528\n",
      "Epoch 11/100\n",
      "\u001b[1m3/3\u001b[0m \u001b[32m━━━━━━━━━━━━━━━━━━━━\u001b[0m\u001b[37m\u001b[0m \u001b[1m0s\u001b[0m 13ms/step - loss: 4533393.0000 - mean_absolute_error: 1944.8942 - val_loss: 2513904.5000 - val_mean_absolute_error: 1336.1918\n",
      "Epoch 12/100\n",
      "\u001b[1m3/3\u001b[0m \u001b[32m━━━━━━━━━━━━━━━━━━━━\u001b[0m\u001b[37m\u001b[0m \u001b[1m0s\u001b[0m 16ms/step - loss: 4202779.0000 - mean_absolute_error: 1854.1378 - val_loss: 2492188.7500 - val_mean_absolute_error: 1328.9402\n",
      "Epoch 13/100\n",
      "\u001b[1m3/3\u001b[0m \u001b[32m━━━━━━━━━━━━━━━━━━━━\u001b[0m\u001b[37m\u001b[0m \u001b[1m0s\u001b[0m 15ms/step - loss: 4411736.5000 - mean_absolute_error: 1913.4114 - val_loss: 2468893.7500 - val_mean_absolute_error: 1321.1194\n",
      "Epoch 14/100\n",
      "\u001b[1m3/3\u001b[0m \u001b[32m━━━━━━━━━━━━━━━━━━━━\u001b[0m\u001b[37m\u001b[0m \u001b[1m0s\u001b[0m 15ms/step - loss: 4297990.5000 - mean_absolute_error: 1886.9626 - val_loss: 2444264.0000 - val_mean_absolute_error: 1312.8007\n",
      "Epoch 15/100\n",
      "\u001b[1m3/3\u001b[0m \u001b[32m━━━━━━━━━━━━━━━━━━━━\u001b[0m\u001b[37m\u001b[0m \u001b[1m0s\u001b[0m 14ms/step - loss: 4317751.0000 - mean_absolute_error: 1889.0671 - val_loss: 2418138.0000 - val_mean_absolute_error: 1303.9203\n",
      "Epoch 16/100\n",
      "\u001b[1m3/3\u001b[0m \u001b[32m━━━━━━━━━━━━━━━━━━━━\u001b[0m\u001b[37m\u001b[0m \u001b[1m0s\u001b[0m 14ms/step - loss: 4223061.5000 - mean_absolute_error: 1847.5043 - val_loss: 2390367.2500 - val_mean_absolute_error: 1294.4177\n",
      "Epoch 17/100\n",
      "\u001b[1m3/3\u001b[0m \u001b[32m━━━━━━━━━━━━━━━━━━━━\u001b[0m\u001b[37m\u001b[0m \u001b[1m0s\u001b[0m 14ms/step - loss: 4220886.0000 - mean_absolute_error: 1863.7733 - val_loss: 2360709.2500 - val_mean_absolute_error: 1284.1973\n",
      "Epoch 18/100\n",
      "\u001b[1m3/3\u001b[0m \u001b[32m━━━━━━━━━━━━━━━━━━━━\u001b[0m\u001b[37m\u001b[0m \u001b[1m0s\u001b[0m 15ms/step - loss: 4097292.0000 - mean_absolute_error: 1832.5011 - val_loss: 2329318.2500 - val_mean_absolute_error: 1273.2925\n",
      "Epoch 19/100\n",
      "\u001b[1m3/3\u001b[0m \u001b[32m━━━━━━━━━━━━━━━━━━━━\u001b[0m\u001b[37m\u001b[0m \u001b[1m0s\u001b[0m 12ms/step - loss: 4062870.0000 - mean_absolute_error: 1823.0244 - val_loss: 2296514.5000 - val_mean_absolute_error: 1261.8011\n",
      "Epoch 20/100\n",
      "\u001b[1m3/3\u001b[0m \u001b[32m━━━━━━━━━━━━━━━━━━━━\u001b[0m\u001b[37m\u001b[0m \u001b[1m0s\u001b[0m 17ms/step - loss: 4190365.0000 - mean_absolute_error: 1866.5541 - val_loss: 2262381.5000 - val_mean_absolute_error: 1249.7367\n",
      "Epoch 21/100\n",
      "\u001b[1m3/3\u001b[0m \u001b[32m━━━━━━━━━━━━━━━━━━━━\u001b[0m\u001b[37m\u001b[0m \u001b[1m0s\u001b[0m 15ms/step - loss: 3896859.0000 - mean_absolute_error: 1776.4683 - val_loss: 2227104.5000 - val_mean_absolute_error: 1237.1520\n",
      "Epoch 22/100\n",
      "\u001b[1m3/3\u001b[0m \u001b[32m━━━━━━━━━━━━━━━━━━━━\u001b[0m\u001b[37m\u001b[0m \u001b[1m0s\u001b[0m 13ms/step - loss: 3995125.2500 - mean_absolute_error: 1798.8866 - val_loss: 2189994.0000 - val_mean_absolute_error: 1223.7843\n",
      "Epoch 23/100\n",
      "\u001b[1m3/3\u001b[0m \u001b[32m━━━━━━━━━━━━━━━━━━━━\u001b[0m\u001b[37m\u001b[0m \u001b[1m0s\u001b[0m 15ms/step - loss: 3886683.5000 - mean_absolute_error: 1777.7421 - val_loss: 2151134.7500 - val_mean_absolute_error: 1209.6398\n",
      "Epoch 24/100\n",
      "\u001b[1m3/3\u001b[0m \u001b[32m━━━━━━━━━━━━━━━━━━━━\u001b[0m\u001b[37m\u001b[0m \u001b[1m0s\u001b[0m 11ms/step - loss: 3838818.5000 - mean_absolute_error: 1773.2609 - val_loss: 2110443.2500 - val_mean_absolute_error: 1194.6619\n",
      "Epoch 25/100\n",
      "\u001b[1m3/3\u001b[0m \u001b[32m━━━━━━━━━━━━━━━━━━━━\u001b[0m\u001b[37m\u001b[0m \u001b[1m0s\u001b[0m 16ms/step - loss: 3752994.7500 - mean_absolute_error: 1750.1116 - val_loss: 2068088.0000 - val_mean_absolute_error: 1178.8835\n",
      "Epoch 26/100\n",
      "\u001b[1m3/3\u001b[0m \u001b[32m━━━━━━━━━━━━━━━━━━━━\u001b[0m\u001b[37m\u001b[0m \u001b[1m0s\u001b[0m 17ms/step - loss: 3800145.2500 - mean_absolute_error: 1753.1340 - val_loss: 2023987.0000 - val_mean_absolute_error: 1162.2432\n",
      "Epoch 27/100\n",
      "\u001b[1m3/3\u001b[0m \u001b[32m━━━━━━━━━━━━━━━━━━━━\u001b[0m\u001b[37m\u001b[0m \u001b[1m0s\u001b[0m 12ms/step - loss: 3618407.7500 - mean_absolute_error: 1708.4645 - val_loss: 1978324.0000 - val_mean_absolute_error: 1144.7722\n",
      "Epoch 28/100\n",
      "\u001b[1m3/3\u001b[0m \u001b[32m━━━━━━━━━━━━━━━━━━━━\u001b[0m\u001b[37m\u001b[0m \u001b[1m0s\u001b[0m 16ms/step - loss: 3393978.2500 - mean_absolute_error: 1639.6506 - val_loss: 1930982.1250 - val_mean_absolute_error: 1126.3907\n",
      "Epoch 29/100\n",
      "\u001b[1m3/3\u001b[0m \u001b[32m━━━━━━━━━━━━━━━━━━━━\u001b[0m\u001b[37m\u001b[0m \u001b[1m0s\u001b[0m 15ms/step - loss: 3346273.7500 - mean_absolute_error: 1623.7939 - val_loss: 1881763.7500 - val_mean_absolute_error: 1106.9829\n",
      "Epoch 30/100\n",
      "\u001b[1m3/3\u001b[0m \u001b[32m━━━━━━━━━━━━━━━━━━━━\u001b[0m\u001b[37m\u001b[0m \u001b[1m0s\u001b[0m 13ms/step - loss: 3292006.7500 - mean_absolute_error: 1619.9631 - val_loss: 1830790.1250 - val_mean_absolute_error: 1087.1984\n",
      "Epoch 31/100\n",
      "\u001b[1m3/3\u001b[0m \u001b[32m━━━━━━━━━━━━━━━━━━━━\u001b[0m\u001b[37m\u001b[0m \u001b[1m0s\u001b[0m 15ms/step - loss: 3153083.5000 - mean_absolute_error: 1575.2971 - val_loss: 1778862.3750 - val_mean_absolute_error: 1067.6294\n",
      "Epoch 32/100\n",
      "\u001b[1m3/3\u001b[0m \u001b[32m━━━━━━━━━━━━━━━━━━━━\u001b[0m\u001b[37m\u001b[0m \u001b[1m0s\u001b[0m 14ms/step - loss: 3075337.5000 - mean_absolute_error: 1548.4771 - val_loss: 1726056.7500 - val_mean_absolute_error: 1047.3518\n",
      "Epoch 33/100\n",
      "\u001b[1m3/3\u001b[0m \u001b[32m━━━━━━━━━━━━━━━━━━━━\u001b[0m\u001b[37m\u001b[0m \u001b[1m0s\u001b[0m 15ms/step - loss: 2966237.0000 - mean_absolute_error: 1500.5559 - val_loss: 1671693.6250 - val_mean_absolute_error: 1026.0551\n",
      "Epoch 34/100\n",
      "\u001b[1m3/3\u001b[0m \u001b[32m━━━━━━━━━━━━━━━━━━━━\u001b[0m\u001b[37m\u001b[0m \u001b[1m0s\u001b[0m 16ms/step - loss: 3130171.2500 - mean_absolute_error: 1557.7112 - val_loss: 1615949.5000 - val_mean_absolute_error: 1003.7462\n",
      "Epoch 35/100\n",
      "\u001b[1m3/3\u001b[0m \u001b[32m━━━━━━━━━━━━━━━━━━━━\u001b[0m\u001b[37m\u001b[0m \u001b[1m0s\u001b[0m 15ms/step - loss: 3109378.7500 - mean_absolute_error: 1570.3561 - val_loss: 1560375.6250 - val_mean_absolute_error: 980.9977\n",
      "Epoch 36/100\n",
      "\u001b[1m3/3\u001b[0m \u001b[32m━━━━━━━━━━━━━━━━━━━━\u001b[0m\u001b[37m\u001b[0m \u001b[1m0s\u001b[0m 15ms/step - loss: 2942134.0000 - mean_absolute_error: 1521.1401 - val_loss: 1505323.2500 - val_mean_absolute_error: 957.9241\n",
      "Epoch 37/100\n",
      "\u001b[1m3/3\u001b[0m \u001b[32m━━━━━━━━━━━━━━━━━━━━\u001b[0m\u001b[37m\u001b[0m \u001b[1m0s\u001b[0m 15ms/step - loss: 2862265.7500 - mean_absolute_error: 1491.9960 - val_loss: 1450259.0000 - val_mean_absolute_error: 934.2717\n",
      "Epoch 38/100\n",
      "\u001b[1m3/3\u001b[0m \u001b[32m━━━━━━━━━━━━━━━━━━━━\u001b[0m\u001b[37m\u001b[0m \u001b[1m0s\u001b[0m 14ms/step - loss: 2673431.0000 - mean_absolute_error: 1429.4182 - val_loss: 1394449.0000 - val_mean_absolute_error: 909.6747\n",
      "Epoch 39/100\n",
      "\u001b[1m3/3\u001b[0m \u001b[32m━━━━━━━━━━━━━━━━━━━━\u001b[0m\u001b[37m\u001b[0m \u001b[1m0s\u001b[0m 16ms/step - loss: 2722639.7500 - mean_absolute_error: 1439.7679 - val_loss: 1337990.3750 - val_mean_absolute_error: 884.0948\n",
      "Epoch 40/100\n",
      "\u001b[1m3/3\u001b[0m \u001b[32m━━━━━━━━━━━━━━━━━━━━\u001b[0m\u001b[37m\u001b[0m \u001b[1m0s\u001b[0m 13ms/step - loss: 2589423.5000 - mean_absolute_error: 1398.6956 - val_loss: 1281836.6250 - val_mean_absolute_error: 857.8931\n",
      "Epoch 41/100\n",
      "\u001b[1m3/3\u001b[0m \u001b[32m━━━━━━━━━━━━━━━━━━━━\u001b[0m\u001b[37m\u001b[0m \u001b[1m0s\u001b[0m 15ms/step - loss: 2410403.7500 - mean_absolute_error: 1342.6445 - val_loss: 1226157.2500 - val_mean_absolute_error: 832.1982\n",
      "Epoch 42/100\n",
      "\u001b[1m3/3\u001b[0m \u001b[32m━━━━━━━━━━━━━━━━━━━━\u001b[0m\u001b[37m\u001b[0m \u001b[1m0s\u001b[0m 15ms/step - loss: 2247699.7500 - mean_absolute_error: 1280.7803 - val_loss: 1170262.5000 - val_mean_absolute_error: 809.3891\n",
      "Epoch 43/100\n",
      "\u001b[1m3/3\u001b[0m \u001b[32m━━━━━━━━━━━━━━━━━━━━\u001b[0m\u001b[37m\u001b[0m \u001b[1m0s\u001b[0m 15ms/step - loss: 2436900.2500 - mean_absolute_error: 1357.4335 - val_loss: 1114742.6250 - val_mean_absolute_error: 785.9210\n",
      "Epoch 44/100\n",
      "\u001b[1m3/3\u001b[0m \u001b[32m━━━━━━━━━━━━━━━━━━━━\u001b[0m\u001b[37m\u001b[0m \u001b[1m0s\u001b[0m 15ms/step - loss: 2149916.7500 - mean_absolute_error: 1250.4281 - val_loss: 1060600.7500 - val_mean_absolute_error: 763.1917\n",
      "Epoch 45/100\n",
      "\u001b[1m3/3\u001b[0m \u001b[32m━━━━━━━━━━━━━━━━━━━━\u001b[0m\u001b[37m\u001b[0m \u001b[1m0s\u001b[0m 15ms/step - loss: 2090547.6250 - mean_absolute_error: 1229.2209 - val_loss: 1007510.9375 - val_mean_absolute_error: 741.5339\n",
      "Epoch 46/100\n",
      "\u001b[1m3/3\u001b[0m \u001b[32m━━━━━━━━━━━━━━━━━━━━\u001b[0m\u001b[37m\u001b[0m \u001b[1m0s\u001b[0m 14ms/step - loss: 1998536.1250 - mean_absolute_error: 1188.9766 - val_loss: 955145.2500 - val_mean_absolute_error: 719.2561\n",
      "Epoch 47/100\n",
      "\u001b[1m3/3\u001b[0m \u001b[32m━━━━━━━━━━━━━━━━━━━━\u001b[0m\u001b[37m\u001b[0m \u001b[1m0s\u001b[0m 12ms/step - loss: 1899064.5000 - mean_absolute_error: 1163.3826 - val_loss: 904186.1250 - val_mean_absolute_error: 696.8746\n",
      "Epoch 48/100\n",
      "\u001b[1m3/3\u001b[0m \u001b[32m━━━━━━━━━━━━━━━━━━━━\u001b[0m\u001b[37m\u001b[0m \u001b[1m0s\u001b[0m 15ms/step - loss: 1838318.0000 - mean_absolute_error: 1135.3458 - val_loss: 854764.6875 - val_mean_absolute_error: 676.6066\n",
      "Epoch 49/100\n",
      "\u001b[1m3/3\u001b[0m \u001b[32m━━━━━━━━━━━━━━━━━━━━\u001b[0m\u001b[37m\u001b[0m \u001b[1m0s\u001b[0m 15ms/step - loss: 1840721.3750 - mean_absolute_error: 1142.8762 - val_loss: 807119.8125 - val_mean_absolute_error: 656.0453\n",
      "Epoch 50/100\n",
      "\u001b[1m3/3\u001b[0m \u001b[32m━━━━━━━━━━━━━━━━━━━━\u001b[0m\u001b[37m\u001b[0m \u001b[1m0s\u001b[0m 15ms/step - loss: 1688241.6250 - mean_absolute_error: 1082.1826 - val_loss: 761925.0625 - val_mean_absolute_error: 635.4536\n",
      "Epoch 51/100\n",
      "\u001b[1m3/3\u001b[0m \u001b[32m━━━━━━━━━━━━━━━━━━━━\u001b[0m\u001b[37m\u001b[0m \u001b[1m0s\u001b[0m 15ms/step - loss: 1645868.7500 - mean_absolute_error: 1068.2974 - val_loss: 718052.0625 - val_mean_absolute_error: 614.2667\n",
      "Epoch 52/100\n",
      "\u001b[1m3/3\u001b[0m \u001b[32m━━━━━━━━━━━━━━━━━━━━\u001b[0m\u001b[37m\u001b[0m \u001b[1m0s\u001b[0m 15ms/step - loss: 1551362.8750 - mean_absolute_error: 1025.8667 - val_loss: 676473.6875 - val_mean_absolute_error: 595.0622\n",
      "Epoch 53/100\n",
      "\u001b[1m3/3\u001b[0m \u001b[32m━━━━━━━━━━━━━━━━━━━━\u001b[0m\u001b[37m\u001b[0m \u001b[1m0s\u001b[0m 14ms/step - loss: 1492664.5000 - mean_absolute_error: 1022.7695 - val_loss: 637310.5000 - val_mean_absolute_error: 578.1073\n",
      "Epoch 54/100\n",
      "\u001b[1m3/3\u001b[0m \u001b[32m━━━━━━━━━━━━━━━━━━━━\u001b[0m\u001b[37m\u001b[0m \u001b[1m0s\u001b[0m 51ms/step - loss: 1291463.5000 - mean_absolute_error: 904.8158 - val_loss: 601784.6875 - val_mean_absolute_error: 562.7312\n",
      "Epoch 55/100\n",
      "\u001b[1m3/3\u001b[0m \u001b[32m━━━━━━━━━━━━━━━━━━━━\u001b[0m\u001b[37m\u001b[0m \u001b[1m0s\u001b[0m 15ms/step - loss: 1321944.2500 - mean_absolute_error: 928.7448 - val_loss: 568184.8125 - val_mean_absolute_error: 552.6926\n",
      "Epoch 56/100\n",
      "\u001b[1m3/3\u001b[0m \u001b[32m━━━━━━━━━━━━━━━━━━━━\u001b[0m\u001b[37m\u001b[0m \u001b[1m0s\u001b[0m 13ms/step - loss: 1314935.0000 - mean_absolute_error: 941.1702 - val_loss: 537652.0625 - val_mean_absolute_error: 542.7649\n",
      "Epoch 57/100\n",
      "\u001b[1m3/3\u001b[0m \u001b[32m━━━━━━━━━━━━━━━━━━━━\u001b[0m\u001b[37m\u001b[0m \u001b[1m0s\u001b[0m 13ms/step - loss: 1197610.7500 - mean_absolute_error: 888.6506 - val_loss: 510907.3750 - val_mean_absolute_error: 533.9789\n",
      "Epoch 58/100\n",
      "\u001b[1m3/3\u001b[0m \u001b[32m━━━━━━━━━━━━━━━━━━━━\u001b[0m\u001b[37m\u001b[0m \u001b[1m0s\u001b[0m 16ms/step - loss: 1127769.0000 - mean_absolute_error: 847.9855 - val_loss: 487084.8438 - val_mean_absolute_error: 527.7708\n",
      "Epoch 59/100\n",
      "\u001b[1m3/3\u001b[0m \u001b[32m━━━━━━━━━━━━━━━━━━━━\u001b[0m\u001b[37m\u001b[0m \u001b[1m0s\u001b[0m 15ms/step - loss: 1062797.5000 - mean_absolute_error: 832.1320 - val_loss: 465343.9375 - val_mean_absolute_error: 521.4718\n",
      "Epoch 60/100\n",
      "\u001b[1m3/3\u001b[0m \u001b[32m━━━━━━━━━━━━━━━━━━━━\u001b[0m\u001b[37m\u001b[0m \u001b[1m0s\u001b[0m 14ms/step - loss: 968268.1250 - mean_absolute_error: 804.4049 - val_loss: 446088.6250 - val_mean_absolute_error: 515.1862\n",
      "Epoch 61/100\n",
      "\u001b[1m3/3\u001b[0m \u001b[32m━━━━━━━━━━━━━━━━━━━━\u001b[0m\u001b[37m\u001b[0m \u001b[1m0s\u001b[0m 16ms/step - loss: 920524.5625 - mean_absolute_error: 776.9873 - val_loss: 429340.3750 - val_mean_absolute_error: 511.2906\n",
      "Epoch 62/100\n",
      "\u001b[1m3/3\u001b[0m \u001b[32m━━━━━━━━━━━━━━━━━━━━\u001b[0m\u001b[37m\u001b[0m \u001b[1m0s\u001b[0m 15ms/step - loss: 966579.0000 - mean_absolute_error: 810.1096 - val_loss: 414594.1562 - val_mean_absolute_error: 509.4337\n",
      "Epoch 63/100\n",
      "\u001b[1m3/3\u001b[0m \u001b[32m━━━━━━━━━━━━━━━━━━━━\u001b[0m\u001b[37m\u001b[0m \u001b[1m0s\u001b[0m 15ms/step - loss: 871873.5625 - mean_absolute_error: 760.3502 - val_loss: 402683.0938 - val_mean_absolute_error: 511.2667\n",
      "Epoch 64/100\n",
      "\u001b[1m3/3\u001b[0m \u001b[32m━━━━━━━━━━━━━━━━━━━━\u001b[0m\u001b[37m\u001b[0m \u001b[1m0s\u001b[0m 15ms/step - loss: 892914.6250 - mean_absolute_error: 781.5663 - val_loss: 393191.8125 - val_mean_absolute_error: 513.0686\n",
      "Epoch 65/100\n",
      "\u001b[1m3/3\u001b[0m \u001b[32m━━━━━━━━━━━━━━━━━━━━\u001b[0m\u001b[37m\u001b[0m \u001b[1m0s\u001b[0m 13ms/step - loss: 736749.2500 - mean_absolute_error: 701.7657 - val_loss: 386082.0938 - val_mean_absolute_error: 514.8431\n",
      "Epoch 66/100\n",
      "\u001b[1m3/3\u001b[0m \u001b[32m━━━━━━━━━━━━━━━━━━━━\u001b[0m\u001b[37m\u001b[0m \u001b[1m0s\u001b[0m 14ms/step - loss: 723988.6250 - mean_absolute_error: 708.2241 - val_loss: 381113.3125 - val_mean_absolute_error: 519.2718\n",
      "Epoch 67/100\n",
      "\u001b[1m3/3\u001b[0m \u001b[32m━━━━━━━━━━━━━━━━━━━━\u001b[0m\u001b[37m\u001b[0m \u001b[1m0s\u001b[0m 16ms/step - loss: 691737.6250 - mean_absolute_error: 698.1969 - val_loss: 378472.8438 - val_mean_absolute_error: 525.1733\n",
      "Epoch 68/100\n",
      "\u001b[1m3/3\u001b[0m \u001b[32m━━━━━━━━━━━━━━━━━━━━\u001b[0m\u001b[37m\u001b[0m \u001b[1m0s\u001b[0m 15ms/step - loss: 647712.9375 - mean_absolute_error: 665.5094 - val_loss: 377808.3750 - val_mean_absolute_error: 532.5523\n",
      "Epoch 69/100\n",
      "\u001b[1m3/3\u001b[0m \u001b[32m━━━━━━━━━━━━━━━━━━━━\u001b[0m\u001b[37m\u001b[0m \u001b[1m0s\u001b[0m 14ms/step - loss: 652155.1250 - mean_absolute_error: 673.6741 - val_loss: 378744.0312 - val_mean_absolute_error: 539.6573\n",
      "Epoch 70/100\n",
      "\u001b[1m3/3\u001b[0m \u001b[32m━━━━━━━━━━━━━━━━━━━━\u001b[0m\u001b[37m\u001b[0m \u001b[1m0s\u001b[0m 15ms/step - loss: 584575.7500 - mean_absolute_error: 622.5880 - val_loss: 381137.7500 - val_mean_absolute_error: 546.4559\n",
      "Epoch 71/100\n",
      "\u001b[1m3/3\u001b[0m \u001b[32m━━━━━━━━━━━━━━━━━━━━\u001b[0m\u001b[37m\u001b[0m \u001b[1m0s\u001b[0m 15ms/step - loss: 581368.9375 - mean_absolute_error: 642.5286 - val_loss: 385063.3438 - val_mean_absolute_error: 553.3324\n",
      "Epoch 72/100\n",
      "\u001b[1m3/3\u001b[0m \u001b[32m━━━━━━━━━━━━━━━━━━━━\u001b[0m\u001b[37m\u001b[0m \u001b[1m0s\u001b[0m 13ms/step - loss: 548227.2500 - mean_absolute_error: 638.7000 - val_loss: 390466.5938 - val_mean_absolute_error: 560.1862\n",
      "Epoch 73/100\n",
      "\u001b[1m3/3\u001b[0m \u001b[32m━━━━━━━━━━━━━━━━━━━━\u001b[0m\u001b[37m\u001b[0m \u001b[1m0s\u001b[0m 14ms/step - loss: 563131.6875 - mean_absolute_error: 640.7239 - val_loss: 397463.2812 - val_mean_absolute_error: 567.1087\n",
      "Epoch 74/100\n",
      "\u001b[1m3/3\u001b[0m \u001b[32m━━━━━━━━━━━━━━━━━━━━\u001b[0m\u001b[37m\u001b[0m \u001b[1m0s\u001b[0m 15ms/step - loss: 527564.0000 - mean_absolute_error: 608.4635 - val_loss: 404746.2188 - val_mean_absolute_error: 573.0826\n",
      "Epoch 75/100\n",
      "\u001b[1m3/3\u001b[0m \u001b[32m━━━━━━━━━━━━━━━━━━━━\u001b[0m\u001b[37m\u001b[0m \u001b[1m0s\u001b[0m 16ms/step - loss: 496200.7812 - mean_absolute_error: 609.2676 - val_loss: 411572.0938 - val_mean_absolute_error: 577.9507\n",
      "Epoch 76/100\n",
      "\u001b[1m3/3\u001b[0m \u001b[32m━━━━━━━━━━━━━━━━━━━━\u001b[0m\u001b[37m\u001b[0m \u001b[1m0s\u001b[0m 16ms/step - loss: 465123.0938 - mean_absolute_error: 585.5219 - val_loss: 419450.7500 - val_mean_absolute_error: 584.2629\n",
      "Epoch 77/100\n",
      "\u001b[1m3/3\u001b[0m \u001b[32m━━━━━━━━━━━━━━━━━━━━\u001b[0m\u001b[37m\u001b[0m \u001b[1m0s\u001b[0m 13ms/step - loss: 482548.1250 - mean_absolute_error: 597.5579 - val_loss: 427879.7188 - val_mean_absolute_error: 591.0831\n",
      "Epoch 78/100\n",
      "\u001b[1m3/3\u001b[0m \u001b[32m━━━━━━━━━━━━━━━━━━━━\u001b[0m\u001b[37m\u001b[0m \u001b[1m0s\u001b[0m 15ms/step - loss: 448484.0625 - mean_absolute_error: 572.0796 - val_loss: 435896.5938 - val_mean_absolute_error: 597.0356\n",
      "Epoch 79/100\n",
      "\u001b[1m3/3\u001b[0m \u001b[32m━━━━━━━━━━━━━━━━━━━━\u001b[0m\u001b[37m\u001b[0m \u001b[1m0s\u001b[0m 16ms/step - loss: 468885.6250 - mean_absolute_error: 589.4678 - val_loss: 443633.8438 - val_mean_absolute_error: 602.3748\n",
      "Epoch 80/100\n",
      "\u001b[1m3/3\u001b[0m \u001b[32m━━━━━━━━━━━━━━━━━━━━\u001b[0m\u001b[37m\u001b[0m \u001b[1m0s\u001b[0m 15ms/step - loss: 433049.5625 - mean_absolute_error: 565.8667 - val_loss: 450765.7812 - val_mean_absolute_error: 606.9926\n",
      "Epoch 81/100\n",
      "\u001b[1m3/3\u001b[0m \u001b[32m━━━━━━━━━━━━━━━━━━━━\u001b[0m\u001b[37m\u001b[0m \u001b[1m0s\u001b[0m 20ms/step - loss: 444977.0625 - mean_absolute_error: 571.0909 - val_loss: 457863.6875 - val_mean_absolute_error: 611.3401\n",
      "Epoch 82/100\n",
      "\u001b[1m3/3\u001b[0m \u001b[32m━━━━━━━━━━━━━━━━━━━━\u001b[0m\u001b[37m\u001b[0m \u001b[1m0s\u001b[0m 14ms/step - loss: 411300.5938 - mean_absolute_error: 552.2252 - val_loss: 465734.5938 - val_mean_absolute_error: 615.9222\n",
      "Epoch 83/100\n",
      "\u001b[1m3/3\u001b[0m \u001b[32m━━━━━━━━━━━━━━━━━━━━\u001b[0m\u001b[37m\u001b[0m \u001b[1m0s\u001b[0m 16ms/step - loss: 428456.1562 - mean_absolute_error: 563.9639 - val_loss: 474161.0000 - val_mean_absolute_error: 620.5818\n",
      "Epoch 84/100\n",
      "\u001b[1m3/3\u001b[0m \u001b[32m━━━━━━━━━━━━━━━━━━━━\u001b[0m\u001b[37m\u001b[0m \u001b[1m0s\u001b[0m 15ms/step - loss: 399265.5938 - mean_absolute_error: 540.5400 - val_loss: 481418.0000 - val_mean_absolute_error: 625.3630\n",
      "Epoch 85/100\n",
      "\u001b[1m3/3\u001b[0m \u001b[32m━━━━━━━━━━━━━━━━━━━━\u001b[0m\u001b[37m\u001b[0m \u001b[1m0s\u001b[0m 16ms/step - loss: 422198.1250 - mean_absolute_error: 581.2784 - val_loss: 488256.3750 - val_mean_absolute_error: 630.2244\n",
      "Epoch 86/100\n",
      "\u001b[1m3/3\u001b[0m \u001b[32m━━━━━━━━━━━━━━━━━━━━\u001b[0m\u001b[37m\u001b[0m \u001b[1m0s\u001b[0m 16ms/step - loss: 399581.8125 - mean_absolute_error: 538.4579 - val_loss: 494148.5312 - val_mean_absolute_error: 634.2840\n",
      "Epoch 87/100\n",
      "\u001b[1m3/3\u001b[0m \u001b[32m━━━━━━━━━━━━━━━━━━━━\u001b[0m\u001b[37m\u001b[0m \u001b[1m0s\u001b[0m 13ms/step - loss: 428122.9062 - mean_absolute_error: 566.9663 - val_loss: 498952.9062 - val_mean_absolute_error: 637.5084\n",
      "Epoch 88/100\n",
      "\u001b[1m3/3\u001b[0m \u001b[32m━━━━━━━━━━━━━━━━━━━━\u001b[0m\u001b[37m\u001b[0m \u001b[1m0s\u001b[0m 16ms/step - loss: 438479.1250 - mean_absolute_error: 586.2357 - val_loss: 504347.1562 - val_mean_absolute_error: 641.0305\n",
      "Epoch 89/100\n",
      "\u001b[1m3/3\u001b[0m \u001b[32m━━━━━━━━━━━━━━━━━━━━\u001b[0m\u001b[37m\u001b[0m \u001b[1m0s\u001b[0m 16ms/step - loss: 439467.3750 - mean_absolute_error: 578.9332 - val_loss: 509582.8438 - val_mean_absolute_error: 644.3613\n",
      "Epoch 90/100\n",
      "\u001b[1m3/3\u001b[0m \u001b[32m━━━━━━━━━━━━━━━━━━━━\u001b[0m\u001b[37m\u001b[0m \u001b[1m0s\u001b[0m 15ms/step - loss: 413904.3125 - mean_absolute_error: 558.1666 - val_loss: 513294.9375 - val_mean_absolute_error: 646.6681\n",
      "Epoch 91/100\n",
      "\u001b[1m3/3\u001b[0m \u001b[32m━━━━━━━━━━━━━━━━━━━━\u001b[0m\u001b[37m\u001b[0m \u001b[1m0s\u001b[0m 15ms/step - loss: 409045.6562 - mean_absolute_error: 562.7097 - val_loss: 515205.4688 - val_mean_absolute_error: 647.8292\n",
      "Epoch 92/100\n",
      "\u001b[1m3/3\u001b[0m \u001b[32m━━━━━━━━━━━━━━━━━━━━\u001b[0m\u001b[37m\u001b[0m \u001b[1m0s\u001b[0m 16ms/step - loss: 444979.4062 - mean_absolute_error: 570.1746 - val_loss: 515397.2188 - val_mean_absolute_error: 647.9222\n",
      "Epoch 93/100\n",
      "\u001b[1m3/3\u001b[0m \u001b[32m━━━━━━━━━━━━━━━━━━━━\u001b[0m\u001b[37m\u001b[0m \u001b[1m0s\u001b[0m 13ms/step - loss: 385468.1875 - mean_absolute_error: 556.9143 - val_loss: 515032.7500 - val_mean_absolute_error: 647.6750\n",
      "Epoch 94/100\n",
      "\u001b[1m3/3\u001b[0m \u001b[32m━━━━━━━━━━━━━━━━━━━━\u001b[0m\u001b[37m\u001b[0m \u001b[1m0s\u001b[0m 14ms/step - loss: 407452.5000 - mean_absolute_error: 557.9781 - val_loss: 514437.3750 - val_mean_absolute_error: 647.2898\n",
      "Epoch 95/100\n",
      "\u001b[1m3/3\u001b[0m \u001b[32m━━━━━━━━━━━━━━━━━━━━\u001b[0m\u001b[37m\u001b[0m \u001b[1m0s\u001b[0m 14ms/step - loss: 406460.9375 - mean_absolute_error: 561.4384 - val_loss: 513647.5938 - val_mean_absolute_error: 646.7853\n",
      "Epoch 96/100\n",
      "\u001b[1m3/3\u001b[0m \u001b[32m━━━━━━━━━━━━━━━━━━━━\u001b[0m\u001b[37m\u001b[0m \u001b[1m0s\u001b[0m 14ms/step - loss: 394585.5938 - mean_absolute_error: 545.5938 - val_loss: 512460.2188 - val_mean_absolute_error: 646.0350\n",
      "Epoch 97/100\n",
      "\u001b[1m3/3\u001b[0m \u001b[32m━━━━━━━━━━━━━━━━━━━━\u001b[0m\u001b[37m\u001b[0m \u001b[1m0s\u001b[0m 15ms/step - loss: 401267.4375 - mean_absolute_error: 553.0851 - val_loss: 511799.9375 - val_mean_absolute_error: 645.5997\n",
      "Epoch 98/100\n",
      "\u001b[1m3/3\u001b[0m \u001b[32m━━━━━━━━━━━━━━━━━━━━\u001b[0m\u001b[37m\u001b[0m \u001b[1m0s\u001b[0m 13ms/step - loss: 410734.2812 - mean_absolute_error: 553.9230 - val_loss: 510556.9375 - val_mean_absolute_error: 644.8047\n",
      "Epoch 99/100\n",
      "\u001b[1m3/3\u001b[0m \u001b[32m━━━━━━━━━━━━━━━━━━━━\u001b[0m\u001b[37m\u001b[0m \u001b[1m0s\u001b[0m 16ms/step - loss: 395238.6875 - mean_absolute_error: 549.4479 - val_loss: 508794.0000 - val_mean_absolute_error: 643.6895\n",
      "Epoch 100/100\n",
      "\u001b[1m3/3\u001b[0m \u001b[32m━━━━━━━━━━━━━━━━━━━━\u001b[0m\u001b[37m\u001b[0m \u001b[1m0s\u001b[0m 15ms/step - loss: 403127.5000 - mean_absolute_error: 541.5424 - val_loss: 506645.4062 - val_mean_absolute_error: 642.3391\n"
     ]
    },
    {
     "data": {
      "image/png": "[encoded data removed]",
      "text/plain": [
       "<Figure size 640x480 with 1 Axes>"
      ]
     },
     "metadata": {},
     "output_type": "display_data"
    }
   ],
   "source": [
    "# Fit code from Q17\n",
    "history = model.fit(X_train, y_train, epochs=100, validation_data=(X_val, y_val))\n",
    "\n",
    "\n",
    "# plot code from Q18\n",
    "plt.plot(history.history['mean_absolute_error'], label='Training MAE')\n",
    "plt.plot(history.history['val_mean_absolute_error'], label='Validation MAE')\n",
    "plt.xlabel('Epochs')\n",
    "plt.ylabel('Mean Absolute Error')\n",
    "plt.legend()\n",
    "plt.show()"
   ]
  },
  {
   "cell_type": "markdown",
   "metadata": {},
   "source": [
    "**Q21**: What range of epochs you find the model best performing based on the graph?"
   ]
  },
  {
   "cell_type": "markdown",
   "metadata": {},
   "source": [
    "We can see that around 60 epochs (80 total epochs) the model have the lowest validation accuracy."
   ]
  },
  {
   "cell_type": "raw",
   "metadata": {},
   "source": []
  },
  {
   "cell_type": "markdown",
   "metadata": {},
   "source": [
    "**Q22**: Use a different variable name, `model_rmsprop`, and train the same model with optimizer `rmsprop`. Graph the epochs after training to determine at which epoch you should stop. "
   ]
  },
  {
   "cell_type": "code",
   "execution_count": 25,
   "metadata": {},
   "outputs": [
    {
     "name": "stderr",
     "output_type": "stream",
     "text": [
      "/home/mohamed/miniconda3/lib/python3.12/site-packages/keras/src/layers/core/dense.py:87: UserWarning: Do not pass an `input_shape`/`input_dim` argument to a layer. When using Sequential models, prefer using an `Input(shape)` object as the first layer in the model instead.\n",
      "  super().__init__(activity_regularizer=activity_regularizer, **kwargs)\n"
     ]
    },
    {
     "data": {
      "text/html": [
       "<pre style=\"white-space:pre;overflow-x:auto;line-height:normal;font-family:Menlo,'DejaVu Sans Mono',consolas,'Courier New',monospace\"><span style=\"font-weight: bold\">Model: \"sequential_2\"</span>\n",
       "</pre>\n"
      ],
      "text/plain": [
       "\u001b[1mModel: \"sequential_2\"\u001b[0m\n"
      ]
     },
     "metadata": {},
     "output_type": "display_data"
    },
    {
     "data": {
      "text/html": [
       "<pre style=\"white-space:pre;overflow-x:auto;line-height:normal;font-family:Menlo,'DejaVu Sans Mono',consolas,'Courier New',monospace\">┏━━━━━━━━━━━━━━━━━━━━━━━━━━━━━━━━━┳━━━━━━━━━━━━━━━━━━━━━━━━┳━━━━━━━━━━━━━━━┓\n",
       "┃<span style=\"font-weight: bold\"> Layer (type)                    </span>┃<span style=\"font-weight: bold\"> Output Shape           </span>┃<span style=\"font-weight: bold\">       Param # </span>┃\n",
       "┡━━━━━━━━━━━━━━━━━━━━━━━━━━━━━━━━━╇━━━━━━━━━━━━━━━━━━━━━━━━╇━━━━━━━━━━━━━━━┩\n",
       "│ dense_6 (<span style=\"color: #0087ff; text-decoration-color: #0087ff\">Dense</span>)                 │ (<span style=\"color: #00d7ff; text-decoration-color: #00d7ff\">None</span>, <span style=\"color: #00af00; text-decoration-color: #00af00\">128</span>)            │           <span style=\"color: #00af00; text-decoration-color: #00af00\">512</span> │\n",
       "├─────────────────────────────────┼────────────────────────┼───────────────┤\n",
       "│ dropout_4 (<span style=\"color: #0087ff; text-decoration-color: #0087ff\">Dropout</span>)             │ (<span style=\"color: #00d7ff; text-decoration-color: #00d7ff\">None</span>, <span style=\"color: #00af00; text-decoration-color: #00af00\">128</span>)            │             <span style=\"color: #00af00; text-decoration-color: #00af00\">0</span> │\n",
       "├─────────────────────────────────┼────────────────────────┼───────────────┤\n",
       "│ dense_7 (<span style=\"color: #0087ff; text-decoration-color: #0087ff\">Dense</span>)                 │ (<span style=\"color: #00d7ff; text-decoration-color: #00d7ff\">None</span>, <span style=\"color: #00af00; text-decoration-color: #00af00\">128</span>)            │        <span style=\"color: #00af00; text-decoration-color: #00af00\">16,512</span> │\n",
       "├─────────────────────────────────┼────────────────────────┼───────────────┤\n",
       "│ dropout_5 (<span style=\"color: #0087ff; text-decoration-color: #0087ff\">Dropout</span>)             │ (<span style=\"color: #00d7ff; text-decoration-color: #00d7ff\">None</span>, <span style=\"color: #00af00; text-decoration-color: #00af00\">128</span>)            │             <span style=\"color: #00af00; text-decoration-color: #00af00\">0</span> │\n",
       "├─────────────────────────────────┼────────────────────────┼───────────────┤\n",
       "│ dense_8 (<span style=\"color: #0087ff; text-decoration-color: #0087ff\">Dense</span>)                 │ (<span style=\"color: #00d7ff; text-decoration-color: #00d7ff\">None</span>, <span style=\"color: #00af00; text-decoration-color: #00af00\">1</span>)              │           <span style=\"color: #00af00; text-decoration-color: #00af00\">129</span> │\n",
       "└─────────────────────────────────┴────────────────────────┴───────────────┘\n",
       "</pre>\n"
      ],
      "text/plain": [
       "┏━━━━━━━━━━━━━━━━━━━━━━━━━━━━━━━━━┳━━━━━━━━━━━━━━━━━━━━━━━━┳━━━━━━━━━━━━━━━┓\n",
       "┃\u001b[1m \u001b[0m\u001b[1mLayer (type)                   \u001b[0m\u001b[1m \u001b[0m┃\u001b[1m \u001b[0m\u001b[1mOutput Shape          \u001b[0m\u001b[1m \u001b[0m┃\u001b[1m \u001b[0m\u001b[1m      Param #\u001b[0m\u001b[1m \u001b[0m┃\n",
       "┡━━━━━━━━━━━━━━━━━━━━━━━━━━━━━━━━━╇━━━━━━━━━━━━━━━━━━━━━━━━╇━━━━━━━━━━━━━━━┩\n",
       "│ dense_6 (\u001b[38;5;33mDense\u001b[0m)                 │ (\u001b[38;5;45mNone\u001b[0m, \u001b[38;5;34m128\u001b[0m)            │           \u001b[38;5;34m512\u001b[0m │\n",
       "├─────────────────────────────────┼────────────────────────┼───────────────┤\n",
       "│ dropout_4 (\u001b[38;5;33mDropout\u001b[0m)             │ (\u001b[38;5;45mNone\u001b[0m, \u001b[38;5;34m128\u001b[0m)            │             \u001b[38;5;34m0\u001b[0m │\n",
       "├─────────────────────────────────┼────────────────────────┼───────────────┤\n",
       "│ dense_7 (\u001b[38;5;33mDense\u001b[0m)                 │ (\u001b[38;5;45mNone\u001b[0m, \u001b[38;5;34m128\u001b[0m)            │        \u001b[38;5;34m16,512\u001b[0m │\n",
       "├─────────────────────────────────┼────────────────────────┼───────────────┤\n",
       "│ dropout_5 (\u001b[38;5;33mDropout\u001b[0m)             │ (\u001b[38;5;45mNone\u001b[0m, \u001b[38;5;34m128\u001b[0m)            │             \u001b[38;5;34m0\u001b[0m │\n",
       "├─────────────────────────────────┼────────────────────────┼───────────────┤\n",
       "│ dense_8 (\u001b[38;5;33mDense\u001b[0m)                 │ (\u001b[38;5;45mNone\u001b[0m, \u001b[38;5;34m1\u001b[0m)              │           \u001b[38;5;34m129\u001b[0m │\n",
       "└─────────────────────────────────┴────────────────────────┴───────────────┘\n"
      ]
     },
     "metadata": {},
     "output_type": "display_data"
    },
    {
     "data": {
      "text/html": [
       "<pre style=\"white-space:pre;overflow-x:auto;line-height:normal;font-family:Menlo,'DejaVu Sans Mono',consolas,'Courier New',monospace\"><span style=\"font-weight: bold\"> Total params: </span><span style=\"color: #00af00; text-decoration-color: #00af00\">17,153</span> (67.00 KB)\n",
       "</pre>\n"
      ],
      "text/plain": [
       "\u001b[1m Total params: \u001b[0m\u001b[38;5;34m17,153\u001b[0m (67.00 KB)\n"
      ]
     },
     "metadata": {},
     "output_type": "display_data"
    },
    {
     "data": {
      "text/html": [
       "<pre style=\"white-space:pre;overflow-x:auto;line-height:normal;font-family:Menlo,'DejaVu Sans Mono',consolas,'Courier New',monospace\"><span style=\"font-weight: bold\"> Trainable params: </span><span style=\"color: #00af00; text-decoration-color: #00af00\">17,153</span> (67.00 KB)\n",
       "</pre>\n"
      ],
      "text/plain": [
       "\u001b[1m Trainable params: \u001b[0m\u001b[38;5;34m17,153\u001b[0m (67.00 KB)\n"
      ]
     },
     "metadata": {},
     "output_type": "display_data"
    },
    {
     "data": {
      "text/html": [
       "<pre style=\"white-space:pre;overflow-x:auto;line-height:normal;font-family:Menlo,'DejaVu Sans Mono',consolas,'Courier New',monospace\"><span style=\"font-weight: bold\"> Non-trainable params: </span><span style=\"color: #00af00; text-decoration-color: #00af00\">0</span> (0.00 B)\n",
       "</pre>\n"
      ],
      "text/plain": [
       "\u001b[1m Non-trainable params: \u001b[0m\u001b[38;5;34m0\u001b[0m (0.00 B)\n"
      ]
     },
     "metadata": {},
     "output_type": "display_data"
    }
   ],
   "source": [
    "# Define the model with model_rmsprop name. (Same architecture)\n",
    "model_rmsprop = keras.Sequential([\n",
    "    layers.Dense(128, activation='relu', input_shape=(3,)),\n",
    "    layers.Dropout(0.10),\n",
    "    layers.Dense(128, activation='relu'),\n",
    "    layers.Dropout(0.10),\n",
    "    layers.Dense(1)\n",
    "])\n",
    "\n",
    "# Display summary of the model\n",
    "model_rmsprop.summary()"
   ]
  },
  {
   "cell_type": "code",
   "execution_count": 26,
   "metadata": {},
   "outputs": [],
   "source": [
    "# Compile with rmsprop\n",
    "model_rmsprop.compile(\n",
    "    optimizer='rmsprop',\n",
    "    loss='mean_squared_error',\n",
    "    metrics=['mean_absolute_error']\n",
    ")\n"
   ]
  },
  {
   "cell_type": "code",
   "execution_count": 27,
   "metadata": {},
   "outputs": [
    {
     "name": "stdout",
     "output_type": "stream",
     "text": [
      "Epoch 1/200\n",
      "\u001b[1m3/3\u001b[0m \u001b[32m━━━━━━━━━━━━━━━━━━━━\u001b[0m\u001b[37m\u001b[0m \u001b[1m1s\u001b[0m 64ms/step - loss: 4822941.0000 - mean_absolute_error: 2018.7267 - val_loss: 2719123.0000 - val_mean_absolute_error: 1402.9006\n",
      "Epoch 2/200\n",
      "\u001b[1m3/3\u001b[0m \u001b[32m━━━━━━━━━━━━━━━━━━━━\u001b[0m\u001b[37m\u001b[0m \u001b[1m0s\u001b[0m 14ms/step - loss: 4740843.0000 - mean_absolute_error: 1997.0646 - val_loss: 2717858.0000 - val_mean_absolute_error: 1402.5093\n",
      "Epoch 3/200\n",
      "\u001b[1m3/3\u001b[0m \u001b[32m━━━━━━━━━━━━━━━━━━━━\u001b[0m\u001b[37m\u001b[0m \u001b[1m0s\u001b[0m 15ms/step - loss: 4544352.0000 - mean_absolute_error: 1944.5931 - val_loss: 2716322.2500 - val_mean_absolute_error: 1402.0258\n",
      "Epoch 4/200\n",
      "\u001b[1m3/3\u001b[0m \u001b[32m━━━━━━━━━━━━━━━━━━━━\u001b[0m\u001b[37m\u001b[0m \u001b[1m0s\u001b[0m 13ms/step - loss: 4513686.5000 - mean_absolute_error: 1933.3667 - val_loss: 2714676.0000 - val_mean_absolute_error: 1401.5062\n",
      "Epoch 5/200\n",
      "\u001b[1m3/3\u001b[0m \u001b[32m━━━━━━━━━━━━━━━━━━━━\u001b[0m\u001b[37m\u001b[0m \u001b[1m0s\u001b[0m 12ms/step - loss: 4576964.0000 - mean_absolute_error: 1949.0732 - val_loss: 2712815.2500 - val_mean_absolute_error: 1400.9200\n",
      "Epoch 6/200\n",
      "\u001b[1m3/3\u001b[0m \u001b[32m━━━━━━━━━━━━━━━━━━━━\u001b[0m\u001b[37m\u001b[0m \u001b[1m0s\u001b[0m 14ms/step - loss: 4834932.0000 - mean_absolute_error: 2012.2539 - val_loss: 2710822.0000 - val_mean_absolute_error: 1400.2853\n",
      "Epoch 7/200\n",
      "\u001b[1m3/3\u001b[0m \u001b[32m━━━━━━━━━━━━━━━━━━━━\u001b[0m\u001b[37m\u001b[0m \u001b[1m0s\u001b[0m 13ms/step - loss: 4626044.0000 - mean_absolute_error: 1967.5391 - val_loss: 2708311.5000 - val_mean_absolute_error: 1399.4943\n",
      "Epoch 8/200\n",
      "\u001b[1m3/3\u001b[0m \u001b[32m━━━━━━━━━━━━━━━━━━━━\u001b[0m\u001b[37m\u001b[0m \u001b[1m0s\u001b[0m 14ms/step - loss: 4814730.0000 - mean_absolute_error: 2016.0635 - val_loss: 2705647.2500 - val_mean_absolute_error: 1398.6464\n",
      "Epoch 9/200\n",
      "\u001b[1m3/3\u001b[0m \u001b[32m━━━━━━━━━━━━━━━━━━━━\u001b[0m\u001b[37m\u001b[0m \u001b[1m0s\u001b[0m 16ms/step - loss: 4436250.0000 - mean_absolute_error: 1912.8615 - val_loss: 2702478.2500 - val_mean_absolute_error: 1397.6475\n",
      "Epoch 10/200\n",
      "\u001b[1m3/3\u001b[0m \u001b[32m━━━━━━━━━━━━━━━━━━━━\u001b[0m\u001b[37m\u001b[0m \u001b[1m0s\u001b[0m 14ms/step - loss: 4541340.0000 - mean_absolute_error: 1940.3839 - val_loss: 2699253.2500 - val_mean_absolute_error: 1396.6251\n",
      "Epoch 11/200\n",
      "\u001b[1m3/3\u001b[0m \u001b[32m━━━━━━━━━━━━━━━━━━━━\u001b[0m\u001b[37m\u001b[0m \u001b[1m0s\u001b[0m 14ms/step - loss: 4765410.5000 - mean_absolute_error: 1985.9670 - val_loss: 2695682.5000 - val_mean_absolute_error: 1395.4927\n",
      "Epoch 12/200\n",
      "\u001b[1m3/3\u001b[0m \u001b[32m━━━━━━━━━━━━━━━━━━━━\u001b[0m\u001b[37m\u001b[0m \u001b[1m0s\u001b[0m 12ms/step - loss: 4570899.0000 - mean_absolute_error: 1946.7443 - val_loss: 2691531.2500 - val_mean_absolute_error: 1394.1743\n",
      "Epoch 13/200\n",
      "\u001b[1m3/3\u001b[0m \u001b[32m━━━━━━━━━━━━━━━━━━━━\u001b[0m\u001b[37m\u001b[0m \u001b[1m0s\u001b[0m 15ms/step - loss: 4724256.0000 - mean_absolute_error: 1983.2233 - val_loss: 2687269.0000 - val_mean_absolute_error: 1392.8193\n",
      "Epoch 14/200\n",
      "\u001b[1m3/3\u001b[0m \u001b[32m━━━━━━━━━━━━━━━━━━━━\u001b[0m\u001b[37m\u001b[0m \u001b[1m0s\u001b[0m 15ms/step - loss: 4538692.5000 - mean_absolute_error: 1938.9236 - val_loss: 2682188.5000 - val_mean_absolute_error: 1391.2028\n",
      "Epoch 15/200\n",
      "\u001b[1m3/3\u001b[0m \u001b[32m━━━━━━━━━━━━━━━━━━━━\u001b[0m\u001b[37m\u001b[0m \u001b[1m0s\u001b[0m 13ms/step - loss: 4460350.0000 - mean_absolute_error: 1924.4039 - val_loss: 2676799.5000 - val_mean_absolute_error: 1389.4880\n",
      "Epoch 16/200\n",
      "\u001b[1m3/3\u001b[0m \u001b[32m━━━━━━━━━━━━━━━━━━━━\u001b[0m\u001b[37m\u001b[0m \u001b[1m0s\u001b[0m 13ms/step - loss: 4458224.0000 - mean_absolute_error: 1917.9832 - val_loss: 2670985.7500 - val_mean_absolute_error: 1387.6332\n",
      "Epoch 17/200\n",
      "\u001b[1m3/3\u001b[0m \u001b[32m━━━━━━━━━━━━━━━━━━━━\u001b[0m\u001b[37m\u001b[0m \u001b[1m0s\u001b[0m 14ms/step - loss: 4523773.5000 - mean_absolute_error: 1930.1963 - val_loss: 2665300.2500 - val_mean_absolute_error: 1385.8092\n",
      "Epoch 18/200\n",
      "\u001b[1m3/3\u001b[0m \u001b[32m━━━━━━━━━━━━━━━━━━━━\u001b[0m\u001b[37m\u001b[0m \u001b[1m0s\u001b[0m 16ms/step - loss: 4689373.5000 - mean_absolute_error: 1973.3811 - val_loss: 2659008.5000 - val_mean_absolute_error: 1383.7910\n",
      "Epoch 19/200\n",
      "\u001b[1m3/3\u001b[0m \u001b[32m━━━━━━━━━━━━━━━━━━━━\u001b[0m\u001b[37m\u001b[0m \u001b[1m0s\u001b[0m 14ms/step - loss: 4714795.0000 - mean_absolute_error: 1994.1803 - val_loss: 2652824.0000 - val_mean_absolute_error: 1381.8098\n",
      "Epoch 20/200\n",
      "\u001b[1m3/3\u001b[0m \u001b[32m━━━━━━━━━━━━━━━━━━━━\u001b[0m\u001b[37m\u001b[0m \u001b[1m0s\u001b[0m 14ms/step - loss: 4535005.0000 - mean_absolute_error: 1937.4991 - val_loss: 2645492.7500 - val_mean_absolute_error: 1379.4529\n",
      "Epoch 21/200\n",
      "\u001b[1m3/3\u001b[0m \u001b[32m━━━━━━━━━━━━━━━━━━━━\u001b[0m\u001b[37m\u001b[0m \u001b[1m0s\u001b[0m 14ms/step - loss: 4389485.0000 - mean_absolute_error: 1914.3942 - val_loss: 2637350.5000 - val_mean_absolute_error: 1376.8329\n",
      "Epoch 22/200\n",
      "\u001b[1m3/3\u001b[0m \u001b[32m━━━━━━━━━━━━━━━━━━━━\u001b[0m\u001b[37m\u001b[0m \u001b[1m0s\u001b[0m 14ms/step - loss: 4411345.5000 - mean_absolute_error: 1909.9374 - val_loss: 2629370.0000 - val_mean_absolute_error: 1374.2560\n",
      "Epoch 23/200\n",
      "\u001b[1m3/3\u001b[0m \u001b[32m━━━━━━━━━━━━━━━━━━━━\u001b[0m\u001b[37m\u001b[0m \u001b[1m0s\u001b[0m 13ms/step - loss: 4359048.5000 - mean_absolute_error: 1890.3474 - val_loss: 2620935.5000 - val_mean_absolute_error: 1371.5270\n",
      "Epoch 24/200\n",
      "\u001b[1m3/3\u001b[0m \u001b[32m━━━━━━━━━━━━━━━━━━━━\u001b[0m\u001b[37m\u001b[0m \u001b[1m0s\u001b[0m 13ms/step - loss: 4425531.0000 - mean_absolute_error: 1915.6271 - val_loss: 2611569.7500 - val_mean_absolute_error: 1368.4899\n",
      "Epoch 25/200\n",
      "\u001b[1m3/3\u001b[0m \u001b[32m━━━━━━━━━━━━━━━━━━━━\u001b[0m\u001b[37m\u001b[0m \u001b[1m0s\u001b[0m 15ms/step - loss: 4456682.5000 - mean_absolute_error: 1927.4331 - val_loss: 2602433.5000 - val_mean_absolute_error: 1365.5240\n",
      "Epoch 26/200\n",
      "\u001b[1m3/3\u001b[0m \u001b[32m━━━━━━━━━━━━━━━━━━━━\u001b[0m\u001b[37m\u001b[0m \u001b[1m0s\u001b[0m 13ms/step - loss: 4353045.5000 - mean_absolute_error: 1902.8262 - val_loss: 2592123.7500 - val_mean_absolute_error: 1362.1677\n",
      "Epoch 27/200\n",
      "\u001b[1m3/3\u001b[0m \u001b[32m━━━━━━━━━━━━━━━━━━━━\u001b[0m\u001b[37m\u001b[0m \u001b[1m0s\u001b[0m 14ms/step - loss: 4360417.0000 - mean_absolute_error: 1904.8770 - val_loss: 2581379.5000 - val_mean_absolute_error: 1358.6617\n",
      "Epoch 28/200\n",
      "\u001b[1m3/3\u001b[0m \u001b[32m━━━━━━━━━━━━━━━━━━━━\u001b[0m\u001b[37m\u001b[0m \u001b[1m0s\u001b[0m 13ms/step - loss: 4291740.0000 - mean_absolute_error: 1883.8870 - val_loss: 2570550.7500 - val_mean_absolute_error: 1355.1208\n",
      "Epoch 29/200\n",
      "\u001b[1m3/3\u001b[0m \u001b[32m━━━━━━━━━━━━━━━━━━━━\u001b[0m\u001b[37m\u001b[0m \u001b[1m0s\u001b[0m 15ms/step - loss: 4278035.5000 - mean_absolute_error: 1872.7217 - val_loss: 2559686.0000 - val_mean_absolute_error: 1351.5518\n",
      "Epoch 30/200\n",
      "\u001b[1m3/3\u001b[0m \u001b[32m━━━━━━━━━━━━━━━━━━━━\u001b[0m\u001b[37m\u001b[0m \u001b[1m0s\u001b[0m 13ms/step - loss: 4381491.0000 - mean_absolute_error: 1913.1903 - val_loss: 2549305.0000 - val_mean_absolute_error: 1348.1262\n",
      "Epoch 31/200\n",
      "\u001b[1m3/3\u001b[0m \u001b[32m━━━━━━━━━━━━━━━━━━━━\u001b[0m\u001b[37m\u001b[0m \u001b[1m0s\u001b[0m 14ms/step - loss: 4281356.5000 - mean_absolute_error: 1873.5850 - val_loss: 2536995.5000 - val_mean_absolute_error: 1344.0624\n",
      "Epoch 32/200\n",
      "\u001b[1m3/3\u001b[0m \u001b[32m━━━━━━━━━━━━━━━━━━━━\u001b[0m\u001b[37m\u001b[0m \u001b[1m0s\u001b[0m 13ms/step - loss: 4027881.0000 - mean_absolute_error: 1800.9457 - val_loss: 2524238.2500 - val_mean_absolute_error: 1339.8363\n",
      "Epoch 33/200\n",
      "\u001b[1m3/3\u001b[0m \u001b[32m━━━━━━━━━━━━━━━━━━━━\u001b[0m\u001b[37m\u001b[0m \u001b[1m0s\u001b[0m 16ms/step - loss: 4379930.5000 - mean_absolute_error: 1908.7554 - val_loss: 2511394.7500 - val_mean_absolute_error: 1335.5699\n",
      "Epoch 34/200\n",
      "\u001b[1m3/3\u001b[0m \u001b[32m━━━━━━━━━━━━━━━━━━━━\u001b[0m\u001b[37m\u001b[0m \u001b[1m0s\u001b[0m 16ms/step - loss: 4376776.0000 - mean_absolute_error: 1897.7224 - val_loss: 2498011.2500 - val_mean_absolute_error: 1331.1144\n",
      "Epoch 35/200\n",
      "\u001b[1m3/3\u001b[0m \u001b[32m━━━━━━━━━━━━━━━━━━━━\u001b[0m\u001b[37m\u001b[0m \u001b[1m0s\u001b[0m 14ms/step - loss: 4233136.5000 - mean_absolute_error: 1860.6747 - val_loss: 2484137.7500 - val_mean_absolute_error: 1326.4801\n",
      "Epoch 36/200\n",
      "\u001b[1m3/3\u001b[0m \u001b[32m━━━━━━━━━━━━━━━━━━━━\u001b[0m\u001b[37m\u001b[0m \u001b[1m0s\u001b[0m 14ms/step - loss: 4286261.0000 - mean_absolute_error: 1871.3430 - val_loss: 2470739.7500 - val_mean_absolute_error: 1321.9857\n",
      "Epoch 37/200\n",
      "\u001b[1m3/3\u001b[0m \u001b[32m━━━━━━━━━━━━━━━━━━━━\u001b[0m\u001b[37m\u001b[0m \u001b[1m0s\u001b[0m 15ms/step - loss: 4147276.5000 - mean_absolute_error: 1848.6108 - val_loss: 2455365.2500 - val_mean_absolute_error: 1316.8149\n",
      "Epoch 38/200\n",
      "\u001b[1m3/3\u001b[0m \u001b[32m━━━━━━━━━━━━━━━━━━━━\u001b[0m\u001b[37m\u001b[0m \u001b[1m0s\u001b[0m 14ms/step - loss: 4500953.0000 - mean_absolute_error: 1931.3210 - val_loss: 2441363.7500 - val_mean_absolute_error: 1312.0779\n",
      "Epoch 39/200\n",
      "\u001b[1m3/3\u001b[0m \u001b[32m━━━━━━━━━━━━━━━━━━━━\u001b[0m\u001b[37m\u001b[0m \u001b[1m0s\u001b[0m 16ms/step - loss: 4287942.5000 - mean_absolute_error: 1895.6340 - val_loss: 2426185.2500 - val_mean_absolute_error: 1306.9355\n",
      "Epoch 40/200\n",
      "\u001b[1m3/3\u001b[0m \u001b[32m━━━━━━━━━━━━━━━━━━━━\u001b[0m\u001b[37m\u001b[0m \u001b[1m0s\u001b[0m 17ms/step - loss: 4293357.5000 - mean_absolute_error: 1887.5288 - val_loss: 2410114.7500 - val_mean_absolute_error: 1301.4636\n",
      "Epoch 41/200\n",
      "\u001b[1m3/3\u001b[0m \u001b[32m━━━━━━━━━━━━━━━━━━━━\u001b[0m\u001b[37m\u001b[0m \u001b[1m0s\u001b[0m 16ms/step - loss: 4040251.5000 - mean_absolute_error: 1809.0103 - val_loss: 2391947.0000 - val_mean_absolute_error: 1295.2592\n",
      "Epoch 42/200\n",
      "\u001b[1m3/3\u001b[0m \u001b[32m━━━━━━━━━━━━━━━━━━━━\u001b[0m\u001b[37m\u001b[0m \u001b[1m0s\u001b[0m 16ms/step - loss: 4061650.7500 - mean_absolute_error: 1828.5552 - val_loss: 2374639.0000 - val_mean_absolute_error: 1289.3199\n",
      "Epoch 43/200\n",
      "\u001b[1m3/3\u001b[0m \u001b[32m━━━━━━━━━━━━━━━━━━━━\u001b[0m\u001b[37m\u001b[0m \u001b[1m0s\u001b[0m 15ms/step - loss: 3794377.5000 - mean_absolute_error: 1742.5417 - val_loss: 2355411.2500 - val_mean_absolute_error: 1282.6945\n",
      "Epoch 44/200\n",
      "\u001b[1m3/3\u001b[0m \u001b[32m━━━━━━━━━━━━━━━━━━━━\u001b[0m\u001b[37m\u001b[0m \u001b[1m0s\u001b[0m 15ms/step - loss: 4136086.7500 - mean_absolute_error: 1843.9069 - val_loss: 2336927.5000 - val_mean_absolute_error: 1276.2946\n",
      "Epoch 45/200\n",
      "\u001b[1m3/3\u001b[0m \u001b[32m━━━━━━━━━━━━━━━━━━━━\u001b[0m\u001b[37m\u001b[0m \u001b[1m0s\u001b[0m 15ms/step - loss: 4131307.5000 - mean_absolute_error: 1832.8722 - val_loss: 2318277.2500 - val_mean_absolute_error: 1269.7979\n",
      "Epoch 46/200\n",
      "\u001b[1m3/3\u001b[0m \u001b[32m━━━━━━━━━━━━━━━━━━━━\u001b[0m\u001b[37m\u001b[0m \u001b[1m0s\u001b[0m 15ms/step - loss: 3757687.5000 - mean_absolute_error: 1745.6082 - val_loss: 2298003.2500 - val_mean_absolute_error: 1262.7041\n",
      "Epoch 47/200\n",
      "\u001b[1m3/3\u001b[0m \u001b[32m━━━━━━━━━━━━━━━━━━━━\u001b[0m\u001b[37m\u001b[0m \u001b[1m0s\u001b[0m 15ms/step - loss: 4036746.0000 - mean_absolute_error: 1822.7703 - val_loss: 2279720.2500 - val_mean_absolute_error: 1256.2638\n",
      "Epoch 48/200\n",
      "\u001b[1m3/3\u001b[0m \u001b[32m━━━━━━━━━━━━━━━━━━━━\u001b[0m\u001b[37m\u001b[0m \u001b[1m0s\u001b[0m 17ms/step - loss: 3949497.0000 - mean_absolute_error: 1810.4158 - val_loss: 2258671.2500 - val_mean_absolute_error: 1248.8301\n",
      "Epoch 49/200\n",
      "\u001b[1m3/3\u001b[0m \u001b[32m━━━━━━━━━━━━━━━━━━━━\u001b[0m\u001b[37m\u001b[0m \u001b[1m0s\u001b[0m 15ms/step - loss: 3957664.5000 - mean_absolute_error: 1794.2623 - val_loss: 2236657.2500 - val_mean_absolute_error: 1240.9944\n",
      "Epoch 50/200\n",
      "\u001b[1m3/3\u001b[0m \u001b[32m━━━━━━━━━━━━━━━━━━━━\u001b[0m\u001b[37m\u001b[0m \u001b[1m0s\u001b[0m 14ms/step - loss: 3807069.0000 - mean_absolute_error: 1762.8423 - val_loss: 2216555.2500 - val_mean_absolute_error: 1233.8076\n",
      "Epoch 51/200\n",
      "\u001b[1m3/3\u001b[0m \u001b[32m━━━━━━━━━━━━━━━━━━━━\u001b[0m\u001b[37m\u001b[0m \u001b[1m0s\u001b[0m 15ms/step - loss: 3887529.0000 - mean_absolute_error: 1765.3083 - val_loss: 2196527.5000 - val_mean_absolute_error: 1226.5951\n",
      "Epoch 52/200\n",
      "\u001b[1m3/3\u001b[0m \u001b[32m━━━━━━━━━━━━━━━━━━━━\u001b[0m\u001b[37m\u001b[0m \u001b[1m0s\u001b[0m 16ms/step - loss: 3971864.5000 - mean_absolute_error: 1797.6870 - val_loss: 2174623.2500 - val_mean_absolute_error: 1218.6737\n",
      "Epoch 53/200\n",
      "\u001b[1m3/3\u001b[0m \u001b[32m━━━━━━━━━━━━━━━━━━━━\u001b[0m\u001b[37m\u001b[0m \u001b[1m0s\u001b[0m 13ms/step - loss: 4108582.0000 - mean_absolute_error: 1849.3679 - val_loss: 2154858.7500 - val_mean_absolute_error: 1211.4714\n",
      "Epoch 54/200\n",
      "\u001b[1m3/3\u001b[0m \u001b[32m━━━━━━━━━━━━━━━━━━━━\u001b[0m\u001b[37m\u001b[0m \u001b[1m0s\u001b[0m 13ms/step - loss: 3835732.0000 - mean_absolute_error: 1762.3848 - val_loss: 2132067.2500 - val_mean_absolute_error: 1203.1338\n",
      "Epoch 55/200\n",
      "\u001b[1m3/3\u001b[0m \u001b[32m━━━━━━━━━━━━━━━━━━━━\u001b[0m\u001b[37m\u001b[0m \u001b[1m0s\u001b[0m 14ms/step - loss: 3707935.2500 - mean_absolute_error: 1733.5925 - val_loss: 2108678.0000 - val_mean_absolute_error: 1194.5217\n",
      "Epoch 56/200\n",
      "\u001b[1m3/3\u001b[0m \u001b[32m━━━━━━━━━━━━━━━━━━━━\u001b[0m\u001b[37m\u001b[0m \u001b[1m0s\u001b[0m 15ms/step - loss: 3685006.5000 - mean_absolute_error: 1720.9325 - val_loss: 2085606.3750 - val_mean_absolute_error: 1185.9612\n",
      "Epoch 57/200\n",
      "\u001b[1m3/3\u001b[0m \u001b[32m━━━━━━━━━━━━━━━━━━━━\u001b[0m\u001b[37m\u001b[0m \u001b[1m0s\u001b[0m 15ms/step - loss: 3794915.7500 - mean_absolute_error: 1770.2063 - val_loss: 2061129.0000 - val_mean_absolute_error: 1176.8169\n",
      "Epoch 58/200\n",
      "\u001b[1m3/3\u001b[0m \u001b[32m━━━━━━━━━━━━━━━━━━━━\u001b[0m\u001b[37m\u001b[0m \u001b[1m0s\u001b[0m 14ms/step - loss: 3600668.0000 - mean_absolute_error: 1701.6748 - val_loss: 2036667.7500 - val_mean_absolute_error: 1167.6112\n",
      "Epoch 59/200\n",
      "\u001b[1m3/3\u001b[0m \u001b[32m━━━━━━━━━━━━━━━━━━━━\u001b[0m\u001b[37m\u001b[0m \u001b[1m0s\u001b[0m 13ms/step - loss: 3720811.5000 - mean_absolute_error: 1734.1976 - val_loss: 2010156.2500 - val_mean_absolute_error: 1157.5508\n",
      "Epoch 60/200\n",
      "\u001b[1m3/3\u001b[0m \u001b[32m━━━━━━━━━━━━━━━━━━━━\u001b[0m\u001b[37m\u001b[0m \u001b[1m0s\u001b[0m 13ms/step - loss: 3438243.7500 - mean_absolute_error: 1653.3900 - val_loss: 1983367.6250 - val_mean_absolute_error: 1147.3193\n",
      "Epoch 61/200\n",
      "\u001b[1m3/3\u001b[0m \u001b[32m━━━━━━━━━━━━━━━━━━━━\u001b[0m\u001b[37m\u001b[0m \u001b[1m0s\u001b[0m 15ms/step - loss: 3654213.0000 - mean_absolute_error: 1705.0376 - val_loss: 1959280.6250 - val_mean_absolute_error: 1138.0173\n",
      "Epoch 62/200\n",
      "\u001b[1m3/3\u001b[0m \u001b[32m━━━━━━━━━━━━━━━━━━━━\u001b[0m\u001b[37m\u001b[0m \u001b[1m0s\u001b[0m 14ms/step - loss: 3579456.2500 - mean_absolute_error: 1705.3906 - val_loss: 1933512.3750 - val_mean_absolute_error: 1128.0022\n",
      "Epoch 63/200\n",
      "\u001b[1m3/3\u001b[0m \u001b[32m━━━━━━━━━━━━━━━━━━━━\u001b[0m\u001b[37m\u001b[0m \u001b[1m0s\u001b[0m 15ms/step - loss: 3424309.5000 - mean_absolute_error: 1663.7662 - val_loss: 1907130.1250 - val_mean_absolute_error: 1117.6820\n",
      "Epoch 64/200\n",
      "\u001b[1m3/3\u001b[0m \u001b[32m━━━━━━━━━━━━━━━━━━━━\u001b[0m\u001b[37m\u001b[0m \u001b[1m0s\u001b[0m 15ms/step - loss: 3309512.5000 - mean_absolute_error: 1617.9497 - val_loss: 1877141.0000 - val_mean_absolute_error: 1105.8354\n",
      "Epoch 65/200\n",
      "\u001b[1m3/3\u001b[0m \u001b[32m━━━━━━━━━━━━━━━━━━━━\u001b[0m\u001b[37m\u001b[0m \u001b[1m0s\u001b[0m 12ms/step - loss: 3360437.5000 - mean_absolute_error: 1629.8969 - val_loss: 1848794.5000 - val_mean_absolute_error: 1094.5192\n",
      "Epoch 66/200\n",
      "\u001b[1m3/3\u001b[0m \u001b[32m━━━━━━━━━━━━━━━━━━━━\u001b[0m\u001b[37m\u001b[0m \u001b[1m0s\u001b[0m 14ms/step - loss: 3536118.0000 - mean_absolute_error: 1687.3103 - val_loss: 1824063.1250 - val_mean_absolute_error: 1085.1949\n",
      "Epoch 67/200\n",
      "\u001b[1m3/3\u001b[0m \u001b[32m━━━━━━━━━━━━━━━━━━━━\u001b[0m\u001b[37m\u001b[0m \u001b[1m0s\u001b[0m 14ms/step - loss: 3559629.5000 - mean_absolute_error: 1699.9229 - val_loss: 1795893.0000 - val_mean_absolute_error: 1074.6128\n",
      "Epoch 68/200\n",
      "\u001b[1m3/3\u001b[0m \u001b[32m━━━━━━━━━━━━━━━━━━━━\u001b[0m\u001b[37m\u001b[0m \u001b[1m0s\u001b[0m 14ms/step - loss: 3346442.5000 - mean_absolute_error: 1635.1694 - val_loss: 1766662.7500 - val_mean_absolute_error: 1063.5214\n",
      "Epoch 69/200\n",
      "\u001b[1m3/3\u001b[0m \u001b[32m━━━━━━━━━━━━━━━━━━━━\u001b[0m\u001b[37m\u001b[0m \u001b[1m0s\u001b[0m 15ms/step - loss: 3133089.2500 - mean_absolute_error: 1582.5459 - val_loss: 1736241.2500 - val_mean_absolute_error: 1051.8572\n",
      "Epoch 70/200\n",
      "\u001b[1m3/3\u001b[0m \u001b[32m━━━━━━━━━━━━━━━━━━━━\u001b[0m\u001b[37m\u001b[0m \u001b[1m0s\u001b[0m 15ms/step - loss: 3109276.0000 - mean_absolute_error: 1558.1615 - val_loss: 1706254.7500 - val_mean_absolute_error: 1040.2223\n",
      "Epoch 71/200\n",
      "\u001b[1m3/3\u001b[0m \u001b[32m━━━━━━━━━━━━━━━━━━━━\u001b[0m\u001b[37m\u001b[0m \u001b[1m0s\u001b[0m 16ms/step - loss: 3179888.7500 - mean_absolute_error: 1578.5640 - val_loss: 1677891.3750 - val_mean_absolute_error: 1029.0879\n",
      "Epoch 72/200\n",
      "\u001b[1m3/3\u001b[0m \u001b[32m━━━━━━━━━━━━━━━━━━━━\u001b[0m\u001b[37m\u001b[0m \u001b[1m0s\u001b[0m 15ms/step - loss: 3154388.0000 - mean_absolute_error: 1579.9441 - val_loss: 1649223.6250 - val_mean_absolute_error: 1017.7212\n",
      "Epoch 73/200\n",
      "\u001b[1m3/3\u001b[0m \u001b[32m━━━━━━━━━━━━━━━━━━━━\u001b[0m\u001b[37m\u001b[0m \u001b[1m0s\u001b[0m 15ms/step - loss: 3079618.0000 - mean_absolute_error: 1548.3820 - val_loss: 1618296.6250 - val_mean_absolute_error: 1005.3265\n",
      "Epoch 74/200\n",
      "\u001b[1m3/3\u001b[0m \u001b[32m━━━━━━━━━━━━━━━━━━━━\u001b[0m\u001b[37m\u001b[0m \u001b[1m0s\u001b[0m 14ms/step - loss: 3194870.7500 - mean_absolute_error: 1580.7338 - val_loss: 1588143.6250 - val_mean_absolute_error: 993.0646\n",
      "Epoch 75/200\n",
      "\u001b[1m3/3\u001b[0m \u001b[32m━━━━━━━━━━━━━━━━━━━━\u001b[0m\u001b[37m\u001b[0m \u001b[1m0s\u001b[0m 16ms/step - loss: 2965484.2500 - mean_absolute_error: 1512.5928 - val_loss: 1556985.7500 - val_mean_absolute_error: 980.2491\n",
      "Epoch 76/200\n",
      "\u001b[1m3/3\u001b[0m \u001b[32m━━━━━━━━━━━━━━━━━━━━\u001b[0m\u001b[37m\u001b[0m \u001b[1m0s\u001b[0m 14ms/step - loss: 2983369.5000 - mean_absolute_error: 1532.1321 - val_loss: 1527356.2500 - val_mean_absolute_error: 967.9097\n",
      "Epoch 77/200\n",
      "\u001b[1m3/3\u001b[0m \u001b[32m━━━━━━━━━━━━━━━━━━━━\u001b[0m\u001b[37m\u001b[0m \u001b[1m0s\u001b[0m 16ms/step - loss: 2838041.5000 - mean_absolute_error: 1472.9639 - val_loss: 1494987.6250 - val_mean_absolute_error: 954.2461\n",
      "Epoch 78/200\n",
      "\u001b[1m3/3\u001b[0m \u001b[32m━━━━━━━━━━━━━━━━━━━━\u001b[0m\u001b[37m\u001b[0m \u001b[1m0s\u001b[0m 15ms/step - loss: 2887177.0000 - mean_absolute_error: 1499.7090 - val_loss: 1465642.5000 - val_mean_absolute_error: 941.6805\n",
      "Epoch 79/200\n",
      "\u001b[1m3/3\u001b[0m \u001b[32m━━━━━━━━━━━━━━━━━━━━\u001b[0m\u001b[37m\u001b[0m \u001b[1m0s\u001b[0m 13ms/step - loss: 2729147.0000 - mean_absolute_error: 1449.0862 - val_loss: 1436428.1250 - val_mean_absolute_error: 928.9915\n",
      "Epoch 80/200\n",
      "\u001b[1m3/3\u001b[0m \u001b[32m━━━━━━━━━━━━━━━━━━━━\u001b[0m\u001b[37m\u001b[0m \u001b[1m0s\u001b[0m 16ms/step - loss: 2908509.0000 - mean_absolute_error: 1497.0024 - val_loss: 1406766.3750 - val_mean_absolute_error: 915.9220\n",
      "Epoch 81/200\n",
      "\u001b[1m3/3\u001b[0m \u001b[32m━━━━━━━━━━━━━━━━━━━━\u001b[0m\u001b[37m\u001b[0m \u001b[1m0s\u001b[0m 13ms/step - loss: 2530225.2500 - mean_absolute_error: 1392.1461 - val_loss: 1371386.7500 - val_mean_absolute_error: 900.1167\n",
      "Epoch 82/200\n",
      "\u001b[1m3/3\u001b[0m \u001b[32m━━━━━━━━━━━━━━━━━━━━\u001b[0m\u001b[37m\u001b[0m \u001b[1m0s\u001b[0m 16ms/step - loss: 2682290.7500 - mean_absolute_error: 1438.9685 - val_loss: 1341121.6250 - val_mean_absolute_error: 886.3493\n",
      "Epoch 83/200\n",
      "\u001b[1m3/3\u001b[0m \u001b[32m━━━━━━━━━━━━━━━━━━━━\u001b[0m\u001b[37m\u001b[0m \u001b[1m0s\u001b[0m 12ms/step - loss: 2600395.5000 - mean_absolute_error: 1406.4373 - val_loss: 1309354.0000 - val_mean_absolute_error: 871.6885\n",
      "Epoch 84/200\n",
      "\u001b[1m3/3\u001b[0m \u001b[32m━━━━━━━━━━━━━━━━━━━━\u001b[0m\u001b[37m\u001b[0m \u001b[1m0s\u001b[0m 14ms/step - loss: 2588516.0000 - mean_absolute_error: 1398.4749 - val_loss: 1278817.5000 - val_mean_absolute_error: 857.3419\n",
      "Epoch 85/200\n",
      "\u001b[1m3/3\u001b[0m \u001b[32m━━━━━━━━━━━━━━━━━━━━\u001b[0m\u001b[37m\u001b[0m \u001b[1m0s\u001b[0m 15ms/step - loss: 2617686.5000 - mean_absolute_error: 1407.0295 - val_loss: 1246938.7500 - val_mean_absolute_error: 842.1060\n",
      "Epoch 86/200\n",
      "\u001b[1m3/3\u001b[0m \u001b[32m━━━━━━━━━━━━━━━━━━━━\u001b[0m\u001b[37m\u001b[0m \u001b[1m0s\u001b[0m 13ms/step - loss: 2372896.2500 - mean_absolute_error: 1328.2858 - val_loss: 1214111.6250 - val_mean_absolute_error: 827.7729\n",
      "Epoch 87/200\n",
      "\u001b[1m3/3\u001b[0m \u001b[32m━━━━━━━━━━━━━━━━━━━━\u001b[0m\u001b[37m\u001b[0m \u001b[1m0s\u001b[0m 15ms/step - loss: 2519681.0000 - mean_absolute_error: 1382.2985 - val_loss: 1184359.3750 - val_mean_absolute_error: 815.6483\n",
      "Epoch 88/200\n",
      "\u001b[1m3/3\u001b[0m \u001b[32m━━━━━━━━━━━━━━━━━━━━\u001b[0m\u001b[37m\u001b[0m \u001b[1m0s\u001b[0m 15ms/step - loss: 2336914.2500 - mean_absolute_error: 1320.0090 - val_loss: 1151443.5000 - val_mean_absolute_error: 801.9846\n",
      "Epoch 89/200\n",
      "\u001b[1m3/3\u001b[0m \u001b[32m━━━━━━━━━━━━━━━━━━━━\u001b[0m\u001b[37m\u001b[0m \u001b[1m0s\u001b[0m 15ms/step - loss: 2285327.2500 - mean_absolute_error: 1309.2487 - val_loss: 1118845.5000 - val_mean_absolute_error: 788.1589\n",
      "Epoch 90/200\n",
      "\u001b[1m3/3\u001b[0m \u001b[32m━━━━━━━━━━━━━━━━━━━━\u001b[0m\u001b[37m\u001b[0m \u001b[1m0s\u001b[0m 15ms/step - loss: 2204611.5000 - mean_absolute_error: 1274.3829 - val_loss: 1087251.0000 - val_mean_absolute_error: 774.4707\n",
      "Epoch 91/200\n",
      "\u001b[1m3/3\u001b[0m \u001b[32m━━━━━━━━━━━━━━━━━━━━\u001b[0m\u001b[37m\u001b[0m \u001b[1m0s\u001b[0m 13ms/step - loss: 2149966.7500 - mean_absolute_error: 1254.0265 - val_loss: 1056091.0000 - val_mean_absolute_error: 761.6957\n",
      "Epoch 92/200\n",
      "\u001b[1m3/3\u001b[0m \u001b[32m━━━━━━━━━━━━━━━━━━━━\u001b[0m\u001b[37m\u001b[0m \u001b[1m0s\u001b[0m 13ms/step - loss: 2181158.2500 - mean_absolute_error: 1263.8103 - val_loss: 1030601.6875 - val_mean_absolute_error: 751.3878\n",
      "Epoch 93/200\n",
      "\u001b[1m3/3\u001b[0m \u001b[32m━━━━━━━━━━━━━━━━━━━━\u001b[0m\u001b[37m\u001b[0m \u001b[1m0s\u001b[0m 15ms/step - loss: 2144070.0000 - mean_absolute_error: 1268.6317 - val_loss: 1002832.1875 - val_mean_absolute_error: 739.9253\n",
      "Epoch 94/200\n",
      "\u001b[1m3/3\u001b[0m \u001b[32m━━━━━━━━━━━━━━━━━━━━\u001b[0m\u001b[37m\u001b[0m \u001b[1m0s\u001b[0m 15ms/step - loss: 2125818.5000 - mean_absolute_error: 1242.9016 - val_loss: 971087.6875 - val_mean_absolute_error: 726.5117\n",
      "Epoch 95/200\n",
      "\u001b[1m3/3\u001b[0m \u001b[32m━━━━━━━━━━━━━━━━━━━━\u001b[0m\u001b[37m\u001b[0m \u001b[1m0s\u001b[0m 15ms/step - loss: 1996382.2500 - mean_absolute_error: 1193.6477 - val_loss: 938683.5000 - val_mean_absolute_error: 712.4328\n",
      "Epoch 96/200\n",
      "\u001b[1m3/3\u001b[0m \u001b[32m━━━━━━━━━━━━━━━━━━━━\u001b[0m\u001b[37m\u001b[0m \u001b[1m0s\u001b[0m 15ms/step - loss: 1975838.0000 - mean_absolute_error: 1209.2896 - val_loss: 912638.7500 - val_mean_absolute_error: 700.8298\n",
      "Epoch 97/200\n",
      "\u001b[1m3/3\u001b[0m \u001b[32m━━━━━━━━━━━━━━━━━━━━\u001b[0m\u001b[37m\u001b[0m \u001b[1m0s\u001b[0m 14ms/step - loss: 1968501.6250 - mean_absolute_error: 1171.2660 - val_loss: 883834.5000 - val_mean_absolute_error: 688.9095\n",
      "Epoch 98/200\n",
      "\u001b[1m3/3\u001b[0m \u001b[32m━━━━━━━━━━━━━━━━━━━━\u001b[0m\u001b[37m\u001b[0m \u001b[1m0s\u001b[0m 15ms/step - loss: 1697661.3750 - mean_absolute_error: 1089.0929 - val_loss: 852984.3750 - val_mean_absolute_error: 676.1605\n",
      "Epoch 99/200\n",
      "\u001b[1m3/3\u001b[0m \u001b[32m━━━━━━━━━━━━━━━━━━━━\u001b[0m\u001b[37m\u001b[0m \u001b[1m0s\u001b[0m 16ms/step - loss: 1881318.7500 - mean_absolute_error: 1166.5780 - val_loss: 825106.8125 - val_mean_absolute_error: 664.2772\n",
      "Epoch 100/200\n",
      "\u001b[1m3/3\u001b[0m \u001b[32m━━━━━━━━━━━━━━━━━━━━\u001b[0m\u001b[37m\u001b[0m \u001b[1m0s\u001b[0m 14ms/step - loss: 1702736.1250 - mean_absolute_error: 1082.0469 - val_loss: 794718.8125 - val_mean_absolute_error: 650.8789\n",
      "Epoch 101/200\n",
      "\u001b[1m3/3\u001b[0m \u001b[32m━━━━━━━━━━━━━━━━━━━━\u001b[0m\u001b[37m\u001b[0m \u001b[1m0s\u001b[0m 18ms/step - loss: 1624402.7500 - mean_absolute_error: 1053.6180 - val_loss: 766138.8125 - val_mean_absolute_error: 637.8359\n",
      "Epoch 102/200\n",
      "\u001b[1m3/3\u001b[0m \u001b[32m━━━━━━━━━━━━━━━━━━━━\u001b[0m\u001b[37m\u001b[0m \u001b[1m0s\u001b[0m 14ms/step - loss: 1709858.2500 - mean_absolute_error: 1091.2915 - val_loss: 741691.2500 - val_mean_absolute_error: 626.2969\n",
      "Epoch 103/200\n",
      "\u001b[1m3/3\u001b[0m \u001b[32m━━━━━━━━━━━━━━━━━━━━\u001b[0m\u001b[37m\u001b[0m \u001b[1m0s\u001b[0m 13ms/step - loss: 1571123.1250 - mean_absolute_error: 1039.0848 - val_loss: 714645.0000 - val_mean_absolute_error: 613.0549\n",
      "Epoch 104/200\n",
      "\u001b[1m3/3\u001b[0m \u001b[32m━━━━━━━━━━━━━━━━━━━━\u001b[0m\u001b[37m\u001b[0m \u001b[1m0s\u001b[0m 14ms/step - loss: 1589554.2500 - mean_absolute_error: 1034.9828 - val_loss: 692580.5000 - val_mean_absolute_error: 601.8430\n",
      "Epoch 105/200\n",
      "\u001b[1m3/3\u001b[0m \u001b[32m━━━━━━━━━━━━━━━━━━━━\u001b[0m\u001b[37m\u001b[0m \u001b[1m0s\u001b[0m 13ms/step - loss: 1558385.0000 - mean_absolute_error: 1018.1281 - val_loss: 670037.4375 - val_mean_absolute_error: 592.4009\n",
      "Epoch 106/200\n",
      "\u001b[1m3/3\u001b[0m \u001b[32m━━━━━━━━━━━━━━━━━━━━\u001b[0m\u001b[37m\u001b[0m \u001b[1m0s\u001b[0m 15ms/step - loss: 1339199.3750 - mean_absolute_error: 933.2548 - val_loss: 643299.3125 - val_mean_absolute_error: 580.8676\n",
      "Epoch 107/200\n",
      "\u001b[1m3/3\u001b[0m \u001b[32m━━━━━━━━━━━━━━━━━━━━\u001b[0m\u001b[37m\u001b[0m \u001b[1m0s\u001b[0m 17ms/step - loss: 1491084.2500 - mean_absolute_error: 1000.9369 - val_loss: 621374.5000 - val_mean_absolute_error: 570.9756\n",
      "Epoch 108/200\n",
      "\u001b[1m3/3\u001b[0m \u001b[32m━━━━━━━━━━━━━━━━━━━━\u001b[0m\u001b[37m\u001b[0m \u001b[1m0s\u001b[0m 16ms/step - loss: 1295461.2500 - mean_absolute_error: 936.8508 - val_loss: 599355.5625 - val_mean_absolute_error: 561.5337\n",
      "Epoch 109/200\n",
      "\u001b[1m3/3\u001b[0m \u001b[32m━━━━━━━━━━━━━━━━━━━━\u001b[0m\u001b[37m\u001b[0m \u001b[1m0s\u001b[0m 15ms/step - loss: 1308766.1250 - mean_absolute_error: 927.0987 - val_loss: 579885.3125 - val_mean_absolute_error: 555.7722\n",
      "Epoch 110/200\n",
      "\u001b[1m3/3\u001b[0m \u001b[32m━━━━━━━━━━━━━━━━━━━━\u001b[0m\u001b[37m\u001b[0m \u001b[1m0s\u001b[0m 15ms/step - loss: 1241678.7500 - mean_absolute_error: 899.4383 - val_loss: 559109.6875 - val_mean_absolute_error: 549.3629\n",
      "Epoch 111/200\n",
      "\u001b[1m3/3\u001b[0m \u001b[32m━━━━━━━━━━━━━━━━━━━━\u001b[0m\u001b[37m\u001b[0m \u001b[1m0s\u001b[0m 15ms/step - loss: 1175234.0000 - mean_absolute_error: 873.3136 - val_loss: 538720.5000 - val_mean_absolute_error: 542.7087\n",
      "Epoch 112/200\n",
      "\u001b[1m3/3\u001b[0m \u001b[32m━━━━━━━━━━━━━━━━━━━━\u001b[0m\u001b[37m\u001b[0m \u001b[1m0s\u001b[0m 16ms/step - loss: 1189569.8750 - mean_absolute_error: 887.5761 - val_loss: 520634.6875 - val_mean_absolute_error: 536.4459\n",
      "Epoch 113/200\n",
      "\u001b[1m3/3\u001b[0m \u001b[32m━━━━━━━━━━━━━━━━━━━━\u001b[0m\u001b[37m\u001b[0m \u001b[1m0s\u001b[0m 15ms/step - loss: 1178218.7500 - mean_absolute_error: 884.9672 - val_loss: 502916.0000 - val_mean_absolute_error: 531.3190\n",
      "Epoch 114/200\n",
      "\u001b[1m3/3\u001b[0m \u001b[32m━━━━━━━━━━━━━━━━━━━━\u001b[0m\u001b[37m\u001b[0m \u001b[1m0s\u001b[0m 15ms/step - loss: 1136665.2500 - mean_absolute_error: 875.7500 - val_loss: 485882.7500 - val_mean_absolute_error: 526.8279\n",
      "Epoch 115/200\n",
      "\u001b[1m3/3\u001b[0m \u001b[32m━━━━━━━━━━━━━━━━━━━━\u001b[0m\u001b[37m\u001b[0m \u001b[1m0s\u001b[0m 15ms/step - loss: 1091702.5000 - mean_absolute_error: 854.7864 - val_loss: 471841.2500 - val_mean_absolute_error: 522.8777\n",
      "Epoch 116/200\n",
      "\u001b[1m3/3\u001b[0m \u001b[32m━━━━━━━━━━━━━━━━━━━━\u001b[0m\u001b[37m\u001b[0m \u001b[1m0s\u001b[0m 15ms/step - loss: 1018508.8750 - mean_absolute_error: 824.0613 - val_loss: 457814.9375 - val_mean_absolute_error: 518.6130\n",
      "Epoch 117/200\n",
      "\u001b[1m3/3\u001b[0m \u001b[32m━━━━━━━━━━━━━━━━━━━━\u001b[0m\u001b[37m\u001b[0m \u001b[1m0s\u001b[0m 15ms/step - loss: 979014.3750 - mean_absolute_error: 808.2325 - val_loss: 442536.7812 - val_mean_absolute_error: 513.5220\n",
      "Epoch 118/200\n",
      "\u001b[1m3/3\u001b[0m \u001b[32m━━━━━━━━━━━━━━━━━━━━\u001b[0m\u001b[37m\u001b[0m \u001b[1m0s\u001b[0m 15ms/step - loss: 998404.3750 - mean_absolute_error: 810.3823 - val_loss: 431995.9375 - val_mean_absolute_error: 510.7527\n",
      "Epoch 119/200\n",
      "\u001b[1m3/3\u001b[0m \u001b[32m━━━━━━━━━━━━━━━━━━━━\u001b[0m\u001b[37m\u001b[0m \u001b[1m0s\u001b[0m 14ms/step - loss: 908104.3125 - mean_absolute_error: 781.8531 - val_loss: 420055.6250 - val_mean_absolute_error: 508.7638\n",
      "Epoch 120/200\n",
      "\u001b[1m3/3\u001b[0m \u001b[32m━━━━━━━━━━━━━━━━━━━━\u001b[0m\u001b[37m\u001b[0m \u001b[1m0s\u001b[0m 15ms/step - loss: 850709.2500 - mean_absolute_error: 758.7810 - val_loss: 408704.8125 - val_mean_absolute_error: 508.8383\n",
      "Epoch 121/200\n",
      "\u001b[1m3/3\u001b[0m \u001b[32m━━━━━━━━━━━━━━━━━━━━\u001b[0m\u001b[37m\u001b[0m \u001b[1m0s\u001b[0m 13ms/step - loss: 868776.0000 - mean_absolute_error: 766.4000 - val_loss: 401007.2812 - val_mean_absolute_error: 510.2420\n",
      "Epoch 122/200\n",
      "\u001b[1m3/3\u001b[0m \u001b[32m━━━━━━━━━━━━━━━━━━━━\u001b[0m\u001b[37m\u001b[0m \u001b[1m0s\u001b[0m 15ms/step - loss: 813773.6875 - mean_absolute_error: 747.7175 - val_loss: 392691.6562 - val_mean_absolute_error: 511.9311\n",
      "Epoch 123/200\n",
      "\u001b[1m3/3\u001b[0m \u001b[32m━━━━━━━━━━━━━━━━━━━━\u001b[0m\u001b[37m\u001b[0m \u001b[1m0s\u001b[0m 17ms/step - loss: 745381.8125 - mean_absolute_error: 713.6310 - val_loss: 387994.7188 - val_mean_absolute_error: 513.1017\n",
      "Epoch 124/200\n",
      "\u001b[1m3/3\u001b[0m \u001b[32m━━━━━━━━━━━━━━━━━━━━\u001b[0m\u001b[37m\u001b[0m \u001b[1m0s\u001b[0m 16ms/step - loss: 723858.0000 - mean_absolute_error: 690.9551 - val_loss: 382849.8125 - val_mean_absolute_error: 515.0802\n",
      "Epoch 125/200\n",
      "\u001b[1m3/3\u001b[0m \u001b[32m━━━━━━━━━━━━━━━━━━━━\u001b[0m\u001b[37m\u001b[0m \u001b[1m0s\u001b[0m 16ms/step - loss: 677634.3750 - mean_absolute_error: 668.8346 - val_loss: 379866.0000 - val_mean_absolute_error: 519.2744\n",
      "Epoch 126/200\n",
      "\u001b[1m3/3\u001b[0m \u001b[32m━━━━━━━━━━━━━━━━━━━━\u001b[0m\u001b[37m\u001b[0m \u001b[1m0s\u001b[0m 16ms/step - loss: 669430.9375 - mean_absolute_error: 665.9633 - val_loss: 378070.5938 - val_mean_absolute_error: 522.9974\n",
      "Epoch 127/200\n",
      "\u001b[1m3/3\u001b[0m \u001b[32m━━━━━━━━━━━━━━━━━━━━\u001b[0m\u001b[37m\u001b[0m \u001b[1m0s\u001b[0m 16ms/step - loss: 652038.6875 - mean_absolute_error: 665.3330 - val_loss: 377218.1250 - val_mean_absolute_error: 528.7671\n",
      "Epoch 128/200\n",
      "\u001b[1m3/3\u001b[0m \u001b[32m━━━━━━━━━━━━━━━━━━━━\u001b[0m\u001b[37m\u001b[0m \u001b[1m0s\u001b[0m 12ms/step - loss: 672904.7500 - mean_absolute_error: 685.3580 - val_loss: 377700.9375 - val_mean_absolute_error: 535.9687\n",
      "Epoch 129/200\n",
      "\u001b[1m3/3\u001b[0m \u001b[32m━━━━━━━━━━━━━━━━━━━━\u001b[0m\u001b[37m\u001b[0m \u001b[1m0s\u001b[0m 16ms/step - loss: 732880.5625 - mean_absolute_error: 710.3569 - val_loss: 379121.4062 - val_mean_absolute_error: 541.5372\n",
      "Epoch 130/200\n",
      "\u001b[1m3/3\u001b[0m \u001b[32m━━━━━━━━━━━━━━━━━━━━\u001b[0m\u001b[37m\u001b[0m \u001b[1m0s\u001b[0m 13ms/step - loss: 547715.6250 - mean_absolute_error: 618.8254 - val_loss: 383012.1250 - val_mean_absolute_error: 549.8640\n",
      "Epoch 131/200\n",
      "\u001b[1m3/3\u001b[0m \u001b[32m━━━━━━━━━━━━━━━━━━━━\u001b[0m\u001b[37m\u001b[0m \u001b[1m0s\u001b[0m 15ms/step - loss: 571909.8125 - mean_absolute_error: 630.7274 - val_loss: 387216.0938 - val_mean_absolute_error: 556.0699\n",
      "Epoch 132/200\n",
      "\u001b[1m3/3\u001b[0m \u001b[32m━━━━━━━━━━━━━━━━━━━━\u001b[0m\u001b[37m\u001b[0m \u001b[1m0s\u001b[0m 15ms/step - loss: 553170.5625 - mean_absolute_error: 627.6246 - val_loss: 392351.0312 - val_mean_absolute_error: 562.0384\n",
      "Epoch 133/200\n",
      "\u001b[1m3/3\u001b[0m \u001b[32m━━━━━━━━━━━━━━━━━━━━\u001b[0m\u001b[37m\u001b[0m \u001b[1m0s\u001b[0m 15ms/step - loss: 533376.3125 - mean_absolute_error: 610.3036 - val_loss: 398325.4688 - val_mean_absolute_error: 567.7719\n",
      "Epoch 134/200\n",
      "\u001b[1m3/3\u001b[0m \u001b[32m━━━━━━━━━━━━━━━━━━━━\u001b[0m\u001b[37m\u001b[0m \u001b[1m0s\u001b[0m 14ms/step - loss: 548033.5000 - mean_absolute_error: 622.7524 - val_loss: 406342.1875 - val_mean_absolute_error: 574.2874\n",
      "Epoch 135/200\n",
      "\u001b[1m3/3\u001b[0m \u001b[32m━━━━━━━━━━━━━━━━━━━━\u001b[0m\u001b[37m\u001b[0m \u001b[1m0s\u001b[0m 16ms/step - loss: 505515.6562 - mean_absolute_error: 598.0417 - val_loss: 412066.6250 - val_mean_absolute_error: 578.3785\n",
      "Epoch 136/200\n",
      "\u001b[1m3/3\u001b[0m \u001b[32m━━━━━━━━━━━━━━━━━━━━\u001b[0m\u001b[37m\u001b[0m \u001b[1m0s\u001b[0m 13ms/step - loss: 490599.8125 - mean_absolute_error: 597.2432 - val_loss: 423904.0938 - val_mean_absolute_error: 587.5328\n",
      "Epoch 137/200\n",
      "\u001b[1m3/3\u001b[0m \u001b[32m━━━━━━━━━━━━━━━━━━━━\u001b[0m\u001b[37m\u001b[0m \u001b[1m0s\u001b[0m 14ms/step - loss: 428815.0000 - mean_absolute_error: 552.6599 - val_loss: 434114.1562 - val_mean_absolute_error: 595.4548\n",
      "Epoch 138/200\n",
      "\u001b[1m3/3\u001b[0m \u001b[32m━━━━━━━━━━━━━━━━━━━━\u001b[0m\u001b[37m\u001b[0m \u001b[1m0s\u001b[0m 15ms/step - loss: 483952.1875 - mean_absolute_error: 608.3110 - val_loss: 445813.2188 - val_mean_absolute_error: 603.6409\n",
      "Epoch 139/200\n",
      "\u001b[1m3/3\u001b[0m \u001b[32m━━━━━━━━━━━━━━━━━━━━\u001b[0m\u001b[37m\u001b[0m \u001b[1m0s\u001b[0m 14ms/step - loss: 450492.1250 - mean_absolute_error: 594.5796 - val_loss: 451993.4688 - val_mean_absolute_error: 607.6443\n",
      "Epoch 140/200\n",
      "\u001b[1m3/3\u001b[0m \u001b[32m━━━━━━━━━━━━━━━━━━━━\u001b[0m\u001b[37m\u001b[0m \u001b[1m0s\u001b[0m 15ms/step - loss: 464097.1562 - mean_absolute_error: 587.8733 - val_loss: 458960.6250 - val_mean_absolute_error: 611.9307\n",
      "Epoch 141/200\n",
      "\u001b[1m3/3\u001b[0m \u001b[32m━━━━━━━━━━━━━━━━━━━━\u001b[0m\u001b[37m\u001b[0m \u001b[1m0s\u001b[0m 14ms/step - loss: 425112.8750 - mean_absolute_error: 568.2547 - val_loss: 472495.0625 - val_mean_absolute_error: 619.8361\n",
      "Epoch 142/200\n",
      "\u001b[1m3/3\u001b[0m \u001b[32m━━━━━━━━━━━━━━━━━━━━\u001b[0m\u001b[37m\u001b[0m \u001b[1m0s\u001b[0m 14ms/step - loss: 482720.8125 - mean_absolute_error: 601.4573 - val_loss: 486484.0938 - val_mean_absolute_error: 628.9487\n",
      "Epoch 143/200\n",
      "\u001b[1m3/3\u001b[0m \u001b[32m━━━━━━━━━━━━━━━━━━━━\u001b[0m\u001b[37m\u001b[0m \u001b[1m0s\u001b[0m 13ms/step - loss: 454145.5000 - mean_absolute_error: 586.3750 - val_loss: 500287.5312 - val_mean_absolute_error: 638.5305\n",
      "Epoch 144/200\n",
      "\u001b[1m3/3\u001b[0m \u001b[32m━━━━━━━━━━━━━━━━━━━━\u001b[0m\u001b[37m\u001b[0m \u001b[1m0s\u001b[0m 15ms/step - loss: 432630.2812 - mean_absolute_error: 574.0518 - val_loss: 504307.9062 - val_mean_absolute_error: 641.2285\n",
      "Epoch 145/200\n",
      "\u001b[1m3/3\u001b[0m \u001b[32m━━━━━━━━━━━━━━━━━━━━\u001b[0m\u001b[37m\u001b[0m \u001b[1m0s\u001b[0m 18ms/step - loss: 413565.2500 - mean_absolute_error: 563.4417 - val_loss: 500330.1562 - val_mean_absolute_error: 638.6663\n",
      "Epoch 146/200\n",
      "\u001b[1m3/3\u001b[0m \u001b[32m━━━━━━━━━━━━━━━━━━━━\u001b[0m\u001b[37m\u001b[0m \u001b[1m0s\u001b[0m 17ms/step - loss: 414944.2812 - mean_absolute_error: 574.2595 - val_loss: 514436.3750 - val_mean_absolute_error: 647.7638\n",
      "Epoch 147/200\n",
      "\u001b[1m3/3\u001b[0m \u001b[32m━━━━━━━━━━━━━━━━━━━━\u001b[0m\u001b[37m\u001b[0m \u001b[1m0s\u001b[0m 15ms/step - loss: 433993.8125 - mean_absolute_error: 571.1147 - val_loss: 515035.0625 - val_mean_absolute_error: 648.1336\n",
      "Epoch 148/200\n",
      "\u001b[1m3/3\u001b[0m \u001b[32m━━━━━━━━━━━━━━━━━━━━\u001b[0m\u001b[37m\u001b[0m \u001b[1m0s\u001b[0m 16ms/step - loss: 411722.1250 - mean_absolute_error: 550.7903 - val_loss: 513661.2500 - val_mean_absolute_error: 647.2596\n",
      "Epoch 149/200\n",
      "\u001b[1m3/3\u001b[0m \u001b[32m━━━━━━━━━━━━━━━━━━━━\u001b[0m\u001b[37m\u001b[0m \u001b[1m0s\u001b[0m 15ms/step - loss: 447373.2812 - mean_absolute_error: 584.4692 - val_loss: 507168.4062 - val_mean_absolute_error: 643.1844\n",
      "Epoch 150/200\n",
      "\u001b[1m3/3\u001b[0m \u001b[32m━━━━━━━━━━━━━━━━━━━━\u001b[0m\u001b[37m\u001b[0m \u001b[1m0s\u001b[0m 13ms/step - loss: 459012.2812 - mean_absolute_error: 591.2314 - val_loss: 514764.8438 - val_mean_absolute_error: 647.8721\n",
      "Epoch 151/200\n",
      "\u001b[1m3/3\u001b[0m \u001b[32m━━━━━━━━━━━━━━━━━━━━\u001b[0m\u001b[37m\u001b[0m \u001b[1m0s\u001b[0m 16ms/step - loss: 387755.8438 - mean_absolute_error: 548.1763 - val_loss: 522992.4062 - val_mean_absolute_error: 652.8021\n",
      "Epoch 152/200\n",
      "\u001b[1m3/3\u001b[0m \u001b[32m━━━━━━━━━━━━━━━━━━━━\u001b[0m\u001b[37m\u001b[0m \u001b[1m0s\u001b[0m 16ms/step - loss: 429241.9375 - mean_absolute_error: 565.5443 - val_loss: 517656.6250 - val_mean_absolute_error: 649.5229\n",
      "Epoch 153/200\n",
      "\u001b[1m3/3\u001b[0m \u001b[32m━━━━━━━━━━━━━━━━━━━━\u001b[0m\u001b[37m\u001b[0m \u001b[1m0s\u001b[0m 14ms/step - loss: 420228.8125 - mean_absolute_error: 570.1981 - val_loss: 512534.1562 - val_mean_absolute_error: 646.3441\n",
      "Epoch 154/200\n",
      "\u001b[1m3/3\u001b[0m \u001b[32m━━━━━━━━━━━━━━━━━━━━\u001b[0m\u001b[37m\u001b[0m \u001b[1m0s\u001b[0m 13ms/step - loss: 397240.5938 - mean_absolute_error: 544.2692 - val_loss: 502028.6875 - val_mean_absolute_error: 639.7904\n",
      "Epoch 155/200\n",
      "\u001b[1m3/3\u001b[0m \u001b[32m━━━━━━━━━━━━━━━━━━━━\u001b[0m\u001b[37m\u001b[0m \u001b[1m0s\u001b[0m 14ms/step - loss: 391645.9375 - mean_absolute_error: 549.2897 - val_loss: 517595.5312 - val_mean_absolute_error: 649.1776\n",
      "Epoch 156/200\n",
      "\u001b[1m3/3\u001b[0m \u001b[32m━━━━━━━━━━━━━━━━━━━━\u001b[0m\u001b[37m\u001b[0m \u001b[1m0s\u001b[0m 14ms/step - loss: 415174.9688 - mean_absolute_error: 568.4379 - val_loss: 526177.8750 - val_mean_absolute_error: 654.0919\n",
      "Epoch 157/200\n",
      "\u001b[1m3/3\u001b[0m \u001b[32m━━━━━━━━━━━━━━━━━━━━\u001b[0m\u001b[37m\u001b[0m \u001b[1m0s\u001b[0m 16ms/step - loss: 391432.7500 - mean_absolute_error: 544.3275 - val_loss: 529411.6875 - val_mean_absolute_error: 655.8223\n",
      "Epoch 158/200\n",
      "\u001b[1m3/3\u001b[0m \u001b[32m━━━━━━━━━━━━━━━━━━━━\u001b[0m\u001b[37m\u001b[0m \u001b[1m0s\u001b[0m 13ms/step - loss: 408001.4375 - mean_absolute_error: 563.3760 - val_loss: 515915.0625 - val_mean_absolute_error: 647.9028\n",
      "Epoch 159/200\n",
      "\u001b[1m3/3\u001b[0m \u001b[32m━━━━━━━━━━━━━━━━━━━━\u001b[0m\u001b[37m\u001b[0m \u001b[1m0s\u001b[0m 17ms/step - loss: 410194.6250 - mean_absolute_error: 564.3406 - val_loss: 499204.7812 - val_mean_absolute_error: 637.7902\n",
      "Epoch 160/200\n",
      "\u001b[1m3/3\u001b[0m \u001b[32m━━━━━━━━━━━━━━━━━━━━\u001b[0m\u001b[37m\u001b[0m \u001b[1m0s\u001b[0m 16ms/step - loss: 385732.9062 - mean_absolute_error: 537.2243 - val_loss: 508938.3750 - val_mean_absolute_error: 643.5815\n",
      "Epoch 161/200\n",
      "\u001b[1m3/3\u001b[0m \u001b[32m━━━━━━━━━━━━━━━━━━━━\u001b[0m\u001b[37m\u001b[0m \u001b[1m0s\u001b[0m 15ms/step - loss: 363662.1250 - mean_absolute_error: 523.3583 - val_loss: 504694.4062 - val_mean_absolute_error: 640.9390\n",
      "Epoch 162/200\n",
      "\u001b[1m3/3\u001b[0m \u001b[32m━━━━━━━━━━━━━━━━━━━━\u001b[0m\u001b[37m\u001b[0m \u001b[1m0s\u001b[0m 12ms/step - loss: 402348.0312 - mean_absolute_error: 548.6665 - val_loss: 500431.2500 - val_mean_absolute_error: 638.2844\n",
      "Epoch 163/200\n",
      "\u001b[1m3/3\u001b[0m \u001b[32m━━━━━━━━━━━━━━━━━━━━\u001b[0m\u001b[37m\u001b[0m \u001b[1m0s\u001b[0m 17ms/step - loss: 404581.6875 - mean_absolute_error: 560.5723 - val_loss: 498630.3125 - val_mean_absolute_error: 637.0757\n",
      "Epoch 164/200\n",
      "\u001b[1m3/3\u001b[0m \u001b[32m━━━━━━━━━━━━━━━━━━━━\u001b[0m\u001b[37m\u001b[0m \u001b[1m0s\u001b[0m 13ms/step - loss: 444991.1875 - mean_absolute_error: 594.8239 - val_loss: 507664.1562 - val_mean_absolute_error: 642.2665\n",
      "Epoch 165/200\n",
      "\u001b[1m3/3\u001b[0m \u001b[32m━━━━━━━━━━━━━━━━━━━━\u001b[0m\u001b[37m\u001b[0m \u001b[1m0s\u001b[0m 16ms/step - loss: 365889.0000 - mean_absolute_error: 522.8215 - val_loss: 506219.5312 - val_mean_absolute_error: 641.3148\n",
      "Epoch 166/200\n",
      "\u001b[1m3/3\u001b[0m \u001b[32m━━━━━━━━━━━━━━━━━━━━\u001b[0m\u001b[37m\u001b[0m \u001b[1m0s\u001b[0m 14ms/step - loss: 371388.0938 - mean_absolute_error: 529.7188 - val_loss: 509484.0625 - val_mean_absolute_error: 643.0510\n",
      "Epoch 167/200\n",
      "\u001b[1m3/3\u001b[0m \u001b[32m━━━━━━━━━━━━━━━━━━━━\u001b[0m\u001b[37m\u001b[0m \u001b[1m0s\u001b[0m 14ms/step - loss: 369221.3125 - mean_absolute_error: 521.9141 - val_loss: 513327.2500 - val_mean_absolute_error: 645.0737\n",
      "Epoch 168/200\n",
      "\u001b[1m3/3\u001b[0m \u001b[32m━━━━━━━━━━━━━━━━━━━━\u001b[0m\u001b[37m\u001b[0m \u001b[1m0s\u001b[0m 15ms/step - loss: 362554.4375 - mean_absolute_error: 519.8039 - val_loss: 500093.9062 - val_mean_absolute_error: 637.2881\n",
      "Epoch 169/200\n",
      "\u001b[1m3/3\u001b[0m \u001b[32m━━━━━━━━━━━━━━━━━━━━\u001b[0m\u001b[37m\u001b[0m \u001b[1m0s\u001b[0m 15ms/step - loss: 339371.1875 - mean_absolute_error: 508.4280 - val_loss: 492914.8438 - val_mean_absolute_error: 632.8662\n",
      "Epoch 170/200\n",
      "\u001b[1m3/3\u001b[0m \u001b[32m━━━━━━━━━━━━━━━━━━━━\u001b[0m\u001b[37m\u001b[0m \u001b[1m0s\u001b[0m 15ms/step - loss: 370419.4688 - mean_absolute_error: 537.8256 - val_loss: 502579.9375 - val_mean_absolute_error: 638.3236\n",
      "Epoch 171/200\n",
      "\u001b[1m3/3\u001b[0m \u001b[32m━━━━━━━━━━━━━━━━━━━━\u001b[0m\u001b[37m\u001b[0m \u001b[1m0s\u001b[0m 16ms/step - loss: 357332.6250 - mean_absolute_error: 513.9059 - val_loss: 501566.1562 - val_mean_absolute_error: 637.5380\n",
      "Epoch 172/200\n",
      "\u001b[1m3/3\u001b[0m \u001b[32m━━━━━━━━━━━━━━━━━━━━\u001b[0m\u001b[37m\u001b[0m \u001b[1m0s\u001b[0m 14ms/step - loss: 397792.9688 - mean_absolute_error: 551.9823 - val_loss: 493558.5938 - val_mean_absolute_error: 632.7661\n",
      "Epoch 173/200\n",
      "\u001b[1m3/3\u001b[0m \u001b[32m━━━━━━━━━━━━━━━━━━━━\u001b[0m\u001b[37m\u001b[0m \u001b[1m0s\u001b[0m 15ms/step - loss: 337960.4062 - mean_absolute_error: 508.7758 - val_loss: 499555.2500 - val_mean_absolute_error: 636.0357\n",
      "Epoch 174/200\n",
      "\u001b[1m3/3\u001b[0m \u001b[32m━━━━━━━━━━━━━━━━━━━━\u001b[0m\u001b[37m\u001b[0m \u001b[1m0s\u001b[0m 14ms/step - loss: 379294.0625 - mean_absolute_error: 536.8503 - val_loss: 502793.7812 - val_mean_absolute_error: 637.6831\n",
      "Epoch 175/200\n",
      "\u001b[1m3/3\u001b[0m \u001b[32m━━━━━━━━━━━━━━━━━━━━\u001b[0m\u001b[37m\u001b[0m \u001b[1m0s\u001b[0m 14ms/step - loss: 374663.7500 - mean_absolute_error: 542.5082 - val_loss: 486982.6875 - val_mean_absolute_error: 628.3977\n",
      "Epoch 176/200\n",
      "\u001b[1m3/3\u001b[0m \u001b[32m━━━━━━━━━━━━━━━━━━━━\u001b[0m\u001b[37m\u001b[0m \u001b[1m0s\u001b[0m 16ms/step - loss: 334743.1875 - mean_absolute_error: 491.9435 - val_loss: 487440.7500 - val_mean_absolute_error: 628.4541\n",
      "Epoch 177/200\n",
      "\u001b[1m3/3\u001b[0m \u001b[32m━━━━━━━━━━━━━━━━━━━━\u001b[0m\u001b[37m\u001b[0m \u001b[1m0s\u001b[0m 15ms/step - loss: 343541.1875 - mean_absolute_error: 515.2407 - val_loss: 465327.4062 - val_mean_absolute_error: 615.0234\n",
      "Epoch 178/200\n",
      "\u001b[1m3/3\u001b[0m \u001b[32m━━━━━━━━━━━━━━━━━━━━\u001b[0m\u001b[37m\u001b[0m \u001b[1m0s\u001b[0m 15ms/step - loss: 328228.1562 - mean_absolute_error: 507.1313 - val_loss: 466806.1562 - val_mean_absolute_error: 615.7460\n",
      "Epoch 179/200\n",
      "\u001b[1m3/3\u001b[0m \u001b[32m━━━━━━━━━━━━━━━━━━━━\u001b[0m\u001b[37m\u001b[0m \u001b[1m0s\u001b[0m 14ms/step - loss: 336402.9062 - mean_absolute_error: 503.4658 - val_loss: 475886.8438 - val_mean_absolute_error: 621.0366\n",
      "Epoch 180/200\n",
      "\u001b[1m3/3\u001b[0m \u001b[32m━━━━━━━━━━━━━━━━━━━━\u001b[0m\u001b[37m\u001b[0m \u001b[1m0s\u001b[0m 14ms/step - loss: 369654.9375 - mean_absolute_error: 540.8162 - val_loss: 468146.0000 - val_mean_absolute_error: 616.2111\n",
      "Epoch 181/200\n",
      "\u001b[1m3/3\u001b[0m \u001b[32m━━━━━━━━━━━━━━━━━━━━\u001b[0m\u001b[37m\u001b[0m \u001b[1m0s\u001b[0m 13ms/step - loss: 361751.8125 - mean_absolute_error: 531.0740 - val_loss: 456202.7812 - val_mean_absolute_error: 608.7189\n",
      "Epoch 182/200\n",
      "\u001b[1m3/3\u001b[0m \u001b[32m━━━━━━━━━━━━━━━━━━━━\u001b[0m\u001b[37m\u001b[0m \u001b[1m0s\u001b[0m 18ms/step - loss: 362542.0938 - mean_absolute_error: 522.1747 - val_loss: 454836.0000 - val_mean_absolute_error: 607.6743\n",
      "Epoch 183/200\n",
      "\u001b[1m3/3\u001b[0m \u001b[32m━━━━━━━━━━━━━━━━━━━━\u001b[0m\u001b[37m\u001b[0m \u001b[1m0s\u001b[0m 16ms/step - loss: 366237.2500 - mean_absolute_error: 526.4958 - val_loss: 453261.9375 - val_mean_absolute_error: 606.5311\n",
      "Epoch 184/200\n",
      "\u001b[1m3/3\u001b[0m \u001b[32m━━━━━━━━━━━━━━━━━━━━\u001b[0m\u001b[37m\u001b[0m \u001b[1m0s\u001b[0m 15ms/step - loss: 330421.3750 - mean_absolute_error: 486.5131 - val_loss: 434012.1562 - val_mean_absolute_error: 594.0603\n",
      "Epoch 185/200\n",
      "\u001b[1m3/3\u001b[0m \u001b[32m━━━━━━━━━━━━━━━━━━━━\u001b[0m\u001b[37m\u001b[0m \u001b[1m0s\u001b[0m 16ms/step - loss: 366153.8750 - mean_absolute_error: 526.2488 - val_loss: 435960.0938 - val_mean_absolute_error: 595.2347\n",
      "Epoch 186/200\n",
      "\u001b[1m3/3\u001b[0m \u001b[32m━━━━━━━━━━━━━━━━━━━━\u001b[0m\u001b[37m\u001b[0m \u001b[1m0s\u001b[0m 15ms/step - loss: 354255.8750 - mean_absolute_error: 516.2548 - val_loss: 431363.2188 - val_mean_absolute_error: 592.0523\n",
      "Epoch 187/200\n",
      "\u001b[1m3/3\u001b[0m \u001b[32m━━━━━━━━━━━━━━━━━━━━\u001b[0m\u001b[37m\u001b[0m \u001b[1m0s\u001b[0m 13ms/step - loss: 326168.6875 - mean_absolute_error: 503.5282 - val_loss: 420229.3125 - val_mean_absolute_error: 584.4868\n",
      "Epoch 188/200\n",
      "\u001b[1m3/3\u001b[0m \u001b[32m━━━━━━━━━━━━━━━━━━━━\u001b[0m\u001b[37m\u001b[0m \u001b[1m0s\u001b[0m 12ms/step - loss: 351435.6875 - mean_absolute_error: 523.6157 - val_loss: 416709.7812 - val_mean_absolute_error: 581.9616\n",
      "Epoch 189/200\n",
      "\u001b[1m3/3\u001b[0m \u001b[32m━━━━━━━━━━━━━━━━━━━━\u001b[0m\u001b[37m\u001b[0m \u001b[1m0s\u001b[0m 16ms/step - loss: 377274.3750 - mean_absolute_error: 544.0415 - val_loss: 421569.6250 - val_mean_absolute_error: 585.1878\n",
      "Epoch 190/200\n",
      "\u001b[1m3/3\u001b[0m \u001b[32m━━━━━━━━━━━━━━━━━━━━\u001b[0m\u001b[37m\u001b[0m \u001b[1m0s\u001b[0m 14ms/step - loss: 323325.0625 - mean_absolute_error: 495.4619 - val_loss: 421955.0938 - val_mean_absolute_error: 585.3433\n",
      "Epoch 191/200\n",
      "\u001b[1m3/3\u001b[0m \u001b[32m━━━━━━━━━━━━━━━━━━━━\u001b[0m\u001b[37m\u001b[0m \u001b[1m0s\u001b[0m 15ms/step - loss: 336682.6250 - mean_absolute_error: 498.4351 - val_loss: 436586.4688 - val_mean_absolute_error: 594.6418\n",
      "Epoch 192/200\n",
      "\u001b[1m3/3\u001b[0m \u001b[32m━━━━━━━━━━━━━━━━━━━━\u001b[0m\u001b[37m\u001b[0m \u001b[1m0s\u001b[0m 14ms/step - loss: 316505.6875 - mean_absolute_error: 486.9870 - val_loss: 442461.2188 - val_mean_absolute_error: 598.0905\n",
      "Epoch 193/200\n",
      "\u001b[1m3/3\u001b[0m \u001b[32m━━━━━━━━━━━━━━━━━━━━\u001b[0m\u001b[37m\u001b[0m \u001b[1m0s\u001b[0m 15ms/step - loss: 329480.0625 - mean_absolute_error: 497.3007 - val_loss: 446853.3125 - val_mean_absolute_error: 600.5226\n",
      "Epoch 194/200\n",
      "\u001b[1m3/3\u001b[0m \u001b[32m━━━━━━━━━━━━━━━━━━━━\u001b[0m\u001b[37m\u001b[0m \u001b[1m0s\u001b[0m 16ms/step - loss: 339736.9375 - mean_absolute_error: 506.9301 - val_loss: 449210.7812 - val_mean_absolute_error: 601.7039\n",
      "Epoch 195/200\n",
      "\u001b[1m3/3\u001b[0m \u001b[32m━━━━━━━━━━━━━━━━━━━━\u001b[0m\u001b[37m\u001b[0m \u001b[1m0s\u001b[0m 13ms/step - loss: 308090.9062 - mean_absolute_error: 483.2193 - val_loss: 443751.7500 - val_mean_absolute_error: 598.2289\n",
      "Epoch 196/200\n",
      "\u001b[1m3/3\u001b[0m \u001b[32m━━━━━━━━━━━━━━━━━━━━\u001b[0m\u001b[37m\u001b[0m \u001b[1m0s\u001b[0m 15ms/step - loss: 296079.8750 - mean_absolute_error: 458.4254 - val_loss: 422546.7812 - val_mean_absolute_error: 584.9324\n",
      "Epoch 197/200\n",
      "\u001b[1m3/3\u001b[0m \u001b[32m━━━━━━━━━━━━━━━━━━━━\u001b[0m\u001b[37m\u001b[0m \u001b[1m0s\u001b[0m 15ms/step - loss: 310064.1250 - mean_absolute_error: 482.8824 - val_loss: 414222.3438 - val_mean_absolute_error: 579.4006\n",
      "Epoch 198/200\n",
      "\u001b[1m3/3\u001b[0m \u001b[32m━━━━━━━━━━━━━━━━━━━━\u001b[0m\u001b[37m\u001b[0m \u001b[1m0s\u001b[0m 16ms/step - loss: 314327.3750 - mean_absolute_error: 492.4925 - val_loss: 406654.2188 - val_mean_absolute_error: 574.2717\n",
      "Epoch 199/200\n",
      "\u001b[1m3/3\u001b[0m \u001b[32m━━━━━━━━━━━━━━━━━━━━\u001b[0m\u001b[37m\u001b[0m \u001b[1m0s\u001b[0m 15ms/step - loss: 292167.9062 - mean_absolute_error: 474.1383 - val_loss: 399801.8438 - val_mean_absolute_error: 569.4793\n",
      "Epoch 200/200\n",
      "\u001b[1m3/3\u001b[0m \u001b[32m━━━━━━━━━━━━━━━━━━━━\u001b[0m\u001b[37m\u001b[0m \u001b[1m0s\u001b[0m 15ms/step - loss: 311057.6562 - mean_absolute_error: 483.4753 - val_loss: 388053.3438 - val_mean_absolute_error: 561.1841\n"
     ]
    },
    {
     "data": {
      "image/png": "[encoded data removed]",
      "text/plain": [
       "<Figure size 640x480 with 1 Axes>"
      ]
     },
     "metadata": {},
     "output_type": "display_data"
    }
   ],
   "source": [
    "# Train with `fit`, and display the error graph.\n",
    "model_rmsprop_history = model_rmsprop.fit(X_train, y_train, epochs=200, validation_data=(X_val, y_val))\n",
    "# Plot training history\n",
    "plt.plot(model_rmsprop_history.history['mean_absolute_error'], label='Training MAE')\n",
    "plt.plot(model_rmsprop_history.history['val_mean_absolute_error'], label='Validation MAE')\n",
    "plt.xlabel('Epochs')\n",
    "plt.ylabel('Mean Absolute Error')\n",
    "plt.show()\n"
   ]
  },
  {
   "cell_type": "markdown",
   "metadata": {},
   "source": [
    "**Q23**: Based on the graphs obtained from both optimizers, which one is better in your opinion, and why?"
   ]
  },
  {
   "cell_type": "raw",
   "metadata": {
    "vscode": {
     "languageId": "raw"
    }
   },
   "source": [
    "we can see that rmsprop is the best optimizer for this model as it has a higher training accuracy and validation accuracy compared to adam optimizer."
   ]
  },
  {
   "cell_type": "markdown",
   "metadata": {},
   "source": [
    "**Q24**: Based on the last `val_mean_aboslute_error` value in the last epoch for both optimizers, pick the model that has the lowest value and put it in the cell below to save the trained model. Save the model under the following name `trained_model.keras`."
   ]
  },
  {
   "cell_type": "code",
   "execution_count": 28,
   "metadata": {},
   "outputs": [],
   "source": [
    "model_rmsprop.save('trained_model.keras')"
   ]
  },
  {
   "cell_type": "markdown",
   "metadata": {},
   "source": [
    "**Q25**: Open the testing jupyter and follow the instructions there."
   ]
  }
 ],
 "metadata": {
  "kernelspec": {
   "display_name": "base",
   "language": "python",
   "name": "python3"
  },
  "language_info": {
   "codemirror_mode": {
    "name": "ipython",
    "version": 3
   },
   "file_extension": ".py",
   "mimetype": "text/x-python",
   "name": "python",
   "nbconvert_exporter": "python",
   "pygments_lexer": "ipython3",
   "version": "3.12.2"
  },
  "nav_menu": {},
  "toc": {
   "navigate_menu": true,
   "number_sections": true,
   "sideBar": true,
   "threshold": 6,
   "toc_cell": false,
   "toc_section_display": "block",
   "toc_window_display": false
  }
 },
 "nbformat": 4,
 "nbformat_minor": 4
}
